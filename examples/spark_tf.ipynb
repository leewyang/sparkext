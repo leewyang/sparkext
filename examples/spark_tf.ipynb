{
 "cells": [
  {
   "cell_type": "markdown",
   "id": "792a56d6-0ea6-4e8f-bef9-b578c0abec41",
   "metadata": {},
   "source": [
    "# Pyspark TensorFlow Training\n",
    "\n",
    "Based on: https://www.tensorflow.org/tutorials/keras/save_and_load"
   ]
  },
  {
   "cell_type": "markdown",
   "id": "91a8bb4d-48f3-4cb7-a111-7ba34489f2e0",
   "metadata": {},
   "source": [
    "## Single Node Training on Driver"
   ]
  },
  {
   "cell_type": "code",
   "execution_count": 1,
   "id": "c8b28f02",
   "metadata": {},
   "outputs": [
    {
     "name": "stderr",
     "output_type": "stream",
     "text": [
      "2023-01-05 16:09:57.401409: I tensorflow/core/util/util.cc:169] oneDNN custom operations are on. You may see slightly different numerical results due to floating-point round-off errors from different computation orders. To turn them off, set the environment variable `TF_ENABLE_ONEDNN_OPTS=0`.\n"
     ]
    },
    {
     "name": "stdout",
     "output_type": "stream",
     "text": [
      "2.9.1\n"
     ]
    }
   ],
   "source": [
    "import matplotlib.pyplot as plt\n",
    "import numpy as np\n",
    "import subprocess\n",
    "import tensorflow as tf\n",
    "\n",
    "from tensorflow import keras\n",
    "\n",
    "print(tf.version.VERSION)"
   ]
  },
  {
   "cell_type": "markdown",
   "id": "cfe275a3-9e5b-4e2d-bcaa-3829a441bf9e",
   "metadata": {
    "tags": []
   },
   "source": [
    "### Load and preprocess dataset"
   ]
  },
  {
   "cell_type": "code",
   "execution_count": 2,
   "id": "5b007f7c",
   "metadata": {},
   "outputs": [
    {
     "data": {
      "text/plain": [
       "((60000, 28, 28), (10000, 28, 28))"
      ]
     },
     "execution_count": 2,
     "metadata": {},
     "output_type": "execute_result"
    }
   ],
   "source": [
    "# load dataset as numpy arrays\n",
    "(train_images, train_labels), (test_images, test_labels) = tf.keras.datasets.mnist.load_data()\n",
    "train_images.shape, test_images.shape"
   ]
  },
  {
   "cell_type": "code",
   "execution_count": 3,
   "id": "7b7cedd1",
   "metadata": {},
   "outputs": [],
   "source": [
    "# flatten and normalize\n",
    "train_images = train_images.reshape(-1, 784) / 255.0\n",
    "test_images = test_images.reshape(-1, 784) / 255.0"
   ]
  },
  {
   "cell_type": "code",
   "execution_count": 4,
   "id": "e77bfbd7",
   "metadata": {},
   "outputs": [
    {
     "data": {
      "text/plain": [
       "((60000, 784), (10000, 784))"
      ]
     },
     "execution_count": 4,
     "metadata": {},
     "output_type": "execute_result"
    }
   ],
   "source": [
    "train_images.shape, test_images.shape"
   ]
  },
  {
   "cell_type": "markdown",
   "id": "be729464-029e-4534-b8c3-e44e57ef9e0b",
   "metadata": {},
   "source": [
    "### Define a model"
   ]
  },
  {
   "cell_type": "code",
   "execution_count": 5,
   "id": "746d94db",
   "metadata": {},
   "outputs": [
    {
     "name": "stdout",
     "output_type": "stream",
     "text": [
      "Model: \"sequential\"\n",
      "_________________________________________________________________\n",
      " Layer (type)                Output Shape              Param #   \n",
      "=================================================================\n",
      " dense (Dense)               (None, 512)               401920    \n",
      "                                                                 \n",
      " dropout (Dropout)           (None, 512)               0         \n",
      "                                                                 \n",
      " dense_1 (Dense)             (None, 10)                5130      \n",
      "                                                                 \n",
      "=================================================================\n",
      "Total params: 407,050\n",
      "Trainable params: 407,050\n",
      "Non-trainable params: 0\n",
      "_________________________________________________________________\n"
     ]
    },
    {
     "name": "stderr",
     "output_type": "stream",
     "text": [
      "2023-01-05 16:09:59.431796: I tensorflow/core/common_runtime/gpu/gpu_device.cc:1922] Ignoring visible gpu device (device: 1, name: Quadro P620, pci bus id: 0000:65:00.0, compute capability: 6.1) with core count: 4. The minimum required count is 8. You can adjust this requirement with the env var TF_MIN_GPU_MULTIPROCESSOR_COUNT.\n",
      "2023-01-05 16:09:59.432350: I tensorflow/core/platform/cpu_feature_guard.cc:193] This TensorFlow binary is optimized with oneAPI Deep Neural Network Library (oneDNN) to use the following CPU instructions in performance-critical operations:  AVX2 AVX512F AVX512_VNNI FMA\n",
      "To enable them in other operations, rebuild TensorFlow with the appropriate compiler flags.\n",
      "2023-01-05 16:09:59.794436: W tensorflow/core/common_runtime/gpu/gpu_bfc_allocator.cc:42] Overriding orig_value setting because the TF_FORCE_GPU_ALLOW_GROWTH environment variable is set. Original config value was 0.\n",
      "2023-01-05 16:09:59.794476: I tensorflow/core/common_runtime/gpu/gpu_device.cc:1532] Created device /job:localhost/replica:0/task:0/device:GPU:0 with 22344 MB memory:  -> device: 0, name: NVIDIA RTX A5000, pci bus id: 0000:17:00.0, compute capability: 8.6\n"
     ]
    }
   ],
   "source": [
    "# Define a simple sequential model\n",
    "def create_model():\n",
    "    model = tf.keras.models.Sequential([\n",
    "        keras.layers.Dense(512, activation='relu', input_shape=(784,)),\n",
    "        keras.layers.Dropout(0.2),\n",
    "        keras.layers.Dense(10)\n",
    "    ])\n",
    "\n",
    "    model.compile(optimizer='adam',\n",
    "                    loss=tf.losses.SparseCategoricalCrossentropy(from_logits=True),\n",
    "                    metrics=[tf.metrics.SparseCategoricalAccuracy()])\n",
    "\n",
    "    return model\n",
    "\n",
    "# Create a basic model instance\n",
    "model = create_model()\n",
    "\n",
    "# Display the model's architecture\n",
    "model.summary()"
   ]
  },
  {
   "cell_type": "markdown",
   "id": "c32ddd55-21bd-4ff9-94f9-3a5d70977c6a",
   "metadata": {},
   "source": [
    "### Train model"
   ]
  },
  {
   "cell_type": "code",
   "execution_count": 6,
   "id": "244746be",
   "metadata": {},
   "outputs": [
    {
     "name": "stdout",
     "output_type": "stream",
     "text": [
      "Epoch 1/5\n",
      "  44/1875 [..............................] - ETA: 6s - loss: 1.0386 - sparse_categorical_accuracy: 0.6918 "
     ]
    },
    {
     "name": "stderr",
     "output_type": "stream",
     "text": [
      "2023-01-05 16:10:01.020358: I tensorflow/stream_executor/cuda/cuda_blas.cc:1786] TensorFloat-32 will be used for the matrix multiplication. This will only be logged once.\n"
     ]
    },
    {
     "name": "stdout",
     "output_type": "stream",
     "text": [
      "1875/1875 [==============================] - 10s 5ms/step - loss: 0.2174 - sparse_categorical_accuracy: 0.9362 - val_loss: 0.0970 - val_sparse_categorical_accuracy: 0.9691\n",
      "Epoch 2/5\n",
      "1875/1875 [==============================] - 9s 5ms/step - loss: 0.0940 - sparse_categorical_accuracy: 0.9710 - val_loss: 0.0867 - val_sparse_categorical_accuracy: 0.9725\n",
      "Epoch 3/5\n",
      "1875/1875 [==============================] - 9s 5ms/step - loss: 0.0676 - sparse_categorical_accuracy: 0.9792 - val_loss: 0.0712 - val_sparse_categorical_accuracy: 0.9782\n",
      "Epoch 4/5\n",
      "1875/1875 [==============================] - 9s 5ms/step - loss: 0.0524 - sparse_categorical_accuracy: 0.9835 - val_loss: 0.0635 - val_sparse_categorical_accuracy: 0.9801\n",
      "Epoch 5/5\n",
      "1875/1875 [==============================] - 9s 5ms/step - loss: 0.0422 - sparse_categorical_accuracy: 0.9863 - val_loss: 0.0620 - val_sparse_categorical_accuracy: 0.9820\n"
     ]
    },
    {
     "data": {
      "text/plain": [
       "<keras.callbacks.History at 0x7efe2c4c5760>"
      ]
     },
     "execution_count": 6,
     "metadata": {},
     "output_type": "execute_result"
    }
   ],
   "source": [
    "model.fit(train_images, \n",
    "          train_labels,  \n",
    "          epochs=5,\n",
    "          validation_data=(test_images, test_labels))"
   ]
  },
  {
   "cell_type": "code",
   "execution_count": 7,
   "id": "6d3bba9e",
   "metadata": {},
   "outputs": [
    {
     "name": "stdout",
     "output_type": "stream",
     "text": [
      "1/1 [==============================] - 0s 54ms/step\n"
     ]
    },
    {
     "data": {
      "text/plain": [
       "array([[ -5.797349 ,  -7.324735 ,  -4.530537 ,  -1.59399  , -14.33293  ,\n",
       "         -8.626202 , -16.838335 ,  12.26039  ,  -6.1140094,  -1.9424609]],\n",
       "      dtype=float32)"
      ]
     },
     "execution_count": 7,
     "metadata": {},
     "output_type": "execute_result"
    }
   ],
   "source": [
    "test_img = test_images[:1]\n",
    "model.predict(test_img)"
   ]
  },
  {
   "cell_type": "code",
   "execution_count": 8,
   "id": "e700b66a",
   "metadata": {},
   "outputs": [
    {
     "data": {
      "image/png": "[encoded data removed]",
      "text/plain": [
       "<Figure size 432x288 with 1 Axes>"
      ]
     },
     "metadata": {
      "needs_background": "light"
     },
     "output_type": "display_data"
    }
   ],
   "source": [
    "plt.figure()\n",
    "plt.imshow(test_img.reshape(28,28))\n",
    "plt.show()"
   ]
  },
  {
   "cell_type": "markdown",
   "id": "8f6881a2-1cde-4be1-bfbe-437ec19faeb0",
   "metadata": {},
   "source": [
    "### Save Model"
   ]
  },
  {
   "cell_type": "code",
   "execution_count": 9,
   "id": "33f11a35",
   "metadata": {},
   "outputs": [
    {
     "data": {
      "text/plain": [
       "0"
      ]
     },
     "execution_count": 9,
     "metadata": {},
     "output_type": "execute_result"
    }
   ],
   "source": [
    "subprocess.call(\"rm -rf mnist_model\".split())"
   ]
  },
  {
   "cell_type": "code",
   "execution_count": 10,
   "id": "86f9376d",
   "metadata": {},
   "outputs": [
    {
     "name": "stdout",
     "output_type": "stream",
     "text": [
      "INFO:tensorflow:Assets written to: mnist_model/assets\n"
     ]
    }
   ],
   "source": [
    "model.save('mnist_model')"
   ]
  },
  {
   "cell_type": "markdown",
   "id": "e2b1d6fe-b9a4-4839-9795-54ec1cf5d32d",
   "metadata": {},
   "source": [
    "## Distributed Training on executors"
   ]
  },
  {
   "cell_type": "markdown",
   "id": "3ee3efb7-c54c-4144-8d4d-fd2bfd25359d",
   "metadata": {},
   "source": [
    "### Save dataset as parquet"
   ]
  },
  {
   "cell_type": "code",
   "execution_count": 11,
   "id": "ff0c48ba-054a-4078-a740-9c4765fe558b",
   "metadata": {},
   "outputs": [],
   "source": [
    "import pandas as pd\n",
    "pdf_784 = pd.DataFrame(train_images)\n",
    "pdf_labels = pd.DataFrame(train_labels)"
   ]
  },
  {
   "cell_type": "code",
   "execution_count": 12,
   "id": "6cd6d62c-36d2-4448-9a1e-d29b528bf808",
   "metadata": {},
   "outputs": [],
   "source": [
    "pdf_train = pd.DataFrame()"
   ]
  },
  {
   "cell_type": "code",
   "execution_count": 13,
   "id": "3f091859-0279-47fe-a80f-e7b31052ed4f",
   "metadata": {},
   "outputs": [],
   "source": [
    "pdf_train['image'] = pdf_784.values.tolist()\n",
    "pdf_train['label'] = pdf_labels"
   ]
  },
  {
   "cell_type": "code",
   "execution_count": 14,
   "id": "233a3335-a9ad-4406-8d09-89daf3f6f200",
   "metadata": {},
   "outputs": [
    {
     "data": {
      "text/html": [
       "<div>\n",
       "<style scoped>\n",
       "    .dataframe tbody tr th:only-of-type {\n",
       "        vertical-align: middle;\n",
       "    }\n",
       "\n",
       "    .dataframe tbody tr th {\n",
       "        vertical-align: top;\n",
       "    }\n",
       "\n",
       "    .dataframe thead th {\n",
       "        text-align: right;\n",
       "    }\n",
       "</style>\n",
       "<table border=\"1\" class=\"dataframe\">\n",
       "  <thead>\n",
       "    <tr style=\"text-align: right;\">\n",
       "      <th></th>\n",
       "      <th>image</th>\n",
       "      <th>label</th>\n",
       "    </tr>\n",
       "  </thead>\n",
       "  <tbody>\n",
       "    <tr>\n",
       "      <th>0</th>\n",
       "      <td>[0.0, 0.0, 0.0, 0.0, 0.0, 0.0, 0.0, 0.0, 0.0, ...</td>\n",
       "      <td>5</td>\n",
       "    </tr>\n",
       "    <tr>\n",
       "      <th>1</th>\n",
       "      <td>[0.0, 0.0, 0.0, 0.0, 0.0, 0.0, 0.0, 0.0, 0.0, ...</td>\n",
       "      <td>0</td>\n",
       "    </tr>\n",
       "    <tr>\n",
       "      <th>2</th>\n",
       "      <td>[0.0, 0.0, 0.0, 0.0, 0.0, 0.0, 0.0, 0.0, 0.0, ...</td>\n",
       "      <td>4</td>\n",
       "    </tr>\n",
       "    <tr>\n",
       "      <th>3</th>\n",
       "      <td>[0.0, 0.0, 0.0, 0.0, 0.0, 0.0, 0.0, 0.0, 0.0, ...</td>\n",
       "      <td>1</td>\n",
       "    </tr>\n",
       "    <tr>\n",
       "      <th>4</th>\n",
       "      <td>[0.0, 0.0, 0.0, 0.0, 0.0, 0.0, 0.0, 0.0, 0.0, ...</td>\n",
       "      <td>9</td>\n",
       "    </tr>\n",
       "    <tr>\n",
       "      <th>...</th>\n",
       "      <td>...</td>\n",
       "      <td>...</td>\n",
       "    </tr>\n",
       "    <tr>\n",
       "      <th>59995</th>\n",
       "      <td>[0.0, 0.0, 0.0, 0.0, 0.0, 0.0, 0.0, 0.0, 0.0, ...</td>\n",
       "      <td>8</td>\n",
       "    </tr>\n",
       "    <tr>\n",
       "      <th>59996</th>\n",
       "      <td>[0.0, 0.0, 0.0, 0.0, 0.0, 0.0, 0.0, 0.0, 0.0, ...</td>\n",
       "      <td>3</td>\n",
       "    </tr>\n",
       "    <tr>\n",
       "      <th>59997</th>\n",
       "      <td>[0.0, 0.0, 0.0, 0.0, 0.0, 0.0, 0.0, 0.0, 0.0, ...</td>\n",
       "      <td>5</td>\n",
       "    </tr>\n",
       "    <tr>\n",
       "      <th>59998</th>\n",
       "      <td>[0.0, 0.0, 0.0, 0.0, 0.0, 0.0, 0.0, 0.0, 0.0, ...</td>\n",
       "      <td>6</td>\n",
       "    </tr>\n",
       "    <tr>\n",
       "      <th>59999</th>\n",
       "      <td>[0.0, 0.0, 0.0, 0.0, 0.0, 0.0, 0.0, 0.0, 0.0, ...</td>\n",
       "      <td>8</td>\n",
       "    </tr>\n",
       "  </tbody>\n",
       "</table>\n",
       "<p>60000 rows × 2 columns</p>\n",
       "</div>"
      ],
      "text/plain": [
       "                                                   image  label\n",
       "0      [0.0, 0.0, 0.0, 0.0, 0.0, 0.0, 0.0, 0.0, 0.0, ...      5\n",
       "1      [0.0, 0.0, 0.0, 0.0, 0.0, 0.0, 0.0, 0.0, 0.0, ...      0\n",
       "2      [0.0, 0.0, 0.0, 0.0, 0.0, 0.0, 0.0, 0.0, 0.0, ...      4\n",
       "3      [0.0, 0.0, 0.0, 0.0, 0.0, 0.0, 0.0, 0.0, 0.0, ...      1\n",
       "4      [0.0, 0.0, 0.0, 0.0, 0.0, 0.0, 0.0, 0.0, 0.0, ...      9\n",
       "...                                                  ...    ...\n",
       "59995  [0.0, 0.0, 0.0, 0.0, 0.0, 0.0, 0.0, 0.0, 0.0, ...      8\n",
       "59996  [0.0, 0.0, 0.0, 0.0, 0.0, 0.0, 0.0, 0.0, 0.0, ...      3\n",
       "59997  [0.0, 0.0, 0.0, 0.0, 0.0, 0.0, 0.0, 0.0, 0.0, ...      5\n",
       "59998  [0.0, 0.0, 0.0, 0.0, 0.0, 0.0, 0.0, 0.0, 0.0, ...      6\n",
       "59999  [0.0, 0.0, 0.0, 0.0, 0.0, 0.0, 0.0, 0.0, 0.0, ...      8\n",
       "\n",
       "[60000 rows x 2 columns]"
      ]
     },
     "execution_count": 14,
     "metadata": {},
     "output_type": "execute_result"
    }
   ],
   "source": [
    "pdf_train"
   ]
  },
  {
   "cell_type": "code",
   "execution_count": 15,
   "id": "869d07a2-83bb-453b-bc1a-1e6626ad23b9",
   "metadata": {},
   "outputs": [],
   "source": [
    "df_train = spark.createDataFrame(pdf_train)"
   ]
  },
  {
   "cell_type": "code",
   "execution_count": 16,
   "id": "72391755-7f84-46b8-a4e9-d8678cfd1c53",
   "metadata": {},
   "outputs": [
    {
     "name": "stderr",
     "output_type": "stream",
     "text": [
      "23/01/05 16:12:04 WARN TaskSetManager: Stage 0 contains a task of very large size (21199 KiB). The maximum recommended task size is 1000 KiB.\n",
      "                                                                                \r"
     ]
    }
   ],
   "source": [
    "df_train.write.mode(\"overwrite\").parquet(\"mnist_train\")"
   ]
  },
  {
   "cell_type": "markdown",
   "id": "c3514c5b-836a-4f4e-92af-41f1db96f813",
   "metadata": {},
   "source": [
    "### mapInPandas"
   ]
  },
  {
   "cell_type": "code",
   "execution_count": 17,
   "id": "1a78ef77-5d3b-4f1f-9fb3-33380ffb8d50",
   "metadata": {},
   "outputs": [],
   "source": [
    "df_train = spark.read.parquet(\"mnist_train\")"
   ]
  },
  {
   "cell_type": "code",
   "execution_count": 18,
   "id": "106b2fad-2225-40b6-88d4-7f314e7b7924",
   "metadata": {},
   "outputs": [],
   "source": [
    "def train(df_iter):\n",
    "    import json\n",
    "    import os\n",
    "    import random\n",
    "    import socket\n",
    "    import tensorflow as tf\n",
    "    import time\n",
    "    import numpy as np\n",
    "    from pyspark import BarrierTaskContext\n",
    "    from datetime import datetime\n",
    "    \n",
    "    print(\"{}: {}: GOT HERE 1\".format(datetime.now(), os.getpid()))\n",
    "    # get list of participating nodes and my local address\n",
    "    context = BarrierTaskContext.get()\n",
    "    task_infos = context.getTaskInfos()\n",
    "    workers = [t.address.split(':')[0] for t in task_infos]\n",
    "    rank = context.partitionId()\n",
    "    addr = workers[rank]\n",
    "\n",
    "    # find available port for TF server \n",
    "    with socket.socket(socket.AF_INET, socket.SOCK_STREAM) as sock:\n",
    "        sock.bind(('', 0))\n",
    "        _, port = sock.getsockname()\n",
    "        tf_addr = \"{}:{}\".format(addr, port)\n",
    "        tf_addresses = context.allGather(tf_addr)\n",
    "    \n",
    "    # configure TF_CONFIG\n",
    "    TF_CONFIG = {\n",
    "        \"cluster\": {\"worker\": tf_addresses}, \n",
    "        \"task\": {\"type\": \"worker\", \"index\": rank}\n",
    "    }\n",
    "    print(f\"TF_CONFIG = {TF_CONFIG}\")\n",
    "    os.environ['TF_CONFIG'] = json.dumps(TF_CONFIG)\n",
    "    \n",
    "    # run the training code\n",
    "    strategy = tf.distribute.MultiWorkerMirroredStrategy()\n",
    "    with strategy.scope():\n",
    "\n",
    "        # Define a simple sequential model\n",
    "        def create_model():\n",
    "            model = tf.keras.models.Sequential([\n",
    "                keras.layers.Dense(512, activation='relu', input_shape=(784,)),\n",
    "                keras.layers.Dropout(0.2),\n",
    "                keras.layers.Dense(10)\n",
    "            ])\n",
    "\n",
    "            model.compile(optimizer='adam',\n",
    "                            loss=tf.losses.SparseCategoricalCrossentropy(from_logits=True),\n",
    "                            metrics=[tf.metrics.SparseCategoricalAccuracy()])\n",
    "\n",
    "            return model\n",
    "\n",
    "        # Create a basic model instance\n",
    "        model = create_model()\n",
    "\n",
    "        # Display the model's architecture\n",
    "        model.summary()\n",
    "\n",
    "        # simulate random startup latency\n",
    "        time.sleep(random.randint(0,5))\n",
    "\n",
    "        print(\"{}: {}: waiting for barrier\".format(datetime.now(), os.getpid()))\n",
    "        context.barrier()\n",
    "        print(\"{}: {}: continuing\".format(datetime.now(), os.getpid()))\n",
    "\n",
    "        for pdf in df_iter:\n",
    "            print(type(pdf), len(pdf))\n",
    "            x = np.vstack(pdf['image'].to_numpy())\n",
    "            y = pdf['label'].to_numpy()\n",
    "            model.fit(x, y)\n",
    "            yield pdf\n",
    "            \n",
    "        # TODO: after last iter, checkpoint model"
   ]
  },
  {
   "cell_type": "code",
   "execution_count": 19,
   "id": "b816ed00-6f09-42a8-a57e-24817b288474",
   "metadata": {},
   "outputs": [
    {
     "name": "stderr",
     "output_type": "stream",
     "text": [
      "                                                                                \r"
     ]
    }
   ],
   "source": [
    "rdd_out = df_train \\\n",
    "    .repartition(2) \\\n",
    "    .mapInPandas(train, schema=\"image array<float>, label float\") \\\n",
    "    .rdd \\\n",
    "    .barrier() \\\n",
    "    .mapPartitions(lambda x: x) \\\n",
    "    .collect()"
   ]
  },
  {
   "cell_type": "markdown",
   "id": "9ea22aed-87a1-49fc-924a-d9ad110fc5d0",
   "metadata": {},
   "source": [
    "## Refactored"
   ]
  },
  {
   "cell_type": "code",
   "execution_count": 26,
   "id": "0bdf2a64-67fe-476d-ae07-32e422be8c0f",
   "metadata": {},
   "outputs": [
    {
     "name": "stderr",
     "output_type": "stream",
     "text": [
      "                                                                                \r"
     ]
    }
   ],
   "source": [
    "df_train = spark.read.parquet(\"mnist_train\")"
   ]
  },
  {
   "cell_type": "code",
   "execution_count": 27,
   "id": "1b0ef352-dd56-4109-a0d8-ecef9273b3d1",
   "metadata": {},
   "outputs": [],
   "source": [
    "from abc import ABC\n",
    "from pyspark import BarrierTaskContext\n",
    "\n",
    "class FrameworkPlugin(ABC):\n",
    "    @staticmethod    \n",
    "    def setup(context: BarrierTaskContext):\n",
    "        pass\n",
    "    \n",
    "    @staticmethod\n",
    "    def teardown(self):\n",
    "        pass"
   ]
  },
  {
   "cell_type": "code",
   "execution_count": 28,
   "id": "3e5573a1-3240-4fd4-b52c-9c77c8172b08",
   "metadata": {},
   "outputs": [],
   "source": [
    "class TensorFlowPlugin(FrameworkPlugin):\n",
    "    @staticmethod\n",
    "    def setup(context: BarrierTaskContext):\n",
    "        import json\n",
    "        import socket\n",
    "\n",
    "        task_infos = context.getTaskInfos()\n",
    "        workers = [t.address.split(':')[0] for t in task_infos]\n",
    "        rank = context.partitionId()\n",
    "        world_size = len(workers)\n",
    "        my_addr = workers[rank]\n",
    "\n",
    "        with socket.socket(socket.AF_INET, socket.SOCK_STREAM) as sock:\n",
    "            # find available port for TF server \n",
    "            sock.bind(('', 0))\n",
    "            _, port = sock.getsockname()\n",
    "            tf_addr = \"{}:{}\".format(my_addr, port)\n",
    "            tf_addresses = context.allGather(tf_addr)\n",
    "\n",
    "            # configure TF_CONFIG\n",
    "            TF_CONFIG = {\n",
    "                \"cluster\": {\"worker\": tf_addresses}, \n",
    "                \"task\": {\"type\": \"worker\", \"index\": rank}\n",
    "            }\n",
    "            print(f\"TF_CONFIG = {TF_CONFIG}\")\n",
    "            os.environ['TF_CONFIG'] = json.dumps(TF_CONFIG)\n",
    "\n",
    "            return rank, world_size\n",
    "    \n",
    "    @staticmethod\n",
    "    def teardown():\n",
    "        pass"
   ]
  },
  {
   "cell_type": "code",
   "execution_count": 29,
   "id": "355274e0-95d9-42fe-bfd6-1c3248eaff1e",
   "metadata": {},
   "outputs": [],
   "source": [
    "import functools\n",
    "\n",
    "def distribute(framework_plugin):\n",
    "    def decorator_distribute(train_fn):\n",
    "        @functools.wraps(train_fn)\n",
    "        def _wrapper(df_iter):\n",
    "            from pyspark import BarrierTaskContext\n",
    "\n",
    "            # get list of participating nodes and my local address\n",
    "            context = BarrierTaskContext.get()         \n",
    "            rank, world_size = framework_plugin.setup(context)      \n",
    "            result = train_fn(df_iter)\n",
    "            framework_plugin.teardown()\n",
    "            return result\n",
    "        return _wrapper\n",
    "    return decorator_distribute"
   ]
  },
  {
   "cell_type": "code",
   "execution_count": 30,
   "id": "bc94dc27-d686-4b16-8af2-850de91a3944",
   "metadata": {},
   "outputs": [],
   "source": [
    "@distribute(TensorFlowPlugin)\n",
    "def train_fn(df_iter):\n",
    "    import numpy as np\n",
    "    import tensorflow as tf\n",
    "    \n",
    "    # run the training code\n",
    "    strategy = tf.distribute.MultiWorkerMirroredStrategy()\n",
    "    with strategy.scope():\n",
    "\n",
    "        # Define a simple sequential model\n",
    "        def create_model():\n",
    "            model = tf.keras.models.Sequential([\n",
    "                tf.keras.layers.Dense(512, activation='relu', input_shape=(784,)),\n",
    "                tf.keras.layers.Dropout(0.2),\n",
    "                tf.keras.layers.Dense(10)\n",
    "            ])\n",
    "\n",
    "            model.compile(optimizer='adam',\n",
    "                            loss=tf.losses.SparseCategoricalCrossentropy(from_logits=True),\n",
    "                            metrics=[tf.metrics.SparseCategoricalAccuracy()])\n",
    "\n",
    "            return model\n",
    "\n",
    "        # Create a basic model instance\n",
    "        model = create_model()\n",
    "\n",
    "        # Display the model's architecture\n",
    "        model.summary()\n",
    "\n",
    "        # Receive data from Spark\n",
    "        for pdf in df_iter:\n",
    "            print(type(pdf), len(pdf))\n",
    "            x = np.vstack(pdf['image'].to_numpy())\n",
    "            y = pdf['label'].to_numpy()\n",
    "            model.fit(x, y)\n",
    "            yield pdf"
   ]
  },
  {
   "cell_type": "code",
   "execution_count": 31,
   "id": "fe0d8df3-bbd4-4c8c-af8d-92084aa338f3",
   "metadata": {},
   "outputs": [
    {
     "name": "stderr",
     "output_type": "stream",
     "text": [
      "                                                                                \r"
     ]
    }
   ],
   "source": [
    "rdd_out = df_train \\\n",
    "    .repartition(2) \\\n",
    "    .mapInPandas(train_fn, schema=\"image array<float>, label float\") \\\n",
    "    .rdd \\\n",
    "    .barrier() \\\n",
    "    .mapPartitions(lambda x: x) \\\n",
    "    .collect()"
   ]
  },
  {
   "cell_type": "code",
   "execution_count": null,
   "id": "0883e5e0-0619-420b-b381-2b401afb073c",
   "metadata": {},
   "outputs": [],
   "source": []
  }
 ],
 "metadata": {
  "kernelspec": {
   "display_name": "Python 3 (ipykernel)",
   "language": "python",
   "name": "python3"
  },
  "language_info": {
   "codemirror_mode": {
    "name": "ipython",
    "version": 3
   },
   "file_extension": ".py",
   "mimetype": "text/x-python",
   "name": "python",
   "nbconvert_exporter": "python",
   "pygments_lexer": "ipython3",
   "version": "3.9.10"
  }
 },
 "nbformat": 4,
 "nbformat_minor": 5
}
