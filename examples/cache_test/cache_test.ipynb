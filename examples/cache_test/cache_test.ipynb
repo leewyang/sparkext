{
 "cells": [
  {
   "cell_type": "markdown",
   "id": "0a765033-52ce-4d0c-b333-ba7cff214dbd",
   "metadata": {},
   "source": [
    "### Create test data"
   ]
  },
  {
   "cell_type": "code",
   "execution_count": 1,
   "id": "d10a1b3d-2197-4e68-9ac2-ae736226d776",
   "metadata": {},
   "outputs": [],
   "source": [
    "import numpy as np\n",
    "import pandas as pd\n",
    "import threading\n",
    "import time\n",
    "\n",
    "from pyspark.sql.functions import col, pandas_udf, spark_partition_id, udf\n",
    "from pyspark.sql.types import *\n",
    "from typing import Iterator"
   ]
  },
  {
   "cell_type": "code",
   "execution_count": 2,
   "id": "62983543-1985-4ac0-9ce5-d0f8d229f018",
   "metadata": {},
   "outputs": [],
   "source": [
    "spark.conf.set(\"spark.sql.execution.arrow.pyspark.enabled\", \"true\")\n",
    "spark.conf.set(\"spark.sql.execution.arrow.maxRecordsPerBatch\", 1024)\n",
    "spark.sparkContext.addPyFile(\"cache_rdd.py\")\n",
    "spark.sparkContext.addPyFile(\"cache_pudf1.py\")\n",
    "spark.sparkContext.addPyFile(\"cache_pudf2.py\")"
   ]
  },
  {
   "cell_type": "code",
   "execution_count": 3,
   "id": "08b86726-03f7-4c84-a79a-a49b77a104ce",
   "metadata": {},
   "outputs": [],
   "source": [
    "data = np.random.rand(100000,2)"
   ]
  },
  {
   "cell_type": "code",
   "execution_count": 4,
   "id": "c0c7210f-78b2-4f46-ae92-70aa2e0dd7c6",
   "metadata": {},
   "outputs": [
    {
     "data": {
      "text/html": [
       "<div>\n",
       "<style scoped>\n",
       "    .dataframe tbody tr th:only-of-type {\n",
       "        vertical-align: middle;\n",
       "    }\n",
       "\n",
       "    .dataframe tbody tr th {\n",
       "        vertical-align: top;\n",
       "    }\n",
       "\n",
       "    .dataframe thead th {\n",
       "        text-align: right;\n",
       "    }\n",
       "</style>\n",
       "<table border=\"1\" class=\"dataframe\">\n",
       "  <thead>\n",
       "    <tr style=\"text-align: right;\">\n",
       "      <th></th>\n",
       "      <th>A</th>\n",
       "      <th>B</th>\n",
       "    </tr>\n",
       "  </thead>\n",
       "  <tbody>\n",
       "    <tr>\n",
       "      <th>0</th>\n",
       "      <td>0.101431</td>\n",
       "      <td>0.545185</td>\n",
       "    </tr>\n",
       "    <tr>\n",
       "      <th>1</th>\n",
       "      <td>0.010034</td>\n",
       "      <td>0.316767</td>\n",
       "    </tr>\n",
       "    <tr>\n",
       "      <th>2</th>\n",
       "      <td>0.368177</td>\n",
       "      <td>0.229946</td>\n",
       "    </tr>\n",
       "    <tr>\n",
       "      <th>3</th>\n",
       "      <td>0.852369</td>\n",
       "      <td>0.203069</td>\n",
       "    </tr>\n",
       "    <tr>\n",
       "      <th>4</th>\n",
       "      <td>0.614969</td>\n",
       "      <td>0.984089</td>\n",
       "    </tr>\n",
       "    <tr>\n",
       "      <th>...</th>\n",
       "      <td>...</td>\n",
       "      <td>...</td>\n",
       "    </tr>\n",
       "    <tr>\n",
       "      <th>99995</th>\n",
       "      <td>0.173051</td>\n",
       "      <td>0.530109</td>\n",
       "    </tr>\n",
       "    <tr>\n",
       "      <th>99996</th>\n",
       "      <td>0.162625</td>\n",
       "      <td>0.937435</td>\n",
       "    </tr>\n",
       "    <tr>\n",
       "      <th>99997</th>\n",
       "      <td>0.656313</td>\n",
       "      <td>0.553777</td>\n",
       "    </tr>\n",
       "    <tr>\n",
       "      <th>99998</th>\n",
       "      <td>0.979720</td>\n",
       "      <td>0.842729</td>\n",
       "    </tr>\n",
       "    <tr>\n",
       "      <th>99999</th>\n",
       "      <td>0.867080</td>\n",
       "      <td>0.309731</td>\n",
       "    </tr>\n",
       "  </tbody>\n",
       "</table>\n",
       "<p>100000 rows × 2 columns</p>\n",
       "</div>"
      ],
      "text/plain": [
       "              A         B\n",
       "0      0.101431  0.545185\n",
       "1      0.010034  0.316767\n",
       "2      0.368177  0.229946\n",
       "3      0.852369  0.203069\n",
       "4      0.614969  0.984089\n",
       "...         ...       ...\n",
       "99995  0.173051  0.530109\n",
       "99996  0.162625  0.937435\n",
       "99997  0.656313  0.553777\n",
       "99998  0.979720  0.842729\n",
       "99999  0.867080  0.309731\n",
       "\n",
       "[100000 rows x 2 columns]"
      ]
     },
     "execution_count": 4,
     "metadata": {},
     "output_type": "execute_result"
    }
   ],
   "source": [
    "pdf = pd.DataFrame(data,columns=['A', 'B'])\n",
    "pdf"
   ]
  },
  {
   "cell_type": "code",
   "execution_count": 5,
   "id": "4634871e-3279-4749-8b49-c66e3e7063f5",
   "metadata": {},
   "outputs": [
    {
     "name": "stderr",
     "output_type": "stream",
     "text": [
      "[Stage 0:>                                                          (0 + 2) / 2]\r"
     ]
    },
    {
     "name": "stdout",
     "output_type": "stream",
     "text": [
      "+-------------------+-------------------+\n",
      "|                  A|                  B|\n",
      "+-------------------+-------------------+\n",
      "| 0.6725068566776664| 0.4048381689108268|\n",
      "| 0.4646654335378224|0.16736603896679958|\n",
      "| 0.9013817348875479|0.04339854354727446|\n",
      "|0.00802792044114109| 0.7550677173094015|\n",
      "| 0.8373676205836582|0.08083523416612326|\n",
      "+-------------------+-------------------+\n",
      "only showing top 5 rows\n",
      "\n"
     ]
    },
    {
     "name": "stderr",
     "output_type": "stream",
     "text": [
      "                                                                                \r"
     ]
    }
   ],
   "source": [
    "df = spark.createDataFrame(pdf).repartition(10)\n",
    "df.show(5)"
   ]
  },
  {
   "cell_type": "code",
   "execution_count": 6,
   "id": "08cb9bfe-630c-4c0a-a502-7703bae0ca80",
   "metadata": {},
   "outputs": [],
   "source": [
    "rdd = df.rdd"
   ]
  },
  {
   "cell_type": "code",
   "execution_count": 7,
   "id": "5860b5e6-f192-44f2-aa8a-d4be0a591f4a",
   "metadata": {},
   "outputs": [],
   "source": [
    "N = None"
   ]
  },
  {
   "cell_type": "code",
   "execution_count": 8,
   "id": "de30ce0c-ff23-476e-836d-8bad20365876",
   "metadata": {},
   "outputs": [],
   "source": [
    "delay = 5"
   ]
  },
  {
   "cell_type": "markdown",
   "id": "ab7e611d-1909-42e8-ac25-8287b6c2d920",
   "metadata": {
    "tags": []
   },
   "source": [
    "### pandas_udf"
   ]
  },
  {
   "cell_type": "code",
   "execution_count": 9,
   "id": "dd4218a4-b045-4f7f-b062-4a1f690285e3",
   "metadata": {},
   "outputs": [],
   "source": [
    "@pandas_udf(\"float\")\n",
    "def addN1(x: pd.Series) -> pd.Series:\n",
    "    global N\n",
    "    if N:\n",
    "        # raise Exception(\"USING CACHE!!!\")\n",
    "        print(\"USING CACHE!!!\")\n",
    "        N = N + 1.0\n",
    "    else:\n",
    "        print(\"{} pandas_udf load\".format(threading.get_ident()))\n",
    "        N = 1.0\n",
    "        time.sleep(delay)\n",
    "        print(\"{} pandas_udf done\".format(threading.get_ident()))\n",
    "    \n",
    "    print(\"type(x): {}\".format(type(x)))\n",
    "    return x + N"
   ]
  },
  {
   "cell_type": "code",
   "execution_count": 10,
   "id": "1283630a-47f9-4b6c-b784-244d454cb042",
   "metadata": {},
   "outputs": [
    {
     "name": "stderr",
     "output_type": "stream",
     "text": [
      "                                                                                \r"
     ]
    },
    {
     "name": "stdout",
     "output_type": "stream",
     "text": [
      "CPU times: user 272 ms, sys: 15 ms, total: 287 ms\n",
      "Wall time: 27.1 s\n"
     ]
    }
   ],
   "source": [
    "%%time\n",
    "foo = df.select(addN1(\"A\")).collect()"
   ]
  },
  {
   "cell_type": "code",
   "execution_count": 11,
   "id": "64afadc4-6f58-45f4-93e7-062d2b410d88",
   "metadata": {},
   "outputs": [
    {
     "data": {
      "text/plain": [
       "[Row(addN1(A)=1.1130174398422241),\n",
       " Row(addN1(A)=1.3608601093292236),\n",
       " Row(addN1(A)=1.422696828842163),\n",
       " Row(addN1(A)=1.2258188724517822),\n",
       " Row(addN1(A)=1.5190355777740479)]"
      ]
     },
     "execution_count": 11,
     "metadata": {},
     "output_type": "execute_result"
    }
   ],
   "source": [
    "foo[:5]"
   ]
  },
  {
   "cell_type": "markdown",
   "id": "1d10c250-b2ea-4b9d-9d51-8e023bca222d",
   "metadata": {},
   "source": [
    "### udf"
   ]
  },
  {
   "cell_type": "code",
   "execution_count": 12,
   "id": "c9d4a823-1241-4c7b-9d88-63bb2ea69483",
   "metadata": {},
   "outputs": [],
   "source": [
    "@udf(returnType=FloatType())\n",
    "def addN2(x):\n",
    "    global N\n",
    "    if N:\n",
    "        # raise Exception(\"USING CACHE!!!\")\n",
    "        print(\"USING CACHE!!!\")\n",
    "        N = N + 1.0\n",
    "    else:\n",
    "        print(\"{} udf loading\".format(threading.get_ident()))\n",
    "        N = 1.0\n",
    "        time.sleep(delay)\n",
    "        print(\"{} udf done\".format(threading.get_ident()))\n",
    "\n",
    "    return x + N"
   ]
  },
  {
   "cell_type": "code",
   "execution_count": 13,
   "id": "b26992a9-0303-4bb8-8e44-fa2841442e56",
   "metadata": {},
   "outputs": [
    {
     "name": "stderr",
     "output_type": "stream",
     "text": [
      "                                                                                \r"
     ]
    },
    {
     "name": "stdout",
     "output_type": "stream",
     "text": [
      "CPU times: user 283 ms, sys: 14.9 ms, total: 297 ms\n",
      "Wall time: 26.1 s\n"
     ]
    }
   ],
   "source": [
    "%%time\n",
    "foo = df.select(addN2(\"A\")).collect()"
   ]
  },
  {
   "cell_type": "code",
   "execution_count": 14,
   "id": "148d10ea-9ed1-423c-a1b6-d4c8a998cdc1",
   "metadata": {},
   "outputs": [
    {
     "data": {
      "text/plain": [
       "[Row(addN2(A)=1.1130174398422241),\n",
       " Row(addN2(A)=2.3608601093292236),\n",
       " Row(addN2(A)=3.422696828842163),\n",
       " Row(addN2(A)=4.225819110870361),\n",
       " Row(addN2(A)=5.519035339355469)]"
      ]
     },
     "execution_count": 14,
     "metadata": {},
     "output_type": "execute_result"
    }
   ],
   "source": [
    "foo[:5]"
   ]
  },
  {
   "cell_type": "code",
   "execution_count": 15,
   "id": "f430ab68-1f0d-4a07-be4a-18ff63a0e0f2",
   "metadata": {},
   "outputs": [
    {
     "name": "stdout",
     "output_type": "stream",
     "text": [
      "[Row(addN2(A)=1.1130174398422241), Row(addN2(A)=2.3608601093292236), Row(addN2(A)=3.422696828842163), Row(addN2(A)=4.225819110870361), Row(addN2(A)=5.519035339355469)]\n",
      "[Row(addN2(A)=1001.0861206054688), Row(addN2(A)=1002.9450073242188), Row(addN2(A)=1003.4807739257812), Row(addN2(A)=1004.1425170898438), Row(addN2(A)=1005.3653564453125)]\n",
      "[Row(addN2(A)=2001.1534423828125), Row(addN2(A)=2002.98388671875), Row(addN2(A)=2003.001220703125), Row(addN2(A)=2004.948486328125), Row(addN2(A)=2005.0477294921875)]\n",
      "[Row(addN2(A)=3001.1435546875), Row(addN2(A)=3002.0576171875), Row(addN2(A)=3003.155517578125), Row(addN2(A)=3004.908447265625), Row(addN2(A)=3005.816162109375)]\n",
      "[Row(addN2(A)=4001.0302734375), Row(addN2(A)=4002.307861328125), Row(addN2(A)=4003.425048828125), Row(addN2(A)=4004.884521484375), Row(addN2(A)=4005.6884765625)]\n"
     ]
    }
   ],
   "source": [
    "for i in range(5):\n",
    "    print(foo[i*1000:i*1000+5])"
   ]
  },
  {
   "cell_type": "markdown",
   "id": "77e3c205-3f81-4d81-8884-7ab9b71f33e4",
   "metadata": {},
   "source": [
    "### pandas_udf iterator\n",
    "see: https://github.com/apache/spark/blob/v3.2.0/python/pyspark/sql/pandas/functions.py#L153-L177"
   ]
  },
  {
   "cell_type": "code",
   "execution_count": 16,
   "id": "6091bd60-5ac8-4950-aeaa-d7a6674e7edc",
   "metadata": {},
   "outputs": [],
   "source": [
    "@pandas_udf(\"float\")\n",
    "def addN(x: Iterator[pd.Series]) -> Iterator[pd.Series]:\n",
    "    print(\"{} udf iterator load\".format(threading.get_ident()))\n",
    "    N_local = 1.0\n",
    "    time.sleep(delay)\n",
    "    print(\"{} udf iterator done\".format(threading.get_ident()))\n",
    "    for item in x:\n",
    "        print(\"type(item): {}\".format(type(item)))\n",
    "        yield item + N_local"
   ]
  },
  {
   "cell_type": "code",
   "execution_count": 17,
   "id": "ffb02059-f1ab-471c-9201-a690d93a6c11",
   "metadata": {},
   "outputs": [
    {
     "name": "stderr",
     "output_type": "stream",
     "text": [
      "                                                                                \r"
     ]
    },
    {
     "name": "stdout",
     "output_type": "stream",
     "text": [
      "CPU times: user 304 ms, sys: 10.7 ms, total: 315 ms\n",
      "Wall time: 25.9 s\n"
     ]
    }
   ],
   "source": [
    "%%time\n",
    "foo = df.select(addN(\"A\")).collect()"
   ]
  },
  {
   "cell_type": "code",
   "execution_count": 18,
   "id": "785dcf93-120f-4ba0-9d06-d7d93187ac2e",
   "metadata": {},
   "outputs": [
    {
     "data": {
      "text/plain": [
       "[Row(addN(A)=1.1196389198303223),\n",
       " Row(addN(A)=1.805098533630371),\n",
       " Row(addN(A)=1.6327793598175049),\n",
       " Row(addN(A)=1.6746606826782227),\n",
       " Row(addN(A)=1.228914737701416)]"
      ]
     },
     "execution_count": 18,
     "metadata": {},
     "output_type": "execute_result"
    }
   ],
   "source": [
    "foo[:5]"
   ]
  },
  {
   "cell_type": "markdown",
   "id": "4510fda7-5fba-4981-9f23-ae1b7987be33",
   "metadata": {},
   "source": [
    "### mapPartitions"
   ]
  },
  {
   "cell_type": "code",
   "execution_count": 19,
   "id": "763381d9-8cab-4e17-b4e5-3b45cebe1e87",
   "metadata": {},
   "outputs": [],
   "source": [
    "def addNR(it):\n",
    "    result = []\n",
    "    \n",
    "    global N\n",
    "    if N:\n",
    "        raise Exception(\"USING CACHE!!!\")\n",
    "        N = N + 1.0\n",
    "    else:\n",
    "        print(\"{} rdd loading\".format(threading.get_ident()))\n",
    "        N = 1.0\n",
    "        time.sleep(delay)\n",
    "        print(\"{} rdd done\".format(threading.get_ident()))\n",
    "        \n",
    "    for x in it:\n",
    "        print(\"x: {}\".format(x))\n",
    "        result.append(x[1] + N)\n",
    "    return result"
   ]
  },
  {
   "cell_type": "code",
   "execution_count": 20,
   "id": "305dfda0-86af-4180-8147-bdde9ca00bb5",
   "metadata": {},
   "outputs": [],
   "source": [
    "rdd_out = rdd.mapPartitions(addNR)"
   ]
  },
  {
   "cell_type": "code",
   "execution_count": 21,
   "id": "b718ab33-d64a-41ce-b36d-6027f2e3ca8b",
   "metadata": {},
   "outputs": [
    {
     "name": "stderr",
     "output_type": "stream",
     "text": [
      "[Stage 14:=============================================>           (8 + 2) / 10]\r"
     ]
    },
    {
     "name": "stdout",
     "output_type": "stream",
     "text": [
      "CPU times: user 48.6 ms, sys: 229 µs, total: 48.8 ms\n",
      "Wall time: 26.3 s\n"
     ]
    },
    {
     "name": "stderr",
     "output_type": "stream",
     "text": [
      "                                                                                \r"
     ]
    }
   ],
   "source": [
    "%%time\n",
    "foo = rdd_out.collect()"
   ]
  },
  {
   "cell_type": "code",
   "execution_count": 22,
   "id": "be03129b-c1c1-44f9-b172-df34fc6ce2c3",
   "metadata": {},
   "outputs": [
    {
     "data": {
      "text/plain": [
       "[1.9688157549552834,\n",
       " 1.6876051989028156,\n",
       " 1.1418699874472678,\n",
       " 1.1659114159107062,\n",
       " 1.8593736801570682]"
      ]
     },
     "execution_count": 22,
     "metadata": {},
     "output_type": "execute_result"
    }
   ],
   "source": [
    "foo[:5]"
   ]
  },
  {
   "cell_type": "markdown",
   "id": "c50f7256-f286-4d2c-8bf3-9c8f98235c54",
   "metadata": {},
   "source": [
    "### mapPartitions in separate file"
   ]
  },
  {
   "cell_type": "code",
   "execution_count": 23,
   "id": "a8f2044b-a64c-4b06-9ab7-053e52880167",
   "metadata": {},
   "outputs": [],
   "source": [
    "from cache_rdd import addNR_dist"
   ]
  },
  {
   "cell_type": "code",
   "execution_count": 24,
   "id": "f69188d0-4c93-4dca-9bb7-c6d04b92e917",
   "metadata": {},
   "outputs": [],
   "source": [
    "rdd_out = rdd.mapPartitions(addNR_dist)"
   ]
  },
  {
   "cell_type": "code",
   "execution_count": 25,
   "id": "8bf24091-aa41-4abe-93e3-656e2a5ecdc0",
   "metadata": {},
   "outputs": [
    {
     "name": "stderr",
     "output_type": "stream",
     "text": [
      "[Stage 16:===========>                                             (2 + 2) / 10]\r"
     ]
    },
    {
     "name": "stdout",
     "output_type": "stream",
     "text": [
      "CPU times: user 19.1 ms, sys: 3.16 ms, total: 22.2 ms\n",
      "Wall time: 5.7 s\n"
     ]
    },
    {
     "name": "stderr",
     "output_type": "stream",
     "text": [
      "                                                                                \r"
     ]
    }
   ],
   "source": [
    "%%time\n",
    "foo = rdd_out.collect()"
   ]
  },
  {
   "cell_type": "code",
   "execution_count": 26,
   "id": "d7b51d17-780c-4288-b897-35a326db14b1",
   "metadata": {},
   "outputs": [
    {
     "data": {
      "text/plain": [
       "[1.9688157549552834,\n",
       " 1.6876051989028156,\n",
       " 1.1418699874472678,\n",
       " 1.1659114159107062,\n",
       " 1.8593736801570682]"
      ]
     },
     "execution_count": 26,
     "metadata": {},
     "output_type": "execute_result"
    }
   ],
   "source": [
    "foo[:5]"
   ]
  },
  {
   "cell_type": "markdown",
   "id": "d867474b-4142-4928-82c9-41feccb228b6",
   "metadata": {},
   "source": [
    "### pandas_udf defined in separate file"
   ]
  },
  {
   "cell_type": "code",
   "execution_count": 27,
   "id": "6a805b14-1f46-4fe8-a090-fc2b5dcb0af7",
   "metadata": {},
   "outputs": [],
   "source": [
    "from cache_pudf1 import addN1_dist"
   ]
  },
  {
   "cell_type": "code",
   "execution_count": 28,
   "id": "c80d205b-e962-4b76-8c95-995dab760b38",
   "metadata": {},
   "outputs": [
    {
     "name": "stderr",
     "output_type": "stream",
     "text": [
      "                                                                                \r"
     ]
    },
    {
     "name": "stdout",
     "output_type": "stream",
     "text": [
      "CPU times: user 245 ms, sys: 6.57 ms, total: 251 ms\n",
      "Wall time: 25.8 s\n"
     ]
    }
   ],
   "source": [
    "%%time\n",
    "foo = df.select(addN1_dist(\"A\")).collect()"
   ]
  },
  {
   "cell_type": "code",
   "execution_count": 29,
   "id": "d46cd1d0-d627-49b3-b6bd-06dcdcec0346",
   "metadata": {},
   "outputs": [
    {
     "data": {
      "text/plain": [
       "[Row(addN1_dist(A)=1.1130174398422241),\n",
       " Row(addN1_dist(A)=1.3608601093292236),\n",
       " Row(addN1_dist(A)=1.422696828842163),\n",
       " Row(addN1_dist(A)=1.2258188724517822),\n",
       " Row(addN1_dist(A)=1.5190355777740479)]"
      ]
     },
     "execution_count": 29,
     "metadata": {},
     "output_type": "execute_result"
    }
   ],
   "source": [
    "foo[:5]"
   ]
  },
  {
   "cell_type": "markdown",
   "id": "62507048-a937-4871-bb4b-6e5194abb182",
   "metadata": {},
   "source": [
    "### function in separate file, pandas_udf created in driver"
   ]
  },
  {
   "cell_type": "code",
   "execution_count": 30,
   "id": "46f7caea-0f24-4656-bfec-e475095103e5",
   "metadata": {
    "tags": []
   },
   "outputs": [],
   "source": [
    "from cache_pudf2 import addN1_dist2"
   ]
  },
  {
   "cell_type": "code",
   "execution_count": 31,
   "id": "e671ed37-45ac-4b65-bae2-84fd6fd1793f",
   "metadata": {},
   "outputs": [],
   "source": [
    "pudf = pandas_udf(addN1_dist2, 'float')"
   ]
  },
  {
   "cell_type": "code",
   "execution_count": 32,
   "id": "3d6e21a9-a722-4681-a918-515972c472e2",
   "metadata": {},
   "outputs": [
    {
     "name": "stderr",
     "output_type": "stream",
     "text": [
      "                                                                                \r"
     ]
    },
    {
     "name": "stdout",
     "output_type": "stream",
     "text": [
      "CPU times: user 288 ms, sys: 6.37 ms, total: 294 ms\n",
      "Wall time: 5.76 s\n"
     ]
    }
   ],
   "source": [
    "%%time\n",
    "foo = df.select(pudf(\"A\")).collect()"
   ]
  },
  {
   "cell_type": "code",
   "execution_count": 33,
   "id": "80d9a4fb-6e5d-49ed-8571-a30d7383976a",
   "metadata": {},
   "outputs": [
    {
     "data": {
      "text/plain": [
       "[Row(addN1_dist2(A)=1.1196389198303223),\n",
       " Row(addN1_dist2(A)=1.805098533630371),\n",
       " Row(addN1_dist2(A)=1.6327793598175049),\n",
       " Row(addN1_dist2(A)=1.6746606826782227),\n",
       " Row(addN1_dist2(A)=1.228914737701416)]"
      ]
     },
     "execution_count": 33,
     "metadata": {},
     "output_type": "execute_result"
    }
   ],
   "source": [
    "foo[:5]"
   ]
  },
  {
   "cell_type": "markdown",
   "id": "11ed2c3f-f4f2-47a6-8028-f45c2356f97d",
   "metadata": {},
   "source": [
    "### function in separate file (wrapped), pandas_udf in driver"
   ]
  },
  {
   "cell_type": "code",
   "execution_count": 35,
   "id": "81be0708-e3d3-4e8c-b176-bf9405d33db6",
   "metadata": {},
   "outputs": [],
   "source": [
    "from cache_pudf2 import get_fn"
   ]
  },
  {
   "cell_type": "code",
   "execution_count": 36,
   "id": "1a9e4025-9080-4d10-ba33-4398af0ed204",
   "metadata": {},
   "outputs": [],
   "source": [
    "pudf2 = pandas_udf(get_fn(), 'float')"
   ]
  },
  {
   "cell_type": "code",
   "execution_count": 37,
   "id": "c2a93e50-afee-4252-b215-ffe5d1fe2bfe",
   "metadata": {},
   "outputs": [
    {
     "name": "stderr",
     "output_type": "stream",
     "text": [
      "                                                                                \r"
     ]
    },
    {
     "name": "stdout",
     "output_type": "stream",
     "text": [
      "CPU times: user 275 ms, sys: 30.2 ms, total: 305 ms\n",
      "Wall time: 25.8 s\n"
     ]
    }
   ],
   "source": [
    "%%time\n",
    "foo = df.select(pudf2(\"A\")).collect()"
   ]
  }
 ],
 "metadata": {
  "kernelspec": {
   "display_name": "Python 3 (ipykernel)",
   "language": "python",
   "name": "python3"
  },
  "language_info": {
   "codemirror_mode": {
    "name": "ipython",
    "version": 3
   },
   "file_extension": ".py",
   "mimetype": "text/x-python",
   "name": "python",
   "nbconvert_exporter": "python",
   "pygments_lexer": "ipython3",
   "version": "3.9.10"
  }
 },
 "nbformat": 4,
 "nbformat_minor": 5
}
