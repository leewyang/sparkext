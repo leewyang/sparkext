{
 "cells": [
  {
   "cell_type": "markdown",
   "id": "0a765033-52ce-4d0c-b333-ba7cff214dbd",
   "metadata": {},
   "source": [
    "### Create test data"
   ]
  },
  {
   "cell_type": "code",
   "execution_count": 1,
   "id": "d10a1b3d-2197-4e68-9ac2-ae736226d776",
   "metadata": {},
   "outputs": [],
   "source": [
    "import numpy as np\n",
    "import pandas as pd\n",
    "import threading\n",
    "import time\n",
    "\n",
    "from pyspark.sql.functions import col, pandas_udf, spark_partition_id, udf\n",
    "from pyspark.sql.types import *\n",
    "from typing import Iterator"
   ]
  },
  {
   "cell_type": "code",
   "execution_count": 2,
   "id": "62983543-1985-4ac0-9ce5-d0f8d229f018",
   "metadata": {},
   "outputs": [],
   "source": [
    "spark.conf.set(\"spark.sql.execution.arrow.pyspark.enabled\", \"true\")\n",
    "spark.conf.set(\"spark.sql.execution.arrow.maxRecordsPerBatch\", 1024)\n",
    "spark.sparkContext.addPyFile(\"cache_rdd.py\")\n",
    "spark.sparkContext.addPyFile(\"cache_pudf1.py\")\n",
    "spark.sparkContext.addPyFile(\"cache_pudf2.py\")"
   ]
  },
  {
   "cell_type": "code",
   "execution_count": 3,
   "id": "08b86726-03f7-4c84-a79a-a49b77a104ce",
   "metadata": {},
   "outputs": [],
   "source": [
    "data = np.random.rand(100000,2)"
   ]
  },
  {
   "cell_type": "code",
   "execution_count": 4,
   "id": "c0c7210f-78b2-4f46-ae92-70aa2e0dd7c6",
   "metadata": {},
   "outputs": [
    {
     "data": {
      "text/html": [
       "<div>\n",
       "<style scoped>\n",
       "    .dataframe tbody tr th:only-of-type {\n",
       "        vertical-align: middle;\n",
       "    }\n",
       "\n",
       "    .dataframe tbody tr th {\n",
       "        vertical-align: top;\n",
       "    }\n",
       "\n",
       "    .dataframe thead th {\n",
       "        text-align: right;\n",
       "    }\n",
       "</style>\n",
       "<table border=\"1\" class=\"dataframe\">\n",
       "  <thead>\n",
       "    <tr style=\"text-align: right;\">\n",
       "      <th></th>\n",
       "      <th>A</th>\n",
       "      <th>B</th>\n",
       "    </tr>\n",
       "  </thead>\n",
       "  <tbody>\n",
       "    <tr>\n",
       "      <th>0</th>\n",
       "      <td>0.501336</td>\n",
       "      <td>0.306995</td>\n",
       "    </tr>\n",
       "    <tr>\n",
       "      <th>1</th>\n",
       "      <td>0.540219</td>\n",
       "      <td>0.790344</td>\n",
       "    </tr>\n",
       "    <tr>\n",
       "      <th>2</th>\n",
       "      <td>0.693692</td>\n",
       "      <td>0.103611</td>\n",
       "    </tr>\n",
       "    <tr>\n",
       "      <th>3</th>\n",
       "      <td>0.366457</td>\n",
       "      <td>0.755743</td>\n",
       "    </tr>\n",
       "    <tr>\n",
       "      <th>4</th>\n",
       "      <td>0.672671</td>\n",
       "      <td>0.380752</td>\n",
       "    </tr>\n",
       "    <tr>\n",
       "      <th>...</th>\n",
       "      <td>...</td>\n",
       "      <td>...</td>\n",
       "    </tr>\n",
       "    <tr>\n",
       "      <th>99995</th>\n",
       "      <td>0.098867</td>\n",
       "      <td>0.541502</td>\n",
       "    </tr>\n",
       "    <tr>\n",
       "      <th>99996</th>\n",
       "      <td>0.705354</td>\n",
       "      <td>0.836383</td>\n",
       "    </tr>\n",
       "    <tr>\n",
       "      <th>99997</th>\n",
       "      <td>0.787510</td>\n",
       "      <td>0.526729</td>\n",
       "    </tr>\n",
       "    <tr>\n",
       "      <th>99998</th>\n",
       "      <td>0.338041</td>\n",
       "      <td>0.767096</td>\n",
       "    </tr>\n",
       "    <tr>\n",
       "      <th>99999</th>\n",
       "      <td>0.782098</td>\n",
       "      <td>0.679440</td>\n",
       "    </tr>\n",
       "  </tbody>\n",
       "</table>\n",
       "<p>100000 rows × 2 columns</p>\n",
       "</div>"
      ],
      "text/plain": [
       "              A         B\n",
       "0      0.501336  0.306995\n",
       "1      0.540219  0.790344\n",
       "2      0.693692  0.103611\n",
       "3      0.366457  0.755743\n",
       "4      0.672671  0.380752\n",
       "...         ...       ...\n",
       "99995  0.098867  0.541502\n",
       "99996  0.705354  0.836383\n",
       "99997  0.787510  0.526729\n",
       "99998  0.338041  0.767096\n",
       "99999  0.782098  0.679440\n",
       "\n",
       "[100000 rows x 2 columns]"
      ]
     },
     "execution_count": 4,
     "metadata": {},
     "output_type": "execute_result"
    }
   ],
   "source": [
    "pdf = pd.DataFrame(data,columns=['A', 'B'])\n",
    "pdf"
   ]
  },
  {
   "cell_type": "code",
   "execution_count": 5,
   "id": "4634871e-3279-4749-8b49-c66e3e7063f5",
   "metadata": {},
   "outputs": [
    {
     "name": "stderr",
     "output_type": "stream",
     "text": [
      "[Stage 0:>                                                          (0 + 2) / 2]\r"
     ]
    },
    {
     "name": "stdout",
     "output_type": "stream",
     "text": [
      "+-------------------+-------------------+\n",
      "|                  A|                  B|\n",
      "+-------------------+-------------------+\n",
      "| 0.1663382356059685|0.08492084724124538|\n",
      "| 0.3210506256599649|0.16656356211939327|\n",
      "| 0.7252191545392298|0.35212011267085386|\n",
      "|0.04806785080230802| 0.8527132166182346|\n",
      "| 0.6379519872241818| 0.9399026552058006|\n",
      "+-------------------+-------------------+\n",
      "only showing top 5 rows\n",
      "\n"
     ]
    },
    {
     "name": "stderr",
     "output_type": "stream",
     "text": [
      "                                                                                \r"
     ]
    }
   ],
   "source": [
    "df = spark.createDataFrame(pdf).repartition(100)\n",
    "df.show(5)"
   ]
  },
  {
   "cell_type": "code",
   "execution_count": 6,
   "id": "08cb9bfe-630c-4c0a-a502-7703bae0ca80",
   "metadata": {},
   "outputs": [],
   "source": [
    "rdd = df.rdd"
   ]
  },
  {
   "cell_type": "code",
   "execution_count": 7,
   "id": "5860b5e6-f192-44f2-aa8a-d4be0a591f4a",
   "metadata": {},
   "outputs": [],
   "source": [
    "N = None"
   ]
  },
  {
   "cell_type": "code",
   "execution_count": 8,
   "id": "de30ce0c-ff23-476e-836d-8bad20365876",
   "metadata": {},
   "outputs": [],
   "source": [
    "delay = 5"
   ]
  },
  {
   "cell_type": "markdown",
   "id": "ab7e611d-1909-42e8-ac25-8287b6c2d920",
   "metadata": {
    "tags": []
   },
   "source": [
    "### pandas_udf"
   ]
  },
  {
   "cell_type": "code",
   "execution_count": 9,
   "id": "dd4218a4-b045-4f7f-b062-4a1f690285e3",
   "metadata": {},
   "outputs": [],
   "source": [
    "@pandas_udf(\"float\")\n",
    "def addN1(x: pd.Series) -> pd.Series:\n",
    "    global N\n",
    "    if N:\n",
    "        raise Exception(\"USING CACHE!!!\")\n",
    "        N = N + 1.0\n",
    "    else:\n",
    "        print(\"{} pandas_udf load\".format(threading.get_ident()))\n",
    "        N = 1.0\n",
    "        time.sleep(delay)\n",
    "        print(\"{} pandas_udf done\".format(threading.get_ident()))\n",
    "    \n",
    "    print(\"type(x): {}\".format(type(x)))\n",
    "    return x + N"
   ]
  },
  {
   "cell_type": "code",
   "execution_count": 10,
   "id": "1283630a-47f9-4b6c-b784-244d454cb042",
   "metadata": {},
   "outputs": [
    {
     "name": "stderr",
     "output_type": "stream",
     "text": [
      "                                                                                \r"
     ]
    },
    {
     "name": "stdout",
     "output_type": "stream",
     "text": [
      "CPU times: user 317 ms, sys: 19.5 ms, total: 336 ms\n",
      "Wall time: 37.3 s\n"
     ]
    }
   ],
   "source": [
    "%%time\n",
    "foo = df.select(addN1(\"A\")).collect()"
   ]
  },
  {
   "cell_type": "code",
   "execution_count": 11,
   "id": "64afadc4-6f58-45f4-93e7-062d2b410d88",
   "metadata": {},
   "outputs": [
    {
     "data": {
      "text/plain": [
       "[Row(addN1(A)=1.216964602470398),\n",
       " Row(addN1(A)=1.4214831590652466),\n",
       " Row(addN1(A)=1.051087498664856),\n",
       " Row(addN1(A)=1.6599854230880737),\n",
       " Row(addN1(A)=1.542315125465393)]"
      ]
     },
     "execution_count": 11,
     "metadata": {},
     "output_type": "execute_result"
    }
   ],
   "source": [
    "foo[:5]"
   ]
  },
  {
   "cell_type": "markdown",
   "id": "1d10c250-b2ea-4b9d-9d51-8e023bca222d",
   "metadata": {},
   "source": [
    "### udf"
   ]
  },
  {
   "cell_type": "code",
   "execution_count": 12,
   "id": "c9d4a823-1241-4c7b-9d88-63bb2ea69483",
   "metadata": {},
   "outputs": [],
   "source": [
    "@udf(returnType=FloatType())\n",
    "def addN2(x):\n",
    "    global N\n",
    "    if N:\n",
    "        # raise Exception(\"USING CACHE!!!\")\n",
    "        N = N + 1.0\n",
    "    else:\n",
    "        print(\"{} udf loading\".format(threading.get_ident()))\n",
    "        N = 1.0\n",
    "        time.sleep(delay)\n",
    "        print(\"{} udf done\".format(threading.get_ident()))\n",
    "\n",
    "    return x + N"
   ]
  },
  {
   "cell_type": "code",
   "execution_count": 13,
   "id": "b26992a9-0303-4bb8-8e44-fa2841442e56",
   "metadata": {},
   "outputs": [
    {
     "name": "stderr",
     "output_type": "stream",
     "text": [
      "                                                                                \r"
     ]
    },
    {
     "name": "stdout",
     "output_type": "stream",
     "text": [
      "CPU times: user 297 ms, sys: 40.9 ms, total: 338 ms\n",
      "Wall time: 36.4 s\n"
     ]
    }
   ],
   "source": [
    "%%time\n",
    "foo = df.select(addN2(\"A\")).collect()"
   ]
  },
  {
   "cell_type": "code",
   "execution_count": 14,
   "id": "148d10ea-9ed1-423c-a1b6-d4c8a998cdc1",
   "metadata": {},
   "outputs": [
    {
     "data": {
      "text/plain": [
       "[Row(addN2(A)=1.3568682670593262),\n",
       " Row(addN2(A)=2.5947766304016113),\n",
       " Row(addN2(A)=3.0666472911834717),\n",
       " Row(addN2(A)=4.1687726974487305),\n",
       " Row(addN2(A)=5.717076778411865)]"
      ]
     },
     "execution_count": 14,
     "metadata": {},
     "output_type": "execute_result"
    }
   ],
   "source": [
    "foo[:5]"
   ]
  },
  {
   "cell_type": "code",
   "execution_count": 15,
   "id": "f430ab68-1f0d-4a07-be4a-18ff63a0e0f2",
   "metadata": {},
   "outputs": [
    {
     "name": "stdout",
     "output_type": "stream",
     "text": [
      "[Row(addN2(A)=1.3568682670593262), Row(addN2(A)=2.5947766304016113), Row(addN2(A)=3.0666472911834717), Row(addN2(A)=4.1687726974487305), Row(addN2(A)=5.717076778411865)]\n",
      "[Row(addN2(A)=1.7651697397232056), Row(addN2(A)=2.438091278076172), Row(addN2(A)=3.3596861362457275), Row(addN2(A)=4.361378192901611), Row(addN2(A)=5.69951057434082)]\n",
      "[Row(addN2(A)=1.0654268264770508), Row(addN2(A)=2.522294759750366), Row(addN2(A)=3.9742650985717773), Row(addN2(A)=4.609269142150879), Row(addN2(A)=5.241343021392822)]\n",
      "[Row(addN2(A)=1.4478042125701904), Row(addN2(A)=2.6139817237854004), Row(addN2(A)=3.4142234325408936), Row(addN2(A)=4.3832502365112305), Row(addN2(A)=5.457306385040283)]\n",
      "[Row(addN2(A)=1.5085660219192505), Row(addN2(A)=2.6122524738311768), Row(addN2(A)=3.6369450092315674), Row(addN2(A)=4.831283092498779), Row(addN2(A)=5.2967729568481445)]\n"
     ]
    }
   ],
   "source": [
    "for i in range(5):\n",
    "    print(foo[i*1000:i*1000+5])"
   ]
  },
  {
   "cell_type": "markdown",
   "id": "77e3c205-3f81-4d81-8884-7ab9b71f33e4",
   "metadata": {},
   "source": [
    "### pandas_udf iterator\n",
    "see: https://github.com/apache/spark/blob/v3.2.0/python/pyspark/sql/pandas/functions.py#L153-L177"
   ]
  },
  {
   "cell_type": "code",
   "execution_count": 16,
   "id": "6091bd60-5ac8-4950-aeaa-d7a6674e7edc",
   "metadata": {},
   "outputs": [],
   "source": [
    "@pandas_udf(\"float\")\n",
    "def addN(x: Iterator[pd.Series]) -> Iterator[pd.Series]:\n",
    "    print(\"{} udf iterator load\".format(threading.get_ident()))\n",
    "    N_local = 1.0\n",
    "    time.sleep(delay)\n",
    "    print(\"{} udf iterator done\".format(threading.get_ident()))\n",
    "    for item in x:\n",
    "        print(\"type(item): {}\".format(type(item)))\n",
    "        yield item + N_local"
   ]
  },
  {
   "cell_type": "code",
   "execution_count": 17,
   "id": "ffb02059-f1ab-471c-9201-a690d93a6c11",
   "metadata": {},
   "outputs": [
    {
     "name": "stderr",
     "output_type": "stream",
     "text": [
      "                                                                                \r"
     ]
    },
    {
     "name": "stdout",
     "output_type": "stream",
     "text": [
      "CPU times: user 311 ms, sys: 13.3 ms, total: 324 ms\n",
      "Wall time: 36.3 s\n"
     ]
    }
   ],
   "source": [
    "%%time\n",
    "foo = df.select(addN(\"A\")).collect()"
   ]
  },
  {
   "cell_type": "code",
   "execution_count": 18,
   "id": "785dcf93-120f-4ba0-9d06-d7d93187ac2e",
   "metadata": {},
   "outputs": [
    {
     "data": {
      "text/plain": [
       "[Row(addN(A)=1.216964602470398),\n",
       " Row(addN(A)=1.4214831590652466),\n",
       " Row(addN(A)=1.051087498664856),\n",
       " Row(addN(A)=1.6599854230880737),\n",
       " Row(addN(A)=1.542315125465393)]"
      ]
     },
     "execution_count": 18,
     "metadata": {},
     "output_type": "execute_result"
    }
   ],
   "source": [
    "foo[:5]"
   ]
  },
  {
   "cell_type": "markdown",
   "id": "4510fda7-5fba-4981-9f23-ae1b7987be33",
   "metadata": {},
   "source": [
    "### mapPartitions"
   ]
  },
  {
   "cell_type": "code",
   "execution_count": 19,
   "id": "763381d9-8cab-4e17-b4e5-3b45cebe1e87",
   "metadata": {},
   "outputs": [],
   "source": [
    "def addNR(it):\n",
    "    result = []\n",
    "    \n",
    "    global N\n",
    "    if N:\n",
    "        raise Exception(\"USING CACHE!!!\")\n",
    "        N = N + 1.0\n",
    "    else:\n",
    "        print(\"{} rdd loading\".format(threading.get_ident()))\n",
    "        N = 1.0\n",
    "        time.sleep(delay)\n",
    "        print(\"{} rdd done\".format(threading.get_ident()))\n",
    "        \n",
    "    for x in it:\n",
    "        print(\"x: {}\".format(x))\n",
    "        result.append(x[1] + N)\n",
    "    return result"
   ]
  },
  {
   "cell_type": "code",
   "execution_count": 20,
   "id": "305dfda0-86af-4180-8147-bdde9ca00bb5",
   "metadata": {},
   "outputs": [],
   "source": [
    "rdd_out = rdd.mapPartitions(addNR)"
   ]
  },
  {
   "cell_type": "code",
   "execution_count": 21,
   "id": "b718ab33-d64a-41ce-b36d-6027f2e3ca8b",
   "metadata": {},
   "outputs": [
    {
     "name": "stderr",
     "output_type": "stream",
     "text": [
      "[Stage 14:====================================================>  (96 + 4) / 100]\r"
     ]
    },
    {
     "name": "stdout",
     "output_type": "stream",
     "text": [
      "CPU times: user 55.9 ms, sys: 8.53 ms, total: 64.4 ms\n",
      "Wall time: 36.3 s\n"
     ]
    },
    {
     "name": "stderr",
     "output_type": "stream",
     "text": [
      "                                                                                \r"
     ]
    }
   ],
   "source": [
    "%%time\n",
    "foo = rdd_out.collect()"
   ]
  },
  {
   "cell_type": "code",
   "execution_count": 22,
   "id": "be03129b-c1c1-44f9-b172-df34fc6ce2c3",
   "metadata": {},
   "outputs": [
    {
     "data": {
      "text/plain": [
       "[1.0849208472412455,\n",
       " 1.1665635621193933,\n",
       " 1.3521201126708537,\n",
       " 1.8527132166182345,\n",
       " 1.9399026552058007]"
      ]
     },
     "execution_count": 22,
     "metadata": {},
     "output_type": "execute_result"
    }
   ],
   "source": [
    "foo[:5]"
   ]
  },
  {
   "cell_type": "markdown",
   "id": "c50f7256-f286-4d2c-8bf3-9c8f98235c54",
   "metadata": {},
   "source": [
    "### mapPartitions in separate file"
   ]
  },
  {
   "cell_type": "code",
   "execution_count": 23,
   "id": "a8f2044b-a64c-4b06-9ab7-053e52880167",
   "metadata": {},
   "outputs": [],
   "source": [
    "from cache_rdd import addNR_dist"
   ]
  },
  {
   "cell_type": "code",
   "execution_count": 24,
   "id": "f69188d0-4c93-4dca-9bb7-c6d04b92e917",
   "metadata": {},
   "outputs": [],
   "source": [
    "rdd_out = rdd.mapPartitions(addNR_dist)"
   ]
  },
  {
   "cell_type": "code",
   "execution_count": 25,
   "id": "8bf24091-aa41-4abe-93e3-656e2a5ecdc0",
   "metadata": {},
   "outputs": [
    {
     "name": "stderr",
     "output_type": "stream",
     "text": [
      "[Stage 16:>                                                      (0 + 16) / 100]\r"
     ]
    },
    {
     "name": "stdout",
     "output_type": "stream",
     "text": [
      "CPU times: user 28.4 ms, sys: 4.01 ms, total: 32.4 ms\n",
      "Wall time: 5.41 s\n"
     ]
    },
    {
     "name": "stderr",
     "output_type": "stream",
     "text": [
      "                                                                                \r"
     ]
    }
   ],
   "source": [
    "%%time\n",
    "foo = rdd_out.collect()"
   ]
  },
  {
   "cell_type": "code",
   "execution_count": 26,
   "id": "d7b51d17-780c-4288-b897-35a326db14b1",
   "metadata": {},
   "outputs": [
    {
     "data": {
      "text/plain": [
       "[1.5097103726287262,\n",
       " 1.3307591283002687,\n",
       " 1.3852438976526569,\n",
       " 1.1161459274469387,\n",
       " 1.5915728662068664]"
      ]
     },
     "execution_count": 26,
     "metadata": {},
     "output_type": "execute_result"
    }
   ],
   "source": [
    "foo[:5]"
   ]
  },
  {
   "cell_type": "markdown",
   "id": "d867474b-4142-4928-82c9-41feccb228b6",
   "metadata": {},
   "source": [
    "### pandas_udf defined in separate file"
   ]
  },
  {
   "cell_type": "code",
   "execution_count": 27,
   "id": "6a805b14-1f46-4fe8-a090-fc2b5dcb0af7",
   "metadata": {},
   "outputs": [],
   "source": [
    "from cache_pudf1 import addN1_dist"
   ]
  },
  {
   "cell_type": "code",
   "execution_count": 28,
   "id": "c80d205b-e962-4b76-8c95-995dab760b38",
   "metadata": {},
   "outputs": [
    {
     "name": "stderr",
     "output_type": "stream",
     "text": [
      "                                                                                \r"
     ]
    },
    {
     "name": "stdout",
     "output_type": "stream",
     "text": [
      "CPU times: user 257 ms, sys: 18.7 ms, total: 275 ms\n",
      "Wall time: 36.2 s\n"
     ]
    }
   ],
   "source": [
    "%%time\n",
    "foo = df.select(addN1_dist(\"A\")).collect()"
   ]
  },
  {
   "cell_type": "code",
   "execution_count": 29,
   "id": "d46cd1d0-d627-49b3-b6bd-06dcdcec0346",
   "metadata": {},
   "outputs": [
    {
     "data": {
      "text/plain": [
       "[Row(addN1_dist(A)=1.3568682670593262),\n",
       " Row(addN1_dist(A)=1.5947765111923218),\n",
       " Row(addN1_dist(A)=1.0666471719741821),\n",
       " Row(addN1_dist(A)=1.16877281665802),\n",
       " Row(addN1_dist(A)=1.7170766592025757)]"
      ]
     },
     "execution_count": 29,
     "metadata": {},
     "output_type": "execute_result"
    }
   ],
   "source": [
    "foo[:5]"
   ]
  },
  {
   "cell_type": "markdown",
   "id": "62507048-a937-4871-bb4b-6e5194abb182",
   "metadata": {},
   "source": [
    "### function in separate file, pandas_udf created in driver"
   ]
  },
  {
   "cell_type": "code",
   "execution_count": 30,
   "id": "46f7caea-0f24-4656-bfec-e475095103e5",
   "metadata": {
    "jupyter": {
     "source_hidden": true
    },
    "tags": []
   },
   "outputs": [],
   "source": [
    "from cache_pudf2 import addN1_dist2"
   ]
  },
  {
   "cell_type": "code",
   "execution_count": 31,
   "id": "e671ed37-45ac-4b65-bae2-84fd6fd1793f",
   "metadata": {},
   "outputs": [],
   "source": [
    "pudf = pandas_udf(addN1_dist2, 'float')"
   ]
  },
  {
   "cell_type": "code",
   "execution_count": 32,
   "id": "3d6e21a9-a722-4681-a918-515972c472e2",
   "metadata": {},
   "outputs": [
    {
     "name": "stderr",
     "output_type": "stream",
     "text": [
      "                                                                                \r"
     ]
    },
    {
     "name": "stdout",
     "output_type": "stream",
     "text": [
      "CPU times: user 273 ms, sys: 7.65 ms, total: 281 ms\n",
      "Wall time: 5.97 s\n"
     ]
    }
   ],
   "source": [
    "%%time\n",
    "foo = df.select(pudf(\"A\")).collect()"
   ]
  },
  {
   "cell_type": "code",
   "execution_count": 33,
   "id": "80d9a4fb-6e5d-49ed-8571-a30d7383976a",
   "metadata": {},
   "outputs": [
    {
     "data": {
      "text/plain": [
       "[Row(addN1_dist2(A)=1.216964602470398),\n",
       " Row(addN1_dist2(A)=1.4214831590652466),\n",
       " Row(addN1_dist2(A)=1.051087498664856),\n",
       " Row(addN1_dist2(A)=1.6599854230880737),\n",
       " Row(addN1_dist2(A)=1.542315125465393)]"
      ]
     },
     "execution_count": 33,
     "metadata": {},
     "output_type": "execute_result"
    }
   ],
   "source": [
    "foo[:5]"
   ]
  }
 ],
 "metadata": {
  "kernelspec": {
   "display_name": "Python 3 (ipykernel)",
   "language": "python",
   "name": "python3"
  },
  "language_info": {
   "codemirror_mode": {
    "name": "ipython",
    "version": 3
   },
   "file_extension": ".py",
   "mimetype": "text/x-python",
   "name": "python",
   "nbconvert_exporter": "python",
   "pygments_lexer": "ipython3",
   "version": "3.9.10"
  }
 },
 "nbformat": 4,
 "nbformat_minor": 5
}
