{
 "cells": [
  {
   "cell_type": "markdown",
   "id": "60f7ac5d-4a95-4170-a0ac-a7faac9d9ef4",
   "metadata": {},
   "source": [
    "Based on: https://huggingface.co/docs/transformers/quicktour#pipeline-usage"
   ]
  },
  {
   "cell_type": "code",
   "execution_count": null,
   "id": "0dd0f77b-ee1b-4477-a038-d25a4f1da0ea",
   "metadata": {},
   "outputs": [],
   "source": [
    "import pandas as pd\n",
    "\n",
    "from pyspark.sql.functions import col, pandas_udf\n",
    "from sparkext.huggingface import model_udf\n",
    "from transformers import pipeline"
   ]
  },
  {
   "cell_type": "code",
   "execution_count": null,
   "id": "553b28d2-a5d1-4d07-8a49-8f82b808e738",
   "metadata": {},
   "outputs": [],
   "source": [
    "pipe = pipeline(\"text-classification\")"
   ]
  },
  {
   "cell_type": "code",
   "execution_count": null,
   "id": "3b91fe91-b725-4564-ae93-56e3fb51e47c",
   "metadata": {},
   "outputs": [],
   "source": [
    "pipe(\"What can I say that hasn't been said already. I think this place is totally worth the hype.\")"
   ]
  },
  {
   "cell_type": "code",
   "execution_count": null,
   "id": "0be39eb3-462c-42ff-b8f4-09f4e4fe3a3c",
   "metadata": {},
   "outputs": [],
   "source": [
    "pipe(\"I will not say much about this film, because there is not much to say, because there is not much there to talk about.\")"
   ]
  },
  {
   "cell_type": "code",
   "execution_count": null,
   "id": "60a80499-9b98-47d5-8ff5-b4af3369a350",
   "metadata": {},
   "outputs": [],
   "source": [
    "# only use first sentence of IMDB reviews\n",
    "@pandas_udf(\"string\")\n",
    "def first_sentence(text: pd.Series) -> pd.Series:\n",
    "    return pd.Series([s.split(\".\")[0] for s in text])\n",
    "\n",
    "df = spark.read.parquet(\"imdb_test\").withColumn(\"sentence\", first_sentence(col(\"lines\"))).select(\"sentence\")"
   ]
  },
  {
   "cell_type": "code",
   "execution_count": null,
   "id": "499d9663-facf-47da-ac37-7c9bffa8b6d3",
   "metadata": {},
   "outputs": [],
   "source": [
    "df.take(10)"
   ]
  },
  {
   "cell_type": "code",
   "execution_count": null,
   "id": "598c2433-82d4-4526-ae50-cdd74faf29c5",
   "metadata": {},
   "outputs": [],
   "source": [
    "classify = model_udf(pipe, prefix=\"\")"
   ]
  },
  {
   "cell_type": "code",
   "execution_count": null,
   "id": "a52de60c-a9b9-4791-a8eb-0c0134388da4",
   "metadata": {},
   "outputs": [],
   "source": [
    "predictions = df.withColumn(\"preds\", classify(col(\"sentence\")))"
   ]
  },
  {
   "cell_type": "code",
   "execution_count": null,
   "id": "ec08599a-1386-4bfe-86e3-92df1206b3f6",
   "metadata": {},
   "outputs": [],
   "source": [
    "predictions.take(10)"
   ]
  },
  {
   "cell_type": "code",
   "execution_count": null,
   "id": "1555e571-19a0-42d8-b979-3844a2b55f3c",
   "metadata": {},
   "outputs": [],
   "source": []
  }
 ],
 "metadata": {
  "kernelspec": {
   "display_name": "Python 3 (ipykernel)",
   "language": "python",
   "name": "python3"
  },
  "language_info": {
   "codemirror_mode": {
    "name": "ipython",
    "version": 3
   },
   "file_extension": ".py",
   "mimetype": "text/x-python",
   "name": "python",
   "nbconvert_exporter": "python",
   "pygments_lexer": "ipython3",
   "version": "3.9.10"
  }
 },
 "nbformat": 4,
 "nbformat_minor": 5
}
