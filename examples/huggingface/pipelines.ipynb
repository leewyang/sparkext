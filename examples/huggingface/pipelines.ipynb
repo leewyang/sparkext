{
 "cells": [
  {
   "cell_type": "markdown",
   "id": "60f7ac5d-4a95-4170-a0ac-a7faac9d9ef4",
   "metadata": {},
   "source": [
    "# PySpark Huggingface Inferencing\n",
    "### Text Classification using Pipelines\n",
    "\n",
    "Based on: https://huggingface.co/docs/transformers/quicktour#pipeline-usage"
   ]
  },
  {
   "cell_type": "code",
   "execution_count": null,
   "id": "0dd0f77b-ee1b-4477-a038-d25a4f1da0ea",
   "metadata": {},
   "outputs": [],
   "source": [
    "import pandas as pd\n",
    "import sparkext\n",
    "\n",
    "from inspect import signature\n",
    "from pyspark.sql.functions import col, pandas_udf\n",
    "from sparkext.huggingface import pipeline_udf\n",
    "from transformers import pipeline"
   ]
  },
  {
   "cell_type": "code",
   "execution_count": null,
   "id": "553b28d2-a5d1-4d07-8a49-8f82b808e738",
   "metadata": {},
   "outputs": [],
   "source": [
    "pipe = pipeline(\"text-classification\")"
   ]
  },
  {
   "cell_type": "code",
   "execution_count": null,
   "id": "3b91fe91-b725-4564-ae93-56e3fb51e47c",
   "metadata": {},
   "outputs": [],
   "source": [
    "pipe(\"What can I say that hasn't been said already. I think this place is totally worth the hype.\")"
   ]
  },
  {
   "cell_type": "code",
   "execution_count": null,
   "id": "0be39eb3-462c-42ff-b8f4-09f4e4fe3a3c",
   "metadata": {},
   "outputs": [],
   "source": [
    "pipe(\"I will not say much about this film, because there is not much to say, because there is not much there to talk about.\")"
   ]
  },
  {
   "cell_type": "markdown",
   "id": "072b2259-8a0e-4809-a8af-8b0b1d534cae",
   "metadata": {
    "tags": []
   },
   "source": [
    "## Inference using Spark ML Model"
   ]
  },
  {
   "cell_type": "code",
   "execution_count": null,
   "id": "a12b746e-d3fe-43b7-9c1a-73811e55a627",
   "metadata": {},
   "outputs": [],
   "source": [
    "# only use first sentence of IMDB reviews\n",
    "@pandas_udf(\"string\")\n",
    "def first_sentence(text: pd.Series) -> pd.Series:\n",
    "    return pd.Series([s.split(\".\")[0] for s in text])\n",
    "\n",
    "df = spark.read.parquet(\"imdb_test\").withColumn(\"sentence\", first_sentence(col(\"lines\"))).select(\"sentence\").limit(100)\n",
    "df.show(truncate=120)"
   ]
  },
  {
   "cell_type": "code",
   "execution_count": null,
   "id": "436dbbec-5614-4f61-ae15-99f2071dea45",
   "metadata": {},
   "outputs": [],
   "source": [
    "my_model = sparkext.huggingface.PipelineModel(pipe, return_type=\"label string, score float\") \\\n",
    "                    .setInputCol(\"sentence\") \\\n",
    "                    .setOutputCol(\"preds\")"
   ]
  },
  {
   "cell_type": "code",
   "execution_count": null,
   "id": "571f1498-97fa-4ef9-8017-dc509b1049e4",
   "metadata": {},
   "outputs": [],
   "source": [
    "predictions = my_model.transform(df).select(\"sentence\", \"preds.*\")"
   ]
  },
  {
   "cell_type": "code",
   "execution_count": null,
   "id": "ec754596-4b40-4ef7-9771-31685be37324",
   "metadata": {},
   "outputs": [],
   "source": [
    "predictions.show(truncate=80)"
   ]
  },
  {
   "cell_type": "code",
   "execution_count": null,
   "id": "d4e80ad2-57a3-4c58-984d-f9cc4388f656",
   "metadata": {},
   "outputs": [],
   "source": [
    "%%time\n",
    "preds = predictions.collect()"
   ]
  },
  {
   "cell_type": "markdown",
   "id": "9db9517f-23f3-4754-8ea2-f6f1b024a75e",
   "metadata": {},
   "source": [
    "## Inference using Spark DL UDF"
   ]
  },
  {
   "cell_type": "code",
   "execution_count": null,
   "id": "60a80499-9b98-47d5-8ff5-b4af3369a350",
   "metadata": {},
   "outputs": [],
   "source": [
    "# only use first sentence of IMDB reviews\n",
    "@pandas_udf(\"string\")\n",
    "def first_sentence(text: pd.Series) -> pd.Series:\n",
    "    return pd.Series([s.split(\".\")[0] for s in text])\n",
    "\n",
    "df = spark.read.parquet(\"imdb_test\").withColumn(\"sentence\", first_sentence(col(\"lines\"))).select(\"sentence\").limit(100)\n",
    "df.show(truncate=80)"
   ]
  },
  {
   "cell_type": "code",
   "execution_count": null,
   "id": "598c2433-82d4-4526-ae50-cdd74faf29c5",
   "metadata": {},
   "outputs": [],
   "source": [
    "# note: need to manually specify return_type per pipe output above\n",
    "classify = pipeline_udf(pipe, return_type=\"label string, score float\")"
   ]
  },
  {
   "cell_type": "code",
   "execution_count": null,
   "id": "a52de60c-a9b9-4791-a8eb-0c0134388da4",
   "metadata": {},
   "outputs": [],
   "source": [
    "# note: expanding the \"struct\" return_type to top-level columns\n",
    "predictions = df.withColumn(\"preds\", classify(col(\"sentence\"))).select(\"sentence\", \"preds.*\")"
   ]
  },
  {
   "cell_type": "code",
   "execution_count": null,
   "id": "6cd5510f-0f78-4aee-80de-046501cae14d",
   "metadata": {},
   "outputs": [],
   "source": [
    "%%time\n",
    "preds = predictions.collect()"
   ]
  },
  {
   "cell_type": "code",
   "execution_count": null,
   "id": "0d863084-101b-44ae-ac4c-c0874660e2f1",
   "metadata": {},
   "outputs": [],
   "source": [
    "predictions.show(truncate=80)"
   ]
  },
  {
   "cell_type": "markdown",
   "id": "df0bd89b-ebf9-45ff-877e-0af7e4decdd8",
   "metadata": {},
   "source": [
    "### Using model loader"
   ]
  },
  {
   "cell_type": "code",
   "execution_count": null,
   "id": "f8e217b4-678a-4ee4-bfb1-eeaebd3a8e44",
   "metadata": {},
   "outputs": [],
   "source": [
    "import pandas as pd\n",
    "\n",
    "from pyspark.sql.functions import col, pandas_udf\n",
    "from sparkext.huggingface import pipeline_udf"
   ]
  },
  {
   "cell_type": "code",
   "execution_count": null,
   "id": "eb315c0c-e2af-4901-a963-46fa0c3f52f3",
   "metadata": {},
   "outputs": [],
   "source": [
    "# only use first sentence of IMDB reviews\n",
    "@pandas_udf(\"string\")\n",
    "def first_sentence(text: pd.Series) -> pd.Series:\n",
    "    return pd.Series([s.split(\".\")[0] for s in text])\n",
    "\n",
    "df = spark.read.parquet(\"imdb_test\").withColumn(\"sentence\", first_sentence(col(\"lines\"))).select(\"sentence\").limit(100)\n",
    "df.show(truncate=80)"
   ]
  },
  {
   "cell_type": "code",
   "execution_count": null,
   "id": "93917c10-d6db-4a86-a5c3-7ac9dd61dec3",
   "metadata": {},
   "outputs": [],
   "source": [
    "def model_loader(task: str):\n",
    "    import torch\n",
    "    from transformers import pipeline\n",
    "    \n",
    "    device_id = torch.cuda.current_device() if torch.cuda.is_available() else -1\n",
    "    return pipeline(task, device=device_id)    "
   ]
  },
  {
   "cell_type": "code",
   "execution_count": null,
   "id": "4435ac00-1b5e-49d1-9620-5e02b5d439bf",
   "metadata": {},
   "outputs": [],
   "source": [
    "# note: need to manually specify return_type per pipe output above\n",
    "classify = pipeline_udf(\"text-classification\", model_loader=model_loader, return_type=\"label string, score float\")"
   ]
  },
  {
   "cell_type": "code",
   "execution_count": null,
   "id": "56bd4536-3237-4cd3-9e4e-e56a9a937b05",
   "metadata": {},
   "outputs": [],
   "source": [
    "predictions = df.withColumn(\"preds\", classify(col(\"sentence\"))).select(\"sentence\", \"preds.*\")"
   ]
  },
  {
   "cell_type": "code",
   "execution_count": null,
   "id": "4e8a7c0c-9a9e-47aa-aea1-9a75a538e272",
   "metadata": {},
   "outputs": [],
   "source": [
    "%%time\n",
    "preds = predictions.collect()"
   ]
  },
  {
   "cell_type": "code",
   "execution_count": null,
   "id": "4212c1b7-90d1-4b61-a7ef-5a90bb787194",
   "metadata": {},
   "outputs": [],
   "source": [
    "predictions.show(truncate=80)"
   ]
  },
  {
   "cell_type": "markdown",
   "id": "ae92b15e-0da0-46c3-81a3-fabaedbfc42c",
   "metadata": {},
   "source": [
    "## Inference using Spark DL API"
   ]
  },
  {
   "cell_type": "code",
   "execution_count": 1,
   "id": "69dd6a1a-f450-47f0-9dbf-ad250585a011",
   "metadata": {},
   "outputs": [],
   "source": [
    "import pandas as pd\n",
    "from pyspark.sql.functions import col, struct\n",
    "from pyspark.ml.udf import model_udf, pandas_udf\n",
    "from pyspark.sql.types import FloatType, StringType, StructField, StructType"
   ]
  },
  {
   "cell_type": "code",
   "execution_count": 2,
   "id": "9665b7b6-d7e9-4bd4-b29d-7a449ac5b574",
   "metadata": {},
   "outputs": [
    {
     "name": "stderr",
     "output_type": "stream",
     "text": [
      "[Stage 1:>                                                          (0 + 1) / 1]\r"
     ]
    },
    {
     "name": "stdout",
     "output_type": "stream",
     "text": [
      "+--------------------------------------------------------------------------------+\n",
      "|                                                                        sentence|\n",
      "+--------------------------------------------------------------------------------+\n",
      "|                                                                                |\n",
      "|              I found myself getting increasingly angry as this movie progressed|\n",
      "|                The comparisons between the 1995 version and this are inevitable|\n",
      "|Doesn't anyone bother to check where this kind of sludge comes from before bl...|\n",
      "|                 Don't get me wrong, I love the TV series of League Of Gentlemen|\n",
      "|Made it through the first half an hour and deserved a medal for getting that far|\n",
      "|This movie seems a little clunky around the edges, like not quite enough zani...|\n",
      "|                                                           Oh but this is woeful|\n",
      "|                           Terry Cunningham directs this Sci-Fi Network original|\n",
      "|First the easy part: this movie is pretentious crapola!<br /><br />It put me ...|\n",
      "|           Tycus is one of the worst films direct to video films that I see ever|\n",
      "|                                                                         Edge Vs|\n",
      "|       If you like bad movies (and you must to watch this one) here's a good one|\n",
      "|Ed Gein, one of the most famous serial killers of all time, he was the inspir...|\n",
      "|                                      I was Stan in the movie \"Dreams Come True\"|\n",
      "|                                                                          this 2|\n",
      "|Another tiresome bore from Anthony Minghella, who seems to thrive on these bi...|\n",
      "|                     This is just about one of the dumbest things I've ever seen|\n",
      "|And you know why? Because they thought (or at least made horror fans think) t...|\n",
      "|Having spent all of her money caring for her terminally ill spouse, recently ...|\n",
      "+--------------------------------------------------------------------------------+\n",
      "only showing top 20 rows\n",
      "\n"
     ]
    },
    {
     "name": "stderr",
     "output_type": "stream",
     "text": [
      "                                                                                \r"
     ]
    }
   ],
   "source": [
    "# only use first sentence of IMDB reviews\n",
    "@pandas_udf(\"string\")\n",
    "def first_sentence(text: pd.Series) -> pd.Series:\n",
    "    return pd.Series([s.split(\".\")[0] for s in text])\n",
    "\n",
    "df = spark.read.parquet(\"imdb_test\").withColumn(\"sentence\", first_sentence(col(\"lines\"))).select(\"sentence\").limit(100)\n",
    "df.show(truncate=80)"
   ]
  },
  {
   "cell_type": "code",
   "execution_count": 3,
   "id": "0da9d25c-5ebe-4503-bb19-154fcc047cbf",
   "metadata": {},
   "outputs": [],
   "source": [
    "def model_fn():\n",
    "    import numpy as np\n",
    "    import pandas as pd\n",
    "    from transformers import pipeline\n",
    "    pipe = pipeline(\"text-classification\")\n",
    "    def predict(inputs):\n",
    "        flattened = np.squeeze(inputs).tolist()\n",
    "        return pipe(flattened)\n",
    "    return predict"
   ]
  },
  {
   "cell_type": "code",
   "execution_count": 4,
   "id": "78afef29-ee30-4267-9fb6-be2dcb86cbba",
   "metadata": {},
   "outputs": [],
   "source": [
    "classify = model_udf(model_fn, \n",
    "                     input_shapes=[[-1,1]], \n",
    "                     return_type=StructType([StructField(\"label\", StringType(), True), StructField(\"score\", FloatType(), True)]), \n",
    "                     batch_size=10)"
   ]
  },
  {
   "cell_type": "code",
   "execution_count": 5,
   "id": "a5bc327e-89cf-4731-82e6-e66cb93deef1",
   "metadata": {},
   "outputs": [],
   "source": [
    "# note: expanding the \"struct\" return_type to top-level columns\n",
    "predictions = df.withColumn(\"preds\", classify(struct(\"sentence\"))).select(\"sentence\", \"preds.*\")"
   ]
  },
  {
   "cell_type": "code",
   "execution_count": 6,
   "id": "c0a7adf1-5284-4144-a6b5-4ebf3675b428",
   "metadata": {},
   "outputs": [
    {
     "name": "stderr",
     "output_type": "stream",
     "text": [
      "[Stage 4:>                                                          (0 + 1) / 1]\r"
     ]
    },
    {
     "name": "stdout",
     "output_type": "stream",
     "text": [
      "CPU times: user 12 ms, sys: 6.26 ms, total: 18.3 ms\n",
      "Wall time: 15.9 s\n"
     ]
    },
    {
     "name": "stderr",
     "output_type": "stream",
     "text": [
      "                                                                                \r"
     ]
    }
   ],
   "source": [
    "%%time\n",
    "preds = predictions.collect()"
   ]
  },
  {
   "cell_type": "code",
   "execution_count": 7,
   "id": "2cf00fe1-25bf-4a82-bae5-cf4b4fd4845e",
   "metadata": {},
   "outputs": [
    {
     "name": "stderr",
     "output_type": "stream",
     "text": [
      "[Stage 7:>                                                          (0 + 1) / 1]\r"
     ]
    },
    {
     "name": "stdout",
     "output_type": "stream",
     "text": [
      "+--------------------------------------------------------------------------------+--------+----------+\n",
      "|                                                                        sentence|   label|     score|\n",
      "+--------------------------------------------------------------------------------+--------+----------+\n",
      "|Hard up, No proper jobs going down at the pit, why not rent your kids! DIY pi...|NEGATIVE|0.99967253|\n",
      "|                                     To be fair, I didn't see a lot of this show|NEGATIVE| 0.9983752|\n",
      "|(This might have a spoiler)<br /><br />When I first started watching this mov...|POSITIVE|0.99846494|\n",
      "|1st watched 3/17/2002 - 2 out of 10(Dir-Mario Pinzauti): Silly, sex-filled ma...|NEGATIVE| 0.9949014|\n",
      "|I really didn't like this film~!!!! it was boring and didn't interest me that...|NEGATIVE|0.99949896|\n",
      "|A wildly uneven film where the major problem is the uneasy mix of comedy and ...|NEGATIVE| 0.9996619|\n",
      "|                   I was greatly disappointed by the quality of this documentary|NEGATIVE| 0.9997285|\n",
      "|In 1904 Tangier, a wealthy American woman and her two children are kidnapped ...|POSITIVE|0.97743416|\n",
      "|\"When a Killer Calls\" is an unusually nasty slasher flick, with some very unp...|NEGATIVE|0.99690115|\n",
      "|        Blake Edwards tried very hard to change Julie Andrews image in this film|POSITIVE| 0.7864782|\n",
      "|A box with a button provides a couple with the opportunity to be financially ...|NEGATIVE| 0.7021149|\n",
      "|Angels and Demons: 3 out of 10: Clearly something bad has happened to Ron Howard|NEGATIVE| 0.9982167|\n",
      "|Don Wilson stars as Jack Cutter (Ooh real tough name!)a vampire slayer who go...|NEGATIVE|0.99075574|\n",
      "|                 I laughed so much when I saw this film I nearly soiled myself !|NEGATIVE|0.97429264|\n",
      "|Starts off with Fulci playing a version of himself, writing down some ideas f...|NEGATIVE|0.99579406|\n",
      "|               I am surprised that so many comments about this film are positive|POSITIVE| 0.9997993|\n",
      "|         A sprawling, overambitious, plotless comedy that has no dramatic center|NEGATIVE|0.99937904|\n",
      "|I think its safe to say that if you only really watch box office standard fil...|NEGATIVE| 0.9970657|\n",
      "|                                                  this movie was downright awful|NEGATIVE|0.99979514|\n",
      "|                             Don't tell me this film was funny or a little funny|NEGATIVE| 0.9997472|\n",
      "+--------------------------------------------------------------------------------+--------+----------+\n",
      "only showing top 20 rows\n",
      "\n"
     ]
    },
    {
     "name": "stderr",
     "output_type": "stream",
     "text": [
      "                                                                                \r"
     ]
    }
   ],
   "source": [
    "predictions.show(truncate=80)"
   ]
  },
  {
   "cell_type": "code",
   "execution_count": 8,
   "id": "de3071f7-313a-4fb3-b6a4-e6037495e28d",
   "metadata": {},
   "outputs": [],
   "source": [
    "spark.stop()"
   ]
  },
  {
   "cell_type": "code",
   "execution_count": null,
   "id": "a7d3772f-9f22-4a66-9fce-fbd163f4321b",
   "metadata": {},
   "outputs": [],
   "source": []
  }
 ],
 "metadata": {
  "kernelspec": {
   "display_name": "Python 3 (ipykernel)",
   "language": "python",
   "name": "python3"
  },
  "language_info": {
   "codemirror_mode": {
    "name": "ipython",
    "version": 3
   },
   "file_extension": ".py",
   "mimetype": "text/x-python",
   "name": "python",
   "nbconvert_exporter": "python",
   "pygments_lexer": "ipython3",
   "version": "3.9.10"
  }
 },
 "nbformat": 4,
 "nbformat_minor": 5
}
