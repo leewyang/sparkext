{
 "cells": [
  {
   "cell_type": "markdown",
   "id": "60f7ac5d-4a95-4170-a0ac-a7faac9d9ef4",
   "metadata": {},
   "source": [
    "# PySpark Huggingface Inferencing\n",
    "### Text Classification using Pipelines\n",
    "\n",
    "Based on: https://huggingface.co/docs/transformers/quicktour#pipeline-usage"
   ]
  },
  {
   "cell_type": "code",
   "execution_count": null,
   "id": "0dd0f77b-ee1b-4477-a038-d25a4f1da0ea",
   "metadata": {},
   "outputs": [],
   "source": [
    "import pandas as pd\n",
    "\n",
    "from inspect import signature\n",
    "from pyspark.sql.functions import col, pandas_udf\n",
    "from sparkext.huggingface import pipeline_udf\n",
    "from transformers import pipeline"
   ]
  },
  {
   "cell_type": "code",
   "execution_count": null,
   "id": "553b28d2-a5d1-4d07-8a49-8f82b808e738",
   "metadata": {},
   "outputs": [],
   "source": [
    "pipe = pipeline(\"text-classification\")"
   ]
  },
  {
   "cell_type": "code",
   "execution_count": null,
   "id": "3b91fe91-b725-4564-ae93-56e3fb51e47c",
   "metadata": {},
   "outputs": [],
   "source": [
    "pipe(\"What can I say that hasn't been said already. I think this place is totally worth the hype.\")"
   ]
  },
  {
   "cell_type": "code",
   "execution_count": null,
   "id": "0be39eb3-462c-42ff-b8f4-09f4e4fe3a3c",
   "metadata": {},
   "outputs": [],
   "source": [
    "pipe(\"I will not say much about this film, because there is not much to say, because there is not much there to talk about.\")"
   ]
  },
  {
   "cell_type": "markdown",
   "id": "9db9517f-23f3-4754-8ea2-f6f1b024a75e",
   "metadata": {},
   "source": [
    "## Inference using Spark DL UDF"
   ]
  },
  {
   "cell_type": "code",
   "execution_count": null,
   "id": "60a80499-9b98-47d5-8ff5-b4af3369a350",
   "metadata": {},
   "outputs": [],
   "source": [
    "# only use first sentence of IMDB reviews\n",
    "@pandas_udf(\"string\")\n",
    "def first_sentence(text: pd.Series) -> pd.Series:\n",
    "    return pd.Series([s.split(\".\")[0] for s in text])\n",
    "\n",
    "df = spark.read.parquet(\"imdb_test\").withColumn(\"sentence\", first_sentence(col(\"lines\"))).select(\"sentence\")\n",
    "df.take(10)"
   ]
  },
  {
   "cell_type": "code",
   "execution_count": null,
   "id": "598c2433-82d4-4526-ae50-cdd74faf29c5",
   "metadata": {},
   "outputs": [],
   "source": [
    "# note: need to manually specify return_type per pipe output above\n",
    "classify = pipeline_udf(pipe, return_type=\"label string, score float\")"
   ]
  },
  {
   "cell_type": "code",
   "execution_count": null,
   "id": "a52de60c-a9b9-4791-a8eb-0c0134388da4",
   "metadata": {},
   "outputs": [],
   "source": [
    "predictions = df.withColumn(\"preds\", classify(col(\"sentence\"))).select(\"sentence\", \"preds.*\")"
   ]
  },
  {
   "cell_type": "code",
   "execution_count": null,
   "id": "6cd5510f-0f78-4aee-80de-046501cae14d",
   "metadata": {},
   "outputs": [],
   "source": [
    "%%time\n",
    "preds = predictions.take(20)"
   ]
  },
  {
   "cell_type": "code",
   "execution_count": null,
   "id": "0d863084-101b-44ae-ac4c-c0874660e2f1",
   "metadata": {},
   "outputs": [],
   "source": [
    "preds"
   ]
  },
  {
   "cell_type": "markdown",
   "id": "df0bd89b-ebf9-45ff-877e-0af7e4decdd8",
   "metadata": {},
   "source": [
    "### Using model loader"
   ]
  },
  {
   "cell_type": "code",
   "execution_count": null,
   "id": "f8e217b4-678a-4ee4-bfb1-eeaebd3a8e44",
   "metadata": {},
   "outputs": [],
   "source": [
    "import pandas as pd\n",
    "\n",
    "from pyspark.sql.functions import col, pandas_udf\n",
    "from sparkext.huggingface import pipeline_udf"
   ]
  },
  {
   "cell_type": "code",
   "execution_count": null,
   "id": "eb315c0c-e2af-4901-a963-46fa0c3f52f3",
   "metadata": {},
   "outputs": [],
   "source": [
    "# only use first sentence of IMDB reviews\n",
    "@pandas_udf(\"string\")\n",
    "def first_sentence(text: pd.Series) -> pd.Series:\n",
    "    return pd.Series([s.split(\".\")[0] for s in text])\n",
    "\n",
    "df = spark.read.parquet(\"imdb_test\").withColumn(\"sentence\", first_sentence(col(\"lines\"))).select(\"sentence\")\n",
    "df.take(10)"
   ]
  },
  {
   "cell_type": "code",
   "execution_count": null,
   "id": "93917c10-d6db-4a86-a5c3-7ac9dd61dec3",
   "metadata": {},
   "outputs": [],
   "source": [
    "def model_loader(task: str):\n",
    "    import torch\n",
    "    from transformers import pipeline\n",
    "    \n",
    "    device_id = torch.cuda.current_device() if torch.cuda.is_available() else -1\n",
    "    return pipeline(task, device=device_id)    "
   ]
  },
  {
   "cell_type": "code",
   "execution_count": null,
   "id": "4435ac00-1b5e-49d1-9620-5e02b5d439bf",
   "metadata": {},
   "outputs": [],
   "source": [
    "# note: need to manually specify return_type per pipe output above\n",
    "classify = pipeline_udf(\"text-classification\", model_loader=model_loader, return_type=\"label string, score float\")"
   ]
  },
  {
   "cell_type": "code",
   "execution_count": null,
   "id": "56bd4536-3237-4cd3-9e4e-e56a9a937b05",
   "metadata": {},
   "outputs": [],
   "source": [
    "predictions = df.withColumn(\"preds\", classify(col(\"sentence\"))).select(\"sentence\", \"preds.*\")"
   ]
  },
  {
   "cell_type": "code",
   "execution_count": null,
   "id": "4e8a7c0c-9a9e-47aa-aea1-9a75a538e272",
   "metadata": {},
   "outputs": [],
   "source": [
    "%%time\n",
    "preds = predictions.take(20)"
   ]
  },
  {
   "cell_type": "code",
   "execution_count": null,
   "id": "4212c1b7-90d1-4b61-a7ef-5a90bb787194",
   "metadata": {},
   "outputs": [],
   "source": [
    "preds"
   ]
  },
  {
   "cell_type": "code",
   "execution_count": null,
   "id": "fd210144-e719-4c19-8035-17b030c2b54f",
   "metadata": {},
   "outputs": [],
   "source": []
  }
 ],
 "metadata": {
  "kernelspec": {
   "display_name": "Python 3 (ipykernel)",
   "language": "python",
   "name": "python3"
  },
  "language_info": {
   "codemirror_mode": {
    "name": "ipython",
    "version": 3
   },
   "file_extension": ".py",
   "mimetype": "text/x-python",
   "name": "python",
   "nbconvert_exporter": "python",
   "pygments_lexer": "ipython3",
   "version": "3.9.10"
  }
 },
 "nbformat": 4,
 "nbformat_minor": 5
}
