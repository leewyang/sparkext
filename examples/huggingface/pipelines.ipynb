{
 "cells": [
  {
   "cell_type": "markdown",
   "id": "60f7ac5d-4a95-4170-a0ac-a7faac9d9ef4",
   "metadata": {},
   "source": [
    "# PySpark Huggingface Inferencing\n",
    "### Text Classification using Pipelines\n",
    "\n",
    "Based on: https://huggingface.co/docs/transformers/quicktour#pipeline-usage"
   ]
  },
  {
   "cell_type": "code",
   "execution_count": null,
   "id": "0dd0f77b-ee1b-4477-a038-d25a4f1da0ea",
   "metadata": {},
   "outputs": [],
   "source": [
    "import pandas as pd\n",
    "import sparkext\n",
    "\n",
    "from inspect import signature\n",
    "from pyspark.sql.functions import col, pandas_udf\n",
    "from sparkext.huggingface import pipeline_udf\n",
    "from transformers import pipeline"
   ]
  },
  {
   "cell_type": "code",
   "execution_count": null,
   "id": "553b28d2-a5d1-4d07-8a49-8f82b808e738",
   "metadata": {},
   "outputs": [],
   "source": [
    "pipe = pipeline(\"text-classification\")"
   ]
  },
  {
   "cell_type": "code",
   "execution_count": null,
   "id": "3b91fe91-b725-4564-ae93-56e3fb51e47c",
   "metadata": {},
   "outputs": [],
   "source": [
    "pipe(\"What can I say that hasn't been said already. I think this place is totally worth the hype.\")"
   ]
  },
  {
   "cell_type": "code",
   "execution_count": null,
   "id": "0be39eb3-462c-42ff-b8f4-09f4e4fe3a3c",
   "metadata": {},
   "outputs": [],
   "source": [
    "pipe(\"I will not say much about this film, because there is not much to say, because there is not much there to talk about.\")"
   ]
  },
  {
   "cell_type": "markdown",
   "id": "072b2259-8a0e-4809-a8af-8b0b1d534cae",
   "metadata": {
    "tags": []
   },
   "source": [
    "## Inference using Spark ML Model"
   ]
  },
  {
   "cell_type": "code",
   "execution_count": null,
   "id": "a12b746e-d3fe-43b7-9c1a-73811e55a627",
   "metadata": {},
   "outputs": [],
   "source": [
    "# only use first sentence of IMDB reviews\n",
    "@pandas_udf(\"string\")\n",
    "def first_sentence(text: pd.Series) -> pd.Series:\n",
    "    return pd.Series([s.split(\".\")[0] for s in text])\n",
    "\n",
    "df = spark.read.parquet(\"imdb_test\").withColumn(\"sentence\", first_sentence(col(\"lines\"))).select(\"sentence\").limit(100)\n",
    "df.show(truncate=120)"
   ]
  },
  {
   "cell_type": "code",
   "execution_count": null,
   "id": "436dbbec-5614-4f61-ae15-99f2071dea45",
   "metadata": {},
   "outputs": [],
   "source": [
    "my_model = sparkext.huggingface.PipelineModel(pipe, return_type=\"label string, score float\") \\\n",
    "                    .setInputCol(\"sentence\") \\\n",
    "                    .setOutputCol(\"preds\")"
   ]
  },
  {
   "cell_type": "code",
   "execution_count": null,
   "id": "571f1498-97fa-4ef9-8017-dc509b1049e4",
   "metadata": {},
   "outputs": [],
   "source": [
    "predictions = my_model.transform(df).select(\"sentence\", \"preds.*\")"
   ]
  },
  {
   "cell_type": "code",
   "execution_count": null,
   "id": "ec754596-4b40-4ef7-9771-31685be37324",
   "metadata": {},
   "outputs": [],
   "source": [
    "predictions.show(truncate=80)"
   ]
  },
  {
   "cell_type": "code",
   "execution_count": null,
   "id": "d4e80ad2-57a3-4c58-984d-f9cc4388f656",
   "metadata": {},
   "outputs": [],
   "source": [
    "%%time\n",
    "preds = predictions.collect()"
   ]
  },
  {
   "cell_type": "markdown",
   "id": "9db9517f-23f3-4754-8ea2-f6f1b024a75e",
   "metadata": {},
   "source": [
    "## Inference using Spark DL UDF"
   ]
  },
  {
   "cell_type": "code",
   "execution_count": null,
   "id": "60a80499-9b98-47d5-8ff5-b4af3369a350",
   "metadata": {},
   "outputs": [],
   "source": [
    "# only use first sentence of IMDB reviews\n",
    "@pandas_udf(\"string\")\n",
    "def first_sentence(text: pd.Series) -> pd.Series:\n",
    "    return pd.Series([s.split(\".\")[0] for s in text])\n",
    "\n",
    "df = spark.read.parquet(\"imdb_test\").withColumn(\"sentence\", first_sentence(col(\"lines\"))).select(\"sentence\").limit(100)\n",
    "df.show(truncate=80)"
   ]
  },
  {
   "cell_type": "code",
   "execution_count": null,
   "id": "598c2433-82d4-4526-ae50-cdd74faf29c5",
   "metadata": {},
   "outputs": [],
   "source": [
    "# note: need to manually specify return_type per pipe output above\n",
    "classify = pipeline_udf(pipe, return_type=\"label string, score float\")"
   ]
  },
  {
   "cell_type": "code",
   "execution_count": null,
   "id": "a52de60c-a9b9-4791-a8eb-0c0134388da4",
   "metadata": {},
   "outputs": [],
   "source": [
    "# note: expanding the \"struct\" return_type to top-level columns\n",
    "predictions = df.withColumn(\"preds\", classify(col(\"sentence\"))).select(\"sentence\", \"preds.*\")"
   ]
  },
  {
   "cell_type": "code",
   "execution_count": null,
   "id": "6cd5510f-0f78-4aee-80de-046501cae14d",
   "metadata": {},
   "outputs": [],
   "source": [
    "%%time\n",
    "preds = predictions.collect()"
   ]
  },
  {
   "cell_type": "code",
   "execution_count": null,
   "id": "0d863084-101b-44ae-ac4c-c0874660e2f1",
   "metadata": {},
   "outputs": [],
   "source": [
    "predictions.show(truncate=80)"
   ]
  },
  {
   "cell_type": "markdown",
   "id": "df0bd89b-ebf9-45ff-877e-0af7e4decdd8",
   "metadata": {},
   "source": [
    "### Using model loader"
   ]
  },
  {
   "cell_type": "code",
   "execution_count": null,
   "id": "f8e217b4-678a-4ee4-bfb1-eeaebd3a8e44",
   "metadata": {},
   "outputs": [],
   "source": [
    "import pandas as pd\n",
    "\n",
    "from pyspark.sql.functions import col, pandas_udf\n",
    "from sparkext.huggingface import pipeline_udf"
   ]
  },
  {
   "cell_type": "code",
   "execution_count": null,
   "id": "eb315c0c-e2af-4901-a963-46fa0c3f52f3",
   "metadata": {},
   "outputs": [],
   "source": [
    "# only use first sentence of IMDB reviews\n",
    "@pandas_udf(\"string\")\n",
    "def first_sentence(text: pd.Series) -> pd.Series:\n",
    "    return pd.Series([s.split(\".\")[0] for s in text])\n",
    "\n",
    "df = spark.read.parquet(\"imdb_test\").withColumn(\"sentence\", first_sentence(col(\"lines\"))).select(\"sentence\").limit(100)\n",
    "df.show(truncate=80)"
   ]
  },
  {
   "cell_type": "code",
   "execution_count": null,
   "id": "93917c10-d6db-4a86-a5c3-7ac9dd61dec3",
   "metadata": {},
   "outputs": [],
   "source": [
    "def model_loader(task: str):\n",
    "    import torch\n",
    "    from transformers import pipeline\n",
    "    \n",
    "    device_id = torch.cuda.current_device() if torch.cuda.is_available() else -1\n",
    "    return pipeline(task, device=device_id)    "
   ]
  },
  {
   "cell_type": "code",
   "execution_count": null,
   "id": "4435ac00-1b5e-49d1-9620-5e02b5d439bf",
   "metadata": {},
   "outputs": [],
   "source": [
    "# note: need to manually specify return_type per pipe output above\n",
    "classify = pipeline_udf(\"text-classification\", model_loader=model_loader, return_type=\"label string, score float\")"
   ]
  },
  {
   "cell_type": "code",
   "execution_count": null,
   "id": "56bd4536-3237-4cd3-9e4e-e56a9a937b05",
   "metadata": {},
   "outputs": [],
   "source": [
    "predictions = df.withColumn(\"preds\", classify(col(\"sentence\"))).select(\"sentence\", \"preds.*\")"
   ]
  },
  {
   "cell_type": "code",
   "execution_count": null,
   "id": "4e8a7c0c-9a9e-47aa-aea1-9a75a538e272",
   "metadata": {},
   "outputs": [],
   "source": [
    "%%time\n",
    "preds = predictions.collect()"
   ]
  },
  {
   "cell_type": "code",
   "execution_count": null,
   "id": "4212c1b7-90d1-4b61-a7ef-5a90bb787194",
   "metadata": {},
   "outputs": [],
   "source": [
    "predictions.show(truncate=80)"
   ]
  },
  {
   "cell_type": "markdown",
   "id": "ae92b15e-0da0-46c3-81a3-fabaedbfc42c",
   "metadata": {},
   "source": [
    "## Inference using Spark DL API"
   ]
  },
  {
   "cell_type": "code",
   "execution_count": 1,
   "id": "69dd6a1a-f450-47f0-9dbf-ad250585a011",
   "metadata": {},
   "outputs": [],
   "source": [
    "import pandas as pd\n",
    "from pyspark.sql.functions import col, struct, pandas_udf\n",
    "from pyspark.ml.functions import predict_batch_udf\n",
    "from pyspark.sql.types import FloatType, StringType, StructField, StructType"
   ]
  },
  {
   "cell_type": "code",
   "execution_count": 2,
   "id": "9665b7b6-d7e9-4bd4-b29d-7a449ac5b574",
   "metadata": {},
   "outputs": [
    {
     "name": "stderr",
     "output_type": "stream",
     "text": [
      "[Stage 1:>                                                          (0 + 1) / 1]\r"
     ]
    },
    {
     "name": "stdout",
     "output_type": "stream",
     "text": [
      "+--------------------------------------------------------------------------------+\n",
      "|                                                                        sentence|\n",
      "+--------------------------------------------------------------------------------+\n",
      "|                                                                                |\n",
      "|              I found myself getting increasingly angry as this movie progressed|\n",
      "|                The comparisons between the 1995 version and this are inevitable|\n",
      "|Doesn't anyone bother to check where this kind of sludge comes from before bl...|\n",
      "|                 Don't get me wrong, I love the TV series of League Of Gentlemen|\n",
      "|Made it through the first half an hour and deserved a medal for getting that far|\n",
      "|This movie seems a little clunky around the edges, like not quite enough zani...|\n",
      "|                                                           Oh but this is woeful|\n",
      "|                           Terry Cunningham directs this Sci-Fi Network original|\n",
      "|First the easy part: this movie is pretentious crapola!<br /><br />It put me ...|\n",
      "|           Tycus is one of the worst films direct to video films that I see ever|\n",
      "|                                                                         Edge Vs|\n",
      "|       If you like bad movies (and you must to watch this one) here's a good one|\n",
      "|Ed Gein, one of the most famous serial killers of all time, he was the inspir...|\n",
      "|                                      I was Stan in the movie \"Dreams Come True\"|\n",
      "|                                                                          this 2|\n",
      "|Another tiresome bore from Anthony Minghella, who seems to thrive on these bi...|\n",
      "|                     This is just about one of the dumbest things I've ever seen|\n",
      "|And you know why? Because they thought (or at least made horror fans think) t...|\n",
      "|Having spent all of her money caring for her terminally ill spouse, recently ...|\n",
      "+--------------------------------------------------------------------------------+\n",
      "only showing top 20 rows\n",
      "\n"
     ]
    },
    {
     "name": "stderr",
     "output_type": "stream",
     "text": [
      "                                                                                \r"
     ]
    }
   ],
   "source": [
    "# only use first sentence of IMDB reviews\n",
    "@pandas_udf(\"string\")\n",
    "def first_sentence(text: pd.Series) -> pd.Series:\n",
    "    return pd.Series([s.split(\".\")[0] for s in text])\n",
    "\n",
    "df = spark.read.parquet(\"imdb_test\").withColumn(\"sentence\", first_sentence(col(\"lines\"))).select(\"sentence\").limit(100)\n",
    "df.show(truncate=80)"
   ]
  },
  {
   "cell_type": "code",
   "execution_count": 3,
   "id": "0da9d25c-5ebe-4503-bb19-154fcc047cbf",
   "metadata": {},
   "outputs": [],
   "source": [
    "def predict_batch_fn():\n",
    "    import numpy as np\n",
    "    import pandas as pd\n",
    "    from transformers import pipeline\n",
    "    pipe = pipeline(\"text-classification\")  # CPU\n",
    "    def predict(inputs):\n",
    "        flattened = np.squeeze(inputs).tolist()\n",
    "        return pipe(flattened)\n",
    "    return predict"
   ]
  },
  {
   "cell_type": "code",
   "execution_count": 4,
   "id": "78afef29-ee30-4267-9fb6-be2dcb86cbba",
   "metadata": {},
   "outputs": [],
   "source": [
    "classify = predict_batch_udf(predict_batch_fn,\n",
    "                             return_type=StructType([\n",
    "                                 StructField(\"label\", StringType(), True),\n",
    "                                 StructField(\"score\", FloatType(), True)\n",
    "                             ]),\n",
    "                             batch_size=10)"
   ]
  },
  {
   "cell_type": "code",
   "execution_count": 5,
   "id": "a5bc327e-89cf-4731-82e6-e66cb93deef1",
   "metadata": {},
   "outputs": [
    {
     "name": "stderr",
     "output_type": "stream",
     "text": [
      "[Stage 4:>                                                          (0 + 1) / 1]\r"
     ]
    },
    {
     "name": "stdout",
     "output_type": "stream",
     "text": [
      "+--------------------------------------------------------------------------------+--------+----------+\n",
      "|                                                                        sentence|   label|     score|\n",
      "+--------------------------------------------------------------------------------+--------+----------+\n",
      "|                                                                                |POSITIVE|  0.748121|\n",
      "|              I found myself getting increasingly angry as this movie progressed|NEGATIVE|0.99845886|\n",
      "|                The comparisons between the 1995 version and this are inevitable|NEGATIVE| 0.9997198|\n",
      "|Doesn't anyone bother to check where this kind of sludge comes from before bl...|NEGATIVE| 0.9984042|\n",
      "|                 Don't get me wrong, I love the TV series of League Of Gentlemen|POSITIVE| 0.9998311|\n",
      "|Made it through the first half an hour and deserved a medal for getting that far|POSITIVE|0.99915516|\n",
      "|This movie seems a little clunky around the edges, like not quite enough zani...|NEGATIVE|0.99965274|\n",
      "|                                                           Oh but this is woeful|NEGATIVE| 0.9993011|\n",
      "|                           Terry Cunningham directs this Sci-Fi Network original|POSITIVE| 0.9987205|\n",
      "|First the easy part: this movie is pretentious crapola!<br /><br />It put me ...|NEGATIVE| 0.9994948|\n",
      "|           Tycus is one of the worst films direct to video films that I see ever|NEGATIVE| 0.9997583|\n",
      "|                                                                         Edge Vs|POSITIVE|0.68308145|\n",
      "|       If you like bad movies (and you must to watch this one) here's a good one|POSITIVE|0.99366415|\n",
      "|Ed Gein, one of the most famous serial killers of all time, he was the inspir...|POSITIVE| 0.9988261|\n",
      "|                                      I was Stan in the movie \"Dreams Come True\"|POSITIVE|  0.993824|\n",
      "|                                                                          this 2|POSITIVE|0.99790776|\n",
      "|Another tiresome bore from Anthony Minghella, who seems to thrive on these bi...|NEGATIVE|0.99970883|\n",
      "|                     This is just about one of the dumbest things I've ever seen|NEGATIVE| 0.9994136|\n",
      "|And you know why? Because they thought (or at least made horror fans think) t...|NEGATIVE| 0.9994579|\n",
      "|Having spent all of her money caring for her terminally ill spouse, recently ...|NEGATIVE| 0.5800528|\n",
      "+--------------------------------------------------------------------------------+--------+----------+\n",
      "only showing top 20 rows\n",
      "\n",
      "CPU times: user 11.5 ms, sys: 10.3 ms, total: 21.8 ms\n",
      "Wall time: 13.4 s\n"
     ]
    },
    {
     "name": "stderr",
     "output_type": "stream",
     "text": [
      "                                                                                \r"
     ]
    }
   ],
   "source": [
    "%%time\n",
    "# note: expanding the \"struct\" return_type to top-level columns\n",
    "predictions = df.withColumn(\"preds\", classify(struct(\"sentence\"))).select(\"sentence\", \"preds.*\")\n",
    "predictions.show(truncate=80)"
   ]
  },
  {
   "cell_type": "code",
   "execution_count": 6,
   "id": "ac642895-cfd6-47ee-9b21-02e7835424e4",
   "metadata": {},
   "outputs": [
    {
     "name": "stderr",
     "output_type": "stream",
     "text": [
      "[Stage 7:>                                                          (0 + 1) / 1]\r"
     ]
    },
    {
     "name": "stdout",
     "output_type": "stream",
     "text": [
      "+--------------------------------------------------------------------------------+--------+----------+\n",
      "|                                                                        sentence|   label|     score|\n",
      "+--------------------------------------------------------------------------------+--------+----------+\n",
      "|                                                                                |POSITIVE|  0.748121|\n",
      "|              I found myself getting increasingly angry as this movie progressed|NEGATIVE|0.99845886|\n",
      "|                The comparisons between the 1995 version and this are inevitable|NEGATIVE| 0.9997198|\n",
      "|Doesn't anyone bother to check where this kind of sludge comes from before bl...|NEGATIVE| 0.9984042|\n",
      "|                 Don't get me wrong, I love the TV series of League Of Gentlemen|POSITIVE| 0.9998311|\n",
      "|Made it through the first half an hour and deserved a medal for getting that far|POSITIVE|0.99915516|\n",
      "|This movie seems a little clunky around the edges, like not quite enough zani...|NEGATIVE|0.99965274|\n",
      "|                                                           Oh but this is woeful|NEGATIVE| 0.9993011|\n",
      "|                           Terry Cunningham directs this Sci-Fi Network original|POSITIVE| 0.9987205|\n",
      "|First the easy part: this movie is pretentious crapola!<br /><br />It put me ...|NEGATIVE| 0.9994948|\n",
      "|           Tycus is one of the worst films direct to video films that I see ever|NEGATIVE| 0.9997583|\n",
      "|                                                                         Edge Vs|POSITIVE|0.68308145|\n",
      "|       If you like bad movies (and you must to watch this one) here's a good one|POSITIVE|0.99366415|\n",
      "|Ed Gein, one of the most famous serial killers of all time, he was the inspir...|POSITIVE| 0.9988261|\n",
      "|                                      I was Stan in the movie \"Dreams Come True\"|POSITIVE|  0.993824|\n",
      "|                                                                          this 2|POSITIVE|0.99790776|\n",
      "|Another tiresome bore from Anthony Minghella, who seems to thrive on these bi...|NEGATIVE|0.99970883|\n",
      "|                     This is just about one of the dumbest things I've ever seen|NEGATIVE| 0.9994136|\n",
      "|And you know why? Because they thought (or at least made horror fans think) t...|NEGATIVE| 0.9994579|\n",
      "|Having spent all of her money caring for her terminally ill spouse, recently ...|NEGATIVE| 0.5800528|\n",
      "+--------------------------------------------------------------------------------+--------+----------+\n",
      "only showing top 20 rows\n",
      "\n",
      "CPU times: user 13.1 ms, sys: 1.04 ms, total: 14.2 ms\n",
      "Wall time: 12.7 s\n"
     ]
    },
    {
     "name": "stderr",
     "output_type": "stream",
     "text": [
      "                                                                                \r"
     ]
    }
   ],
   "source": [
    "%%time\n",
    "# note: expanding the \"struct\" return_type to top-level columns\n",
    "predictions = df.withColumn(\"preds\", classify(\"sentence\")).select(\"sentence\", \"preds.*\")\n",
    "predictions.show(truncate=80)"
   ]
  },
  {
   "cell_type": "code",
   "execution_count": 7,
   "id": "76a44d80-d5db-405f-989c-7246379cfb95",
   "metadata": {},
   "outputs": [
    {
     "name": "stderr",
     "output_type": "stream",
     "text": [
      "[Stage 10:>                                                         (0 + 1) / 1]\r"
     ]
    },
    {
     "name": "stdout",
     "output_type": "stream",
     "text": [
      "+--------------------------------------------------------------------------------+--------+----------+\n",
      "|                                                                        sentence|   label|     score|\n",
      "+--------------------------------------------------------------------------------+--------+----------+\n",
      "|                                                                                |POSITIVE|  0.748121|\n",
      "|              I found myself getting increasingly angry as this movie progressed|NEGATIVE|0.99845886|\n",
      "|                The comparisons between the 1995 version and this are inevitable|NEGATIVE| 0.9997198|\n",
      "|Doesn't anyone bother to check where this kind of sludge comes from before bl...|NEGATIVE| 0.9984042|\n",
      "|                 Don't get me wrong, I love the TV series of League Of Gentlemen|POSITIVE| 0.9998311|\n",
      "|Made it through the first half an hour and deserved a medal for getting that far|POSITIVE|0.99915516|\n",
      "|This movie seems a little clunky around the edges, like not quite enough zani...|NEGATIVE|0.99965274|\n",
      "|                                                           Oh but this is woeful|NEGATIVE| 0.9993011|\n",
      "|                           Terry Cunningham directs this Sci-Fi Network original|POSITIVE| 0.9987205|\n",
      "|First the easy part: this movie is pretentious crapola!<br /><br />It put me ...|NEGATIVE| 0.9994948|\n",
      "|           Tycus is one of the worst films direct to video films that I see ever|NEGATIVE| 0.9997583|\n",
      "|                                                                         Edge Vs|POSITIVE|0.68308145|\n",
      "|       If you like bad movies (and you must to watch this one) here's a good one|POSITIVE|0.99366415|\n",
      "|Ed Gein, one of the most famous serial killers of all time, he was the inspir...|POSITIVE| 0.9988261|\n",
      "|                                      I was Stan in the movie \"Dreams Come True\"|POSITIVE|  0.993824|\n",
      "|                                                                          this 2|POSITIVE|0.99790776|\n",
      "|Another tiresome bore from Anthony Minghella, who seems to thrive on these bi...|NEGATIVE|0.99970883|\n",
      "|                     This is just about one of the dumbest things I've ever seen|NEGATIVE| 0.9994136|\n",
      "|And you know why? Because they thought (or at least made horror fans think) t...|NEGATIVE| 0.9994579|\n",
      "|Having spent all of her money caring for her terminally ill spouse, recently ...|NEGATIVE| 0.5800528|\n",
      "+--------------------------------------------------------------------------------+--------+----------+\n",
      "only showing top 20 rows\n",
      "\n",
      "CPU times: user 5.91 ms, sys: 7.39 ms, total: 13.3 ms\n",
      "Wall time: 12.6 s\n"
     ]
    },
    {
     "name": "stderr",
     "output_type": "stream",
     "text": [
      "                                                                                \r"
     ]
    }
   ],
   "source": [
    "%%time\n",
    "# note: expanding the \"struct\" return_type to top-level columns\n",
    "predictions = df.withColumn(\"preds\", classify(col(\"sentence\"))).select(\"sentence\", \"preds.*\")\n",
    "predictions.show(truncate=80)"
   ]
  },
  {
   "cell_type": "markdown",
   "id": "0e25d441-21a1-4c8b-8799-d56d98c3edc1",
   "metadata": {},
   "source": [
    "### Using Triton server"
   ]
  },
  {
   "cell_type": "markdown",
   "id": "db4a5b06-126a-4bc4-baae-a45ea30832a7",
   "metadata": {
    "tags": []
   },
   "source": [
    "#### Start Triton Server on each executor"
   ]
  },
  {
   "cell_type": "code",
   "execution_count": 8,
   "id": "144acb8e-4c08-40fc-a9ed-f721c409ee68",
   "metadata": {},
   "outputs": [
    {
     "name": "stderr",
     "output_type": "stream",
     "text": [
      "                                                                                \r"
     ]
    },
    {
     "data": {
      "text/plain": [
       "[True]"
      ]
     },
     "execution_count": 8,
     "metadata": {},
     "output_type": "execute_result"
    }
   ],
   "source": [
    "num_executors = 1\n",
    "\n",
    "nodeRDD = sc.parallelize(list(range(num_executors)), num_executors)\n",
    "\n",
    "def start_triton(it):\n",
    "    import docker\n",
    "    import time\n",
    "    import tritonclient.grpc as grpcclient\n",
    "    \n",
    "    client=docker.from_env()\n",
    "    containers=client.containers.list(filters={\"name\": \"spark-triton\"})\n",
    "    if containers:\n",
    "        print(\">>>> containers: {}\".format([c.short_id for c in containers]))\n",
    "    else:\n",
    "        container=client.containers.run(\n",
    "            \"nvcr.io/nvidia/tritonserver:22.07-py3\", \"tritonserver --model-repository=/models\",\n",
    "            detach=True,\n",
    "            device_requests=[docker.types.DeviceRequest(device_ids=[\"0\"], capabilities=[['gpu']])],\n",
    "            environment=[\n",
    "                \"TRANSFORMERS_CACHE=/cache\"\n",
    "            ],\n",
    "            name=\"spark-triton\",\n",
    "            network_mode=\"host\",\n",
    "            remove=True,\n",
    "            shm_size=\"256M\",\n",
    "            volumes={\n",
    "                \"/home/leey/devpub/leewyang/sparkext/examples/models_hf\": {\"bind\": \"/models\", \"mode\": \"ro\"},\n",
    "                \"/home/leey/huggingface/cache\": {\"bind\": \"/cache\", \"mode\": \"rw\"}\n",
    "            }\n",
    "        )\n",
    "        print(\">>>> starting triton: {}\".format(container.short_id))\n",
    "        # wait for triton to be running\n",
    "        time.sleep(15)\n",
    "        \n",
    "        client = grpcclient.InferenceServerClient(\"localhost:8001\")\n",
    "        \n",
    "        elapsed = 0\n",
    "        timeout = 120\n",
    "        ready = False\n",
    "        while not ready and elapsed < timeout:\n",
    "            try:\n",
    "                time.sleep(5)\n",
    "                elapsed += 5\n",
    "                ready = client.is_server_ready()\n",
    "            except Exception as e:\n",
    "                pass\n",
    "\n",
    "    return [True]\n",
    "\n",
    "nodeRDD.mapPartitions(start_triton).collect()"
   ]
  },
  {
   "cell_type": "markdown",
   "id": "c24d77ab-60d3-45eb-a9c2-dc811eca0af4",
   "metadata": {},
   "source": [
    "#### Run inference"
   ]
  },
  {
   "cell_type": "code",
   "execution_count": 9,
   "id": "17e659ae-6a19-414a-bbbe-0a5b74b720de",
   "metadata": {},
   "outputs": [],
   "source": [
    "import pandas as pd\n",
    "from functools import partial\n",
    "from pyspark.sql.functions import col, struct, pandas_udf\n",
    "from pyspark.ml.functions import predict_batch_udf\n",
    "from pyspark.sql.types import FloatType, StringType, StructField, StructType"
   ]
  },
  {
   "cell_type": "code",
   "execution_count": 10,
   "id": "d53fb283-bf9e-4571-8c68-b75a41f1f067",
   "metadata": {},
   "outputs": [
    {
     "name": "stdout",
     "output_type": "stream",
     "text": [
      "+--------------------------------------------------------------------------------+\n",
      "|                                                                        sentence|\n",
      "+--------------------------------------------------------------------------------+\n",
      "|                                                                                |\n",
      "|              I found myself getting increasingly angry as this movie progressed|\n",
      "|                The comparisons between the 1995 version and this are inevitable|\n",
      "|Doesn't anyone bother to check where this kind of sludge comes from before bl...|\n",
      "|                 Don't get me wrong, I love the TV series of League Of Gentlemen|\n",
      "|Made it through the first half an hour and deserved a medal for getting that far|\n",
      "|This movie seems a little clunky around the edges, like not quite enough zani...|\n",
      "|                                                           Oh but this is woeful|\n",
      "|                           Terry Cunningham directs this Sci-Fi Network original|\n",
      "|First the easy part: this movie is pretentious crapola!<br /><br />It put me ...|\n",
      "|           Tycus is one of the worst films direct to video films that I see ever|\n",
      "|                                                                         Edge Vs|\n",
      "|       If you like bad movies (and you must to watch this one) here's a good one|\n",
      "|Ed Gein, one of the most famous serial killers of all time, he was the inspir...|\n",
      "|                                      I was Stan in the movie \"Dreams Come True\"|\n",
      "|                                                                          this 2|\n",
      "|Another tiresome bore from Anthony Minghella, who seems to thrive on these bi...|\n",
      "|                     This is just about one of the dumbest things I've ever seen|\n",
      "|And you know why? Because they thought (or at least made horror fans think) t...|\n",
      "|Having spent all of her money caring for her terminally ill spouse, recently ...|\n",
      "+--------------------------------------------------------------------------------+\n",
      "only showing top 20 rows\n",
      "\n"
     ]
    }
   ],
   "source": [
    "# only use first sentence of IMDB reviews\n",
    "@pandas_udf(\"string\")\n",
    "def first_sentence(text: pd.Series) -> pd.Series:\n",
    "    return pd.Series([s.split(\".\")[0] for s in text])\n",
    "\n",
    "df = spark.read.parquet(\"imdb_test\").withColumn(\"sentence\", first_sentence(col(\"lines\"))).select(\"sentence\").limit(1000)\n",
    "df.show(truncate=80)"
   ]
  },
  {
   "cell_type": "code",
   "execution_count": 11,
   "id": "29b0cc0d-c480-4e4a-bd41-207dc314cba5",
   "metadata": {},
   "outputs": [],
   "source": [
    "def triton_fn(triton_uri, model_name):\n",
    "    import numpy as np\n",
    "    import tritonclient.grpc as grpcclient\n",
    "    \n",
    "    np_types = {\n",
    "      \"BOOL\": np.dtype(np.bool8),\n",
    "      \"INT8\": np.dtype(np.int8),\n",
    "      \"INT16\": np.dtype(np.int16),\n",
    "      \"INT32\": np.dtype(np.int32),\n",
    "      \"INT64\": np.dtype(np.int64),\n",
    "      \"FP16\": np.dtype(np.float16),\n",
    "      \"FP32\": np.dtype(np.float32),\n",
    "      \"FP64\": np.dtype(np.float64),\n",
    "      \"FP64\": np.dtype(np.double),\n",
    "      \"BYTES\": np.dtype(object)\n",
    "    }\n",
    "\n",
    "    client = grpcclient.InferenceServerClient(triton_uri)\n",
    "    model_meta = client.get_model_metadata(model_name)\n",
    "    \n",
    "    def predict(inputs):\n",
    "        if isinstance(inputs, np.ndarray):\n",
    "            # single ndarray input\n",
    "            request = [grpcclient.InferInput(model_meta.inputs[0].name, inputs.shape, model_meta.inputs[0].datatype)]\n",
    "            request[0].set_data_from_numpy(inputs.astype(np_types[model_meta.inputs[0].datatype]))\n",
    "        else:\n",
    "            # dict of multiple ndarray inputs\n",
    "            request = [grpcclient.InferInput(i.name, inputs[i.name].shape, i.datatype) for i in model_meta.inputs]\n",
    "            for i in request:\n",
    "                i.set_data_from_numpy(inputs[i.name()].astype(np_types[i.datatype()]))\n",
    "        \n",
    "        response = client.infer(model_name, inputs=request)\n",
    "        \n",
    "        if len(model_meta.outputs) > 1:\n",
    "            # return dictionary of numpy arrays\n",
    "            return {o.name: response.as_numpy(o.name) for o in model_meta.outputs}\n",
    "        else:\n",
    "            # return single numpy array\n",
    "            return response.as_numpy(model_meta.outputs[0].name)\n",
    "        \n",
    "    return predict"
   ]
  },
  {
   "cell_type": "code",
   "execution_count": 12,
   "id": "3930cfcd-3284-4c6a-a9b5-36b8053fe899",
   "metadata": {},
   "outputs": [],
   "source": [
    "classify = predict_batch_udf(partial(triton_fn, triton_uri=\"localhost:8001\", model_name=\"hf_pipeline\"),\n",
    "                             return_type=StructType([\n",
    "                                 StructField(\"label\", StringType(), True),\n",
    "                                 StructField(\"score\", FloatType(), True)\n",
    "                             ]),\n",
    "                             input_tensor_shapes=[[1]],\n",
    "                             batch_size=100)"
   ]
  },
  {
   "cell_type": "code",
   "execution_count": 13,
   "id": "8eecbf23-4e9e-4d4c-8645-98209b25db2c",
   "metadata": {},
   "outputs": [
    {
     "name": "stderr",
     "output_type": "stream",
     "text": [
      "[Stage 16:>                                                         (0 + 1) / 1]\r"
     ]
    },
    {
     "name": "stdout",
     "output_type": "stream",
     "text": [
      "CPU times: user 34 ms, sys: 1.56 ms, total: 35.5 ms\n",
      "Wall time: 5.9 s\n"
     ]
    },
    {
     "name": "stderr",
     "output_type": "stream",
     "text": [
      "                                                                                \r"
     ]
    }
   ],
   "source": [
    "%%time\n",
    "# first pass caches model/fn\n",
    "# note: expanding the \"struct\" return_type to top-level columns\n",
    "predictions = df.withColumn(\"preds\", classify(struct(\"sentence\"))).select(\"sentence\", \"preds.*\")\n",
    "preds = predictions.collect()"
   ]
  },
  {
   "cell_type": "code",
   "execution_count": 14,
   "id": "566ba28c-0ca4-4479-a24a-c8a362228b89",
   "metadata": {},
   "outputs": [
    {
     "name": "stderr",
     "output_type": "stream",
     "text": [
      "[Stage 19:>                                                         (0 + 1) / 1]\r"
     ]
    },
    {
     "name": "stdout",
     "output_type": "stream",
     "text": [
      "CPU times: user 20 ms, sys: 5.7 ms, total: 25.7 ms\n",
      "Wall time: 5.02 s\n"
     ]
    },
    {
     "name": "stderr",
     "output_type": "stream",
     "text": [
      "                                                                                \r"
     ]
    }
   ],
   "source": [
    "%%time\n",
    "# note: expanding the \"struct\" return_type to top-level columns\n",
    "predictions = df.withColumn(\"preds\", classify(\"sentence\")).select(\"sentence\", \"preds.*\")\n",
    "preds = predictions.collect()"
   ]
  },
  {
   "cell_type": "code",
   "execution_count": 15,
   "id": "44c7e776-08da-484a-ba07-9d6add1a0f15",
   "metadata": {},
   "outputs": [
    {
     "name": "stderr",
     "output_type": "stream",
     "text": [
      "[Stage 22:>                                                         (0 + 1) / 1]\r"
     ]
    },
    {
     "name": "stdout",
     "output_type": "stream",
     "text": [
      "CPU times: user 12.4 ms, sys: 10.9 ms, total: 23.3 ms\n",
      "Wall time: 5.04 s\n"
     ]
    },
    {
     "name": "stderr",
     "output_type": "stream",
     "text": [
      "                                                                                \r"
     ]
    }
   ],
   "source": [
    "%%time\n",
    "# note: expanding the \"struct\" return_type to top-level columns\n",
    "predictions = df.withColumn(\"preds\", classify(col(\"sentence\"))).select(\"sentence\", \"preds.*\")\n",
    "preds = predictions.collect()"
   ]
  },
  {
   "cell_type": "code",
   "execution_count": 16,
   "id": "f61d79f8-661e-4d9e-a3aa-c0754b854603",
   "metadata": {},
   "outputs": [
    {
     "name": "stderr",
     "output_type": "stream",
     "text": [
      "[Stage 25:>                                                         (0 + 1) / 1]\r"
     ]
    },
    {
     "name": "stdout",
     "output_type": "stream",
     "text": [
      "+--------------------------------------------------------------------------------+--------+----------+\n",
      "|                                                                        sentence|   label|     score|\n",
      "+--------------------------------------------------------------------------------+--------+----------+\n",
      "|                                                                                |POSITIVE| 0.7481212|\n",
      "|              I found myself getting increasingly angry as this movie progressed|NEGATIVE|0.99845886|\n",
      "|                The comparisons between the 1995 version and this are inevitable|NEGATIVE| 0.9997198|\n",
      "|Doesn't anyone bother to check where this kind of sludge comes from before bl...|NEGATIVE| 0.9984042|\n",
      "|                 Don't get me wrong, I love the TV series of League Of Gentlemen|POSITIVE| 0.9998311|\n",
      "|Made it through the first half an hour and deserved a medal for getting that far|POSITIVE|0.99915516|\n",
      "|This movie seems a little clunky around the edges, like not quite enough zani...|NEGATIVE|0.99965274|\n",
      "|                                                           Oh but this is woeful|NEGATIVE| 0.9993011|\n",
      "|                           Terry Cunningham directs this Sci-Fi Network original|POSITIVE| 0.9987205|\n",
      "|First the easy part: this movie is pretentious crapola!<br /><br />It put me ...|NEGATIVE| 0.9994948|\n",
      "|           Tycus is one of the worst films direct to video films that I see ever|NEGATIVE| 0.9997583|\n",
      "|                                                                         Edge Vs|POSITIVE|0.68308276|\n",
      "|       If you like bad movies (and you must to watch this one) here's a good one|POSITIVE|0.99366415|\n",
      "|Ed Gein, one of the most famous serial killers of all time, he was the inspir...|POSITIVE| 0.9988261|\n",
      "|                                      I was Stan in the movie \"Dreams Come True\"|POSITIVE|  0.993824|\n",
      "|                                                                          this 2|POSITIVE|0.99790776|\n",
      "|Another tiresome bore from Anthony Minghella, who seems to thrive on these bi...|NEGATIVE|0.99970883|\n",
      "|                     This is just about one of the dumbest things I've ever seen|NEGATIVE| 0.9994136|\n",
      "|And you know why? Because they thought (or at least made horror fans think) t...|NEGATIVE| 0.9994579|\n",
      "|Having spent all of her money caring for her terminally ill spouse, recently ...|NEGATIVE| 0.5800518|\n",
      "+--------------------------------------------------------------------------------+--------+----------+\n",
      "only showing top 20 rows\n",
      "\n"
     ]
    },
    {
     "name": "stderr",
     "output_type": "stream",
     "text": [
      "                                                                                \r"
     ]
    }
   ],
   "source": [
    "predictions.show(truncate=80)"
   ]
  },
  {
   "cell_type": "markdown",
   "id": "e197c146-1794-47f0-bcd9-7e8d8ab8625f",
   "metadata": {
    "tags": []
   },
   "source": [
    "#### Stop Triton Server on each executor"
   ]
  },
  {
   "cell_type": "code",
   "execution_count": 17,
   "id": "425d3b28-7705-45ba-8a18-ad34fc895219",
   "metadata": {},
   "outputs": [
    {
     "name": "stderr",
     "output_type": "stream",
     "text": [
      "                                                                                \r"
     ]
    },
    {
     "data": {
      "text/plain": [
       "[True]"
      ]
     },
     "execution_count": 17,
     "metadata": {},
     "output_type": "execute_result"
    }
   ],
   "source": [
    "def stop_triton(it):\n",
    "    import docker\n",
    "    import time\n",
    "    \n",
    "    client=docker.from_env()\n",
    "    containers=client.containers.list(filters={\"name\": \"spark-triton\"})\n",
    "    print(\">>>> stopping containers: {}\".format([c.short_id for c in containers]))\n",
    "    if containers:\n",
    "        container=containers[0]\n",
    "        container.stop(timeout=120)\n",
    "\n",
    "    return [True]\n",
    "\n",
    "nodeRDD.mapPartitions(stop_triton).collect()"
   ]
  },
  {
   "cell_type": "code",
   "execution_count": 18,
   "id": "9f19643c-4ee4-44f2-b762-2078c0c8eba9",
   "metadata": {},
   "outputs": [],
   "source": [
    "spark.stop()"
   ]
  },
  {
   "cell_type": "code",
   "execution_count": null,
   "id": "dbf8beca-5682-45fd-be52-2bff679eae2a",
   "metadata": {},
   "outputs": [],
   "source": []
  },
  {
   "cell_type": "code",
   "execution_count": null,
   "id": "23a3a88a-e22d-4a34-b1a1-e3a3059840ba",
   "metadata": {},
   "outputs": [],
   "source": []
  }
 ],
 "metadata": {
  "kernelspec": {
   "display_name": "Python 3 (ipykernel)",
   "language": "python",
   "name": "python3"
  },
  "language_info": {
   "codemirror_mode": {
    "name": "ipython",
    "version": 3
   },
   "file_extension": ".py",
   "mimetype": "text/x-python",
   "name": "python",
   "nbconvert_exporter": "python",
   "pygments_lexer": "ipython3",
   "version": "3.9.10"
  }
 },
 "nbformat": 4,
 "nbformat_minor": 5
}
