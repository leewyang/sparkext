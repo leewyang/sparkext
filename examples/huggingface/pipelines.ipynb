{
 "cells": [
  {
   "cell_type": "markdown",
   "id": "60f7ac5d-4a95-4170-a0ac-a7faac9d9ef4",
   "metadata": {},
   "source": [
    "# PySpark Huggingface Inferencing\n",
    "### Text Classification using Pipelines\n",
    "\n",
    "Based on: https://huggingface.co/docs/transformers/quicktour#pipeline-usage"
   ]
  },
  {
   "cell_type": "code",
   "execution_count": 1,
   "id": "0dd0f77b-ee1b-4477-a038-d25a4f1da0ea",
   "metadata": {},
   "outputs": [],
   "source": [
    "import pandas as pd\n",
    "import sparkext\n",
    "\n",
    "from inspect import signature\n",
    "from pyspark.sql.functions import col, pandas_udf\n",
    "from sparkext.huggingface import pipeline_udf\n",
    "from transformers import pipeline"
   ]
  },
  {
   "cell_type": "code",
   "execution_count": 2,
   "id": "553b28d2-a5d1-4d07-8a49-8f82b808e738",
   "metadata": {},
   "outputs": [
    {
     "name": "stderr",
     "output_type": "stream",
     "text": [
      "No model was supplied, defaulted to distilbert-base-uncased-finetuned-sst-2-english (https://huggingface.co/distilbert-base-uncased-finetuned-sst-2-english)\n"
     ]
    }
   ],
   "source": [
    "pipe = pipeline(\"text-classification\")"
   ]
  },
  {
   "cell_type": "code",
   "execution_count": 3,
   "id": "3b91fe91-b725-4564-ae93-56e3fb51e47c",
   "metadata": {},
   "outputs": [
    {
     "data": {
      "text/plain": [
       "[{'label': 'POSITIVE', 'score': 0.9994712471961975}]"
      ]
     },
     "execution_count": 3,
     "metadata": {},
     "output_type": "execute_result"
    }
   ],
   "source": [
    "pipe(\"What can I say that hasn't been said already. I think this place is totally worth the hype.\")"
   ]
  },
  {
   "cell_type": "code",
   "execution_count": 4,
   "id": "0be39eb3-462c-42ff-b8f4-09f4e4fe3a3c",
   "metadata": {},
   "outputs": [
    {
     "data": {
      "text/plain": [
       "[{'label': 'NEGATIVE', 'score': 0.9997401833534241}]"
      ]
     },
     "execution_count": 4,
     "metadata": {},
     "output_type": "execute_result"
    }
   ],
   "source": [
    "pipe(\"I will not say much about this film, because there is not much to say, because there is not much there to talk about.\")"
   ]
  },
  {
   "cell_type": "markdown",
   "id": "072b2259-8a0e-4809-a8af-8b0b1d534cae",
   "metadata": {
    "tags": []
   },
   "source": [
    "## Inference using Spark ML Model"
   ]
  },
  {
   "cell_type": "code",
   "execution_count": 5,
   "id": "a12b746e-d3fe-43b7-9c1a-73811e55a627",
   "metadata": {},
   "outputs": [
    {
     "name": "stderr",
     "output_type": "stream",
     "text": [
      "[Stage 1:>                                                          (0 + 1) / 1]\r"
     ]
    },
    {
     "name": "stdout",
     "output_type": "stream",
     "text": [
      "+------------------------------------------------------------------------------------------------------------------------+\n",
      "|                                                                                                                sentence|\n",
      "+------------------------------------------------------------------------------------------------------------------------+\n",
      "|i came across this film on the net by fluke and i was horrified by its content of vivid abuse violence and torture sc...|\n",
      "|                                            He who fights with monsters might take care lest he thereby become a monster|\n",
      "|                                                                        We thought this was one of the worst movies ever|\n",
      "|                              This movie, despite its list of B, C, and D list celebs, is a complete waste of 90 minutes|\n",
      "|                                                                                                  i have one word: focus|\n",
      "|This movie would have been alright, indeed probably excellent, if the directors would have left the interviews and th...|\n",
      "|Disappointing heist movie indeed, I was actually expecting a pretty cool cat and mouse stuff going on through out the...|\n",
      "| THE BOX (2009) * Cameron Diaz, James Marsden, Frank Langella, James Rebhorn, Holmes Osborne, Sam Oz Stone, Celia Weston|\n",
      "|                    Just watched on UbuWeb this early experimental short film directed by William Vance and Orson Welles|\n",
      "|I was at Wrestlemania VI in Toronto as a 10 year old, and the event I saw then was pretty different from what I saw o...|\n",
      "|                                                First of all, the genre of this movie isn't comedy, it's more of a drama|\n",
      "|Shaky hand held cameras (this piece was shot for television mind you, not film) not only keep you utterly conscious o...|\n",
      "|This show should be titled, \"When Bad Writing Happens To Good Actors\" considering most of the players have demonstrat...|\n",
      "|                                                          I have to admit that I am disappointed after seeing this movie|\n",
      "|I'm not sure why the producers needed to trade on the name of a somewhat successful movie franchise because the title...|\n",
      "|                                           I did not quite get Barnens O  it is one of the weirdest ones I have watched|\n",
      "|                                                                               I struggle to see the point of this movie|\n",
      "|There were so many classic movies that were made where the leading people were out-and- out liars and yet they are ma...|\n",
      "|Inane, awful farce basically about a young man who refuses to conform or better uses non-conformity to attain his obj...|\n",
      "|                   I must say that I wasn't impressed at all, probably because I was expecting much more from this movie|\n",
      "+------------------------------------------------------------------------------------------------------------------------+\n",
      "only showing top 20 rows\n",
      "\n"
     ]
    },
    {
     "name": "stderr",
     "output_type": "stream",
     "text": [
      "                                                                                \r"
     ]
    }
   ],
   "source": [
    "# only use first sentence of IMDB reviews\n",
    "@pandas_udf(\"string\")\n",
    "def first_sentence(text: pd.Series) -> pd.Series:\n",
    "    return pd.Series([s.split(\".\")[0] for s in text])\n",
    "\n",
    "df = spark.read.parquet(\"imdb_test\").withColumn(\"sentence\", first_sentence(col(\"lines\"))).select(\"sentence\").limit(100)\n",
    "df.show(truncate=120)"
   ]
  },
  {
   "cell_type": "code",
   "execution_count": 6,
   "id": "436dbbec-5614-4f61-ae15-99f2071dea45",
   "metadata": {},
   "outputs": [],
   "source": [
    "my_model = sparkext.huggingface.PipelineModel(pipe, return_type=\"label string, score float\") \\\n",
    "                    .setInputCol(\"sentence\") \\\n",
    "                    .setOutputCol(\"preds\")"
   ]
  },
  {
   "cell_type": "code",
   "execution_count": 7,
   "id": "571f1498-97fa-4ef9-8017-dc509b1049e4",
   "metadata": {},
   "outputs": [
    {
     "name": "stdout",
     "output_type": "stream",
     "text": [
      "Using supplied Pipeline\n"
     ]
    }
   ],
   "source": [
    "predictions = my_model.transform(df).select(\"sentence\", \"preds.*\")"
   ]
  },
  {
   "cell_type": "code",
   "execution_count": 8,
   "id": "ec754596-4b40-4ef7-9771-31685be37324",
   "metadata": {},
   "outputs": [
    {
     "name": "stderr",
     "output_type": "stream",
     "text": [
      "[Stage 4:>                                                          (0 + 1) / 1]\r"
     ]
    },
    {
     "name": "stdout",
     "output_type": "stream",
     "text": [
      "+--------------------------------------------------------------------------------+--------+----------+\n",
      "|                                                                        sentence|   label|     score|\n",
      "+--------------------------------------------------------------------------------+--------+----------+\n",
      "|i came across this film on the net by fluke and i was horrified by its conten...|NEGATIVE|0.99958783|\n",
      "|    He who fights with monsters might take care lest he thereby become a monster|NEGATIVE|0.99694073|\n",
      "|                                We thought this was one of the worst movies ever|NEGATIVE|0.99978095|\n",
      "|This movie, despite its list of B, C, and D list celebs, is a complete waste ...|NEGATIVE|0.99979585|\n",
      "|                                                          i have one word: focus|POSITIVE| 0.9677835|\n",
      "|This movie would have been alright, indeed probably excellent, if the directo...|NEGATIVE|0.99626476|\n",
      "|Disappointing heist movie indeed, I was actually expecting a pretty cool cat ...|NEGATIVE| 0.9995616|\n",
      "|THE BOX (2009) * Cameron Diaz, James Marsden, Frank Langella, James Rebhorn, ...|POSITIVE|  0.996014|\n",
      "|Just watched on UbuWeb this early experimental short film directed by William...|POSITIVE|0.99699247|\n",
      "|I was at Wrestlemania VI in Toronto as a 10 year old, and the event I saw the...|POSITIVE|0.98212516|\n",
      "|        First of all, the genre of this movie isn't comedy, it's more of a drama|NEGATIVE|0.97406524|\n",
      "|Shaky hand held cameras (this piece was shot for television mind you, not fil...|NEGATIVE| 0.9982899|\n",
      "|This show should be titled, \"When Bad Writing Happens To Good Actors\" conside...|NEGATIVE| 0.9990558|\n",
      "|                  I have to admit that I am disappointed after seeing this movie|NEGATIVE| 0.9992902|\n",
      "|I'm not sure why the producers needed to trade on the name of a somewhat succ...|NEGATIVE| 0.9978999|\n",
      "|   I did not quite get Barnens O  it is one of the weirdest ones I have watched|NEGATIVE|0.99890924|\n",
      "|                                       I struggle to see the point of this movie|NEGATIVE| 0.9995907|\n",
      "|There were so many classic movies that were made where the leading people wer...|POSITIVE| 0.9997459|\n",
      "|Inane, awful farce basically about a young man who refuses to conform or bett...|NEGATIVE|0.99944323|\n",
      "|I must say that I wasn't impressed at all, probably because I was expecting m...|NEGATIVE|0.99878234|\n",
      "+--------------------------------------------------------------------------------+--------+----------+\n",
      "only showing top 20 rows\n",
      "\n"
     ]
    },
    {
     "name": "stderr",
     "output_type": "stream",
     "text": [
      "                                                                                \r"
     ]
    }
   ],
   "source": [
    "predictions.show(truncate=80)"
   ]
  },
  {
   "cell_type": "code",
   "execution_count": 9,
   "id": "d4e80ad2-57a3-4c58-984d-f9cc4388f656",
   "metadata": {},
   "outputs": [
    {
     "name": "stderr",
     "output_type": "stream",
     "text": [
      "[Stage 7:>                                                          (0 + 1) / 1]\r"
     ]
    },
    {
     "name": "stdout",
     "output_type": "stream",
     "text": [
      "CPU times: user 7.86 ms, sys: 3.89 ms, total: 11.7 ms\n",
      "Wall time: 6.42 s\n"
     ]
    },
    {
     "name": "stderr",
     "output_type": "stream",
     "text": [
      "                                                                                \r"
     ]
    }
   ],
   "source": [
    "%%time\n",
    "preds = predictions.collect()"
   ]
  },
  {
   "cell_type": "markdown",
   "id": "9db9517f-23f3-4754-8ea2-f6f1b024a75e",
   "metadata": {},
   "source": [
    "## Inference using Spark DL UDF"
   ]
  },
  {
   "cell_type": "code",
   "execution_count": 10,
   "id": "60a80499-9b98-47d5-8ff5-b4af3369a350",
   "metadata": {},
   "outputs": [
    {
     "name": "stdout",
     "output_type": "stream",
     "text": [
      "+--------------------------------------------------------------------------------+\n",
      "|                                                                        sentence|\n",
      "+--------------------------------------------------------------------------------+\n",
      "|i came across this film on the net by fluke and i was horrified by its conten...|\n",
      "|    He who fights with monsters might take care lest he thereby become a monster|\n",
      "|                                We thought this was one of the worst movies ever|\n",
      "|This movie, despite its list of B, C, and D list celebs, is a complete waste ...|\n",
      "|                                                          i have one word: focus|\n",
      "|This movie would have been alright, indeed probably excellent, if the directo...|\n",
      "|Disappointing heist movie indeed, I was actually expecting a pretty cool cat ...|\n",
      "|THE BOX (2009) * Cameron Diaz, James Marsden, Frank Langella, James Rebhorn, ...|\n",
      "|Just watched on UbuWeb this early experimental short film directed by William...|\n",
      "|I was at Wrestlemania VI in Toronto as a 10 year old, and the event I saw the...|\n",
      "|        First of all, the genre of this movie isn't comedy, it's more of a drama|\n",
      "|Shaky hand held cameras (this piece was shot for television mind you, not fil...|\n",
      "|This show should be titled, \"When Bad Writing Happens To Good Actors\" conside...|\n",
      "|                  I have to admit that I am disappointed after seeing this movie|\n",
      "|I'm not sure why the producers needed to trade on the name of a somewhat succ...|\n",
      "|   I did not quite get Barnens O  it is one of the weirdest ones I have watched|\n",
      "|                                       I struggle to see the point of this movie|\n",
      "|There were so many classic movies that were made where the leading people wer...|\n",
      "|Inane, awful farce basically about a young man who refuses to conform or bett...|\n",
      "|I must say that I wasn't impressed at all, probably because I was expecting m...|\n",
      "+--------------------------------------------------------------------------------+\n",
      "only showing top 20 rows\n",
      "\n"
     ]
    }
   ],
   "source": [
    "# only use first sentence of IMDB reviews\n",
    "@pandas_udf(\"string\")\n",
    "def first_sentence(text: pd.Series) -> pd.Series:\n",
    "    return pd.Series([s.split(\".\")[0] for s in text])\n",
    "\n",
    "df = spark.read.parquet(\"imdb_test\").withColumn(\"sentence\", first_sentence(col(\"lines\"))).select(\"sentence\").limit(100)\n",
    "df.show(truncate=80)"
   ]
  },
  {
   "cell_type": "code",
   "execution_count": 11,
   "id": "598c2433-82d4-4526-ae50-cdd74faf29c5",
   "metadata": {},
   "outputs": [
    {
     "name": "stdout",
     "output_type": "stream",
     "text": [
      "Using supplied Pipeline\n"
     ]
    }
   ],
   "source": [
    "# note: need to manually specify return_type per pipe output above\n",
    "classify = pipeline_udf(pipe, return_type=\"label string, score float\")"
   ]
  },
  {
   "cell_type": "code",
   "execution_count": 12,
   "id": "a52de60c-a9b9-4791-a8eb-0c0134388da4",
   "metadata": {},
   "outputs": [],
   "source": [
    "# note: expanding the \"struct\" return_type to top-level columns\n",
    "predictions = df.withColumn(\"preds\", classify(col(\"sentence\"))).select(\"sentence\", \"preds.*\")"
   ]
  },
  {
   "cell_type": "code",
   "execution_count": 13,
   "id": "6cd5510f-0f78-4aee-80de-046501cae14d",
   "metadata": {},
   "outputs": [
    {
     "name": "stderr",
     "output_type": "stream",
     "text": [
      "[Stage 12:>                                                         (0 + 1) / 1]\r"
     ]
    },
    {
     "name": "stdout",
     "output_type": "stream",
     "text": [
      "CPU times: user 12.3 ms, sys: 269 µs, total: 12.6 ms\n",
      "Wall time: 8.23 s\n"
     ]
    },
    {
     "name": "stderr",
     "output_type": "stream",
     "text": [
      "                                                                                \r"
     ]
    }
   ],
   "source": [
    "%%time\n",
    "preds = predictions.collect()"
   ]
  },
  {
   "cell_type": "code",
   "execution_count": 14,
   "id": "0d863084-101b-44ae-ac4c-c0874660e2f1",
   "metadata": {},
   "outputs": [
    {
     "name": "stderr",
     "output_type": "stream",
     "text": [
      "[Stage 15:>                                                         (0 + 1) / 1]\r"
     ]
    },
    {
     "name": "stdout",
     "output_type": "stream",
     "text": [
      "+--------------------------------------------------------------------------------+--------+----------+\n",
      "|                                                                        sentence|   label|     score|\n",
      "+--------------------------------------------------------------------------------+--------+----------+\n",
      "|Cyber zone, as this DVD was sold in Oz, is about the worst B-Grade junk I hav...|NEGATIVE|0.99978906|\n",
      "|I watched this movie to see the direction one of the most promising young tal...|POSITIVE| 0.9994943|\n",
      "|     I tried to be patient and open-minded but found myself in a coma-like state|NEGATIVE| 0.9994462|\n",
      "|                                        While the dog was cute, the film was not|NEGATIVE| 0.9985183|\n",
      "|        The opening scene makes you feel like you're watching a high school play|POSITIVE| 0.6598849|\n",
      "|This movie starts off promisingly enough, but it gets a little to convoluted ...|POSITIVE| 0.9640631|\n",
      "|                                       I was out-of-town, visiting an old friend|POSITIVE| 0.9910488|\n",
      "|Well, where to start describing this celluloid debacle? You already know the ...|NEGATIVE|0.99973005|\n",
      "|An ear-splitting movie, a quasi-old-fashioned screwball romp designed to show...|POSITIVE|0.99608576|\n",
      "|                                                                      The horror|NEGATIVE|0.99620456|\n",
      "|                                                   This is clearly a French film|POSITIVE|0.99972445|\n",
      "|As Joe Bob Briggs would say, this movie relies a lot on the actresses' talent...|NEGATIVE| 0.9961922|\n",
      "|Leonard Rossiter and Frances de la Tour carry this film, not without a strugg...|NEGATIVE|  0.990289|\n",
      "|                                      Finally got to see this movie last weekend|POSITIVE|0.99911743|\n",
      "|I was so offended by this film that I had to write SOMETHING about it, so ple...|NEGATIVE|   0.99858|\n",
      "|Cultural Vandalism Is the new Hallmark production of Gulliver's Travels an ac...|NEGATIVE|0.99726933|\n",
      "|Yet again, I appear to be the only person on planet Earth who is capable of c...|NEGATIVE|0.99377656|\n",
      "|This lame Harold Lloyd sound film has nary a laugh in it, and makes one wonde...|NEGATIVE| 0.9961333|\n",
      "|Having been pleasantly surprised by Sandra Bullock's performance in Miss Cong...|POSITIVE| 0.9797743|\n",
      "|I had stifled high hopes for this David Lynch, whom I really like, film, but ...|NEGATIVE|0.99977905|\n",
      "+--------------------------------------------------------------------------------+--------+----------+\n",
      "only showing top 20 rows\n",
      "\n"
     ]
    },
    {
     "name": "stderr",
     "output_type": "stream",
     "text": [
      "                                                                                \r"
     ]
    }
   ],
   "source": [
    "predictions.show(truncate=80)"
   ]
  },
  {
   "cell_type": "markdown",
   "id": "df0bd89b-ebf9-45ff-877e-0af7e4decdd8",
   "metadata": {},
   "source": [
    "### Using model loader"
   ]
  },
  {
   "cell_type": "code",
   "execution_count": 15,
   "id": "f8e217b4-678a-4ee4-bfb1-eeaebd3a8e44",
   "metadata": {},
   "outputs": [],
   "source": [
    "import pandas as pd\n",
    "\n",
    "from pyspark.sql.functions import col, pandas_udf\n",
    "from sparkext.huggingface import pipeline_udf"
   ]
  },
  {
   "cell_type": "code",
   "execution_count": 16,
   "id": "eb315c0c-e2af-4901-a963-46fa0c3f52f3",
   "metadata": {},
   "outputs": [
    {
     "name": "stdout",
     "output_type": "stream",
     "text": [
      "+--------------------------------------------------------------------------------+\n",
      "|                                                                        sentence|\n",
      "+--------------------------------------------------------------------------------+\n",
      "|i came across this film on the net by fluke and i was horrified by its conten...|\n",
      "|    He who fights with monsters might take care lest he thereby become a monster|\n",
      "|                                We thought this was one of the worst movies ever|\n",
      "|This movie, despite its list of B, C, and D list celebs, is a complete waste ...|\n",
      "|                                                          i have one word: focus|\n",
      "|This movie would have been alright, indeed probably excellent, if the directo...|\n",
      "|Disappointing heist movie indeed, I was actually expecting a pretty cool cat ...|\n",
      "|THE BOX (2009) * Cameron Diaz, James Marsden, Frank Langella, James Rebhorn, ...|\n",
      "|Just watched on UbuWeb this early experimental short film directed by William...|\n",
      "|I was at Wrestlemania VI in Toronto as a 10 year old, and the event I saw the...|\n",
      "|        First of all, the genre of this movie isn't comedy, it's more of a drama|\n",
      "|Shaky hand held cameras (this piece was shot for television mind you, not fil...|\n",
      "|This show should be titled, \"When Bad Writing Happens To Good Actors\" conside...|\n",
      "|                  I have to admit that I am disappointed after seeing this movie|\n",
      "|I'm not sure why the producers needed to trade on the name of a somewhat succ...|\n",
      "|   I did not quite get Barnens O  it is one of the weirdest ones I have watched|\n",
      "|                                       I struggle to see the point of this movie|\n",
      "|There were so many classic movies that were made where the leading people wer...|\n",
      "|Inane, awful farce basically about a young man who refuses to conform or bett...|\n",
      "|I must say that I wasn't impressed at all, probably because I was expecting m...|\n",
      "+--------------------------------------------------------------------------------+\n",
      "only showing top 20 rows\n",
      "\n"
     ]
    }
   ],
   "source": [
    "# only use first sentence of IMDB reviews\n",
    "@pandas_udf(\"string\")\n",
    "def first_sentence(text: pd.Series) -> pd.Series:\n",
    "    return pd.Series([s.split(\".\")[0] for s in text])\n",
    "\n",
    "df = spark.read.parquet(\"imdb_test\").withColumn(\"sentence\", first_sentence(col(\"lines\"))).select(\"sentence\").limit(100)\n",
    "df.show(truncate=80)"
   ]
  },
  {
   "cell_type": "code",
   "execution_count": 17,
   "id": "93917c10-d6db-4a86-a5c3-7ac9dd61dec3",
   "metadata": {},
   "outputs": [],
   "source": [
    "def model_loader(task: str):\n",
    "    import torch\n",
    "    from transformers import pipeline\n",
    "    \n",
    "    device_id = torch.cuda.current_device() if torch.cuda.is_available() else -1\n",
    "    return pipeline(task, device=device_id)    "
   ]
  },
  {
   "cell_type": "code",
   "execution_count": 18,
   "id": "4435ac00-1b5e-49d1-9620-5e02b5d439bf",
   "metadata": {},
   "outputs": [
    {
     "name": "stdout",
     "output_type": "stream",
     "text": [
      "Deferring model loading to executors.\n"
     ]
    }
   ],
   "source": [
    "# note: need to manually specify return_type per pipe output above\n",
    "classify = pipeline_udf(\"text-classification\", model_loader=model_loader, return_type=\"label string, score float\")"
   ]
  },
  {
   "cell_type": "code",
   "execution_count": 19,
   "id": "56bd4536-3237-4cd3-9e4e-e56a9a937b05",
   "metadata": {},
   "outputs": [],
   "source": [
    "predictions = df.withColumn(\"preds\", classify(col(\"sentence\"))).select(\"sentence\", \"preds.*\")"
   ]
  },
  {
   "cell_type": "code",
   "execution_count": 20,
   "id": "4e8a7c0c-9a9e-47aa-aea1-9a75a538e272",
   "metadata": {},
   "outputs": [
    {
     "name": "stderr",
     "output_type": "stream",
     "text": [
      "[Stage 20:>                                                         (0 + 1) / 1]\r"
     ]
    },
    {
     "name": "stdout",
     "output_type": "stream",
     "text": [
      "CPU times: user 11.6 ms, sys: 3.71 ms, total: 15.3 ms\n",
      "Wall time: 13.3 s\n"
     ]
    },
    {
     "name": "stderr",
     "output_type": "stream",
     "text": [
      "                                                                                \r"
     ]
    }
   ],
   "source": [
    "%%time\n",
    "preds = predictions.collect()"
   ]
  },
  {
   "cell_type": "code",
   "execution_count": 21,
   "id": "4212c1b7-90d1-4b61-a7ef-5a90bb787194",
   "metadata": {},
   "outputs": [
    {
     "name": "stderr",
     "output_type": "stream",
     "text": [
      "[Stage 23:>                                                         (0 + 1) / 1]\r"
     ]
    },
    {
     "name": "stdout",
     "output_type": "stream",
     "text": [
      "+--------------------------------------------------------------------------------+--------+----------+\n",
      "|                                                                        sentence|   label|     score|\n",
      "+--------------------------------------------------------------------------------+--------+----------+\n",
      "|i came across this film on the net by fluke and i was horrified by its conten...|NEGATIVE|0.99958783|\n",
      "|    He who fights with monsters might take care lest he thereby become a monster|NEGATIVE|0.99694073|\n",
      "|                                We thought this was one of the worst movies ever|NEGATIVE|0.99978095|\n",
      "|This movie, despite its list of B, C, and D list celebs, is a complete waste ...|NEGATIVE|0.99979585|\n",
      "|                                                          i have one word: focus|POSITIVE| 0.9677835|\n",
      "|This movie would have been alright, indeed probably excellent, if the directo...|NEGATIVE|0.99626476|\n",
      "|Disappointing heist movie indeed, I was actually expecting a pretty cool cat ...|NEGATIVE| 0.9995616|\n",
      "|THE BOX (2009) * Cameron Diaz, James Marsden, Frank Langella, James Rebhorn, ...|POSITIVE|  0.996014|\n",
      "|Just watched on UbuWeb this early experimental short film directed by William...|POSITIVE|0.99699247|\n",
      "|I was at Wrestlemania VI in Toronto as a 10 year old, and the event I saw the...|POSITIVE|0.98212516|\n",
      "|        First of all, the genre of this movie isn't comedy, it's more of a drama|NEGATIVE|0.97406524|\n",
      "|Shaky hand held cameras (this piece was shot for television mind you, not fil...|NEGATIVE| 0.9982899|\n",
      "|This show should be titled, \"When Bad Writing Happens To Good Actors\" conside...|NEGATIVE| 0.9990558|\n",
      "|                  I have to admit that I am disappointed after seeing this movie|NEGATIVE| 0.9992902|\n",
      "|I'm not sure why the producers needed to trade on the name of a somewhat succ...|NEGATIVE| 0.9978999|\n",
      "|   I did not quite get Barnens O  it is one of the weirdest ones I have watched|NEGATIVE|0.99890924|\n",
      "|                                       I struggle to see the point of this movie|NEGATIVE| 0.9995907|\n",
      "|There were so many classic movies that were made where the leading people wer...|POSITIVE| 0.9997459|\n",
      "|Inane, awful farce basically about a young man who refuses to conform or bett...|NEGATIVE|0.99944323|\n",
      "|I must say that I wasn't impressed at all, probably because I was expecting m...|NEGATIVE|0.99878234|\n",
      "+--------------------------------------------------------------------------------+--------+----------+\n",
      "only showing top 20 rows\n",
      "\n"
     ]
    },
    {
     "name": "stderr",
     "output_type": "stream",
     "text": [
      "                                                                                \r"
     ]
    }
   ],
   "source": [
    "predictions.show(truncate=80)"
   ]
  },
  {
   "cell_type": "code",
   "execution_count": null,
   "id": "fd210144-e719-4c19-8035-17b030c2b54f",
   "metadata": {},
   "outputs": [],
   "source": []
  }
 ],
 "metadata": {
  "kernelspec": {
   "display_name": "Python 3 (ipykernel)",
   "language": "python",
   "name": "python3"
  },
  "language_info": {
   "codemirror_mode": {
    "name": "ipython",
    "version": 3
   },
   "file_extension": ".py",
   "mimetype": "text/x-python",
   "name": "python",
   "nbconvert_exporter": "python",
   "pygments_lexer": "ipython3",
   "version": "3.9.10"
  }
 },
 "nbformat": 4,
 "nbformat_minor": 5
}
