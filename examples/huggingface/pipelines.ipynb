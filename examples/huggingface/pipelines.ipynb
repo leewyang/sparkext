{
 "cells": [
  {
   "cell_type": "markdown",
   "id": "60f7ac5d-4a95-4170-a0ac-a7faac9d9ef4",
   "metadata": {},
   "source": [
    "Based on: https://huggingface.co/docs/transformers/quicktour#pipeline-usage"
   ]
  },
  {
   "cell_type": "code",
   "execution_count": null,
   "id": "0dd0f77b-ee1b-4477-a038-d25a4f1da0ea",
   "metadata": {},
   "outputs": [],
   "source": [
    "import pandas as pd\n",
    "\n",
    "from inspect import signature\n",
    "from pyspark.sql.functions import col, pandas_udf\n",
    "from sparkext.huggingface import model_udf\n",
    "from transformers import pipeline"
   ]
  },
  {
   "cell_type": "code",
   "execution_count": null,
   "id": "553b28d2-a5d1-4d07-8a49-8f82b808e738",
   "metadata": {},
   "outputs": [],
   "source": [
    "pipe = pipeline(\"text-classification\")"
   ]
  },
  {
   "cell_type": "code",
   "execution_count": null,
   "id": "3b91fe91-b725-4564-ae93-56e3fb51e47c",
   "metadata": {},
   "outputs": [],
   "source": [
    "pipe(\"What can I say that hasn't been said already. I think this place is totally worth the hype.\")"
   ]
  },
  {
   "cell_type": "code",
   "execution_count": null,
   "id": "0be39eb3-462c-42ff-b8f4-09f4e4fe3a3c",
   "metadata": {},
   "outputs": [],
   "source": [
    "pipe(\"I will not say much about this film, because there is not much to say, because there is not much there to talk about.\")"
   ]
  },
  {
   "cell_type": "markdown",
   "id": "9db9517f-23f3-4754-8ea2-f6f1b024a75e",
   "metadata": {},
   "source": [
    "## Inference using Spark DL UDF"
   ]
  },
  {
   "cell_type": "code",
   "execution_count": null,
   "id": "5ecc866a-261f-4452-8f59-f1297a7141f8",
   "metadata": {},
   "outputs": [],
   "source": [
    "from sparkext.huggingface import model_udf"
   ]
  },
  {
   "cell_type": "code",
   "execution_count": null,
   "id": "60a80499-9b98-47d5-8ff5-b4af3369a350",
   "metadata": {},
   "outputs": [],
   "source": [
    "# only use first sentence of IMDB reviews\n",
    "@pandas_udf(\"string\")\n",
    "def first_sentence(text: pd.Series) -> pd.Series:\n",
    "    return pd.Series([s.split(\".\")[0] for s in text])\n",
    "\n",
    "df = spark.read.parquet(\"imdb_test\").withColumn(\"sentence\", first_sentence(col(\"lines\"))).select(\"sentence\")\n",
    "df.take(10)"
   ]
  },
  {
   "cell_type": "code",
   "execution_count": null,
   "id": "598c2433-82d4-4526-ae50-cdd74faf29c5",
   "metadata": {},
   "outputs": [],
   "source": [
    "# note: need to manually specify return_type per pipe output above\n",
    "classify = model_udf(pipe, return_type=\"label string, score float\")"
   ]
  },
  {
   "cell_type": "code",
   "execution_count": null,
   "id": "a52de60c-a9b9-4791-a8eb-0c0134388da4",
   "metadata": {},
   "outputs": [],
   "source": [
    "predictions = df.withColumn(\"preds\", classify(col(\"sentence\"))).select(\"sentence\", \"preds.*\")"
   ]
  },
  {
   "cell_type": "code",
   "execution_count": null,
   "id": "51c54c4a-371c-44a7-a3a3-bf94c98fcc92",
   "metadata": {},
   "outputs": [],
   "source": [
    "predictions.show()"
   ]
  }
 ],
 "metadata": {
  "kernelspec": {
   "display_name": "Python 3 (ipykernel)",
   "language": "python",
   "name": "python3"
  },
  "language_info": {
   "codemirror_mode": {
    "name": "ipython",
    "version": 3
   },
   "file_extension": ".py",
   "mimetype": "text/x-python",
   "name": "python",
   "nbconvert_exporter": "python",
   "pygments_lexer": "ipython3",
   "version": "3.9.10"
  }
 },
 "nbformat": 4,
 "nbformat_minor": 5
}
