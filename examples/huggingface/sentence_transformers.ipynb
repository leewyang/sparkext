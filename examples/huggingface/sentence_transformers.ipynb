{
 "cells": [
  {
   "cell_type": "markdown",
   "id": "777fc40d",
   "metadata": {},
   "source": [
    "# PySpark Huggingface Inferencing\n",
    "### Sentence Transformers\n",
    "\n",
    "From: https://huggingface.co/sentence-transformers"
   ]
  },
  {
   "cell_type": "code",
   "execution_count": 1,
   "id": "731faab7-a700-46f8-bba5-1c8764e5eacb",
   "metadata": {},
   "outputs": [],
   "source": [
    "from sentence_transformers import SentenceTransformer\n",
    "model = SentenceTransformer('paraphrase-MiniLM-L6-v2')\n",
    "\n",
    "#Sentences we want to encode. Example:\n",
    "sentence = ['This framework generates embeddings for each input sentence']\n",
    "\n",
    "\n",
    "#Sentences are encoded by calling model.encode()\n",
    "embedding = model.encode(sentence)"
   ]
  },
  {
   "cell_type": "code",
   "execution_count": 2,
   "id": "96eea5ca-3cf7-46e3-b40c-598538112d24",
   "metadata": {},
   "outputs": [
    {
     "data": {
      "text/plain": [
       "array([[-1.76214471e-01,  1.20601244e-01, -2.93623894e-01,\n",
       "        -2.29858100e-01, -8.22922513e-02,  2.37709180e-01,\n",
       "         3.39984953e-01, -7.80964196e-01,  1.18127622e-01,\n",
       "         1.63374022e-01, -1.37715399e-01,  2.40282685e-01,\n",
       "         4.25125629e-01,  1.72417864e-01,  1.05279565e-01,\n",
       "         5.18164217e-01,  6.22219704e-02,  3.99285674e-01,\n",
       "        -1.81652322e-01, -5.85578740e-01,  4.49718200e-02,\n",
       "        -1.72750384e-01, -2.68443257e-01, -1.47386223e-01,\n",
       "        -1.89217940e-01,  1.92150623e-01, -3.83842438e-01,\n",
       "        -3.96006882e-01,  4.30648863e-01, -3.15319866e-01,\n",
       "         3.65949601e-01,  6.05160147e-02,  3.57325822e-01,\n",
       "         1.59736469e-01, -3.00983846e-01,  2.63250262e-01,\n",
       "        -3.94311219e-01,  1.84855536e-01, -3.99549156e-01,\n",
       "        -2.67889529e-01, -5.45117259e-01, -3.13403755e-02,\n",
       "        -4.30644304e-01,  1.33278236e-01, -1.74793959e-01,\n",
       "        -4.35465515e-01, -4.77379203e-01,  7.12556094e-02,\n",
       "        -7.37001672e-02,  5.69136977e-01, -2.82579780e-01,\n",
       "         5.24973832e-02, -8.20008039e-01,  1.98296994e-01,\n",
       "         1.69511870e-01,  2.71779984e-01,  2.64610738e-01,\n",
       "        -2.55741086e-02, -1.74096271e-01,  1.63314357e-01,\n",
       "        -3.95260960e-01, -3.17559950e-02, -2.62555957e-01,\n",
       "         3.52754623e-01,  3.01435053e-01, -1.47197351e-01,\n",
       "         2.10075751e-01, -1.84010506e-01, -4.12896007e-01,\n",
       "         4.14775878e-01, -1.89769447e-01, -1.35482281e-01,\n",
       "        -3.79272282e-01, -4.68021594e-02, -3.33602838e-02,\n",
       "         9.00393277e-02, -3.30132961e-01, -3.87315378e-02,\n",
       "         3.75082344e-01, -1.46996707e-01,  4.34959769e-01,\n",
       "         5.38325667e-01, -2.65445441e-01,  1.64445981e-01,\n",
       "         4.17078376e-01, -4.72508594e-02, -7.48734772e-02,\n",
       "        -4.26260799e-01, -1.96994558e-01,  6.10316806e-02,\n",
       "        -4.74262714e-01, -6.48334444e-01,  3.71462464e-01,\n",
       "         2.50956893e-01,  1.22529663e-01,  8.88766348e-02,\n",
       "        -1.06724538e-01,  5.33982776e-02,  9.74504277e-02,\n",
       "        -3.46659869e-02, -1.02882899e-01,  2.32288986e-01,\n",
       "        -2.53739715e-01, -5.13112426e-01,  1.85216174e-01,\n",
       "        -3.04357737e-01, -3.55210900e-02, -1.26975283e-01,\n",
       "        -7.71633238e-02, -5.15329719e-01, -2.28072062e-01,\n",
       "         2.03345791e-02,  7.38176256e-02, -1.52558669e-01,\n",
       "        -4.00837898e-01, -2.47749358e-01,  3.97470325e-01,\n",
       "        -2.60260463e-01,  2.50905812e-01,  1.68228954e-01,\n",
       "         1.33900270e-01, -2.10833736e-02, -4.70035225e-01,\n",
       "         4.78850186e-01,  2.80345589e-01, -4.64546829e-01,\n",
       "         3.21747035e-01,  2.34207481e-01,  2.45772228e-01,\n",
       "        -4.71482277e-01,  5.00401378e-01,  4.10190135e-01,\n",
       "         5.15217066e-01,  2.62549222e-01,  2.11592913e-02,\n",
       "        -3.89687598e-01, -2.41742715e-01, -2.14834541e-01,\n",
       "        -8.62650126e-02, -1.65323511e-01, -5.21894321e-02,\n",
       "         3.41875017e-01,  4.50314373e-01, -3.06973487e-01,\n",
       "        -2.02294379e-01,  6.85521841e-01, -5.33892512e-01,\n",
       "         3.58471394e-01,  1.45286635e-01, -7.07057342e-02,\n",
       "        -1.50529295e-01, -8.56277943e-02, -7.67849609e-02,\n",
       "         1.89544693e-01, -1.04067355e-01,  5.33544004e-01,\n",
       "        -5.27887404e-01,  2.42331792e-02, -2.64347881e-01,\n",
       "        -2.23186761e-01, -3.81208748e-01,  7.59914741e-02,\n",
       "        -4.64484870e-01, -3.36549342e-01,  4.21229780e-01,\n",
       "         1.07479133e-01,  1.90457642e-01,  2.89491541e-03,\n",
       "        -1.08513549e-01,  1.53545380e-01,  3.16023350e-01,\n",
       "        -2.70837918e-02, -5.40594399e-01,  8.97289589e-02,\n",
       "        -1.15549631e-01,  3.97803932e-01, -4.97683227e-01,\n",
       "        -2.84893274e-01,  4.99862656e-02,  3.61279607e-01,\n",
       "         6.90535605e-01,  1.46821409e-01,  1.73396409e-01,\n",
       "        -1.74582243e-01, -3.15702438e-01,  6.72999099e-02,\n",
       "         2.17250094e-01,  9.78534371e-02, -1.29472673e-01,\n",
       "        -1.86929792e-01,  1.34877816e-01, -1.53884992e-01,\n",
       "         7.44718313e-02, -1.85536355e-01, -2.80628324e-01,\n",
       "        -1.14144169e-01,  4.12249565e-01,  6.39494658e-02,\n",
       "        -1.45715386e-01, -9.82061625e-02, -1.33081704e-01,\n",
       "        -1.88410416e-01, -2.84841880e-02, -3.49510312e-02,\n",
       "         3.34259421e-02,  6.98897466e-02,  1.90354645e-01,\n",
       "        -2.96724081e-01,  2.64701480e-03,  1.09140664e-01,\n",
       "         1.70892160e-02,  2.60589480e-01,  3.29038352e-01,\n",
       "        -6.61558956e-02,  2.39665538e-01, -2.26194620e-01,\n",
       "        -3.36869247e-02,  1.49400383e-01, -3.21265370e-01,\n",
       "        -2.68577933e-01,  5.72631538e-01, -4.92308438e-01,\n",
       "         2.00666398e-01, -3.49261791e-01, -2.89887786e-02,\n",
       "         6.09010577e-01, -5.72332978e-01,  2.35000461e-01,\n",
       "         6.47183694e-03, -3.14951241e-02,  2.78106946e-02,\n",
       "        -3.90340775e-01, -2.08949596e-01, -3.04452628e-01,\n",
       "        -7.20199794e-02, -8.29838589e-02,  3.73793095e-01,\n",
       "         7.38937780e-02, -2.21075490e-02,  9.88141000e-02,\n",
       "        -1.51426792e-01, -1.40430868e-01,  2.26017922e-01,\n",
       "         2.76090175e-01, -8.87751207e-02, -1.12816133e-01,\n",
       "        -2.66286105e-01,  2.77834296e-01, -4.75614034e-02,\n",
       "         6.71006367e-02, -2.78585684e-02, -2.39991341e-02,\n",
       "         2.51708746e-01,  4.68793899e-01, -5.39325655e-01,\n",
       "         1.10598437e-01, -3.44947368e-01,  4.15990055e-01,\n",
       "         7.28485510e-02, -3.19647282e-01,  4.90374297e-01,\n",
       "        -7.30365608e-03, -2.64250604e-03,  9.63711321e-01,\n",
       "         3.23884994e-01, -7.79619068e-02, -2.37589344e-01,\n",
       "         2.34038249e-01, -3.16054225e-01, -1.65658013e-03,\n",
       "        -1.09070659e+00,  3.38409364e-01,  4.70604151e-02,\n",
       "         1.07435547e-01, -2.06672415e-01,  4.26436309e-03,\n",
       "        -1.38459005e-03, -5.31455398e-01, -2.75648236e-01,\n",
       "        -1.64648682e-01, -3.42916429e-01, -4.26118881e-01,\n",
       "         6.01812065e-01,  4.55971867e-01, -2.72701859e-01,\n",
       "        -3.45803909e-02,  2.62752652e-01, -6.34178985e-03,\n",
       "         2.79631108e-01, -2.53559232e-01, -1.68626323e-01,\n",
       "         3.82934473e-02,  2.07763299e-01, -4.31525886e-01,\n",
       "        -7.24000707e-02, -1.26854599e-01,  2.07029786e-02,\n",
       "         5.74441433e-01,  3.54672492e-01,  9.28300619e-02,\n",
       "         6.70506060e-02,  1.11520454e-01, -1.86511576e-02,\n",
       "         4.62351918e-01,  2.72504687e-01, -3.60473931e-01,\n",
       "         5.29415190e-01, -1.00307597e-03, -8.81361067e-02,\n",
       "         1.49975374e-01,  5.25863692e-02,  4.63517517e-01,\n",
       "        -3.96831453e-01,  2.42640764e-01, -2.08912373e-01,\n",
       "         3.65672052e-01, -4.73616790e-04,  5.33963203e-01,\n",
       "        -1.97879702e-01,  3.11582893e-01, -6.96714818e-01,\n",
       "        -4.29500401e-01, -4.49359387e-01, -2.71369182e-02,\n",
       "        -6.98707178e-02,  2.06174746e-01, -1.57107815e-01,\n",
       "         4.43521291e-01, -6.74267560e-02, -3.00923854e-01,\n",
       "         5.14859498e-01,  3.36029738e-01,  6.63376749e-02,\n",
       "        -1.15235217e-01, -2.95980312e-02,  2.79471755e-01,\n",
       "        -3.48200612e-02, -7.29323924e-02, -4.58472781e-02,\n",
       "         1.54262677e-01,  8.09356391e-01,  5.20328224e-01,\n",
       "        -4.02114719e-01, -3.23153958e-02, -1.10363893e-01,\n",
       "         7.50504658e-02, -1.51098311e-01,  8.45740318e-01,\n",
       "        -1.80843860e-01,  3.22573543e-01,  1.04708284e-01,\n",
       "         3.19663703e-01, -1.55085385e-01,  1.69236824e-01,\n",
       "        -2.56996661e-01,  2.01208681e-01,  1.77393198e-01,\n",
       "        -2.74333298e-01, -3.36944252e-01,  5.02356768e-01,\n",
       "        -1.18357226e-01, -2.01166764e-01, -5.36485732e-01,\n",
       "        -7.69808143e-02,  1.15378909e-02, -2.36464366e-01,\n",
       "        -2.98771989e-02,  1.31366938e-01,  2.94184268e-01,\n",
       "         9.90915373e-02, -5.43897748e-01,  1.40812695e-01,\n",
       "         3.66998732e-01,  5.04864193e-02,  1.99122459e-01,\n",
       "        -2.80674785e-01,  4.34192210e-01, -1.40274972e-01,\n",
       "         5.78049064e-01,  1.77715614e-01,  8.98363218e-02,\n",
       "         3.29651713e-01,  6.13007955e-02, -3.24933499e-01]], dtype=float32)"
      ]
     },
     "execution_count": 2,
     "metadata": {},
     "output_type": "execute_result"
    }
   ],
   "source": [
    "embedding"
   ]
  },
  {
   "cell_type": "markdown",
   "id": "546eabe0",
   "metadata": {},
   "source": [
    "## PySpark"
   ]
  },
  {
   "cell_type": "markdown",
   "id": "257a1dac-83e4-4c01-9a57-63ca8f5b0a41",
   "metadata": {},
   "source": [
    "## Inference using Spark ML Model\n",
    "Note: you can restart the kernel and run from this point to simulate running in a different node or environment."
   ]
  },
  {
   "cell_type": "code",
   "execution_count": 3,
   "id": "0fb461ee-b4ea-43cb-b8c1-67aa6c0c6196",
   "metadata": {},
   "outputs": [],
   "source": [
    "import sparkext"
   ]
  },
  {
   "cell_type": "code",
   "execution_count": 4,
   "id": "9aee94d9-4021-40b2-b8f7-297b041b1066",
   "metadata": {},
   "outputs": [],
   "source": [
    "from sentence_transformers import SentenceTransformer\n",
    "\n",
    "model = SentenceTransformer('paraphrase-MiniLM-L6-v2')"
   ]
  },
  {
   "cell_type": "code",
   "execution_count": 5,
   "id": "07a7da12-544a-46ad-906e-69d180200a8d",
   "metadata": {},
   "outputs": [
    {
     "name": "stderr",
     "output_type": "stream",
     "text": [
      "                                                                                \r"
     ]
    }
   ],
   "source": [
    "# only use first N examples, since this is slow\n",
    "df = spark.read.parquet(\"imdb_test\").limit(100)"
   ]
  },
  {
   "cell_type": "code",
   "execution_count": 6,
   "id": "64477925-b381-4c8f-801d-e22a78c08eee",
   "metadata": {},
   "outputs": [
    {
     "name": "stderr",
     "output_type": "stream",
     "text": [
      "[Stage 1:>                                                          (0 + 1) / 1]\r"
     ]
    },
    {
     "name": "stdout",
     "output_type": "stream",
     "text": [
      "+--------------------------------------------------------------------------------+\n",
      "|                                                                           lines|\n",
      "+--------------------------------------------------------------------------------+\n",
      "|i came across this film on the net by fluke and i was horrified by its conten...|\n",
      "|He who fights with monsters might take care lest he thereby become a monster....|\n",
      "|We thought this was one of the worst movies ever. I had to volunteer to watch...|\n",
      "|This movie, despite its list of B, C, and D list celebs, is a complete waste ...|\n",
      "|i have one word: focus.<br /><br />well.<br /><br />IMDb wants me to use at l...|\n",
      "|This movie would have been alright, indeed probably excellent, if the directo...|\n",
      "|Disappointing heist movie indeed, I was actually expecting a pretty cool cat ...|\n",
      "|THE BOX (2009) * Cameron Diaz, James Marsden, Frank Langella, James Rebhorn, ...|\n",
      "|Just watched on UbuWeb this early experimental short film directed by William...|\n",
      "|I was at Wrestlemania VI in Toronto as a 10 year old, and the event I saw the...|\n",
      "|First of all, the genre of this movie isn't comedy, it's more of a drama.<br ...|\n",
      "|Shaky hand held cameras (this piece was shot for television mind you, not fil...|\n",
      "|This show should be titled, \"When Bad Writing Happens To Good Actors\" conside...|\n",
      "|I have to admit that I am disappointed after seeing this movie. I had expecte...|\n",
      "|I'm not sure why the producers needed to trade on the name of a somewhat succ...|\n",
      "|I did not quite get Barnens O  it is one of the weirdest ones I have watched...|\n",
      "|I struggle to see the point of this movie. It is supposed to be a comedy but ...|\n",
      "|There were so many classic movies that were made where the leading people wer...|\n",
      "|Inane, awful farce basically about a young man who refuses to conform or bett...|\n",
      "|I must say that I wasn't impressed at all, probably because I was expecting m...|\n",
      "+--------------------------------------------------------------------------------+\n",
      "only showing top 20 rows\n",
      "\n"
     ]
    },
    {
     "name": "stderr",
     "output_type": "stream",
     "text": [
      "                                                                                \r"
     ]
    }
   ],
   "source": [
    "df.show(truncate=80)"
   ]
  },
  {
   "cell_type": "code",
   "execution_count": 7,
   "id": "eed06084-cc50-4c74-a556-ac0c2fdd0437",
   "metadata": {},
   "outputs": [],
   "source": [
    "my_model = sparkext.huggingface.SentenceTransformerModel(model) \\\n",
    "                .setInputCol(\"lines\") \\\n",
    "                .setOutputCol(\"embedding\")"
   ]
  },
  {
   "cell_type": "code",
   "execution_count": 8,
   "id": "8f1d060f-fd31-4286-8a17-5f3dc38bd5d2",
   "metadata": {},
   "outputs": [
    {
     "name": "stdout",
     "output_type": "stream",
     "text": [
      "Using supplied SentenceTransformer\n"
     ]
    }
   ],
   "source": [
    "embeddings = my_model.transform(df)"
   ]
  },
  {
   "cell_type": "code",
   "execution_count": 9,
   "id": "fcda76ad-18df-4d95-9c3c-ead09f3e86db",
   "metadata": {},
   "outputs": [
    {
     "name": "stderr",
     "output_type": "stream",
     "text": [
      "[Stage 4:>                                                          (0 + 1) / 1]\r"
     ]
    },
    {
     "name": "stdout",
     "output_type": "stream",
     "text": [
      "CPU times: user 16.3 ms, sys: 3.39 ms, total: 19.7 ms\n",
      "Wall time: 7.96 s\n"
     ]
    },
    {
     "name": "stderr",
     "output_type": "stream",
     "text": [
      "                                                                                \r"
     ]
    }
   ],
   "source": [
    "%%time\n",
    "results = embeddings.collect()"
   ]
  },
  {
   "cell_type": "code",
   "execution_count": 10,
   "id": "750828cb-cd24-4ef0-9a66-04bf1948c2d4",
   "metadata": {},
   "outputs": [
    {
     "name": "stderr",
     "output_type": "stream",
     "text": [
      "[Stage 7:>                                                          (0 + 1) / 1]\r"
     ]
    },
    {
     "name": "stdout",
     "output_type": "stream",
     "text": [
      "+------------------------------------------------------------+------------------------------------------------------------+\n",
      "|                                                       lines|                                                   embedding|\n",
      "+------------------------------------------------------------+------------------------------------------------------------+\n",
      "|i came across this film on the net by fluke and i was hor...|[-0.05298701, -0.08726701, -0.23245229, -0.037297986, 0.0...|\n",
      "|He who fights with monsters might take care lest he there...|[0.20020881, -0.06675269, -0.26941508, 0.15710223, -0.031...|\n",
      "|We thought this was one of the worst movies ever. I had t...|[0.06361251, -0.16458587, 0.054284055, 0.12517855, 0.0279...|\n",
      "|This movie, despite its list of B, C, and D list celebs, ...|[-0.01568622, -0.4015518, -0.09817645, -0.060246892, -0.0...|\n",
      "|i have one word: focus.<br /><br />well.<br /><br />IMDb ...|[0.1225523, -0.19064504, -0.18919703, 0.0863426, 0.128941...|\n",
      "|This movie would have been alright, indeed probably excel...|[0.2814557, -0.18418056, 0.1915319, -0.3652443, 0.1540278...|\n",
      "|Disappointing heist movie indeed, I was actually expectin...|[0.047077745, -0.3600529, -0.22167316, -0.1284706, 0.0484...|\n",
      "|THE BOX (2009) * Cameron Diaz, James Marsden, Frank Lange...|[-0.2522354, -0.13461728, -0.34174132, -0.077118106, -0.2...|\n",
      "|Just watched on UbuWeb this early experimental short film...|[-0.13816614, -0.2974251, -0.049013387, 0.250071, -0.0777...|\n",
      "|I was at Wrestlemania VI in Toronto as a 10 year old, and...|[0.23357984, -0.23125634, 0.034482725, -0.21177264, 0.188...|\n",
      "|First of all, the genre of this movie isn't comedy, it's ...|[0.15175179, -0.30852368, 0.19279583, -0.062250994, -0.10...|\n",
      "|Shaky hand held cameras (this piece was shot for televisi...|[0.3997767, -0.14817557, 0.1554547, -0.053551897, 0.03227...|\n",
      "|This show should be titled, \"When Bad Writing Happens To ...|[0.2049052, -0.4988549, -0.04801758, -0.28364876, 0.00392...|\n",
      "|I have to admit that I am disappointed after seeing this ...|[-0.11335191, -0.15186445, -0.12894638, 0.06312555, -0.03...|\n",
      "|I'm not sure why the producers needed to trade on the nam...|[-0.2657385, -0.3802455, -0.057017665, -0.35594824, -0.11...|\n",
      "|I did not quite get Barnens O  it is one of the weirdest...|[0.0032509938, -0.12668324, 0.11182005, -0.019614734, 0.0...|\n",
      "|I struggle to see the point of this movie. It is supposed...|[0.06639798, -0.06640487, -0.045995317, -0.12992533, -0.1...|\n",
      "|There were so many classic movies that were made where th...|[0.0668261, -0.33767402, -0.18449917, -0.04940148, -0.069...|\n",
      "|Inane, awful farce basically about a young man who refuse...|[-0.056697056, 0.0044466387, -0.11333741, -0.25012305, -0...|\n",
      "|I must say that I wasn't impressed at all, probably becau...|[0.18983616, -0.057434037, -0.047161058, -0.1289032, 0.18...|\n",
      "+------------------------------------------------------------+------------------------------------------------------------+\n",
      "only showing top 20 rows\n",
      "\n"
     ]
    },
    {
     "name": "stderr",
     "output_type": "stream",
     "text": [
      "                                                                                \r"
     ]
    }
   ],
   "source": [
    "embeddings.show(truncate=60)"
   ]
  },
  {
   "cell_type": "markdown",
   "id": "d8a136a1-3a22-456c-b9b1-176726aae552",
   "metadata": {},
   "source": [
    "## Inference using Spark DL UDF\n",
    "Note: you can restart the kernel and run from this point to simulate running in a different node or environment."
   ]
  },
  {
   "cell_type": "markdown",
   "id": "7684117e-b912-4e0e-a2f9-bdf99bd3047d",
   "metadata": {},
   "source": [
    "### Using model instance on driver"
   ]
  },
  {
   "cell_type": "code",
   "execution_count": 11,
   "id": "8f57079c-45e1-40a7-acfe-65d31d537f0f",
   "metadata": {},
   "outputs": [],
   "source": [
    "from pyspark.sql.functions import col\n",
    "from sparkext.huggingface import sentence_transformer_udf"
   ]
  },
  {
   "cell_type": "code",
   "execution_count": 12,
   "id": "bd30374c-2d98-4fa3-b7b5-f639036f677f",
   "metadata": {},
   "outputs": [],
   "source": [
    "from sentence_transformers import SentenceTransformer\n",
    "\n",
    "model = SentenceTransformer(\"paraphrase-MiniLM-L6-v2\")"
   ]
  },
  {
   "cell_type": "code",
   "execution_count": 13,
   "id": "2cb5938e-d8dd-462e-a00d-eb75d09ca6a3",
   "metadata": {},
   "outputs": [],
   "source": [
    "# only use first N examples, since this is slow\n",
    "df = spark.read.parquet(\"imdb_test\").limit(100)"
   ]
  },
  {
   "cell_type": "code",
   "execution_count": 14,
   "id": "7c4b0916-6568-498f-a989-ea143bf104a4",
   "metadata": {},
   "outputs": [
    {
     "data": {
      "text/plain": [
       "StructType(List(StructField(lines,StringType,true)))"
      ]
     },
     "execution_count": 14,
     "metadata": {},
     "output_type": "execute_result"
    }
   ],
   "source": [
    "df.schema"
   ]
  },
  {
   "cell_type": "code",
   "execution_count": 15,
   "id": "7ce43b02-75f4-4cf6-a2bf-4d3c72035cdb",
   "metadata": {},
   "outputs": [
    {
     "name": "stdout",
     "output_type": "stream",
     "text": [
      "Using supplied SentenceTransformer\n"
     ]
    }
   ],
   "source": [
    "encode = sentence_transformer_udf(model)"
   ]
  },
  {
   "cell_type": "code",
   "execution_count": 16,
   "id": "04c291fb-32a4-48ef-a200-ac663f20bf01",
   "metadata": {},
   "outputs": [],
   "source": [
    "embeddings = df.withColumn(\"encoding\", encode(col(\"lines\")))"
   ]
  },
  {
   "cell_type": "code",
   "execution_count": 17,
   "id": "866d850b-7253-4959-8543-74f01af5d038",
   "metadata": {},
   "outputs": [
    {
     "name": "stderr",
     "output_type": "stream",
     "text": [
      "[Stage 11:>                                                         (0 + 1) / 1]\r"
     ]
    },
    {
     "name": "stdout",
     "output_type": "stream",
     "text": [
      "CPU times: user 12.7 ms, sys: 421 µs, total: 13.1 ms\n",
      "Wall time: 5.75 s\n"
     ]
    },
    {
     "name": "stderr",
     "output_type": "stream",
     "text": [
      "                                                                                \r"
     ]
    }
   ],
   "source": [
    "%%time\n",
    "results = embeddings.collect()"
   ]
  },
  {
   "cell_type": "code",
   "execution_count": 18,
   "id": "12480bfe-8374-4349-9bea-3ff2cf9ce8a0",
   "metadata": {},
   "outputs": [
    {
     "name": "stderr",
     "output_type": "stream",
     "text": [
      "[Stage 14:>                                                         (0 + 1) / 1]\r"
     ]
    },
    {
     "name": "stdout",
     "output_type": "stream",
     "text": [
      "+------------------------------------------------------------+------------------------------------------------------------+\n",
      "|                                                       lines|                                                    encoding|\n",
      "+------------------------------------------------------------+------------------------------------------------------------+\n",
      "|i came across this film on the net by fluke and i was hor...|[-0.05298701, -0.08726701, -0.23245229, -0.037297986, 0.0...|\n",
      "|He who fights with monsters might take care lest he there...|[0.20020881, -0.06675269, -0.26941508, 0.15710223, -0.031...|\n",
      "|We thought this was one of the worst movies ever. I had t...|[0.06361251, -0.16458587, 0.054284055, 0.12517855, 0.0279...|\n",
      "|This movie, despite its list of B, C, and D list celebs, ...|[-0.01568622, -0.4015518, -0.09817645, -0.060246892, -0.0...|\n",
      "|i have one word: focus.<br /><br />well.<br /><br />IMDb ...|[0.1225523, -0.19064504, -0.18919703, 0.0863426, 0.128941...|\n",
      "|This movie would have been alright, indeed probably excel...|[0.2814557, -0.18418056, 0.1915319, -0.3652443, 0.1540278...|\n",
      "|Disappointing heist movie indeed, I was actually expectin...|[0.047077745, -0.3600529, -0.22167316, -0.1284706, 0.0484...|\n",
      "|THE BOX (2009) * Cameron Diaz, James Marsden, Frank Lange...|[-0.2522354, -0.13461728, -0.34174132, -0.077118106, -0.2...|\n",
      "|Just watched on UbuWeb this early experimental short film...|[-0.13816614, -0.2974251, -0.049013387, 0.250071, -0.0777...|\n",
      "|I was at Wrestlemania VI in Toronto as a 10 year old, and...|[0.23357984, -0.23125634, 0.034482725, -0.21177264, 0.188...|\n",
      "|First of all, the genre of this movie isn't comedy, it's ...|[0.15175179, -0.30852368, 0.19279583, -0.062250994, -0.10...|\n",
      "|Shaky hand held cameras (this piece was shot for televisi...|[0.3997767, -0.14817557, 0.1554547, -0.053551897, 0.03227...|\n",
      "|This show should be titled, \"When Bad Writing Happens To ...|[0.2049052, -0.4988549, -0.04801758, -0.28364876, 0.00392...|\n",
      "|I have to admit that I am disappointed after seeing this ...|[-0.11335191, -0.15186445, -0.12894638, 0.06312555, -0.03...|\n",
      "|I'm not sure why the producers needed to trade on the nam...|[-0.2657385, -0.3802455, -0.057017665, -0.35594824, -0.11...|\n",
      "|I did not quite get Barnens O  it is one of the weirdest...|[0.0032509938, -0.12668324, 0.11182005, -0.019614734, 0.0...|\n",
      "|I struggle to see the point of this movie. It is supposed...|[0.06639798, -0.06640487, -0.045995317, -0.12992533, -0.1...|\n",
      "|There were so many classic movies that were made where th...|[0.0668261, -0.33767402, -0.18449917, -0.04940148, -0.069...|\n",
      "|Inane, awful farce basically about a young man who refuse...|[-0.056697056, 0.0044466387, -0.11333741, -0.25012305, -0...|\n",
      "|I must say that I wasn't impressed at all, probably becau...|[0.18983616, -0.057434037, -0.047161058, -0.1289032, 0.18...|\n",
      "+------------------------------------------------------------+------------------------------------------------------------+\n",
      "only showing top 20 rows\n",
      "\n"
     ]
    },
    {
     "name": "stderr",
     "output_type": "stream",
     "text": [
      "                                                                                \r"
     ]
    }
   ],
   "source": [
    "embeddings.show(truncate=60)"
   ]
  },
  {
   "cell_type": "markdown",
   "id": "8464c686-2e45-4e60-b3ec-28b82b5636e3",
   "metadata": {},
   "source": [
    "### Using model_id string on driver"
   ]
  },
  {
   "cell_type": "code",
   "execution_count": 19,
   "id": "e6cde267-45a2-4d4e-a7b6-50d9e4b696a2",
   "metadata": {},
   "outputs": [],
   "source": [
    "from pyspark.sql.functions import col\n",
    "from sparkext.huggingface import sentence_transformer_udf"
   ]
  },
  {
   "cell_type": "code",
   "execution_count": 20,
   "id": "ca8741df-0325-4f15-9ddb-ae79f40d3bf3",
   "metadata": {},
   "outputs": [],
   "source": [
    "# only use first N examples, since this is slow\n",
    "df = spark.read.parquet(\"imdb_test\").limit(100)"
   ]
  },
  {
   "cell_type": "code",
   "execution_count": 21,
   "id": "19ed1ab8-7d11-404e-a365-61d2d53b53f6",
   "metadata": {},
   "outputs": [
    {
     "name": "stdout",
     "output_type": "stream",
     "text": [
      "Loading SentenceTransformer(paraphrase-MiniLM-L6-v2) on driver\n"
     ]
    }
   ],
   "source": [
    "encode = sentence_transformer_udf(\"paraphrase-MiniLM-L6-v2\")"
   ]
  },
  {
   "cell_type": "code",
   "execution_count": 22,
   "id": "0c95b0e9-9ad9-423a-8bb9-8a3c6ab2fbda",
   "metadata": {},
   "outputs": [],
   "source": [
    "embeddings = df.withColumn(\"encoding\", encode(col(\"lines\")))"
   ]
  },
  {
   "cell_type": "code",
   "execution_count": 23,
   "id": "9e485325-ed4a-4005-b0b2-12f5b3e8cb1f",
   "metadata": {
    "tags": []
   },
   "outputs": [
    {
     "name": "stderr",
     "output_type": "stream",
     "text": [
      "[Stage 18:>                                                         (0 + 1) / 1]\r"
     ]
    },
    {
     "name": "stdout",
     "output_type": "stream",
     "text": [
      "CPU times: user 11.5 ms, sys: 0 ns, total: 11.5 ms\n",
      "Wall time: 5.71 s\n"
     ]
    },
    {
     "name": "stderr",
     "output_type": "stream",
     "text": [
      "                                                                                \r"
     ]
    }
   ],
   "source": [
    "%%time\n",
    "results = embeddings.collect()"
   ]
  },
  {
   "cell_type": "code",
   "execution_count": 24,
   "id": "2d154f63-6c8e-4566-8864-f36c997598e8",
   "metadata": {},
   "outputs": [
    {
     "name": "stderr",
     "output_type": "stream",
     "text": [
      "[Stage 21:>                                                         (0 + 1) / 1]\r"
     ]
    },
    {
     "name": "stdout",
     "output_type": "stream",
     "text": [
      "+------------------------------------------------------------+------------------------------------------------------------+\n",
      "|                                                       lines|                                                    encoding|\n",
      "+------------------------------------------------------------+------------------------------------------------------------+\n",
      "|i came across this film on the net by fluke and i was hor...|[-0.05298701, -0.08726701, -0.23245229, -0.037297986, 0.0...|\n",
      "|He who fights with monsters might take care lest he there...|[0.20020881, -0.06675269, -0.26941508, 0.15710223, -0.031...|\n",
      "|We thought this was one of the worst movies ever. I had t...|[0.06361251, -0.16458587, 0.054284055, 0.12517855, 0.0279...|\n",
      "|This movie, despite its list of B, C, and D list celebs, ...|[-0.01568622, -0.4015518, -0.09817645, -0.060246892, -0.0...|\n",
      "|i have one word: focus.<br /><br />well.<br /><br />IMDb ...|[0.1225523, -0.19064504, -0.18919703, 0.0863426, 0.128941...|\n",
      "|This movie would have been alright, indeed probably excel...|[0.2814557, -0.18418056, 0.1915319, -0.3652443, 0.1540278...|\n",
      "|Disappointing heist movie indeed, I was actually expectin...|[0.047077745, -0.3600529, -0.22167316, -0.1284706, 0.0484...|\n",
      "|THE BOX (2009) * Cameron Diaz, James Marsden, Frank Lange...|[-0.2522354, -0.13461728, -0.34174132, -0.077118106, -0.2...|\n",
      "|Just watched on UbuWeb this early experimental short film...|[-0.13816614, -0.2974251, -0.049013387, 0.250071, -0.0777...|\n",
      "|I was at Wrestlemania VI in Toronto as a 10 year old, and...|[0.23357984, -0.23125634, 0.034482725, -0.21177264, 0.188...|\n",
      "|First of all, the genre of this movie isn't comedy, it's ...|[0.15175179, -0.30852368, 0.19279583, -0.062250994, -0.10...|\n",
      "|Shaky hand held cameras (this piece was shot for televisi...|[0.3997767, -0.14817557, 0.1554547, -0.053551897, 0.03227...|\n",
      "|This show should be titled, \"When Bad Writing Happens To ...|[0.2049052, -0.4988549, -0.04801758, -0.28364876, 0.00392...|\n",
      "|I have to admit that I am disappointed after seeing this ...|[-0.11335191, -0.15186445, -0.12894638, 0.06312555, -0.03...|\n",
      "|I'm not sure why the producers needed to trade on the nam...|[-0.2657385, -0.3802455, -0.057017665, -0.35594824, -0.11...|\n",
      "|I did not quite get Barnens O  it is one of the weirdest...|[0.0032509938, -0.12668324, 0.11182005, -0.019614734, 0.0...|\n",
      "|I struggle to see the point of this movie. It is supposed...|[0.06639798, -0.06640487, -0.045995317, -0.12992533, -0.1...|\n",
      "|There were so many classic movies that were made where th...|[0.0668261, -0.33767402, -0.18449917, -0.04940148, -0.069...|\n",
      "|Inane, awful farce basically about a young man who refuse...|[-0.056697056, 0.0044466387, -0.11333741, -0.25012305, -0...|\n",
      "|I must say that I wasn't impressed at all, probably becau...|[0.18983616, -0.057434037, -0.047161058, -0.1289032, 0.18...|\n",
      "+------------------------------------------------------------+------------------------------------------------------------+\n",
      "only showing top 20 rows\n",
      "\n"
     ]
    },
    {
     "name": "stderr",
     "output_type": "stream",
     "text": [
      "                                                                                \r"
     ]
    }
   ],
   "source": [
    "embeddings.show(truncate=60)"
   ]
  },
  {
   "cell_type": "markdown",
   "id": "b6fc6f3d-50d6-4fa5-9a18-2fc6fe4b3898",
   "metadata": {},
   "source": [
    "### Using model loader"
   ]
  },
  {
   "cell_type": "code",
   "execution_count": 25,
   "id": "5e03de6b-9dc9-4aef-b1c1-e8e87f823a51",
   "metadata": {},
   "outputs": [],
   "source": [
    "from pyspark.sql.functions import col\n",
    "from sparkext.huggingface import sentence_transformer_udf"
   ]
  },
  {
   "cell_type": "code",
   "execution_count": 26,
   "id": "9ab46571-c637-44aa-8c50-2f9a3d7a4cf8",
   "metadata": {},
   "outputs": [],
   "source": [
    "# only use first N examples, since this is slow\n",
    "df = spark.read.parquet(\"imdb_test\").limit(100)"
   ]
  },
  {
   "cell_type": "code",
   "execution_count": 27,
   "id": "6fd0cca5-944c-4410-9162-7b7a0d645dc6",
   "metadata": {},
   "outputs": [],
   "source": [
    "def model_loader(model_name):\n",
    "    from sentence_transformers import SentenceTransformer\n",
    "    return SentenceTransformer(model_name)   "
   ]
  },
  {
   "cell_type": "code",
   "execution_count": 28,
   "id": "6ac08597-6599-438d-9e60-c0d15fdcba2b",
   "metadata": {},
   "outputs": [
    {
     "name": "stdout",
     "output_type": "stream",
     "text": [
      "Deferring model loading to executors.\n"
     ]
    }
   ],
   "source": [
    "encode = sentence_transformer_udf(\"paraphrase-MiniLM-L6-v2\", model_loader=model_loader)"
   ]
  },
  {
   "cell_type": "code",
   "execution_count": 29,
   "id": "37539f13-b280-4352-82c9-e843709751e3",
   "metadata": {},
   "outputs": [],
   "source": [
    "embeddings = df.withColumn(\"encoding\", encode(col(\"lines\")))"
   ]
  },
  {
   "cell_type": "code",
   "execution_count": 30,
   "id": "5a6511eb-5c08-4307-9452-5baa869bb70a",
   "metadata": {
    "tags": []
   },
   "outputs": [
    {
     "name": "stderr",
     "output_type": "stream",
     "text": [
      "[Stage 25:>                                                         (0 + 1) / 1]\r"
     ]
    },
    {
     "name": "stdout",
     "output_type": "stream",
     "text": [
      "CPU times: user 13.2 ms, sys: 0 ns, total: 13.2 ms\n",
      "Wall time: 11.6 s\n"
     ]
    },
    {
     "name": "stderr",
     "output_type": "stream",
     "text": [
      "                                                                                \r"
     ]
    }
   ],
   "source": [
    "%%time\n",
    "results = embeddings.collect()"
   ]
  },
  {
   "cell_type": "code",
   "execution_count": 31,
   "id": "ed1633d7-ae6e-4bfc-a0d2-ee9ab8ce9864",
   "metadata": {},
   "outputs": [
    {
     "name": "stderr",
     "output_type": "stream",
     "text": [
      "[Stage 28:>                                                         (0 + 1) / 1]\r"
     ]
    },
    {
     "name": "stdout",
     "output_type": "stream",
     "text": [
      "+------------------------------------------------------------+------------------------------------------------------------+\n",
      "|                                                       lines|                                                    encoding|\n",
      "+------------------------------------------------------------+------------------------------------------------------------+\n",
      "|Cyber zone, as this DVD was sold in Oz, is about the wors...|[-0.16858114, -0.20849928, -0.13957737, -0.2384811, -0.00...|\n",
      "|I watched this movie to see the direction one of the most...|[0.008758395, -0.008342016, -0.11909039, 0.025434582, -0....|\n",
      "|I tried to be patient and open-minded but found myself in...|[0.24895968, -0.06459605, 0.20849153, -0.062761486, 0.214...|\n",
      "|While the dog was cute, the film was not. It wasn't the p...|[0.088919066, -0.2933342, 0.09228413, -0.018055102, -0.07...|\n",
      "|The opening scene makes you feel like you're watching a h...|[0.1402397, -0.34980178, 0.09537209, -0.13844037, -0.2392...|\n",
      "|This movie starts off promisingly enough, but it gets a l...|[0.18224928, -0.054674737, -0.034570802, 0.038441807, -0....|\n",
      "|I was out-of-town, visiting an old friend. After dinner, ...|[0.15863706, 0.067307286, 0.10287029, -0.101488784, -0.18...|\n",
      "|Well, where to start describing this celluloid debacle? Y...|[-0.29094812, 0.026240652, -0.21248409, 0.02882653, -0.17...|\n",
      "|An ear-splitting movie, a quasi-old-fashioned screwball r...|[0.0042865127, -0.092527084, 0.16298515, -0.2638458, -0.0...|\n",
      "|The horror. The film about the Nazis - the Germans. The m...|[0.24317953, 0.37789926, -0.61187315, -0.053525604, 0.230...|\n",
      "|This is clearly a French film. It is about young group of...|[0.07975197, 0.21082358, -0.1811564, -0.13680509, 0.18059...|\n",
      "|As Joe Bob Briggs would say, this movie relies a lot on t...|[0.07622889, -0.019785054, -0.012717722, -0.0838225, -0.0...|\n",
      "|Leonard Rossiter and Frances de la Tour carry this film, ...|[0.16638486, -0.017002579, -0.097265065, -0.18876497, 0.2...|\n",
      "|Finally got to see this movie last weekend. What a disapp...|[-0.06665047, 0.04517406, 0.15833542, -0.085809015, 0.041...|\n",
      "|I was so offended by this film that I had to write SOMETH...|[0.050268397, -0.052543662, -0.09732344, -0.14642999, 0.2...|\n",
      "|Cultural Vandalism Is the new Hallmark production of Gull...|[0.013892798, -0.5186777, -0.21149601, 0.01580381, 0.2405...|\n",
      "|Yet again, I appear to be the only person on planet Earth...|[-0.19963744, -0.12274674, -0.033920623, -0.054569542, 0....|\n",
      "|This lame Harold Lloyd sound film has nary a laugh in it,...|[-0.0059274584, 0.1411499, -0.031194331, 0.004976468, -0....|\n",
      "|Having been pleasantly surprised by Sandra Bullock's perf...|[0.32488182, -0.22688173, -0.040405836, 0.03669269, -0.22...|\n",
      "|I had stifled high hopes for this David Lynch, whom I rea...|[0.1077191, -0.2666428, -0.27415246, -0.038765322, 0.0548...|\n",
      "+------------------------------------------------------------+------------------------------------------------------------+\n",
      "only showing top 20 rows\n",
      "\n"
     ]
    },
    {
     "name": "stderr",
     "output_type": "stream",
     "text": [
      "                                                                                \r"
     ]
    }
   ],
   "source": [
    "embeddings.show(truncate=60)"
   ]
  },
  {
   "cell_type": "code",
   "execution_count": null,
   "id": "a6ba59e0-f741-4a39-9ddf-e56a2de4b65a",
   "metadata": {},
   "outputs": [],
   "source": []
  }
 ],
 "metadata": {
  "kernelspec": {
   "display_name": "Python 3 (ipykernel)",
   "language": "python",
   "name": "python3"
  },
  "language_info": {
   "codemirror_mode": {
    "name": "ipython",
    "version": 3
   },
   "file_extension": ".py",
   "mimetype": "text/x-python",
   "name": "python",
   "nbconvert_exporter": "python",
   "pygments_lexer": "ipython3",
   "version": "3.9.10"
  }
 },
 "nbformat": 4,
 "nbformat_minor": 5
}
