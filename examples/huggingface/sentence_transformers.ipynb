{
 "cells": [
  {
   "cell_type": "markdown",
   "id": "777fc40d",
   "metadata": {},
   "source": [
    "# PySpark Huggingface Inferencing\n",
    "### Sentence Transformers\n",
    "\n",
    "From: https://huggingface.co/sentence-transformers"
   ]
  },
  {
   "cell_type": "code",
   "execution_count": null,
   "id": "731faab7-a700-46f8-bba5-1c8764e5eacb",
   "metadata": {},
   "outputs": [],
   "source": [
    "from sentence_transformers import SentenceTransformer\n",
    "model = SentenceTransformer('paraphrase-MiniLM-L6-v2')\n",
    "\n",
    "#Sentences we want to encode. Example:\n",
    "sentence = ['This framework generates embeddings for each input sentence']\n",
    "\n",
    "\n",
    "#Sentences are encoded by calling model.encode()\n",
    "embedding = model.encode(sentence)"
   ]
  },
  {
   "cell_type": "code",
   "execution_count": null,
   "id": "96eea5ca-3cf7-46e3-b40c-598538112d24",
   "metadata": {},
   "outputs": [],
   "source": [
    "embedding"
   ]
  },
  {
   "cell_type": "markdown",
   "id": "546eabe0",
   "metadata": {},
   "source": [
    "## PySpark"
   ]
  },
  {
   "cell_type": "markdown",
   "id": "257a1dac-83e4-4c01-9a57-63ca8f5b0a41",
   "metadata": {},
   "source": [
    "## Inference using Spark ML Model\n",
    "Note: you can restart the kernel and run from this point to simulate running in a different node or environment."
   ]
  },
  {
   "cell_type": "code",
   "execution_count": null,
   "id": "0fb461ee-b4ea-43cb-b8c1-67aa6c0c6196",
   "metadata": {},
   "outputs": [],
   "source": [
    "import sparkext"
   ]
  },
  {
   "cell_type": "code",
   "execution_count": null,
   "id": "9aee94d9-4021-40b2-b8f7-297b041b1066",
   "metadata": {},
   "outputs": [],
   "source": [
    "from sentence_transformers import SentenceTransformer\n",
    "\n",
    "model = SentenceTransformer('paraphrase-MiniLM-L6-v2')"
   ]
  },
  {
   "cell_type": "code",
   "execution_count": null,
   "id": "07a7da12-544a-46ad-906e-69d180200a8d",
   "metadata": {},
   "outputs": [],
   "source": [
    "# only use first N examples, since this is slow\n",
    "df = spark.read.parquet(\"imdb_test\").limit(100)"
   ]
  },
  {
   "cell_type": "code",
   "execution_count": null,
   "id": "64477925-b381-4c8f-801d-e22a78c08eee",
   "metadata": {},
   "outputs": [],
   "source": [
    "df.show()"
   ]
  },
  {
   "cell_type": "code",
   "execution_count": null,
   "id": "eed06084-cc50-4c74-a556-ac0c2fdd0437",
   "metadata": {},
   "outputs": [],
   "source": [
    "my_model = sparkext.huggingface.SentenceTransformerModel(model) \\\n",
    "                .setInputCol(\"lines\") \\\n",
    "                .setOutputCol(\"embedding\")"
   ]
  },
  {
   "cell_type": "code",
   "execution_count": null,
   "id": "8f1d060f-fd31-4286-8a17-5f3dc38bd5d2",
   "metadata": {},
   "outputs": [],
   "source": [
    "embeddings = my_model.transform(df)"
   ]
  },
  {
   "cell_type": "code",
   "execution_count": null,
   "id": "fcda76ad-18df-4d95-9c3c-ead09f3e86db",
   "metadata": {},
   "outputs": [],
   "source": [
    "%%time\n",
    "results = embeddings.collect()"
   ]
  },
  {
   "cell_type": "code",
   "execution_count": null,
   "id": "750828cb-cd24-4ef0-9a66-04bf1948c2d4",
   "metadata": {},
   "outputs": [],
   "source": [
    "results[0]"
   ]
  },
  {
   "cell_type": "markdown",
   "id": "d8a136a1-3a22-456c-b9b1-176726aae552",
   "metadata": {},
   "source": [
    "## Inference using Spark DL UDF\n",
    "Note: you can restart the kernel and run from this point to simulate running in a different node or environment."
   ]
  },
  {
   "cell_type": "markdown",
   "id": "7684117e-b912-4e0e-a2f9-bdf99bd3047d",
   "metadata": {},
   "source": [
    "### Using model instance on driver"
   ]
  },
  {
   "cell_type": "code",
   "execution_count": null,
   "id": "8f57079c-45e1-40a7-acfe-65d31d537f0f",
   "metadata": {},
   "outputs": [],
   "source": [
    "from pyspark.sql.functions import col\n",
    "from sparkext.huggingface import sentence_transformer_udf"
   ]
  },
  {
   "cell_type": "code",
   "execution_count": null,
   "id": "bd30374c-2d98-4fa3-b7b5-f639036f677f",
   "metadata": {},
   "outputs": [],
   "source": [
    "from sentence_transformers import SentenceTransformer\n",
    "\n",
    "model = SentenceTransformer(\"paraphrase-MiniLM-L6-v2\")"
   ]
  },
  {
   "cell_type": "code",
   "execution_count": null,
   "id": "2cb5938e-d8dd-462e-a00d-eb75d09ca6a3",
   "metadata": {},
   "outputs": [],
   "source": [
    "# only use first N examples, since this is slow\n",
    "df = spark.read.parquet(\"imdb_test\").limit(200)"
   ]
  },
  {
   "cell_type": "code",
   "execution_count": null,
   "id": "7c4b0916-6568-498f-a989-ea143bf104a4",
   "metadata": {},
   "outputs": [],
   "source": [
    "df.schema"
   ]
  },
  {
   "cell_type": "code",
   "execution_count": null,
   "id": "7ce43b02-75f4-4cf6-a2bf-4d3c72035cdb",
   "metadata": {},
   "outputs": [],
   "source": [
    "encode = sentence_transformer_udf(model)"
   ]
  },
  {
   "cell_type": "code",
   "execution_count": null,
   "id": "04c291fb-32a4-48ef-a200-ac663f20bf01",
   "metadata": {},
   "outputs": [],
   "source": [
    "embeddings = df.withColumn(\"encoding\", encode(col(\"lines\")))"
   ]
  },
  {
   "cell_type": "code",
   "execution_count": null,
   "id": "866d850b-7253-4959-8543-74f01af5d038",
   "metadata": {},
   "outputs": [],
   "source": [
    "%%time\n",
    "results = embeddings.collect()"
   ]
  },
  {
   "cell_type": "code",
   "execution_count": null,
   "id": "12480bfe-8374-4349-9bea-3ff2cf9ce8a0",
   "metadata": {},
   "outputs": [],
   "source": [
    "results[0]"
   ]
  },
  {
   "cell_type": "markdown",
   "id": "8464c686-2e45-4e60-b3ec-28b82b5636e3",
   "metadata": {},
   "source": [
    "### Using model_id string on driver"
   ]
  },
  {
   "cell_type": "code",
   "execution_count": null,
   "id": "e6cde267-45a2-4d4e-a7b6-50d9e4b696a2",
   "metadata": {},
   "outputs": [],
   "source": [
    "from pyspark.sql.functions import col\n",
    "from sparkext.huggingface import sentence_transformer_udf"
   ]
  },
  {
   "cell_type": "code",
   "execution_count": null,
   "id": "ca8741df-0325-4f15-9ddb-ae79f40d3bf3",
   "metadata": {},
   "outputs": [],
   "source": [
    "# only use first N examples, since this is slow\n",
    "df = spark.read.parquet(\"imdb_test\").limit(200)"
   ]
  },
  {
   "cell_type": "code",
   "execution_count": null,
   "id": "19ed1ab8-7d11-404e-a365-61d2d53b53f6",
   "metadata": {},
   "outputs": [],
   "source": [
    "encode = sentence_transformer_udf(\"paraphrase-MiniLM-L6-v2\")"
   ]
  },
  {
   "cell_type": "code",
   "execution_count": null,
   "id": "0c95b0e9-9ad9-423a-8bb9-8a3c6ab2fbda",
   "metadata": {},
   "outputs": [],
   "source": [
    "embeddings = df.withColumn(\"encoding\", encode(col(\"lines\")))"
   ]
  },
  {
   "cell_type": "code",
   "execution_count": null,
   "id": "9e485325-ed4a-4005-b0b2-12f5b3e8cb1f",
   "metadata": {
    "tags": []
   },
   "outputs": [],
   "source": [
    "%%time\n",
    "results = embeddings.collect()"
   ]
  },
  {
   "cell_type": "code",
   "execution_count": null,
   "id": "2d154f63-6c8e-4566-8864-f36c997598e8",
   "metadata": {},
   "outputs": [],
   "source": [
    "results[0]"
   ]
  },
  {
   "cell_type": "markdown",
   "id": "b6fc6f3d-50d6-4fa5-9a18-2fc6fe4b3898",
   "metadata": {},
   "source": [
    "### Using model loader"
   ]
  },
  {
   "cell_type": "code",
   "execution_count": null,
   "id": "5e03de6b-9dc9-4aef-b1c1-e8e87f823a51",
   "metadata": {},
   "outputs": [],
   "source": [
    "from pyspark.sql.functions import col\n",
    "from sparkext.huggingface import sentence_transformer_udf"
   ]
  },
  {
   "cell_type": "code",
   "execution_count": null,
   "id": "9ab46571-c637-44aa-8c50-2f9a3d7a4cf8",
   "metadata": {},
   "outputs": [],
   "source": [
    "# only use first N examples, since this is slow\n",
    "df = spark.read.parquet(\"imdb_test\").limit(200)"
   ]
  },
  {
   "cell_type": "code",
   "execution_count": null,
   "id": "6fd0cca5-944c-4410-9162-7b7a0d645dc6",
   "metadata": {},
   "outputs": [],
   "source": [
    "def model_loader(model_name):\n",
    "    from sentence_transformers import SentenceTransformer\n",
    "    return SentenceTransformer(model_name)   "
   ]
  },
  {
   "cell_type": "code",
   "execution_count": null,
   "id": "6ac08597-6599-438d-9e60-c0d15fdcba2b",
   "metadata": {},
   "outputs": [],
   "source": [
    "encode = sentence_transformer_udf(\"paraphrase-MiniLM-L6-v2\", model_loader=model_loader)"
   ]
  },
  {
   "cell_type": "code",
   "execution_count": null,
   "id": "37539f13-b280-4352-82c9-e843709751e3",
   "metadata": {},
   "outputs": [],
   "source": [
    "embeddings = df.withColumn(\"encoding\", encode(col(\"lines\")))"
   ]
  },
  {
   "cell_type": "code",
   "execution_count": null,
   "id": "5a6511eb-5c08-4307-9452-5baa869bb70a",
   "metadata": {
    "tags": []
   },
   "outputs": [],
   "source": [
    "%%time\n",
    "results = embeddings.collect()"
   ]
  },
  {
   "cell_type": "code",
   "execution_count": null,
   "id": "ed1633d7-ae6e-4bfc-a0d2-ee9ab8ce9864",
   "metadata": {},
   "outputs": [],
   "source": [
    "results[0]"
   ]
  },
  {
   "cell_type": "code",
   "execution_count": null,
   "id": "a6ba59e0-f741-4a39-9ddf-e56a2de4b65a",
   "metadata": {},
   "outputs": [],
   "source": []
  }
 ],
 "metadata": {
  "kernelspec": {
   "display_name": "Python 3 (ipykernel)",
   "language": "python",
   "name": "python3"
  },
  "language_info": {
   "codemirror_mode": {
    "name": "ipython",
    "version": 3
   },
   "file_extension": ".py",
   "mimetype": "text/x-python",
   "name": "python",
   "nbconvert_exporter": "python",
   "pygments_lexer": "ipython3",
   "version": "3.9.10"
  }
 },
 "nbformat": 4,
 "nbformat_minor": 5
}
