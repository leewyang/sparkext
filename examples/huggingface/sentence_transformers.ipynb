{
 "cells": [
  {
   "cell_type": "markdown",
   "id": "777fc40d",
   "metadata": {},
   "source": [
    "# PySpark Huggingface Inferencing\n",
    "### Sentence Transformers\n",
    "\n",
    "From: https://huggingface.co/sentence-transformers"
   ]
  },
  {
   "cell_type": "code",
   "execution_count": null,
   "id": "731faab7-a700-46f8-bba5-1c8764e5eacb",
   "metadata": {},
   "outputs": [],
   "source": [
    "from sentence_transformers import SentenceTransformer\n",
    "model = SentenceTransformer('paraphrase-MiniLM-L6-v2')\n",
    "\n",
    "#Sentences we want to encode. Example:\n",
    "sentence = ['This framework generates embeddings for each input sentence']\n",
    "\n",
    "\n",
    "#Sentences are encoded by calling model.encode()\n",
    "embedding = model.encode(sentence)"
   ]
  },
  {
   "cell_type": "code",
   "execution_count": null,
   "id": "96eea5ca-3cf7-46e3-b40c-598538112d24",
   "metadata": {},
   "outputs": [],
   "source": [
    "embedding"
   ]
  },
  {
   "cell_type": "markdown",
   "id": "546eabe0",
   "metadata": {},
   "source": [
    "## PySpark"
   ]
  },
  {
   "cell_type": "markdown",
   "id": "257a1dac-83e4-4c01-9a57-63ca8f5b0a41",
   "metadata": {},
   "source": [
    "## Inference using Spark ML Model\n",
    "Note: you can restart the kernel and run from this point to simulate running in a different node or environment."
   ]
  },
  {
   "cell_type": "code",
   "execution_count": null,
   "id": "0fb461ee-b4ea-43cb-b8c1-67aa6c0c6196",
   "metadata": {},
   "outputs": [],
   "source": [
    "import sparkext"
   ]
  },
  {
   "cell_type": "code",
   "execution_count": null,
   "id": "9aee94d9-4021-40b2-b8f7-297b041b1066",
   "metadata": {},
   "outputs": [],
   "source": [
    "from sentence_transformers import SentenceTransformer\n",
    "\n",
    "model = SentenceTransformer('paraphrase-MiniLM-L6-v2')"
   ]
  },
  {
   "cell_type": "code",
   "execution_count": null,
   "id": "07a7da12-544a-46ad-906e-69d180200a8d",
   "metadata": {},
   "outputs": [],
   "source": [
    "# only use first N examples, since this is slow\n",
    "df = spark.read.parquet(\"imdb_test\").limit(100)"
   ]
  },
  {
   "cell_type": "code",
   "execution_count": null,
   "id": "eed06084-cc50-4c74-a556-ac0c2fdd0437",
   "metadata": {},
   "outputs": [],
   "source": [
    "my_model = sparkext.huggingface.Model(model)"
   ]
  },
  {
   "cell_type": "code",
   "execution_count": null,
   "id": "8f1d060f-fd31-4286-8a17-5f3dc38bd5d2",
   "metadata": {},
   "outputs": [],
   "source": [
    "embeddings = my_model.transform(df)"
   ]
  },
  {
   "cell_type": "code",
   "execution_count": null,
   "id": "750828cb-cd24-4ef0-9a66-04bf1948c2d4",
   "metadata": {},
   "outputs": [],
   "source": [
    "embeddings.take(1)"
   ]
  },
  {
   "cell_type": "markdown",
   "id": "d8a136a1-3a22-456c-b9b1-176726aae552",
   "metadata": {},
   "source": [
    "## Inference using Spark DL UDF\n",
    "Note: you can restart the kernel and run from this point to simulate running in a different node or environment."
   ]
  },
  {
   "cell_type": "code",
   "execution_count": null,
   "id": "8f57079c-45e1-40a7-acfe-65d31d537f0f",
   "metadata": {},
   "outputs": [],
   "source": [
    "from pyspark.sql.functions import col\n",
    "from sparkext.huggingface import model_udf"
   ]
  },
  {
   "cell_type": "code",
   "execution_count": null,
   "id": "bd30374c-2d98-4fa3-b7b5-f639036f677f",
   "metadata": {},
   "outputs": [],
   "source": [
    "from sentence_transformers import SentenceTransformer\n",
    "\n",
    "model = SentenceTransformer('paraphrase-MiniLM-L6-v2')"
   ]
  },
  {
   "cell_type": "code",
   "execution_count": null,
   "id": "2cb5938e-d8dd-462e-a00d-eb75d09ca6a3",
   "metadata": {},
   "outputs": [],
   "source": [
    "# only use first N examples, since this is slow\n",
    "df = spark.read.parquet(\"imdb_test\").limit(100)"
   ]
  },
  {
   "cell_type": "code",
   "execution_count": null,
   "id": "7c4b0916-6568-498f-a989-ea143bf104a4",
   "metadata": {},
   "outputs": [],
   "source": [
    "df.schema"
   ]
  },
  {
   "cell_type": "code",
   "execution_count": null,
   "id": "7ce43b02-75f4-4cf6-a2bf-4d3c72035cdb",
   "metadata": {},
   "outputs": [],
   "source": [
    "encode = model_udf(model, return_type='array<float>')"
   ]
  },
  {
   "cell_type": "code",
   "execution_count": null,
   "id": "04c291fb-32a4-48ef-a200-ac663f20bf01",
   "metadata": {},
   "outputs": [],
   "source": [
    "embeddings = df.withColumn(\"encoding\", encode(col(\"lines\")))"
   ]
  },
  {
   "cell_type": "code",
   "execution_count": null,
   "id": "96ebc672-1d9a-41b9-9923-cf2aa05dc747",
   "metadata": {},
   "outputs": [],
   "source": [
    "embeddings.take(1)"
   ]
  },
  {
   "cell_type": "code",
   "execution_count": null,
   "id": "e74e6ffa-d03a-4ab9-aa94-0cd9cc5f479f",
   "metadata": {},
   "outputs": [],
   "source": []
  }
 ],
 "metadata": {
  "kernelspec": {
   "display_name": "Python 3 (ipykernel)",
   "language": "python",
   "name": "python3"
  },
  "language_info": {
   "codemirror_mode": {
    "name": "ipython",
    "version": 3
   },
   "file_extension": ".py",
   "mimetype": "text/x-python",
   "name": "python",
   "nbconvert_exporter": "python",
   "pygments_lexer": "ipython3",
   "version": "3.9.10"
  }
 },
 "nbformat": 4,
 "nbformat_minor": 5
}
