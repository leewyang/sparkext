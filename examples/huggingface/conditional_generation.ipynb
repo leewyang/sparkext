{
 "cells": [
  {
   "cell_type": "markdown",
   "id": "777fc40d",
   "metadata": {},
   "source": [
    "# PySpark Huggingface Inferencing\n",
    "## Conditional generation\n",
    "\n",
    "From: https://huggingface.co/docs/transformers/model_doc/t5"
   ]
  },
  {
   "cell_type": "markdown",
   "id": "6bcbccb1-3f82-425b-a82d-12d4f2f91d6e",
   "metadata": {},
   "source": [
    "### Using PyTorch"
   ]
  },
  {
   "cell_type": "code",
   "execution_count": null,
   "id": "731faab7-a700-46f8-bba5-1c8764e5eacb",
   "metadata": {},
   "outputs": [],
   "source": [
    "from transformers import T5Tokenizer, T5ForConditionalGeneration\n",
    "\n",
    "tokenizer = T5Tokenizer.from_pretrained(\"t5-small\")\n",
    "model = T5ForConditionalGeneration.from_pretrained(\"t5-small\")\n",
    "\n",
    "max_source_length = 512\n",
    "max_target_length = 128\n",
    "\n",
    "task_prefix = \"translate English to German: \"\n",
    "\n",
    "lines = [\n",
    "    \"The house is wonderful\",\n",
    "    \"Welcome to NYC\",\n",
    "    \"HuggingFace is a company\"\n",
    "]\n",
    "\n",
    "input_sequences = [task_prefix + l for l in lines]"
   ]
  },
  {
   "cell_type": "code",
   "execution_count": null,
   "id": "45abfa26-02da-4d4a-a925-85b387de0ada",
   "metadata": {},
   "outputs": [],
   "source": [
    "input_ids = tokenizer(input_sequences, \n",
    "                      padding=\"longest\", \n",
    "                      max_length=max_source_length,\n",
    "                      return_tensors=\"pt\").input_ids\n",
    "outputs = model.generate(input_ids)"
   ]
  },
  {
   "cell_type": "code",
   "execution_count": null,
   "id": "72972ade-3a97-4bb3-9efa-31039a1a9442",
   "metadata": {},
   "outputs": [],
   "source": [
    "[tokenizer.decode(o, skip_special_tokens=True) for o in outputs]"
   ]
  },
  {
   "cell_type": "code",
   "execution_count": null,
   "id": "18d060a1-19ef-4101-a9a6-2fdc184e07b0",
   "metadata": {},
   "outputs": [],
   "source": [
    "model.framework"
   ]
  },
  {
   "cell_type": "markdown",
   "id": "05c79ac4-bf25-421e-b55e-020d6d9e15d5",
   "metadata": {},
   "source": [
    "### Using TensorFlow"
   ]
  },
  {
   "cell_type": "code",
   "execution_count": null,
   "id": "f6f0dbf3-712b-4c58-85eb-261ce15bb2be",
   "metadata": {},
   "outputs": [],
   "source": [
    "from transformers import T5Tokenizer, TFT5ForConditionalGeneration"
   ]
  },
  {
   "cell_type": "code",
   "execution_count": null,
   "id": "2684fb41-9467-40c0-9d7e-a1cc867c5a3c",
   "metadata": {},
   "outputs": [],
   "source": [
    "tokenizer = T5Tokenizer.from_pretrained(\"t5-small\")\n",
    "model = TFT5ForConditionalGeneration.from_pretrained(\"t5-small\")\n",
    "\n",
    "max_source_length = 512\n",
    "max_target_length = 128\n",
    "\n",
    "task_prefix = \"translate English to German: \"\n",
    "\n",
    "lines = [\n",
    "    \"The house is wonderful\",\n",
    "    \"Welcome to NYC\",\n",
    "    \"HuggingFace is a company\"\n",
    "]\n",
    "\n",
    "input_sequences = [task_prefix + l for l in lines]"
   ]
  },
  {
   "cell_type": "code",
   "execution_count": null,
   "id": "6eb2dfdb-0ad3-4d0f-81a4-268d92c53759",
   "metadata": {},
   "outputs": [],
   "source": [
    "input_ids = tokenizer(input_sequences, \n",
    "                      padding=\"longest\", \n",
    "                      max_length=max_source_length,\n",
    "                      return_tensors=\"tf\").input_ids\n",
    "outputs = model.generate(input_ids)"
   ]
  },
  {
   "cell_type": "code",
   "execution_count": null,
   "id": "720158d4-e0e0-4904-b096-e5aede756afd",
   "metadata": {},
   "outputs": [],
   "source": [
    "[tokenizer.decode(o, skip_special_tokens=True) for o in outputs]"
   ]
  },
  {
   "cell_type": "code",
   "execution_count": null,
   "id": "8d4b364b-13cb-48ea-a97a-ccfc9e408075",
   "metadata": {},
   "outputs": [],
   "source": [
    "model.framework"
   ]
  },
  {
   "cell_type": "markdown",
   "id": "546eabe0",
   "metadata": {},
   "source": [
    "## PySpark"
   ]
  },
  {
   "cell_type": "code",
   "execution_count": null,
   "id": "2f6db1f0-7d68-4af7-8bd6-c9fa45906c61",
   "metadata": {},
   "outputs": [],
   "source": [
    "import os\n",
    "from pathlib import Path\n",
    "from torchtext.datasets import IMDB"
   ]
  },
  {
   "cell_type": "code",
   "execution_count": null,
   "id": "b8453111-d068-49bb-ab91-8ae3d8bcdb7a",
   "metadata": {},
   "outputs": [],
   "source": [
    "# load IMDB reviews (test) dataset\n",
    "data = IMDB(split='test')\n",
    "len(data)"
   ]
  },
  {
   "cell_type": "code",
   "execution_count": null,
   "id": "6d5bb49d-9a5b-4d1c-949e-24d01a7cd9a5",
   "metadata": {},
   "outputs": [],
   "source": [
    "# convert to nested array of string for pyspark\n",
    "lines = []\n",
    "for label, text in data:\n",
    "    # only take first sentence of IMDB review\n",
    "    lines.append([text])"
   ]
  },
  {
   "cell_type": "markdown",
   "id": "6fd5b472-47e8-4804-9907-772793fedb2b",
   "metadata": {},
   "source": [
    "### Create PySpark DataFrame"
   ]
  },
  {
   "cell_type": "code",
   "execution_count": null,
   "id": "68121304-f1df-466e-9347-c9d2b36a9b3a",
   "metadata": {},
   "outputs": [],
   "source": [
    "from pyspark.sql.types import *"
   ]
  },
  {
   "cell_type": "code",
   "execution_count": null,
   "id": "d24d9404-0269-476e-a9dd-1842667c915a",
   "metadata": {},
   "outputs": [],
   "source": [
    "df = spark.createDataFrame(lines, ['lines']).repartition(10)\n",
    "df.schema"
   ]
  },
  {
   "cell_type": "code",
   "execution_count": null,
   "id": "4384c762-1f79-4f60-876c-94b1f552e8fb",
   "metadata": {},
   "outputs": [],
   "source": [
    "df.take(1)"
   ]
  },
  {
   "cell_type": "markdown",
   "id": "42ba3513-82dd-47e7-8193-eb4389458757",
   "metadata": {},
   "source": [
    "### Save the test dataset as parquet files"
   ]
  },
  {
   "cell_type": "code",
   "execution_count": null,
   "id": "e7eec8ec-4126-4890-b957-025809fad67d",
   "metadata": {},
   "outputs": [],
   "source": [
    "df.write.mode(\"overwrite\").parquet(\"imdb_test\")"
   ]
  },
  {
   "cell_type": "markdown",
   "id": "304e1fc8-42a3-47dd-b3c0-47efd5be1040",
   "metadata": {},
   "source": [
    "### Check arrow memory configuration"
   ]
  },
  {
   "cell_type": "code",
   "execution_count": null,
   "id": "20554ea5-01be-4a30-8607-db5d87786fec",
   "metadata": {},
   "outputs": [],
   "source": [
    "spark.conf.set(\"spark.sql.execution.arrow.maxRecordsPerBatch\", \"512\")\n",
    "# This line will fail if the vectorized reader runs out of memory\n",
    "assert len(df.head()) > 0, \"`df` should not be empty\""
   ]
  },
  {
   "cell_type": "markdown",
   "id": "257a1dac-83e4-4c01-9a57-63ca8f5b0a41",
   "metadata": {},
   "source": [
    "## Inference using Spark ML Model\n",
    "Note: you can restart the kernel and run from this point to simulate running in a different node or environment."
   ]
  },
  {
   "cell_type": "code",
   "execution_count": null,
   "id": "0fb461ee-b4ea-43cb-b8c1-67aa6c0c6196",
   "metadata": {},
   "outputs": [],
   "source": [
    "import pandas as pd\n",
    "import sparkext\n",
    "from pyspark.sql.functions import col, pandas_udf"
   ]
  },
  {
   "cell_type": "code",
   "execution_count": null,
   "id": "9aee94d9-4021-40b2-b8f7-297b041b1066",
   "metadata": {},
   "outputs": [],
   "source": [
    "from transformers import T5Tokenizer, T5ForConditionalGeneration"
   ]
  },
  {
   "cell_type": "code",
   "execution_count": null,
   "id": "5612f8a6-0f3e-4534-a280-50c4db1ec7c4",
   "metadata": {},
   "outputs": [],
   "source": [
    "tokenizer = T5Tokenizer.from_pretrained(\"t5-small\")\n",
    "model = T5ForConditionalGeneration.from_pretrained(\"t5-small\")"
   ]
  },
  {
   "cell_type": "code",
   "execution_count": null,
   "id": "07a7da12-544a-46ad-906e-69d180200a8d",
   "metadata": {},
   "outputs": [],
   "source": [
    "# only use first N examples, since this is slow\n",
    "df = spark.read.parquet(\"imdb_test\").limit(100)\n",
    "df.show(truncate=120)"
   ]
  },
  {
   "cell_type": "code",
   "execution_count": null,
   "id": "ee08396a-a30d-4baf-a3d3-727c8df91048",
   "metadata": {},
   "outputs": [],
   "source": [
    "# only use first sentence and add prefix for conditional generation\n",
    "def preprocess(text: pd.Series, prefix: str = \"\") -> pd.Series:\n",
    "    @pandas_udf(\"string\")\n",
    "    def _preprocess(text: pd.Series) -> pd.Series:\n",
    "        return pd.Series([prefix + s.split(\".\")[0] for s in text])\n",
    "    return _preprocess(text)"
   ]
  },
  {
   "cell_type": "code",
   "execution_count": null,
   "id": "8662e1cf-060f-4a4d-9fcb-47af89b5aed5",
   "metadata": {},
   "outputs": [],
   "source": [
    "# add prefix, only use first 100 rows, since generation takes a while\n",
    "df1 = df.withColumn(\"input\", preprocess(col(\"lines\"), \"Translate English to German: \")).select(\"input\")\n",
    "df1.show(truncate=120)"
   ]
  },
  {
   "cell_type": "code",
   "execution_count": null,
   "id": "eed06084-cc50-4c74-a556-ac0c2fdd0437",
   "metadata": {},
   "outputs": [],
   "source": [
    "my_model = sparkext.huggingface.Model(model, tokenizer, \n",
    "                    max_length=128, padding=\"longest\", return_tensors=\"pt\", truncation=True, skip_special_tokens=True) \\\n",
    "                    .setInputCol(\"input\") \\\n",
    "                    .setOutputCol(\"translation\")"
   ]
  },
  {
   "cell_type": "markdown",
   "id": "e56a931b-5bd1-4f9c-9574-1c7048d80be6",
   "metadata": {},
   "source": [
    "**Note**: \"AutoModel from string\" doesn't work here, because the T5ForConditionalGeneration model actually adds a \n",
    "language modeling head on top of the standard T5 model, where the AutoModel only loads the standard T5 model.\n",
    "See: https://huggingface.co/docs/transformers/model_doc/t5#transformers.T5ForConditionalGeneration\n",
    "```\n",
    "my_model = sparkext.huggingface.Model(\"t5-small\")\n",
    "```"
   ]
  },
  {
   "cell_type": "code",
   "execution_count": null,
   "id": "8f1d060f-fd31-4286-8a17-5f3dc38bd5d2",
   "metadata": {},
   "outputs": [],
   "source": [
    "predictions = my_model.transform(df1)"
   ]
  },
  {
   "cell_type": "code",
   "execution_count": null,
   "id": "750828cb-cd24-4ef0-9a66-04bf1948c2d4",
   "metadata": {},
   "outputs": [],
   "source": [
    "%%time\n",
    "predictions.write.mode(\"overwrite\").parquet(\"imdb_translations\")\n",
    "results = predictions.collect()"
   ]
  },
  {
   "cell_type": "code",
   "execution_count": null,
   "id": "b12fbd60-2bc0-4e8f-8b92-af3326cded3d",
   "metadata": {},
   "outputs": [],
   "source": [
    "results[:5]"
   ]
  },
  {
   "cell_type": "markdown",
   "id": "06eac91c-1b64-49ca-a1c3-c27dd4790a48",
   "metadata": {},
   "source": [
    "## Inference using Spark DL UDF (PyTorch)\n",
    "Note: you can restart the kernel and run from this point to simulate running in a different node or environment."
   ]
  },
  {
   "cell_type": "code",
   "execution_count": null,
   "id": "3dd52be5-d222-4a49-b50d-beb4f464379c",
   "metadata": {},
   "outputs": [],
   "source": [
    "import pandas as pd\n",
    "from pyspark.sql.functions import col, pandas_udf\n",
    "from sparkext.huggingface import model_udf"
   ]
  },
  {
   "cell_type": "code",
   "execution_count": null,
   "id": "9d1744be-443e-47b3-9959-021db568f84b",
   "metadata": {},
   "outputs": [],
   "source": [
    "from transformers import T5Tokenizer, T5ForConditionalGeneration"
   ]
  },
  {
   "cell_type": "code",
   "execution_count": null,
   "id": "80796a24-ba03-4b10-86c5-8f97ae55118a",
   "metadata": {},
   "outputs": [],
   "source": [
    "tokenizer = T5Tokenizer.from_pretrained(\"t5-small\")\n",
    "model = T5ForConditionalGeneration.from_pretrained(\"t5-small\")"
   ]
  },
  {
   "cell_type": "code",
   "execution_count": null,
   "id": "42a09f14-15be-46c7-88b3-7140d0473073",
   "metadata": {},
   "outputs": [],
   "source": [
    "# only use first N examples, since this is slow\n",
    "df = spark.read.parquet(\"imdb_test\").limit(100)\n",
    "df.show(truncate=120)"
   ]
  },
  {
   "cell_type": "code",
   "execution_count": null,
   "id": "488bc467-f8ef-4980-bb67-8e94d6f1f369",
   "metadata": {},
   "outputs": [],
   "source": [
    "# only use first sentence and add prefix for conditional generation\n",
    "def preprocess(text: pd.Series, prefix: str = \"\") -> pd.Series:\n",
    "    @pandas_udf(\"string\")\n",
    "    def _preprocess(text: pd.Series) -> pd.Series:\n",
    "        return pd.Series([prefix + s.split(\".\")[0] for s in text])\n",
    "    return _preprocess(text)"
   ]
  },
  {
   "cell_type": "code",
   "execution_count": null,
   "id": "32064637-092c-4e9d-a0c2-5c88a72afa95",
   "metadata": {},
   "outputs": [],
   "source": [
    "# only use first 100 rows, since generation takes a while\n",
    "df1 = df.withColumn(\"input\", preprocess(col(\"lines\"), \"Translate English to German: \")).select(\"input\").limit(100)"
   ]
  },
  {
   "cell_type": "code",
   "execution_count": null,
   "id": "d9b8fa3f-0827-4a84-b189-3a240a10867a",
   "metadata": {},
   "outputs": [],
   "source": [
    "df1.show(truncate=120)"
   ]
  },
  {
   "cell_type": "code",
   "execution_count": null,
   "id": "4aaaf77c-a430-4aa2-b462-760b12e6a476",
   "metadata": {},
   "outputs": [],
   "source": [
    "# note: default return_type is 'string'\n",
    "generate = model_udf(model, tokenizer=tokenizer,\n",
    "                     max_length=128, padding=\"longest\", return_tensors=\"pt\", truncation=True, skip_special_tokens=True)"
   ]
  },
  {
   "cell_type": "code",
   "execution_count": null,
   "id": "f6e1edc8-8505-4f27-949f-4271eede8939",
   "metadata": {},
   "outputs": [],
   "source": [
    "predictions = df1.withColumn(\"preds\", generate(col(\"input\")))"
   ]
  },
  {
   "cell_type": "code",
   "execution_count": null,
   "id": "4d45b86d-97b9-4ae1-93d6-b11243c9a6c0",
   "metadata": {},
   "outputs": [],
   "source": [
    "predictions.show(truncate=60)"
   ]
  },
  {
   "cell_type": "code",
   "execution_count": null,
   "id": "d8b133e0-b4ce-4c58-a87d-ae246849407f",
   "metadata": {},
   "outputs": [],
   "source": [
    "%%time\n",
    "preds = predictions.collect()"
   ]
  },
  {
   "cell_type": "code",
   "execution_count": null,
   "id": "1b2bb3e5-a8ea-433f-89c2-e30ea0979280",
   "metadata": {},
   "outputs": [],
   "source": [
    "# only use first 100 rows, since generation takes a while\n",
    "df2 = df.withColumn(\"input\", preprocess(col(\"lines\"), \"Translate English to French: \")).select(\"input\").limit(100)"
   ]
  },
  {
   "cell_type": "code",
   "execution_count": null,
   "id": "2d473acb-7dee-45e7-b341-18d12054a5ac",
   "metadata": {},
   "outputs": [],
   "source": [
    "df2.show(truncate=120)"
   ]
  },
  {
   "cell_type": "code",
   "execution_count": null,
   "id": "c1afa21e-6bbe-4e50-b29f-433afaf79df1",
   "metadata": {},
   "outputs": [],
   "source": [
    "predictions = df2.withColumn(\"preds\", generate(col(\"input\")))"
   ]
  },
  {
   "cell_type": "code",
   "execution_count": null,
   "id": "3e786628-3b53-4efe-9a61-adabd973ebdf",
   "metadata": {},
   "outputs": [],
   "source": [
    "predictions.show(truncate=60)"
   ]
  },
  {
   "cell_type": "code",
   "execution_count": null,
   "id": "6be9ba57-8180-4487-a478-312faaa95c0f",
   "metadata": {},
   "outputs": [],
   "source": [
    "%%time\n",
    "preds = predictions.collect()"
   ]
  },
  {
   "cell_type": "markdown",
   "id": "4a050bf2-8808-4b9e-b122-7ddaa6ace3f2",
   "metadata": {},
   "source": [
    "## Inference using Spark DL UDF (TensorFlow)\n",
    "Note: you can restart the kernel and run from this point to simulate running in a different node or environment."
   ]
  },
  {
   "cell_type": "code",
   "execution_count": null,
   "id": "f68033d8-f949-4348-9c01-2b7ee9c525f9",
   "metadata": {},
   "outputs": [],
   "source": [
    "import pandas as pd\n",
    "from pyspark.sql.functions import col, pandas_udf\n",
    "from sparkext.huggingface import model_udf"
   ]
  },
  {
   "cell_type": "code",
   "execution_count": null,
   "id": "8f4d1352-5648-4e0e-8084-85328ac15056",
   "metadata": {},
   "outputs": [],
   "source": [
    "from transformers import T5Tokenizer, TFT5ForConditionalGeneration"
   ]
  },
  {
   "cell_type": "code",
   "execution_count": null,
   "id": "d28d7fc1-00fb-4b8b-ad55-6f82c032ea2e",
   "metadata": {},
   "outputs": [],
   "source": [
    "# only use first N examples, since this is slow\n",
    "df = spark.read.parquet(\"imdb_test\").limit(100)\n",
    "df.show(truncate=120)"
   ]
  },
  {
   "cell_type": "code",
   "execution_count": null,
   "id": "9fc5cbf0-ccbf-4400-99b1-da3bda9872be",
   "metadata": {},
   "outputs": [],
   "source": [
    "# only use first sentence and add prefix for conditional generation\n",
    "def preprocess(text: pd.Series, prefix: str = \"\") -> pd.Series:\n",
    "    @pandas_udf(\"string\")\n",
    "    def _preprocess(text: pd.Series) -> pd.Series:\n",
    "        return pd.Series([prefix + s.split(\".\")[0] for s in text])\n",
    "    return _preprocess(text)"
   ]
  },
  {
   "cell_type": "code",
   "execution_count": null,
   "id": "efad1ce9-e47b-4f43-9bf9-c1740a21299e",
   "metadata": {},
   "outputs": [],
   "source": [
    "# only use first 100 rows, since generation takes a while\n",
    "df1 = df.withColumn(\"input\", preprocess(col(\"lines\"), \"Translate English to German: \")).select(\"input\").limit(100)"
   ]
  },
  {
   "cell_type": "code",
   "execution_count": null,
   "id": "a30ada7d-c086-44bf-b143-dd8e53d968fe",
   "metadata": {},
   "outputs": [],
   "source": [
    "df1.show(truncate=120)"
   ]
  },
  {
   "cell_type": "code",
   "execution_count": null,
   "id": "335859b5-70ad-49ec-b640-ea0f1f39c4a0",
   "metadata": {},
   "outputs": [],
   "source": [
    "# Need to use a model_loader since spark doesn't serialize this model correctly\n",
    "def model_loader(model_id):\n",
    "    from transformers import TFT5ForConditionalGeneration, T5Tokenizer\n",
    "    model = TFT5ForConditionalGeneration.from_pretrained(model_id)\n",
    "    tokenizer = T5Tokenizer.from_pretrained(model_id)\n",
    "    return model, tokenizer"
   ]
  },
  {
   "cell_type": "code",
   "execution_count": null,
   "id": "be3ae13d-4648-43df-9484-467df763497a",
   "metadata": {},
   "outputs": [],
   "source": [
    "# note: default return_type for model_udf is 'string'\n",
    "generate = model_udf(\"t5-small\", tokenizer=tokenizer, model_loader=model_loader,\n",
    "                     max_length=128, padding=\"longest\", return_tensors=\"tf\", truncation=True, skip_special_tokens=True)"
   ]
  },
  {
   "cell_type": "code",
   "execution_count": null,
   "id": "fbd3e433-021e-4ed0-a5e5-e654897a6b0f",
   "metadata": {},
   "outputs": [],
   "source": [
    "predictions = df1.withColumn(\"preds\", generate(col(\"input\")))"
   ]
  },
  {
   "cell_type": "code",
   "execution_count": null,
   "id": "f6915deb-11c8-4ac4-9bb6-4212b77bd0fe",
   "metadata": {},
   "outputs": [],
   "source": [
    "predictions.show(truncate=60)"
   ]
  },
  {
   "cell_type": "code",
   "execution_count": null,
   "id": "63e36340-0208-4c38-a598-546bf4e0ba9a",
   "metadata": {},
   "outputs": [],
   "source": [
    "%%time\n",
    "preds = predictions.collect()"
   ]
  },
  {
   "cell_type": "code",
   "execution_count": null,
   "id": "47e94ac3-db63-4574-a6fc-40af81ac8016",
   "metadata": {},
   "outputs": [],
   "source": [
    "# only use first 100 rows, since generation takes a while\n",
    "df2 = df.withColumn(\"input\", preprocess(col(\"lines\"), \"Translate English to French: \")).select(\"input\").limit(100)"
   ]
  },
  {
   "cell_type": "code",
   "execution_count": null,
   "id": "db2bcdbc-ab77-40df-8216-c011128a189d",
   "metadata": {},
   "outputs": [],
   "source": [
    "df2.show(truncate=120)"
   ]
  },
  {
   "cell_type": "code",
   "execution_count": null,
   "id": "a7a8a10e-9a76-4414-a26c-f4abc9325f24",
   "metadata": {},
   "outputs": [],
   "source": [
    "predictions = df2.withColumn(\"preds\", generate(col(\"input\")))"
   ]
  },
  {
   "cell_type": "code",
   "execution_count": null,
   "id": "67538959-9c89-4984-b469-4735955e4054",
   "metadata": {},
   "outputs": [],
   "source": [
    "predictions.show(truncate=60)"
   ]
  },
  {
   "cell_type": "code",
   "execution_count": null,
   "id": "01d1f1d1-b7d8-4521-91b0-143464933a65",
   "metadata": {},
   "outputs": [],
   "source": [
    "%%time\n",
    "preds = predictions.collect()"
   ]
  },
  {
   "cell_type": "markdown",
   "id": "06a4ecab-c9d9-466f-ba49-902ad1fd5488",
   "metadata": {},
   "source": [
    "## Inference using Spark DL API\n",
    "Note: you can restart the kernel and run from this point to simulate running in a different node or environment."
   ]
  },
  {
   "cell_type": "code",
   "execution_count": 1,
   "id": "e7a00479-1347-4de8-8431-faa77f8cdf4c",
   "metadata": {},
   "outputs": [],
   "source": [
    "import pandas as pd\n",
    "from pyspark.ml.udf import model_udf\n",
    "from pyspark.sql.functions import col, pandas_udf, struct\n",
    "from pyspark.sql.types import StringType"
   ]
  },
  {
   "cell_type": "code",
   "execution_count": 2,
   "id": "c483e4d4-9ab1-416f-a766-694e17490fd3",
   "metadata": {},
   "outputs": [
    {
     "name": "stderr",
     "output_type": "stream",
     "text": [
      "[Stage 1:>                                                          (0 + 1) / 1]\r"
     ]
    },
    {
     "name": "stdout",
     "output_type": "stream",
     "text": [
      "+------------------------------------------------------------------------------------------------------------------------+\n",
      "|                                                                                                                   lines|\n",
      "+------------------------------------------------------------------------------------------------------------------------+\n",
      "|...But not this one! I always wanted to know \"what happened\" next. We will never know for sure what happened because ...|\n",
      "|I found myself getting increasingly angry as this movie progressed.<br /><br />Basically, Dr. Crawford (Dennis Hopper...|\n",
      "|The comparisons between the 1995 version and this are inevitable. Sadly, this version falls far short.<br /><br />The...|\n",
      "|Doesn't anyone bother to check where this kind of sludge comes from before blathering on about its supposed revelatio...|\n",
      "|Don't get me wrong, I love the TV series of League Of Gentlemen. It was funny, twisted and completely inspired. I was...|\n",
      "|Made it through the first half an hour and deserved a medal for getting that far. Lots of excuses for scantily clad w...|\n",
      "|This movie seems a little clunky around the edges, like not quite enough zaniness was thrown it when it should have b...|\n",
      "|Oh but this is woeful. One good actor after another turns in lamentable dialogue in half hearted fashion under what m...|\n",
      "|Terry Cunningham directs this Sci-Fi Network original. All is not well in Washington state and Oregon; volcanic erupt...|\n",
      "|First the easy part: this movie is pretentious crapola!<br /><br />It put me in mind of \"Magnolia\". And then I though...|\n",
      "|Tycus is one of the worst films direct to video films that I see ever.<br /><br />I am not amazing that this product ...|\n",
      "|Edge Vs. Michaels-Boring in general (loved the sweet chin music into the chair) 4/10 Taker Vs. Heidenreich-One of the...|\n",
      "|If you like bad movies (and you must to watch this one) here's a good one. Not quite as funny as the first, but much ...|\n",
      "|Ed Gein, one of the most famous serial killers of all time, he was the inspiration for famous movie killers like Norm...|\n",
      "|I was Stan in the movie \"Dreams Come True\". Stan was the friend that worked at the factory with the main character an...|\n",
      "|this 2.5 hour diluted snore-fest appears to be one of the poorest excuses for an adaptation, ever. clearly possessing...|\n",
      "|Another tiresome bore from Anthony Minghella, who seems to thrive on these big bloated super-productions that take ov...|\n",
      "|This is just about one of the dumbest things I've ever seen. Maybe not a worst movie ever contender, but if you haven...|\n",
      "|And you know why? Because they thought (or at least made horror fans think) that a bunch of obnoxious, foul-mouthed, ...|\n",
      "|Having spent all of her money caring for her terminally ill spouse, recently widowed Karen Tunny (Lori Heuring) moves...|\n",
      "+------------------------------------------------------------------------------------------------------------------------+\n",
      "only showing top 20 rows\n",
      "\n"
     ]
    },
    {
     "name": "stderr",
     "output_type": "stream",
     "text": [
      "                                                                                \r"
     ]
    }
   ],
   "source": [
    "# only use first N examples, since this is slow\n",
    "df = spark.read.parquet(\"imdb_test\").limit(100)\n",
    "df.show(truncate=120)"
   ]
  },
  {
   "cell_type": "code",
   "execution_count": 3,
   "id": "b9a0889a-35b4-493a-8197-1146fc7efd53",
   "metadata": {},
   "outputs": [],
   "source": [
    "# only use first sentence and add prefix for conditional generation\n",
    "def preprocess(text: pd.Series, prefix: str = \"\") -> pd.Series:\n",
    "    @pandas_udf(\"string\")\n",
    "    def _preprocess(text: pd.Series) -> pd.Series:\n",
    "        return pd.Series([prefix + s.split(\".\")[0] for s in text])\n",
    "    return _preprocess(text)"
   ]
  },
  {
   "cell_type": "code",
   "execution_count": 4,
   "id": "831bc52c-a5c6-4c29-a6da-0566b5167773",
   "metadata": {},
   "outputs": [],
   "source": [
    "# only use first 100 rows, since generation takes a while\n",
    "df1 = df.withColumn(\"input\", preprocess(col(\"lines\"), \"Translate English to German: \")).select(\"input\").limit(100)"
   ]
  },
  {
   "cell_type": "code",
   "execution_count": 5,
   "id": "fef1d846-5852-4762-8527-602f32c0d7cd",
   "metadata": {},
   "outputs": [
    {
     "name": "stderr",
     "output_type": "stream",
     "text": [
      "[Stage 4:>                                                          (0 + 1) / 1]\r"
     ]
    },
    {
     "name": "stdout",
     "output_type": "stream",
     "text": [
      "+------------------------------------------------------------------------------------------------------------------------+\n",
      "|                                                                                                                   input|\n",
      "+------------------------------------------------------------------------------------------------------------------------+\n",
      "|                                                                                           Translate English to German: |\n",
      "|                         Translate English to German: I found myself getting increasingly angry as this movie progressed|\n",
      "|                           Translate English to German: The comparisons between the 1995 version and this are inevitable|\n",
      "|Translate English to German: Doesn't anyone bother to check where this kind of sludge comes from before blathering on...|\n",
      "|                            Translate English to German: Don't get me wrong, I love the TV series of League Of Gentlemen|\n",
      "|           Translate English to German: Made it through the first half an hour and deserved a medal for getting that far|\n",
      "|Translate English to German: This movie seems a little clunky around the edges, like not quite enough zaniness was th...|\n",
      "|                                                                      Translate English to German: Oh but this is woeful|\n",
      "|                                      Translate English to German: Terry Cunningham directs this Sci-Fi Network original|\n",
      "|Translate English to German: First the easy part: this movie is pretentious crapola!<br /><br />It put me in mind of ...|\n",
      "|                      Translate English to German: Tycus is one of the worst films direct to video films that I see ever|\n",
      "|                                                                                    Translate English to German: Edge Vs|\n",
      "|                  Translate English to German: If you like bad movies (and you must to watch this one) here's a good one|\n",
      "|Translate English to German: Ed Gein, one of the most famous serial killers of all time, he was the inspiration for f...|\n",
      "|                                                 Translate English to German: I was Stan in the movie \"Dreams Come True\"|\n",
      "|                                                                                     Translate English to German: this 2|\n",
      "|Translate English to German: Another tiresome bore from Anthony Minghella, who seems to thrive on these big bloated s...|\n",
      "|                                Translate English to German: This is just about one of the dumbest things I've ever seen|\n",
      "|Translate English to German: And you know why? Because they thought (or at least made horror fans think) that a bunch...|\n",
      "|Translate English to German: Having spent all of her money caring for her terminally ill spouse, recently widowed Kar...|\n",
      "+------------------------------------------------------------------------------------------------------------------------+\n",
      "only showing top 20 rows\n",
      "\n"
     ]
    },
    {
     "name": "stderr",
     "output_type": "stream",
     "text": [
      "                                                                                \r"
     ]
    }
   ],
   "source": [
    "df1.show(truncate=120)"
   ]
  },
  {
   "cell_type": "code",
   "execution_count": 6,
   "id": "e7ae69d3-70c2-4765-928f-c96a7ba59829",
   "metadata": {},
   "outputs": [],
   "source": [
    "def model_fn():\n",
    "    import numpy as np\n",
    "    from transformers import TFT5ForConditionalGeneration, T5Tokenizer\n",
    "    model = TFT5ForConditionalGeneration.from_pretrained(\"t5-small\")\n",
    "    tokenizer = T5Tokenizer.from_pretrained(\"t5-small\")\n",
    "    \n",
    "    def predict(inputs):\n",
    "        flattened = np.squeeze(inputs, axis=1).tolist()   # convert 2d numpy array of string into flattened python list\n",
    "        input_ids = tokenizer(flattened, \n",
    "                              padding=\"longest\", \n",
    "                              max_length=128,\n",
    "                              return_tensors=\"tf\").input_ids\n",
    "        output_ids = model.generate(input_ids)\n",
    "        string_outputs = [tokenizer.decode(o, skip_special_tokens=True) for o in output_ids]\n",
    "        return string_outputs\n",
    "    \n",
    "    return predict"
   ]
  },
  {
   "cell_type": "code",
   "execution_count": 7,
   "id": "36684f59-d947-43f8-a2e8-c7a423764e88",
   "metadata": {},
   "outputs": [],
   "source": [
    "generate = model_udf(model_fn, \n",
    "                     input_shapes=[[-1,1]], \n",
    "                     return_type=StringType(), \n",
    "                     batch_size=10)"
   ]
  },
  {
   "cell_type": "code",
   "execution_count": 8,
   "id": "6a01c855-8fa1-4765-a3a5-2c9dd872df10",
   "metadata": {},
   "outputs": [],
   "source": [
    "predictions = df1.withColumn(\"preds\", generate(struct(\"input\")))"
   ]
  },
  {
   "cell_type": "code",
   "execution_count": 9,
   "id": "4ad9b365-4b9a-438e-8fdf-47da55cb1cf4",
   "metadata": {},
   "outputs": [
    {
     "name": "stderr",
     "output_type": "stream",
     "text": [
      "[Stage 7:>                                                          (0 + 1) / 1]\r"
     ]
    },
    {
     "name": "stdout",
     "output_type": "stream",
     "text": [
      "+------------------------------------------------------------+------------------------------------------------------------+\n",
      "|                                                       input|                                                       preds|\n",
      "+------------------------------------------------------------+------------------------------------------------------------+\n",
      "|Translate English to German: Hard up, No proper jobs goin...|                              Warum nicht die Kinder mieten?|\n",
      "|Translate English to German: To be fair, I didn't see a l...|               Ich habe es nicht gesehen, daß ich es gesehen|\n",
      "|Translate English to German: (This might have a spoiler)<...|                    (Dies könnte einen spoiler haben)br />br|\n",
      "|Translate English to German: 1st watched 3/17/2002 - 2 ou...|                     1st watched 3/17/2002 - 2 out of 10(Dir|\n",
      "|Translate English to German: I really didn't like this fi...|Ich habe diesen Film wirklich nicht gefallen!!!! er war l...|\n",
      "|Translate English to German: A wildly uneven film where t...|Ein völlig ungleicher Film, in dem das Hauptproblem ist d...|\n",
      "|Translate English to German: I was greatly disappointed b...|Ich war sehr enttäuscht über die Qualität dieses Dokument...|\n",
      "|Translate English to German: In 1904 Tangier, a wealthy A...|Im Jahr 1904 werden eine reiche amerikanische Frau und ih...|\n",
      "|Translate English to German: \"When a Killer Calls\" is an ...|               \"When a Killer Calls\" ist ein ungewöhnlich na|\n",
      "|Translate English to German: Blake Edwards tried very har...|Blake Edwards hat sich sehr bemüht, Julie Andrews Bild in...|\n",
      "|Translate English to German: A box with a button provides...|Ein Kästchen mit einem Knopf bietet ein Paar die Möglichk...|\n",
      "|Translate English to German: Angels and Demons: 3 out of ...|Angels and Demons: 3 von 10: Es ist klar, dass Ron Howard...|\n",
      "|Translate English to German: Don Wilson stars as Jack Cut...|Don Wilson tritt als Jack Cutter (Ooh wirklich harter Nam...|\n",
      "|Translate English to German: I laughed so much when I saw...|               Ich lacht so sehr, als ich diesen Film sah, s|\n",
      "|Translate English to German: Starts off with Fulci playin...|Starts mit Fulci, eine Version von sich selbst zu spielen...|\n",
      "|Translate English to German: I am surprised that so many ...|Ich bin überrascht, dass so viele Kommentare zu diesem Fi...|\n",
      "|Translate English to German: A sprawling, overambitious, ...|          Eine breite, überaus ambitionäre, komödienlose Kom|\n",
      "|Translate English to German: I think its safe to say that...|Ich denke, es ist sicher zu sagen, dass Sie sich nicht mi...|\n",
      "| Translate English to German: this movie was downright awful|                          Dieser Film war völlig schrecklich|\n",
      "|Translate English to German: Don't tell me this film was ...|               Dieser Film war lustig oder ein wenig lustig.|\n",
      "+------------------------------------------------------------+------------------------------------------------------------+\n",
      "only showing top 20 rows\n",
      "\n"
     ]
    },
    {
     "name": "stderr",
     "output_type": "stream",
     "text": [
      "                                                                                \r"
     ]
    }
   ],
   "source": [
    "predictions.show(truncate=60)"
   ]
  },
  {
   "cell_type": "code",
   "execution_count": 10,
   "id": "23b4f6b9-9818-4476-bf80-ea3a9f8fef63",
   "metadata": {},
   "outputs": [
    {
     "name": "stderr",
     "output_type": "stream",
     "text": [
      "[Stage 10:>                                                         (0 + 1) / 1]\r"
     ]
    },
    {
     "name": "stdout",
     "output_type": "stream",
     "text": [
      "CPU times: user 21.2 ms, sys: 0 ns, total: 21.2 ms\n",
      "Wall time: 30.9 s\n"
     ]
    },
    {
     "name": "stderr",
     "output_type": "stream",
     "text": [
      "                                                                                \r"
     ]
    }
   ],
   "source": [
    "%%time\n",
    "preds = predictions.collect()"
   ]
  },
  {
   "cell_type": "code",
   "execution_count": 11,
   "id": "1eb0c83b-d91b-4f8c-a5e7-c35f55c88108",
   "metadata": {},
   "outputs": [],
   "source": [
    "# only use first 100 rows, since generation takes a while\n",
    "df2 = df.withColumn(\"input\", preprocess(col(\"lines\"), \"Translate English to French: \")).select(\"input\").limit(100)"
   ]
  },
  {
   "cell_type": "code",
   "execution_count": 12,
   "id": "054f94fd-fe79-41e7-b1c7-6124083acc72",
   "metadata": {},
   "outputs": [
    {
     "name": "stdout",
     "output_type": "stream",
     "text": [
      "+------------------------------------------------------------------------------------------------------------------------+\n",
      "|                                                                                                                   input|\n",
      "+------------------------------------------------------------------------------------------------------------------------+\n",
      "|Translate English to French: Hard up, No proper jobs going down at the pit, why not rent your kids! DIY pimp story wi...|\n",
      "|                                                Translate English to French: To be fair, I didn't see a lot of this show|\n",
      "|Translate English to French: (This might have a spoiler)<br /><br />When I first started watching this movie, I thoug...|\n",
      "|Translate English to French: 1st watched 3/17/2002 - 2 out of 10(Dir-Mario Pinzauti): Silly, sex-filled master & slav...|\n",
      "|  Translate English to French: I really didn't like this film~!!!! it was boring and didn't interest me that much at all|\n",
      "|      Translate English to French: A wildly uneven film where the major problem is the uneasy mix of comedy and thriller|\n",
      "|                              Translate English to French: I was greatly disappointed by the quality of this documentary|\n",
      "|Translate English to French: In 1904 Tangier, a wealthy American woman and her two children are kidnapped by Berbers,...|\n",
      "|Translate English to French: \"When a Killer Calls\" is an unusually nasty slasher flick, with some very unpleasant and...|\n",
      "|                   Translate English to French: Blake Edwards tried very hard to change Julie Andrews image in this film|\n",
      "|Translate English to French: A box with a button provides a couple with the opportunity to be financially free, but t...|\n",
      "|           Translate English to French: Angels and Demons: 3 out of 10: Clearly something bad has happened to Ron Howard|\n",
      "|Translate English to French: Don Wilson stars as Jack Cutter (Ooh real tough name!)a vampire slayer who goes up again...|\n",
      "|                            Translate English to French: I laughed so much when I saw this film I nearly soiled myself !|\n",
      "|Translate English to French: Starts off with Fulci playing a version of himself, writing down some ideas for how peop...|\n",
      "|                          Translate English to French: I am surprised that so many comments about this film are positive|\n",
      "|                    Translate English to French: A sprawling, overambitious, plotless comedy that has no dramatic center|\n",
      "|Translate English to French: I think its safe to say that if you only really watch box office standard films or any p...|\n",
      "|                                                             Translate English to French: this movie was downright awful|\n",
      "|                                        Translate English to French: Don't tell me this film was funny or a little funny|\n",
      "+------------------------------------------------------------------------------------------------------------------------+\n",
      "only showing top 20 rows\n",
      "\n"
     ]
    }
   ],
   "source": [
    "df2.show(truncate=120)"
   ]
  },
  {
   "cell_type": "code",
   "execution_count": 13,
   "id": "6f6b70f9-188a-402b-9143-78a5788140e4",
   "metadata": {},
   "outputs": [],
   "source": [
    "predictions = df2.withColumn(\"preds\", generate(struct(\"input\")))"
   ]
  },
  {
   "cell_type": "code",
   "execution_count": 14,
   "id": "8be750ac-fa39-452e-bb4c-c2270bc2f70d",
   "metadata": {},
   "outputs": [
    {
     "name": "stderr",
     "output_type": "stream",
     "text": [
      "[Stage 16:>                                                         (0 + 1) / 1]\r"
     ]
    },
    {
     "name": "stdout",
     "output_type": "stream",
     "text": [
      "+------------------------------------------------------------+------------------------------------------------------------+\n",
      "|                                                       input|                                                       preds|\n",
      "+------------------------------------------------------------+------------------------------------------------------------+\n",
      "|                               Translate English to French: |                                                           :|\n",
      "|Translate English to French: I found myself getting incre...|  Je me suis rendu de plus en plus en colère à mesure que ce|\n",
      "|Translate English to French: The comparisons between the ...|Les comparaisons entre la version de 1995 et cette versio...|\n",
      "|Translate English to French: Doesn't anyone bother to che...|          Ne s'agit-il pas de vérifier où viennent ces boues|\n",
      "|Translate English to French: Don't get me wrong, I love t...|Ne m'oubliez pas, je m'aime la série de télévision de League|\n",
      "|Translate English to French: Made it through the first ha...|                     l’issue de la première demi-heure, il a|\n",
      "|Translate English to French: This movie seems a little cl...|      Ce film semble un peu cloné autour des bords, comme il|\n",
      "|          Translate English to French: Oh but this is woeful|                           l'heure actuelle, il n'y a pas de|\n",
      "|Translate English to French: Terry Cunningham directs thi...|    Terry Cunningham dirige cette originale du réseau Sci-Fi|\n",
      "|Translate English to French: First the easy part: this mo...|Premièrement, la partie facile : ce film est pretentious ...|\n",
      "|Translate English to French: Tycus is one of the worst fi...|                Tycus est l'un des pires films directs à des|\n",
      "|                        Translate English to French: Edge Vs|                                                     Edge Vs|\n",
      "|Translate English to French: If you like bad movies (and ...|Si vous aimez des films mauvais (et vous devez regarder c...|\n",
      "|Translate English to French: Ed Gein, one of the most fam...|                  Ed Gein, l'un des assassinats en série les|\n",
      "|Translate English to French: I was Stan in the movie \"Dre...|                  Je l'étais dans le film \"Dreams Come True\"|\n",
      "|                         Translate English to French: this 2|                                                     Cette 2|\n",
      "|Translate English to French: Another tiresome bore from A...|                       Un autre ennui abusif d'Antonio Mingh|\n",
      "|Translate English to French: This is just about one of th...|                 Voilà l'un des plus dommageables que je n'a|\n",
      "|Translate English to French: And you know why? Because th...| Et vous savez pourquoi? Parce qu'ils pensaient (ou du moins|\n",
      "|Translate English to French: Having spent all of her mone...|Après avoir dépensé toute son argent pour s'occuper de so...|\n",
      "+------------------------------------------------------------+------------------------------------------------------------+\n",
      "only showing top 20 rows\n",
      "\n"
     ]
    },
    {
     "name": "stderr",
     "output_type": "stream",
     "text": [
      "                                                                                \r"
     ]
    }
   ],
   "source": [
    "predictions.show(truncate=60)"
   ]
  },
  {
   "cell_type": "code",
   "execution_count": 15,
   "id": "d91fe4bf-6565-48c0-add5-1c0f7fa09076",
   "metadata": {},
   "outputs": [
    {
     "name": "stderr",
     "output_type": "stream",
     "text": [
      "[Stage 19:>                                                         (0 + 1) / 1]\r"
     ]
    },
    {
     "name": "stdout",
     "output_type": "stream",
     "text": [
      "CPU times: user 8.08 ms, sys: 6.8 ms, total: 14.9 ms\n",
      "Wall time: 30.2 s\n"
     ]
    },
    {
     "name": "stderr",
     "output_type": "stream",
     "text": [
      "                                                                                \r"
     ]
    }
   ],
   "source": [
    "%%time\n",
    "preds = predictions.collect()"
   ]
  },
  {
   "cell_type": "code",
   "execution_count": 16,
   "id": "c658673e-f7b0-4195-bc63-be74a0ff4e1d",
   "metadata": {},
   "outputs": [],
   "source": [
    "spark.stop()"
   ]
  },
  {
   "cell_type": "code",
   "execution_count": null,
   "id": "9123dc89-9942-4f15-99a4-5e03f4627818",
   "metadata": {},
   "outputs": [],
   "source": []
  }
 ],
 "metadata": {
  "kernelspec": {
   "display_name": "Python 3 (ipykernel)",
   "language": "python",
   "name": "python3"
  },
  "language_info": {
   "codemirror_mode": {
    "name": "ipython",
    "version": 3
   },
   "file_extension": ".py",
   "mimetype": "text/x-python",
   "name": "python",
   "nbconvert_exporter": "python",
   "pygments_lexer": "ipython3",
   "version": "3.9.10"
  }
 },
 "nbformat": 4,
 "nbformat_minor": 5
}
