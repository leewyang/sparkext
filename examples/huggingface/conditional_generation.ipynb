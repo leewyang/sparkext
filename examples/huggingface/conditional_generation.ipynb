{
 "cells": [
  {
   "cell_type": "markdown",
   "id": "777fc40d",
   "metadata": {},
   "source": [
    "# PySpark Huggingface Inferencing\n",
    "### Conditional generation\n",
    "\n",
    "From: https://huggingface.co/docs/transformers/model_doc/t5"
   ]
  },
  {
   "cell_type": "code",
   "execution_count": 1,
   "id": "731faab7-a700-46f8-bba5-1c8764e5eacb",
   "metadata": {},
   "outputs": [],
   "source": [
    "from transformers import T5Tokenizer, T5ForConditionalGeneration\n",
    "\n",
    "tokenizer = T5Tokenizer.from_pretrained(\"t5-small\")\n",
    "model = T5ForConditionalGeneration.from_pretrained(\"t5-small\")\n",
    "\n",
    "max_source_length = 512\n",
    "max_target_length = 128\n",
    "\n",
    "task_prefix = \"translate English to German: \"\n",
    "\n",
    "lines = [\n",
    "    \"The house is wonderful\",\n",
    "    \"Welcome to NYC\",\n",
    "    \"HuggingFace is a company\"\n",
    "]\n",
    "\n",
    "input_sequences = [task_prefix + l for l in lines]"
   ]
  },
  {
   "cell_type": "code",
   "execution_count": 2,
   "id": "45abfa26-02da-4d4a-a925-85b387de0ada",
   "metadata": {},
   "outputs": [],
   "source": [
    "input_ids = tokenizer(input_sequences, \n",
    "                      padding=\"longest\", \n",
    "                      max_length=max_source_length,\n",
    "                      return_tensors=\"pt\").input_ids\n",
    "outputs = model.generate(input_ids)"
   ]
  },
  {
   "cell_type": "code",
   "execution_count": 3,
   "id": "72972ade-3a97-4bb3-9efa-31039a1a9442",
   "metadata": {},
   "outputs": [
    {
     "data": {
      "text/plain": [
       "['Das Haus ist wunderbar',\n",
       " 'Willkommen in NYC',\n",
       " 'HuggingFace ist ein Unternehmen']"
      ]
     },
     "execution_count": 3,
     "metadata": {},
     "output_type": "execute_result"
    }
   ],
   "source": [
    "[tokenizer.decode(o, skip_special_tokens=True) for o in outputs]"
   ]
  },
  {
   "cell_type": "markdown",
   "id": "546eabe0",
   "metadata": {},
   "source": [
    "## PySpark"
   ]
  },
  {
   "cell_type": "code",
   "execution_count": 4,
   "id": "2f6db1f0-7d68-4af7-8bd6-c9fa45906c61",
   "metadata": {},
   "outputs": [],
   "source": [
    "import os\n",
    "from pathlib import Path\n",
    "from torchtext.datasets import IMDB"
   ]
  },
  {
   "cell_type": "code",
   "execution_count": 5,
   "id": "b8453111-d068-49bb-ab91-8ae3d8bcdb7a",
   "metadata": {},
   "outputs": [
    {
     "data": {
      "text/plain": [
       "25000"
      ]
     },
     "execution_count": 5,
     "metadata": {},
     "output_type": "execute_result"
    }
   ],
   "source": [
    "# load IMDB reviews (test) dataset\n",
    "data = IMDB(split='test')\n",
    "len(data)"
   ]
  },
  {
   "cell_type": "code",
   "execution_count": 6,
   "id": "6d5bb49d-9a5b-4d1c-949e-24d01a7cd9a5",
   "metadata": {},
   "outputs": [],
   "source": [
    "# convert to nested array of string for pyspark\n",
    "lines = []\n",
    "for label, text in data:\n",
    "    # only take first sentence of IMDB review\n",
    "    lines.append([text])"
   ]
  },
  {
   "cell_type": "markdown",
   "id": "6fd5b472-47e8-4804-9907-772793fedb2b",
   "metadata": {},
   "source": [
    "### Create PySpark DataFrame"
   ]
  },
  {
   "cell_type": "code",
   "execution_count": 7,
   "id": "68121304-f1df-466e-9347-c9d2b36a9b3a",
   "metadata": {},
   "outputs": [],
   "source": [
    "from pyspark.sql.types import *"
   ]
  },
  {
   "cell_type": "code",
   "execution_count": 8,
   "id": "d24d9404-0269-476e-a9dd-1842667c915a",
   "metadata": {},
   "outputs": [
    {
     "data": {
      "text/plain": [
       "StructType(List(StructField(lines,StringType,true)))"
      ]
     },
     "execution_count": 8,
     "metadata": {},
     "output_type": "execute_result"
    }
   ],
   "source": [
    "df = spark.createDataFrame(lines, ['lines'])\n",
    "df.schema"
   ]
  },
  {
   "cell_type": "code",
   "execution_count": 9,
   "id": "4384c762-1f79-4f60-876c-94b1f552e8fb",
   "metadata": {},
   "outputs": [
    {
     "name": "stderr",
     "output_type": "stream",
     "text": [
      "22/02/24 14:21:15 WARN TaskSetManager: Stage 0 contains a task of very large size (1302 KiB). The maximum recommended task size is 1000 KiB.\n",
      "                                                                                \r"
     ]
    },
    {
     "data": {
      "text/plain": [
       "[Row(lines='I love sci-fi and am willing to put up with a lot. Sci-fi movies/TV are usually underfunded, under-appreciated and misunderstood. I tried to like this, I really did, but it is to good TV sci-fi as Babylon 5 is to Star Trek (the original). Silly prosthetics, cheap cardboard sets, stilted dialogues, CG that doesn\\'t match the background, and painfully one-dimensional characters cannot be overcome with a \\'sci-fi\\' setting. (I\\'m sure there are those of you out there who think Babylon 5 is good sci-fi TV. It\\'s not. It\\'s clichéd and uninspiring.) While US viewers might like emotion and character development, sci-fi is a genre that does not take itself seriously (cf. Star Trek). It may treat important issues, yet not as a serious philosophy. It\\'s really difficult to care about the characters here as they are not simply foolish, just missing a spark of life. Their actions and reactions are wooden and predictable, often painful to watch. The makers of Earth KNOW it\\'s rubbish as they have to always say \"Gene Roddenberry\\'s Earth...\" otherwise people would not continue watching. Roddenberry\\'s ashes must be turning in their orbit as this dull, cheap, poorly edited (watching it without advert breaks really brings this home) trudging Trabant of a show lumbers into space. Spoiler. So, kill off a main character. And then bring him back as another actor. Jeeez! Dallas all over again.')]"
      ]
     },
     "execution_count": 9,
     "metadata": {},
     "output_type": "execute_result"
    }
   ],
   "source": [
    "df.take(1)"
   ]
  },
  {
   "cell_type": "markdown",
   "id": "42ba3513-82dd-47e7-8193-eb4389458757",
   "metadata": {},
   "source": [
    "### Save the test dataset as parquet files"
   ]
  },
  {
   "cell_type": "code",
   "execution_count": 10,
   "id": "e7eec8ec-4126-4890-b957-025809fad67d",
   "metadata": {},
   "outputs": [
    {
     "name": "stderr",
     "output_type": "stream",
     "text": [
      "22/02/24 14:21:17 WARN TaskSetManager: Stage 1 contains a task of very large size (1302 KiB). The maximum recommended task size is 1000 KiB.\n",
      "                                                                                \r"
     ]
    }
   ],
   "source": [
    "df.write.mode(\"overwrite\").parquet(\"imdb_test\")"
   ]
  },
  {
   "cell_type": "markdown",
   "id": "304e1fc8-42a3-47dd-b3c0-47efd5be1040",
   "metadata": {},
   "source": [
    "### Check arrow memory configuration"
   ]
  },
  {
   "cell_type": "code",
   "execution_count": 11,
   "id": "20554ea5-01be-4a30-8607-db5d87786fec",
   "metadata": {},
   "outputs": [
    {
     "name": "stderr",
     "output_type": "stream",
     "text": [
      "22/02/24 14:21:19 WARN TaskSetManager: Stage 2 contains a task of very large size (1302 KiB). The maximum recommended task size is 1000 KiB.\n"
     ]
    }
   ],
   "source": [
    "spark.conf.set(\"spark.sql.execution.arrow.maxRecordsPerBatch\", \"512\")\n",
    "# This line will fail if the vectorized reader runs out of memory\n",
    "assert len(df.head()) > 0, \"`df` should not be empty\""
   ]
  },
  {
   "cell_type": "markdown",
   "id": "257a1dac-83e4-4c01-9a57-63ca8f5b0a41",
   "metadata": {},
   "source": [
    "## Inference using Spark ML Model\n",
    "Note: you can restart the kernel and run from this point to simulate running in a different node or environment."
   ]
  },
  {
   "cell_type": "code",
   "execution_count": 12,
   "id": "0fb461ee-b4ea-43cb-b8c1-67aa6c0c6196",
   "metadata": {},
   "outputs": [],
   "source": [
    "import sparkext"
   ]
  },
  {
   "cell_type": "code",
   "execution_count": 13,
   "id": "9aee94d9-4021-40b2-b8f7-297b041b1066",
   "metadata": {},
   "outputs": [],
   "source": [
    "from transformers import T5Tokenizer, T5ForConditionalGeneration"
   ]
  },
  {
   "cell_type": "code",
   "execution_count": 14,
   "id": "5612f8a6-0f3e-4534-a280-50c4db1ec7c4",
   "metadata": {},
   "outputs": [],
   "source": [
    "tokenizer = T5Tokenizer.from_pretrained(\"t5-small\")\n",
    "model = T5ForConditionalGeneration.from_pretrained(\"t5-small\")"
   ]
  },
  {
   "cell_type": "code",
   "execution_count": 15,
   "id": "07a7da12-544a-46ad-906e-69d180200a8d",
   "metadata": {},
   "outputs": [],
   "source": [
    "# only use first N examples, since this is slow\n",
    "df = spark.read.parquet(\"imdb_test\").limit(100)"
   ]
  },
  {
   "cell_type": "code",
   "execution_count": 16,
   "id": "eed06084-cc50-4c74-a556-ac0c2fdd0437",
   "metadata": {},
   "outputs": [],
   "source": [
    "my_model = sparkext.huggingface.Model(model, tokenizer, prefix=\"Translate English to German: \")"
   ]
  },
  {
   "cell_type": "raw",
   "id": "99646d4c-9872-4831-aeb6-d09d0f03b2ba",
   "metadata": {},
   "source": [
    "# Note: the following doesn't work because the T5ForConditionalGeneration model adds a language modeling head \n",
    "# on top of the standard T5 model, and the AutoModel only loads the standard T5 model.\n",
    "# See: https://huggingface.co/docs/transformers/model_doc/t5#transformers.T5ForConditionalGeneration\n",
    "\n",
    "my_model = sparkext.huggingface.Model(\"t5-small\", prefix=\"Translate English to German: \")"
   ]
  },
  {
   "cell_type": "code",
   "execution_count": 17,
   "id": "8f1d060f-fd31-4286-8a17-5f3dc38bd5d2",
   "metadata": {},
   "outputs": [
    {
     "name": "stderr",
     "output_type": "stream",
     "text": [
      "/home/leey/devpub/spark/python/pyspark/sql/pandas/functions.py:389: UserWarning: In Python 3.6+ and Spark 3.0+, it is preferred to specify type hints for pandas UDF instead of specifying pandas UDF type which will be deprecated in the future releases. See SPARK-28264 for more details.\n",
      "  warnings.warn(\n"
     ]
    }
   ],
   "source": [
    "predictions = my_model.transform(df)"
   ]
  },
  {
   "cell_type": "code",
   "execution_count": 18,
   "id": "750828cb-cd24-4ef0-9a66-04bf1948c2d4",
   "metadata": {},
   "outputs": [
    {
     "name": "stderr",
     "output_type": "stream",
     "text": [
      "                                                                                \r"
     ]
    },
    {
     "data": {
      "text/plain": [
       "[Row(prediction='Dieser Film war in vielen Bereichen nicht erledigt, sondern'),\n",
       " Row(prediction='Dieser Film beginnt mit einem Mann, der scheinbar ein Sportfahrer ist, und'),\n",
       " Row(prediction='Nicht wirklich allzu viel zu diesem Film...entweder ein Stunt Racer oder'),\n",
       " Row(prediction='Dieser Film stützt sich nicht auf Geschichte, sondern viel Alkohol, Pot-Ra'),\n",
       " Row(prediction='Dass es krank ist, ist nicht krank, es'),\n",
       " Row(prediction='Ein einziger Schwertman, der in der Wüste lebt und als Agent für'),\n",
       " Row(prediction='\"Ashes of Time\" war ein übeles Projekt, aber'),\n",
       " Row(prediction='Ich frage mich, was schief ging, warum der Film überhaupt nicht funktioniert'),\n",
       " Row(prediction='Während meiner ersten Filme ins Ausland habe ich mich mit einer Vielzahl'),\n",
       " Row(prediction='Die ganze Szene entfaltet sich nicht, als ob der Film'),\n",
       " Row(prediction='Die hübsche Szenen sind merkwürdigerweise in einem jerk-'),\n",
       " Row(prediction='Die Trailer für diesen Film versprochen und dieser Film lieferte genau das, was'),\n",
       " Row(prediction='Dieser Film ist einer der Filme, in denen die Schauspiel, die Dreh-'),\n",
       " Row(prediction=\"Ich habe andere Hacks' Reviews von diesem Film gelesen, und obwohl e\"),\n",
       " Row(prediction='Von allen Filmen in der Geschichte der Filme kann ich mir nicht vorstellen, dass'),\n",
       " Row(prediction=''),\n",
       " Row(prediction='Während ich in der Discount-Körper in einem DVD-Händler'),\n",
       " Row(prediction='Stellen Sie sich vor, wie es mit dem clichesten Horror-Fil'),\n",
       " Row(prediction='Nach dem Lande eines meteoriten in \"Boston\" (really'),\n",
       " Row(prediction='Der Film war eher lächerlich, der Alien war anständiger,'),\n",
       " Row(prediction='Die Studenten (die in ihren späten 20er Jahren sind) auf dem Campus in'),\n",
       " Row(prediction='Um alle zu informieren, ist dieser Film vielleicht der WORST, den ich je'),\n",
       " Row(prediction='Ich war schockiert, dass es 18 Seiten gute Bewertungen gab, die'),\n",
       " Row(prediction='Grosse Pointe Blank war wirklich ein unterdurchschnittlicher Film, es war ein hit'),\n",
       " Row(prediction='Es scheint zumindest vage möglich, dass dieser Film ein wenig Inspiration für \"The So'),\n",
       " Row(prediction='Der Titel macht mir nicht viel Sinn, ich bin nicht sicher, welche Tür im Film nicht'),\n",
       " Row(prediction='Ich finde es beunruhigend, dass in einer Zeit, in der die'),\n",
       " Row(prediction='Ich habe diesen Film für die moralische Frage gehalten, warum es richtig'),\n",
       " Row(prediction='Ich habe das Buch nicht gelesen und erschreckend, ich habe jeden'),\n",
       " Row(prediction=\"Dieser 'Horror'-Film war eigentlich ein Witz,\"),\n",
       " Row(prediction='Ich liebe alte \"Monster-Filme\" für den reinen Camp-Wer'),\n",
       " Row(prediction='Mitch MacAfee (Jeff Morrow) sieht ein UFO'),\n",
       " Row(prediction='Das ist fast Ed Wood Territorium, das lächerliche Wrack eines'),\n",
       " Row(prediction='Die französische Schrift \"The Giant Claw\" von 1957 hat'),\n",
       " Row(prediction='Dieser ist so schade wie er kommt  das Konzept eines massive'),\n",
       " Row(prediction='Ich persönlich habe kein Problem mit dem Schauspiel, sondern mit dem Skript.'),\n",
       " Row(prediction='Der große vergessene Monsterfilm aus den 50er Jahren enthält wirklich schreckliche'),\n",
       " Row(prediction='Dieser Film ist ein schrecklicher Film, der nicht immer aus guten Gründen'),\n",
       " Row(prediction='Ich hätte es mir gewünscht, diesen Film mit einer Zeile zu wählen,'),\n",
       " Row(prediction='Ich sah diesen Film, als ich etwa 12 Jahre alt war, als'),\n",
       " Row(prediction='Die Riesenklaw ist in heftigen Wettbewerben mit Filmen wie'),\n",
       " Row(prediction='Warum? Denn nachdem ich diesen Film zum ersten Mal gesehen habe,'),\n",
       " Row(prediction='Dieser Film ist ein wirklich schrecklicher Sci-Fi/Horror'),\n",
       " Row(prediction='Dieser schreckliche Moovie ist auf vielen Ebenen lustig'),\n",
       " Row(prediction='Das ist einer der lächerlich schlechtesten Filme, die ich je'),\n",
       " Row(prediction='Ohne Zweifel ist und wird es immer der schlimmste Film, den ich je'),\n",
       " Row(prediction='San Franpyscho: 1 von 10: So wollen Sie einen Serien-'),\n",
       " Row(prediction='Der Film war ziemlich schlecht, er ist nicht so sehr ein Skriptproblem,'),\n",
       " Row(prediction=\"i think this movie isn't the worst i've ever seen.\"),\n",
       " Row(prediction='Ich hoffe, dass dies nicht ein Portent der Dinge ist, die kommen werden'),\n",
       " Row(prediction='Mit David Arquette, der in der Rolle spielt, würde man sofort meinen, dass'),\n",
       " Row(prediction='Ich sah den Trailer, der ich gesehen habe, und ich'),\n",
       " Row(prediction='Ich werde nicht sagen, wie manche Leute es tun, sondern ich bin sicher'),\n",
       " Row(prediction='Acht Legged Freaks ist ein moderner Monsterfilm, wie ein Remake der'),\n",
       " Row(prediction='Ich dachte, dass ich diesen Film geniessen werde, weil ich liebe'),\n",
       " Row(prediction='Die begrenzte Aussicht auf die Landschaft war die einzige ersparende Gnade'),\n",
       " Row(prediction='Ich erblicke dies heute Nachmittag als \"What Lies Above\" und schau'),\n",
       " Row(prediction='Ich erwarb diesen Film gestern Abend auf Lifetime Film Network und musste nur noch'),\n",
       " Row(prediction='Ich sah das an einem langwierigen Sonntagmorgen, ich war'),\n",
       " Row(prediction='SPOILER ALERT.br />br />'),\n",
       " Row(prediction='Gotta fügen Sie einen Kommentar zu diesem Kommentar!!!br />'),\n",
       " Row(prediction='Charlie Chaplin antwortet auf die offenen auditions in Lodestone Studios'),\n",
       " Row(prediction='Rabbit Fever ist eine hübsche Sammlung von Skizzen, die sich'),\n",
       " Row(prediction='Rabbit Fever ist eines dieser Filmeigenheiten, die es'),\n",
       " Row(prediction='Ich sah das in einer Vorschau-Screening-Show und'),\n",
       " Row(prediction='Der Film hat einige Kritik an Fujimori, aber er gibt ihm und seiner Familie'),\n",
       " Row(prediction='Die Pro-Bemerkungen zu diesem Film behaupten, dass der Film ausgew'),\n",
       " Row(prediction='Ich suchte einen Dokumentarfilm derselben journalistischen Qualität wie Frontline oder \"'),\n",
       " Row(prediction='Wir haben die gleichen Meinungen über Fujimori, aber nach dem folgenden Film'),\n",
       " Row(prediction='Wir haben die gleichen Meinungen über Fujimori, aber nach dem folgenden Film'),\n",
       " Row(prediction='Luna ist ein wahres Vergnügen zu sehen, die Charaktere und ihre'),\n",
       " Row(prediction='Der Film beginnt ein wenig interessiert mit dem Sohn, der an einem Teenager interessiert ist, sein'),\n",
       " Row(prediction='11 Jahre nach der Veröffentlichung dieses Films haben nur 5 Personen diesen Film hier auf'),\n",
       " Row(prediction='Der Film ist der schlimmste, den ich in meinem Leben je erlebt habe,'),\n",
       " Row(prediction='Die deutsche ffentlichkeit hat sich zwar nicht entschlossen, aber e'),\n",
       " Row(prediction='Wie Paul Newman und Steve McQueen mit ihren Rennwagen-Fil'),\n",
       " Row(prediction='Was dieser Film hat, ist seine Realismus, man bekommt wirklich das Gefühl,'),\n",
       " Row(prediction='Der Downhill Racer ist ein Film, den man nur für die wunderbaren Skise'),\n",
       " Row(prediction='Der Roman ist eine so glänzende, glänzende Reise'),\n",
       " Row(prediction='Die guten Leute sind die guten Leute, die union, und wer die bad guys sind'),\n",
       " Row(prediction='Der Film hatte das Potenzial, ein anständiger Thriller zu sein,'),\n",
       " Row(prediction='Vielleicht war der Film, den ich gesehen habe, völlig anders als der'),\n",
       " Row(prediction='Der schlimmste Film, den ich je gesehen habe: Die Soundqualität war schlecht,'),\n",
       " Row(prediction='\"Love Life\" erforscht ein sehr kulturelles Szenario einer'),\n",
       " Row(prediction='br />br />This movie seems to be very'),\n",
       " Row(prediction='br />br />Jim Carey was cast'),\n",
       " Row(prediction='Ich habe es nicht gesehen, ich habe es gesehen,'),\n",
       " Row(prediction='Die Filmkritiker der Welt, entschuldigen Sie, es ist Ihre'),\n",
       " Row(prediction='b b b b b b'),\n",
       " Row(prediction='Das einzige gute an diesem unfunny rger ist, dass'),\n",
       " Row(prediction='Wenn Sie den Grinch-Film liebten... schauen Sie sich das wieder'),\n",
       " Row(prediction='Dieser Film war physisch schmerzhaft, durchzusitzen, vielleicht weil'),\n",
       " Row(prediction='br />br />Dr Suess w'),\n",
       " Row(prediction='Die Vorschau hat lustig wirken lassen und ich besuche normalerweise nicht'),\n",
       " Row(prediction='Mike Myers sollte sich nicht nur für seine schreckliche Performance schämen,'),\n",
       " Row(prediction='Die PG-Bewertung, die dieser Film erhält, ist ein weiterer großer'),\n",
       " Row(prediction='Der Cat in the Hat ist ein slap in the face film, Mike Myers als'),\n",
       " Row(prediction='Dieser Film hat mich erschüttert! Wenn ich von Cat in the'),\n",
       " Row(prediction='Dieser knallharte kleine Film, der nur Idiotenkinder'),\n",
       " Row(prediction='br />br />\"The Grinch\"')]"
      ]
     },
     "execution_count": 18,
     "metadata": {},
     "output_type": "execute_result"
    }
   ],
   "source": [
    "predictions.write.mode(\"overwrite\").text(\"imdb_translations\")\n",
    "predictions.collect()"
   ]
  },
  {
   "cell_type": "code",
   "execution_count": null,
   "id": "2e4cc668-c380-492b-b6c5-b81e8ababa4b",
   "metadata": {},
   "outputs": [],
   "source": []
  }
 ],
 "metadata": {
  "kernelspec": {
   "display_name": "Python 3 (ipykernel)",
   "language": "python",
   "name": "python3"
  },
  "language_info": {
   "codemirror_mode": {
    "name": "ipython",
    "version": 3
   },
   "file_extension": ".py",
   "mimetype": "text/x-python",
   "name": "python",
   "nbconvert_exporter": "python",
   "pygments_lexer": "ipython3",
   "version": "3.9.10"
  }
 },
 "nbformat": 4,
 "nbformat_minor": 5
}
