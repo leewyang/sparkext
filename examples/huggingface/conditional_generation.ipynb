{
 "cells": [
  {
   "cell_type": "markdown",
   "id": "777fc40d",
   "metadata": {},
   "source": [
    "# PySpark Huggingface Inferencing\n",
    "## Conditional generation\n",
    "\n",
    "From: https://huggingface.co/docs/transformers/model_doc/t5"
   ]
  },
  {
   "cell_type": "markdown",
   "id": "6bcbccb1-3f82-425b-a82d-12d4f2f91d6e",
   "metadata": {},
   "source": [
    "### Using PyTorch"
   ]
  },
  {
   "cell_type": "code",
   "execution_count": 1,
   "id": "731faab7-a700-46f8-bba5-1c8764e5eacb",
   "metadata": {},
   "outputs": [],
   "source": [
    "from transformers import T5Tokenizer, T5ForConditionalGeneration\n",
    "\n",
    "tokenizer = T5Tokenizer.from_pretrained(\"t5-small\")\n",
    "model = T5ForConditionalGeneration.from_pretrained(\"t5-small\")\n",
    "\n",
    "max_source_length = 512\n",
    "max_target_length = 128\n",
    "\n",
    "task_prefix = \"translate English to German: \"\n",
    "\n",
    "lines = [\n",
    "    \"The house is wonderful\",\n",
    "    \"Welcome to NYC\",\n",
    "    \"HuggingFace is a company\"\n",
    "]\n",
    "\n",
    "input_sequences = [task_prefix + l for l in lines]"
   ]
  },
  {
   "cell_type": "code",
   "execution_count": 2,
   "id": "45abfa26-02da-4d4a-a925-85b387de0ada",
   "metadata": {},
   "outputs": [],
   "source": [
    "input_ids = tokenizer(input_sequences, \n",
    "                      padding=\"longest\", \n",
    "                      max_length=max_source_length,\n",
    "                      return_tensors=\"pt\").input_ids\n",
    "outputs = model.generate(input_ids)"
   ]
  },
  {
   "cell_type": "code",
   "execution_count": 3,
   "id": "72972ade-3a97-4bb3-9efa-31039a1a9442",
   "metadata": {},
   "outputs": [
    {
     "data": {
      "text/plain": [
       "['Das Haus ist wunderbar',\n",
       " 'Willkommen in NYC',\n",
       " 'HuggingFace ist ein Unternehmen']"
      ]
     },
     "execution_count": 3,
     "metadata": {},
     "output_type": "execute_result"
    }
   ],
   "source": [
    "[tokenizer.decode(o, skip_special_tokens=True) for o in outputs]"
   ]
  },
  {
   "cell_type": "code",
   "execution_count": 4,
   "id": "18d060a1-19ef-4101-a9a6-2fdc184e07b0",
   "metadata": {},
   "outputs": [
    {
     "data": {
      "text/plain": [
       "'pt'"
      ]
     },
     "execution_count": 4,
     "metadata": {},
     "output_type": "execute_result"
    }
   ],
   "source": [
    "model.framework"
   ]
  },
  {
   "cell_type": "markdown",
   "id": "05c79ac4-bf25-421e-b55e-020d6d9e15d5",
   "metadata": {},
   "source": [
    "### Using TensorFlow"
   ]
  },
  {
   "cell_type": "code",
   "execution_count": 5,
   "id": "f6f0dbf3-712b-4c58-85eb-261ce15bb2be",
   "metadata": {},
   "outputs": [],
   "source": [
    "from transformers import T5Tokenizer, TFT5ForConditionalGeneration"
   ]
  },
  {
   "cell_type": "code",
   "execution_count": 6,
   "id": "2684fb41-9467-40c0-9d7e-a1cc867c5a3c",
   "metadata": {},
   "outputs": [
    {
     "name": "stderr",
     "output_type": "stream",
     "text": [
      "2022-04-07 13:27:05.477285: I tensorflow/core/platform/cpu_feature_guard.cc:151] This TensorFlow binary is optimized with oneAPI Deep Neural Network Library (oneDNN) to use the following CPU instructions in performance-critical operations:  AVX2 AVX512F FMA\n",
      "To enable them in other operations, rebuild TensorFlow with the appropriate compiler flags.\n",
      "2022-04-07 13:27:05.508477: W tensorflow/python/util/util.cc:368] Sets are not currently considered sequences, but this may change in the future, so consider avoiding using them.\n",
      "All model checkpoint layers were used when initializing TFT5ForConditionalGeneration.\n",
      "\n",
      "All the layers of TFT5ForConditionalGeneration were initialized from the model checkpoint at t5-small.\n",
      "If your task is similar to the task the model of the checkpoint was trained on, you can already use TFT5ForConditionalGeneration for predictions without further training.\n"
     ]
    }
   ],
   "source": [
    "tokenizer = T5Tokenizer.from_pretrained(\"t5-small\")\n",
    "model = TFT5ForConditionalGeneration.from_pretrained(\"t5-small\")\n",
    "\n",
    "max_source_length = 512\n",
    "max_target_length = 128\n",
    "\n",
    "task_prefix = \"translate English to German: \"\n",
    "\n",
    "lines = [\n",
    "    \"The house is wonderful\",\n",
    "    \"Welcome to NYC\",\n",
    "    \"HuggingFace is a company\"\n",
    "]\n",
    "\n",
    "input_sequences = [task_prefix + l for l in lines]"
   ]
  },
  {
   "cell_type": "code",
   "execution_count": 7,
   "id": "6eb2dfdb-0ad3-4d0f-81a4-268d92c53759",
   "metadata": {},
   "outputs": [],
   "source": [
    "input_ids = tokenizer(input_sequences, \n",
    "                      padding=\"longest\", \n",
    "                      max_length=max_source_length,\n",
    "                      return_tensors=\"tf\").input_ids\n",
    "outputs = model.generate(input_ids)"
   ]
  },
  {
   "cell_type": "code",
   "execution_count": 8,
   "id": "720158d4-e0e0-4904-b096-e5aede756afd",
   "metadata": {},
   "outputs": [
    {
     "data": {
      "text/plain": [
       "['Das Haus ist wunderbar',\n",
       " 'Willkommen in NYC',\n",
       " 'HuggingFace ist ein Unternehmen']"
      ]
     },
     "execution_count": 8,
     "metadata": {},
     "output_type": "execute_result"
    }
   ],
   "source": [
    "[tokenizer.decode(o, skip_special_tokens=True) for o in outputs]"
   ]
  },
  {
   "cell_type": "code",
   "execution_count": 9,
   "id": "8d4b364b-13cb-48ea-a97a-ccfc9e408075",
   "metadata": {},
   "outputs": [
    {
     "data": {
      "text/plain": [
       "'tf'"
      ]
     },
     "execution_count": 9,
     "metadata": {},
     "output_type": "execute_result"
    }
   ],
   "source": [
    "model.framework"
   ]
  },
  {
   "cell_type": "markdown",
   "id": "546eabe0",
   "metadata": {},
   "source": [
    "## PySpark"
   ]
  },
  {
   "cell_type": "code",
   "execution_count": 10,
   "id": "2f6db1f0-7d68-4af7-8bd6-c9fa45906c61",
   "metadata": {},
   "outputs": [],
   "source": [
    "import os\n",
    "from pathlib import Path\n",
    "from torchtext.datasets import IMDB"
   ]
  },
  {
   "cell_type": "code",
   "execution_count": 11,
   "id": "b8453111-d068-49bb-ab91-8ae3d8bcdb7a",
   "metadata": {},
   "outputs": [
    {
     "data": {
      "text/plain": [
       "25000"
      ]
     },
     "execution_count": 11,
     "metadata": {},
     "output_type": "execute_result"
    }
   ],
   "source": [
    "# load IMDB reviews (test) dataset\n",
    "data = IMDB(split='test')\n",
    "len(data)"
   ]
  },
  {
   "cell_type": "code",
   "execution_count": 12,
   "id": "6d5bb49d-9a5b-4d1c-949e-24d01a7cd9a5",
   "metadata": {},
   "outputs": [],
   "source": [
    "# convert to nested array of string for pyspark\n",
    "lines = []\n",
    "for label, text in data:\n",
    "    # only take first sentence of IMDB review\n",
    "    lines.append([text])"
   ]
  },
  {
   "cell_type": "markdown",
   "id": "6fd5b472-47e8-4804-9907-772793fedb2b",
   "metadata": {},
   "source": [
    "### Create PySpark DataFrame"
   ]
  },
  {
   "cell_type": "code",
   "execution_count": 13,
   "id": "68121304-f1df-466e-9347-c9d2b36a9b3a",
   "metadata": {},
   "outputs": [],
   "source": [
    "from pyspark.sql.types import *"
   ]
  },
  {
   "cell_type": "code",
   "execution_count": 14,
   "id": "d24d9404-0269-476e-a9dd-1842667c915a",
   "metadata": {},
   "outputs": [
    {
     "data": {
      "text/plain": [
       "StructType(List(StructField(lines,StringType,true)))"
      ]
     },
     "execution_count": 14,
     "metadata": {},
     "output_type": "execute_result"
    }
   ],
   "source": [
    "df = spark.createDataFrame(lines, ['lines']).repartition(10)\n",
    "df.schema"
   ]
  },
  {
   "cell_type": "code",
   "execution_count": 15,
   "id": "4384c762-1f79-4f60-876c-94b1f552e8fb",
   "metadata": {},
   "outputs": [
    {
     "name": "stderr",
     "output_type": "stream",
     "text": [
      "22/04/07 13:27:15 WARN TaskSetManager: Stage 0 contains a task of very large size (1302 KiB). The maximum recommended task size is 1000 KiB.\n",
      "                                                                                \r"
     ]
    },
    {
     "data": {
      "text/plain": [
       "[Row(lines='...But not this one! I always wanted to know \"what happened\" next. We will never know for sure what happened because GWTW was Margaret\\'s baby. I am a lifelong fan of Gone With the Wind and I could not have been more repulsed by the movie. I did compare \"Scarlett\" to the original GWTW because any film worth following GWTW needed to be on the same quality level as the first. Rhett was cast beautifully, although NO ONE will ever compare to Mr. Gable. I am also a strict Vivien Leigh fan!! She WAS Scarlett. She fit the bill. Not another actress in this lifetime or another will ever fit the same shoes but with \"Scarlett\" the job could have been done better. Not enough thought went into finding the proper Scarlett, that was evident.<br /><br />Overall, something to look to but if you want to know the what happened to Scarlett and Rhett, I suggest writing it yourself or finding fan fiction. This movie is not worth the time.')]"
      ]
     },
     "execution_count": 15,
     "metadata": {},
     "output_type": "execute_result"
    }
   ],
   "source": [
    "df.take(1)"
   ]
  },
  {
   "cell_type": "markdown",
   "id": "42ba3513-82dd-47e7-8193-eb4389458757",
   "metadata": {},
   "source": [
    "### Save the test dataset as parquet files"
   ]
  },
  {
   "cell_type": "code",
   "execution_count": 16,
   "id": "e7eec8ec-4126-4890-b957-025809fad67d",
   "metadata": {},
   "outputs": [
    {
     "name": "stderr",
     "output_type": "stream",
     "text": [
      "22/04/07 13:27:18 WARN TaskSetManager: Stage 3 contains a task of very large size (1302 KiB). The maximum recommended task size is 1000 KiB.\n",
      "                                                                                \r"
     ]
    }
   ],
   "source": [
    "df.write.mode(\"overwrite\").parquet(\"imdb_test\")"
   ]
  },
  {
   "cell_type": "markdown",
   "id": "304e1fc8-42a3-47dd-b3c0-47efd5be1040",
   "metadata": {},
   "source": [
    "### Check arrow memory configuration"
   ]
  },
  {
   "cell_type": "code",
   "execution_count": 17,
   "id": "20554ea5-01be-4a30-8607-db5d87786fec",
   "metadata": {},
   "outputs": [
    {
     "name": "stderr",
     "output_type": "stream",
     "text": [
      "22/04/07 13:27:20 WARN TaskSetManager: Stage 6 contains a task of very large size (1302 KiB). The maximum recommended task size is 1000 KiB.\n"
     ]
    }
   ],
   "source": [
    "spark.conf.set(\"spark.sql.execution.arrow.maxRecordsPerBatch\", \"512\")\n",
    "# This line will fail if the vectorized reader runs out of memory\n",
    "assert len(df.head()) > 0, \"`df` should not be empty\""
   ]
  },
  {
   "cell_type": "markdown",
   "id": "257a1dac-83e4-4c01-9a57-63ca8f5b0a41",
   "metadata": {},
   "source": [
    "## Inference using Spark ML Model\n",
    "Note: you can restart the kernel and run from this point to simulate running in a different node or environment."
   ]
  },
  {
   "cell_type": "code",
   "execution_count": 18,
   "id": "0fb461ee-b4ea-43cb-b8c1-67aa6c0c6196",
   "metadata": {},
   "outputs": [],
   "source": [
    "import pandas as pd\n",
    "import sparkext\n",
    "from pyspark.sql.functions import col, pandas_udf"
   ]
  },
  {
   "cell_type": "code",
   "execution_count": 19,
   "id": "9aee94d9-4021-40b2-b8f7-297b041b1066",
   "metadata": {},
   "outputs": [],
   "source": [
    "from transformers import T5Tokenizer, T5ForConditionalGeneration"
   ]
  },
  {
   "cell_type": "code",
   "execution_count": 20,
   "id": "5612f8a6-0f3e-4534-a280-50c4db1ec7c4",
   "metadata": {},
   "outputs": [],
   "source": [
    "tokenizer = T5Tokenizer.from_pretrained(\"t5-small\")\n",
    "model = T5ForConditionalGeneration.from_pretrained(\"t5-small\")"
   ]
  },
  {
   "cell_type": "code",
   "execution_count": 21,
   "id": "07a7da12-544a-46ad-906e-69d180200a8d",
   "metadata": {},
   "outputs": [
    {
     "name": "stdout",
     "output_type": "stream",
     "text": [
      "+------------------------------------------------------------------------------------------------------------------------+\n",
      "|                                                                                                                   lines|\n",
      "+------------------------------------------------------------------------------------------------------------------------+\n",
      "|i came across this film on the net by fluke and i was horrified by its content of vivid abuse violence and torture sc...|\n",
      "|He who fights with monsters might take care lest he thereby become a monster. And if you gaze for long into an abyss,...|\n",
      "|We thought this was one of the worst movies ever. I had to volunteer to watch the end. The romance was not believable...|\n",
      "|This movie, despite its list of B, C, and D list celebs, is a complete waste of 90 minutes. The plot, with its few pe...|\n",
      "|i have one word: focus.<br /><br />well.<br /><br />IMDb wants me to use at least ten lines of text. okay. let's disc...|\n",
      "|This movie would have been alright, indeed probably excellent, if the directors would have left the interviews and th...|\n",
      "|Disappointing heist movie indeed, I was actually expecting a pretty cool cat and mouse stuff going on through out the...|\n",
      "|THE BOX (2009) * Cameron Diaz, James Marsden, Frank Langella, James Rebhorn, Holmes Osborne, Sam Oz Stone, Celia West...|\n",
      "|Just watched on UbuWeb this early experimental short film directed by William Vance and Orson Welles. Yes, you read t...|\n",
      "|I was at Wrestlemania VI in Toronto as a 10 year old, and the event I saw then was pretty different from what I saw o...|\n",
      "|First of all, the genre of this movie isn't comedy, it's more of a drama.<br /><br />I had low expectations on the mo...|\n",
      "|Shaky hand held cameras (this piece was shot for television mind you, not film) not only keep you utterly conscious o...|\n",
      "|This show should be titled, \"When Bad Writing Happens To Good Actors\" considering most of the players have demonstrat...|\n",
      "|I have to admit that I am disappointed after seeing this movie. I had expected so much more from the trailers. The mo...|\n",
      "|I'm not sure why the producers needed to trade on the name of a somewhat successful movie franchise because the title...|\n",
      "|I did not quite get Barnens O  it is one of the weirdest ones I have watched. The soundtrack was quite unusual as we...|\n",
      "|I struggle to see the point of this movie. It is supposed to be a comedy but I didn't laugh once. The storyline is on...|\n",
      "|There were so many classic movies that were made where the leading people were out-and- out liars and yet they are ma...|\n",
      "|Inane, awful farce basically about a young man who refuses to conform or better uses non-conformity to attain his obj...|\n",
      "|I must say that I wasn't impressed at all, probably because I was expecting much more from this movie. Maybe an accen...|\n",
      "+------------------------------------------------------------------------------------------------------------------------+\n",
      "only showing top 20 rows\n",
      "\n"
     ]
    }
   ],
   "source": [
    "# only use first N examples, since this is slow\n",
    "df = spark.read.parquet(\"imdb_test\").limit(100)\n",
    "df.show(truncate=120)"
   ]
  },
  {
   "cell_type": "code",
   "execution_count": 22,
   "id": "ee08396a-a30d-4baf-a3d3-727c8df91048",
   "metadata": {},
   "outputs": [],
   "source": [
    "# only use first sentence and add prefix for conditional generation\n",
    "def preprocess(text: pd.Series, prefix: str = \"\") -> pd.Series:\n",
    "    @pandas_udf(\"string\")\n",
    "    def _preprocess(text: pd.Series) -> pd.Series:\n",
    "        return pd.Series([prefix + s.split(\".\")[0] for s in text])\n",
    "    return _preprocess(text)"
   ]
  },
  {
   "cell_type": "code",
   "execution_count": 23,
   "id": "8662e1cf-060f-4a4d-9fcb-47af89b5aed5",
   "metadata": {},
   "outputs": [
    {
     "name": "stderr",
     "output_type": "stream",
     "text": [
      "[Stage 13:>                                                         (0 + 1) / 1]\r"
     ]
    },
    {
     "name": "stdout",
     "output_type": "stream",
     "text": [
      "+------------------------------------------------------------------------------------------------------------------------+\n",
      "|                                                                                                                   input|\n",
      "+------------------------------------------------------------------------------------------------------------------------+\n",
      "|Translate English to German: i came across this film on the net by fluke and i was horrified by its content of vivid ...|\n",
      "|               Translate English to German: He who fights with monsters might take care lest he thereby become a monster|\n",
      "|                                           Translate English to German: We thought this was one of the worst movies ever|\n",
      "| Translate English to German: This movie, despite its list of B, C, and D list celebs, is a complete waste of 90 minutes|\n",
      "|                                                                     Translate English to German: i have one word: focus|\n",
      "|Translate English to German: This movie would have been alright, indeed probably excellent, if the directors would ha...|\n",
      "|Translate English to German: Disappointing heist movie indeed, I was actually expecting a pretty cool cat and mouse s...|\n",
      "|Translate English to German: THE BOX (2009) * Cameron Diaz, James Marsden, Frank Langella, James Rebhorn, Holmes Osbo...|\n",
      "|Translate English to German: Just watched on UbuWeb this early experimental short film directed by William Vance and ...|\n",
      "|Translate English to German: I was at Wrestlemania VI in Toronto as a 10 year old, and the event I saw then was prett...|\n",
      "|                   Translate English to German: First of all, the genre of this movie isn't comedy, it's more of a drama|\n",
      "|Translate English to German: Shaky hand held cameras (this piece was shot for television mind you, not film) not only...|\n",
      "|Translate English to German: This show should be titled, \"When Bad Writing Happens To Good Actors\" considering most o...|\n",
      "|                             Translate English to German: I have to admit that I am disappointed after seeing this movie|\n",
      "|Translate English to German: I'm not sure why the producers needed to trade on the name of a somewhat successful movi...|\n",
      "|              Translate English to German: I did not quite get Barnens O  it is one of the weirdest ones I have watched|\n",
      "|                                                  Translate English to German: I struggle to see the point of this movie|\n",
      "|Translate English to German: There were so many classic movies that were made where the leading people were out-and- ...|\n",
      "|Translate English to German: Inane, awful farce basically about a young man who refuses to conform or better uses non...|\n",
      "|Translate English to German: I must say that I wasn't impressed at all, probably because I was expecting much more fr...|\n",
      "+------------------------------------------------------------------------------------------------------------------------+\n",
      "only showing top 20 rows\n",
      "\n"
     ]
    },
    {
     "name": "stderr",
     "output_type": "stream",
     "text": [
      "                                                                                \r"
     ]
    }
   ],
   "source": [
    "# add prefix, only use first 100 rows, since generation takes a while\n",
    "df1 = df.withColumn(\"input\", preprocess(col(\"lines\"), \"Translate English to German: \")).select(\"input\")\n",
    "df1.show(truncate=120)"
   ]
  },
  {
   "cell_type": "code",
   "execution_count": 24,
   "id": "eed06084-cc50-4c74-a556-ac0c2fdd0437",
   "metadata": {},
   "outputs": [],
   "source": [
    "my_model = sparkext.huggingface.Model(model, tokenizer, \n",
    "                    max_length=128, padding=\"longest\", return_tensors=\"pt\", truncation=True, skip_special_tokens=True) \\\n",
    "                    .setInputCol(\"input\") \\\n",
    "                    .setOutputCol(\"translation\")"
   ]
  },
  {
   "cell_type": "markdown",
   "id": "e56a931b-5bd1-4f9c-9574-1c7048d80be6",
   "metadata": {},
   "source": [
    "**Note**: \"AutoModel from string\" doesn't work here, because the T5ForConditionalGeneration model actually adds a \n",
    "language modeling head on top of the standard T5 model, where the AutoModel only loads the standard T5 model.\n",
    "See: https://huggingface.co/docs/transformers/model_doc/t5#transformers.T5ForConditionalGeneration\n",
    "```\n",
    "my_model = sparkext.huggingface.Model(\"t5-small\")\n",
    "```"
   ]
  },
  {
   "cell_type": "code",
   "execution_count": 25,
   "id": "8f1d060f-fd31-4286-8a17-5f3dc38bd5d2",
   "metadata": {},
   "outputs": [
    {
     "name": "stdout",
     "output_type": "stream",
     "text": [
      "Using supplied Model and Tokenizer\n"
     ]
    }
   ],
   "source": [
    "predictions = my_model.transform(df1)"
   ]
  },
  {
   "cell_type": "code",
   "execution_count": 26,
   "id": "750828cb-cd24-4ef0-9a66-04bf1948c2d4",
   "metadata": {},
   "outputs": [
    {
     "name": "stderr",
     "output_type": "stream",
     "text": [
      "[Stage 19:>                                                         (0 + 1) / 1]\r"
     ]
    },
    {
     "name": "stdout",
     "output_type": "stream",
     "text": [
      "CPU times: user 18.1 ms, sys: 7.47 ms, total: 25.5 ms\n",
      "Wall time: 18.5 s\n"
     ]
    },
    {
     "name": "stderr",
     "output_type": "stream",
     "text": [
      "                                                                                \r"
     ]
    }
   ],
   "source": [
    "%%time\n",
    "predictions.write.mode(\"overwrite\").parquet(\"imdb_translations\")\n",
    "results = predictions.collect()"
   ]
  },
  {
   "cell_type": "code",
   "execution_count": 27,
   "id": "b12fbd60-2bc0-4e8f-8b92-af3326cded3d",
   "metadata": {},
   "outputs": [
    {
     "data": {
      "text/plain": [
       "[Row(input='Translate English to German: Cyber zone, as this DVD was sold in Oz, is about the worst B-Grade junk I have seen', translation='Cyberzone, da diese DVD in Oz verkauft wurde, ist über die schlimmste B-Gra'),\n",
       " Row(input='Translate English to German: I watched this movie to see the direction one of the most promising young talents in movies was going', translation='Ich habe diesen Film gesehen, um zu sehen, in welche Richtung eines der viel'),\n",
       " Row(input='Translate English to German: I tried to be patient and open-minded but found myself in a coma-like state', translation='Ich habe versucht, geduldig und offen zu sein, aber ich habe mich in'),\n",
       " Row(input='Translate English to German: While the dog was cute, the film was not', translation='Während der Hund süß war, war der Film nicht engl.'),\n",
       " Row(input=\"Translate English to German: The opening scene makes you feel like you're watching a high school play\", translation='Die Eröffnungsszene macht Sie fühlen sich wie ein High School-Spiel zu')]"
      ]
     },
     "execution_count": 27,
     "metadata": {},
     "output_type": "execute_result"
    }
   ],
   "source": [
    "results[:5]"
   ]
  },
  {
   "cell_type": "markdown",
   "id": "06eac91c-1b64-49ca-a1c3-c27dd4790a48",
   "metadata": {},
   "source": [
    "## Inference using Spark DL UDF (PyTorch)\n",
    "Note: you can restart the kernel and run from this point to simulate running in a different node or environment."
   ]
  },
  {
   "cell_type": "code",
   "execution_count": 28,
   "id": "3dd52be5-d222-4a49-b50d-beb4f464379c",
   "metadata": {},
   "outputs": [],
   "source": [
    "import pandas as pd\n",
    "from pyspark.sql.functions import col, pandas_udf\n",
    "from sparkext.huggingface import model_udf"
   ]
  },
  {
   "cell_type": "code",
   "execution_count": 29,
   "id": "9d1744be-443e-47b3-9959-021db568f84b",
   "metadata": {},
   "outputs": [],
   "source": [
    "from transformers import T5Tokenizer, T5ForConditionalGeneration"
   ]
  },
  {
   "cell_type": "code",
   "execution_count": 30,
   "id": "80796a24-ba03-4b10-86c5-8f97ae55118a",
   "metadata": {},
   "outputs": [],
   "source": [
    "tokenizer = T5Tokenizer.from_pretrained(\"t5-small\")\n",
    "model = T5ForConditionalGeneration.from_pretrained(\"t5-small\")"
   ]
  },
  {
   "cell_type": "code",
   "execution_count": 31,
   "id": "42a09f14-15be-46c7-88b3-7140d0473073",
   "metadata": {},
   "outputs": [
    {
     "name": "stdout",
     "output_type": "stream",
     "text": [
      "+------------------------------------------------------------------------------------------------------------------------+\n",
      "|                                                                                                                   lines|\n",
      "+------------------------------------------------------------------------------------------------------------------------+\n",
      "|i came across this film on the net by fluke and i was horrified by its content of vivid abuse violence and torture sc...|\n",
      "|He who fights with monsters might take care lest he thereby become a monster. And if you gaze for long into an abyss,...|\n",
      "|We thought this was one of the worst movies ever. I had to volunteer to watch the end. The romance was not believable...|\n",
      "|This movie, despite its list of B, C, and D list celebs, is a complete waste of 90 minutes. The plot, with its few pe...|\n",
      "|i have one word: focus.<br /><br />well.<br /><br />IMDb wants me to use at least ten lines of text. okay. let's disc...|\n",
      "|This movie would have been alright, indeed probably excellent, if the directors would have left the interviews and th...|\n",
      "|Disappointing heist movie indeed, I was actually expecting a pretty cool cat and mouse stuff going on through out the...|\n",
      "|THE BOX (2009) * Cameron Diaz, James Marsden, Frank Langella, James Rebhorn, Holmes Osborne, Sam Oz Stone, Celia West...|\n",
      "|Just watched on UbuWeb this early experimental short film directed by William Vance and Orson Welles. Yes, you read t...|\n",
      "|I was at Wrestlemania VI in Toronto as a 10 year old, and the event I saw then was pretty different from what I saw o...|\n",
      "|First of all, the genre of this movie isn't comedy, it's more of a drama.<br /><br />I had low expectations on the mo...|\n",
      "|Shaky hand held cameras (this piece was shot for television mind you, not film) not only keep you utterly conscious o...|\n",
      "|This show should be titled, \"When Bad Writing Happens To Good Actors\" considering most of the players have demonstrat...|\n",
      "|I have to admit that I am disappointed after seeing this movie. I had expected so much more from the trailers. The mo...|\n",
      "|I'm not sure why the producers needed to trade on the name of a somewhat successful movie franchise because the title...|\n",
      "|I did not quite get Barnens O  it is one of the weirdest ones I have watched. The soundtrack was quite unusual as we...|\n",
      "|I struggle to see the point of this movie. It is supposed to be a comedy but I didn't laugh once. The storyline is on...|\n",
      "|There were so many classic movies that were made where the leading people were out-and- out liars and yet they are ma...|\n",
      "|Inane, awful farce basically about a young man who refuses to conform or better uses non-conformity to attain his obj...|\n",
      "|I must say that I wasn't impressed at all, probably because I was expecting much more from this movie. Maybe an accen...|\n",
      "+------------------------------------------------------------------------------------------------------------------------+\n",
      "only showing top 20 rows\n",
      "\n"
     ]
    }
   ],
   "source": [
    "# only use first N examples, since this is slow\n",
    "df = spark.read.parquet(\"imdb_test\").limit(100)\n",
    "df.show(truncate=120)"
   ]
  },
  {
   "cell_type": "code",
   "execution_count": 32,
   "id": "488bc467-f8ef-4980-bb67-8e94d6f1f369",
   "metadata": {},
   "outputs": [],
   "source": [
    "# only use first sentence and add prefix for conditional generation\n",
    "def preprocess(text: pd.Series, prefix: str = \"\") -> pd.Series:\n",
    "    @pandas_udf(\"string\")\n",
    "    def _preprocess(text: pd.Series) -> pd.Series:\n",
    "        return pd.Series([prefix + s.split(\".\")[0] for s in text])\n",
    "    return _preprocess(text)"
   ]
  },
  {
   "cell_type": "code",
   "execution_count": 33,
   "id": "32064637-092c-4e9d-a0c2-5c88a72afa95",
   "metadata": {},
   "outputs": [],
   "source": [
    "# only use first 100 rows, since generation takes a while\n",
    "df1 = df.withColumn(\"input\", preprocess(col(\"lines\"), \"Translate English to German: \")).select(\"input\").limit(100)"
   ]
  },
  {
   "cell_type": "code",
   "execution_count": 34,
   "id": "d9b8fa3f-0827-4a84-b189-3a240a10867a",
   "metadata": {},
   "outputs": [
    {
     "name": "stdout",
     "output_type": "stream",
     "text": [
      "+------------------------------------------------------------------------------------------------------------------------+\n",
      "|                                                                                                                   input|\n",
      "+------------------------------------------------------------------------------------------------------------------------+\n",
      "|        Translate English to German: Cyber zone, as this DVD was sold in Oz, is about the worst B-Grade junk I have seen|\n",
      "|Translate English to German: I watched this movie to see the direction one of the most promising young talents in mov...|\n",
      "|                Translate English to German: I tried to be patient and open-minded but found myself in a coma-like state|\n",
      "|                                                   Translate English to German: While the dog was cute, the film was not|\n",
      "|                   Translate English to German: The opening scene makes you feel like you're watching a high school play|\n",
      "|Translate English to German: This movie starts off promisingly enough, but it gets a little to convoluted and caught ...|\n",
      "|                                                  Translate English to German: I was out-of-town, visiting an old friend|\n",
      "|Translate English to German: Well, where to start describing this celluloid debacle? You already know the big fat NAD...|\n",
      "|Translate English to German: An ear-splitting movie, a quasi-old-fashioned screwball romp designed to showcase singin...|\n",
      "|                                                                                 Translate English to German: The horror|\n",
      "|                                                              Translate English to German: This is clearly a French film|\n",
      "|Translate English to German: As Joe Bob Briggs would say, this movie relies a lot on the actresses' talents rather th...|\n",
      "|Translate English to German: Leonard Rossiter and Frances de la Tour carry this film, not without a struggle, as the ...|\n",
      "|                                                 Translate English to German: Finally got to see this movie last weekend|\n",
      "| Translate English to German: I was so offended by this film that I had to write SOMETHING about it, so please humour me|\n",
      "|Translate English to German: Cultural Vandalism Is the new Hallmark production of Gulliver's Travels an act of cultur...|\n",
      "|Translate English to German: Yet again, I appear to be the only person on planet Earth who is capable of criticizing ...|\n",
      "|Translate English to German: This lame Harold Lloyd sound film has nary a laugh in it, and makes one wonder if this L...|\n",
      "|Translate English to German: Having been pleasantly surprised by Sandra Bullock's performance in Miss Congeniality, I...|\n",
      "|Translate English to German: I had stifled high hopes for this David Lynch, whom I really like, film, but the very po...|\n",
      "+------------------------------------------------------------------------------------------------------------------------+\n",
      "only showing top 20 rows\n",
      "\n"
     ]
    }
   ],
   "source": [
    "df1.show(truncate=120)"
   ]
  },
  {
   "cell_type": "code",
   "execution_count": 35,
   "id": "4aaaf77c-a430-4aa2-b462-760b12e6a476",
   "metadata": {},
   "outputs": [
    {
     "name": "stdout",
     "output_type": "stream",
     "text": [
      "Using supplied Model and Tokenizer\n"
     ]
    }
   ],
   "source": [
    "# note: default return_type is 'string'\n",
    "generate = model_udf(model, tokenizer=tokenizer,\n",
    "                     max_length=128, padding=\"longest\", return_tensors=\"pt\", truncation=True, skip_special_tokens=True)"
   ]
  },
  {
   "cell_type": "code",
   "execution_count": 36,
   "id": "f6e1edc8-8505-4f27-949f-4271eede8939",
   "metadata": {},
   "outputs": [],
   "source": [
    "predictions = df1.withColumn(\"preds\", generate(col(\"input\")))"
   ]
  },
  {
   "cell_type": "code",
   "execution_count": 37,
   "id": "4d45b86d-97b9-4ae1-93d6-b11243c9a6c0",
   "metadata": {},
   "outputs": [
    {
     "name": "stderr",
     "output_type": "stream",
     "text": [
      "[Stage 27:>                                                         (0 + 1) / 1]\r"
     ]
    },
    {
     "name": "stdout",
     "output_type": "stream",
     "text": [
      "+------------------------------------------------------------+------------------------------------------------------------+\n",
      "|                                                       input|                                                       preds|\n",
      "+------------------------------------------------------------+------------------------------------------------------------+\n",
      "|Translate English to German: i came across this film on t...|ich erfuhr diesen Film im Netz durch Fluke und war entset...|\n",
      "|Translate English to German: He who fights with monsters ...|Wer mit Monstern kämpft, kann sich um die ganze Sache küm...|\n",
      "|Translate English to German: We thought this was one of t...|       Wir hielten es für einen der schlimmsten Filme jemals|\n",
      "|Translate English to German: This movie, despite its list...|        Dieser Film, trotz seiner Liste von B, C, und D-Kelb|\n",
      "|         Translate English to German: i have one word: focus|                                      i have one word: focus|\n",
      "|Translate English to German: This movie would have been a...|Dieser Film wäre gut, wahrscheinlich auch ausgezeichnet g...|\n",
      "|Translate English to German: Disappointing heist movie in...|Ich erwarte wirklich einen ziemlich coolen Katzen- und Maus-|\n",
      "|Translate English to German: THE BOX (2009) * Cameron Dia...|THE BOX (2009) * Cameron Diaz, James Marsden, Frank Lange...|\n",
      "|Translate English to German: Just watched on UbuWeb this ...|Just watched on UbuWeb this early experimental short film...|\n",
      "|Translate English to German: I was at Wrestlemania VI in ...|Ich war als 10 Jahre alt bei Wrestlemania VI in Toronto, ...|\n",
      "|Translate English to German: First of all, the genre of t...|Zunächst einmal ist das Genre dieses Films nicht Komödie,...|\n",
      "|Translate English to German: Shaky hand held cameras (thi...|Shaky hand held cameras (this piece was shot for televisi...|\n",
      "|Translate English to German: This show should be titled, ...|Dieser Show sollte mit dem Titel \"When Bad Writing Happen...|\n",
      "|Translate English to German: I have to admit that I am di...|  Ich muss zugeben, dass ich nach dem ersten Film enttäuscht|\n",
      "|Translate English to German: I'm not sure why the produce...|Ich bin mir nicht sicher, warum die Produzenten den Namen...|\n",
      "|Translate English to German: I did not quite get Barnens ...|              Barnens O hat mich nicht ganz erworben, es ist|\n",
      "|Translate English to German: I struggle to see the point ...|                        Ich kämpfe um den Sinn dieses Films.|\n",
      "|Translate English to German: There were so many classic m...|Es gab so viele klassische Filme, die gemacht wurden, wo ...|\n",
      "|Translate English to German: Inane, awful farce basically...|  Inane, schreckliche Farce im Grunde über einen jungen Mann|\n",
      "|Translate English to German: I must say that I wasn't imp...|Ich muss sagen, dass ich überhaupt nicht beeindruckt war,...|\n",
      "+------------------------------------------------------------+------------------------------------------------------------+\n",
      "only showing top 20 rows\n",
      "\n"
     ]
    },
    {
     "name": "stderr",
     "output_type": "stream",
     "text": [
      "                                                                                \r"
     ]
    }
   ],
   "source": [
    "predictions.show(truncate=60)"
   ]
  },
  {
   "cell_type": "code",
   "execution_count": 38,
   "id": "d8b133e0-b4ce-4c58-a87d-ae246849407f",
   "metadata": {},
   "outputs": [
    {
     "name": "stderr",
     "output_type": "stream",
     "text": [
      "[Stage 30:>                                                         (0 + 1) / 1]\r"
     ]
    },
    {
     "name": "stdout",
     "output_type": "stream",
     "text": [
      "CPU times: user 9.46 ms, sys: 1.55 ms, total: 11 ms\n",
      "Wall time: 5.29 s\n"
     ]
    },
    {
     "name": "stderr",
     "output_type": "stream",
     "text": [
      "                                                                                \r"
     ]
    }
   ],
   "source": [
    "%%time\n",
    "preds = predictions.collect()"
   ]
  },
  {
   "cell_type": "code",
   "execution_count": 39,
   "id": "1b2bb3e5-a8ea-433f-89c2-e30ea0979280",
   "metadata": {},
   "outputs": [],
   "source": [
    "# only use first 100 rows, since generation takes a while\n",
    "df2 = df.withColumn(\"input\", preprocess(col(\"lines\"), \"Translate English to French: \")).select(\"input\").limit(100)"
   ]
  },
  {
   "cell_type": "code",
   "execution_count": 40,
   "id": "2d473acb-7dee-45e7-b341-18d12054a5ac",
   "metadata": {},
   "outputs": [
    {
     "name": "stdout",
     "output_type": "stream",
     "text": [
      "+------------------------------------------------------------------------------------------------------------------------+\n",
      "|                                                                                                                   input|\n",
      "+------------------------------------------------------------------------------------------------------------------------+\n",
      "|Translate English to French: i came across this film on the net by fluke and i was horrified by its content of vivid ...|\n",
      "|               Translate English to French: He who fights with monsters might take care lest he thereby become a monster|\n",
      "|                                           Translate English to French: We thought this was one of the worst movies ever|\n",
      "| Translate English to French: This movie, despite its list of B, C, and D list celebs, is a complete waste of 90 minutes|\n",
      "|                                                                     Translate English to French: i have one word: focus|\n",
      "|Translate English to French: This movie would have been alright, indeed probably excellent, if the directors would ha...|\n",
      "|Translate English to French: Disappointing heist movie indeed, I was actually expecting a pretty cool cat and mouse s...|\n",
      "|Translate English to French: THE BOX (2009) * Cameron Diaz, James Marsden, Frank Langella, James Rebhorn, Holmes Osbo...|\n",
      "|Translate English to French: Just watched on UbuWeb this early experimental short film directed by William Vance and ...|\n",
      "|Translate English to French: I was at Wrestlemania VI in Toronto as a 10 year old, and the event I saw then was prett...|\n",
      "|                   Translate English to French: First of all, the genre of this movie isn't comedy, it's more of a drama|\n",
      "|Translate English to French: Shaky hand held cameras (this piece was shot for television mind you, not film) not only...|\n",
      "|Translate English to French: This show should be titled, \"When Bad Writing Happens To Good Actors\" considering most o...|\n",
      "|                             Translate English to French: I have to admit that I am disappointed after seeing this movie|\n",
      "|Translate English to French: I'm not sure why the producers needed to trade on the name of a somewhat successful movi...|\n",
      "|              Translate English to French: I did not quite get Barnens O  it is one of the weirdest ones I have watched|\n",
      "|                                                  Translate English to French: I struggle to see the point of this movie|\n",
      "|Translate English to French: There were so many classic movies that were made where the leading people were out-and- ...|\n",
      "|Translate English to French: Inane, awful farce basically about a young man who refuses to conform or better uses non...|\n",
      "|Translate English to French: I must say that I wasn't impressed at all, probably because I was expecting much more fr...|\n",
      "+------------------------------------------------------------------------------------------------------------------------+\n",
      "only showing top 20 rows\n",
      "\n"
     ]
    }
   ],
   "source": [
    "df2.show(truncate=120)"
   ]
  },
  {
   "cell_type": "code",
   "execution_count": 41,
   "id": "c1afa21e-6bbe-4e50-b29f-433afaf79df1",
   "metadata": {},
   "outputs": [],
   "source": [
    "predictions = df2.withColumn(\"preds\", generate(col(\"input\")))"
   ]
  },
  {
   "cell_type": "code",
   "execution_count": 42,
   "id": "3e786628-3b53-4efe-9a61-adabd973ebdf",
   "metadata": {},
   "outputs": [
    {
     "name": "stderr",
     "output_type": "stream",
     "text": [
      "[Stage 36:>                                                         (0 + 1) / 1]\r"
     ]
    },
    {
     "name": "stdout",
     "output_type": "stream",
     "text": [
      "+------------------------------------------------------------+------------------------------------------------------------+\n",
      "|                                                       input|                                                       preds|\n",
      "+------------------------------------------------------------+------------------------------------------------------------+\n",
      "|Translate English to French: Cyber zone, as this DVD was ...|  La cyberzone, étant donné que ce DVD a été vendu à Oz, est|\n",
      "|Translate English to French: I watched this movie to see ...|J’ai regardé ce film pour voir la direction d’un des jeun...|\n",
      "|Translate English to French: I tried to be patient and op...|                J'ai essayé d'être patient et ouvert mais j'|\n",
      "|Translate English to French: While the dog was cute, the ...|         Le chien était sain, mais le film n’était pas assez|\n",
      "|Translate English to French: The opening scene makes you ...|La scène d'ouverture vous fait sentir que vous regardez u...|\n",
      "|Translate English to French: This movie starts off promis...|   Ce film commence assez prometteur, mais il est un peu à l|\n",
      "|Translate English to French: I was out-of-town, visiting ...|                    J'étais hors-ville, en visite à un vieux|\n",
      "|Translate English to French: Well, where to start describ...|Vous savez déjà que la grande graisse NADA passe comme un...|\n",
      "|Translate English to French: An ear-splitting movie, a qu...|                  Un film à oreilles s'adressant à l'oreille|\n",
      "|                     Translate English to French: The horror|                                                   L'horreur|\n",
      "|  Translate English to French: This is clearly a French film|                     Il s'agit clairement d'un film français|\n",
      "|Translate English to French: As Joe Bob Briggs would say,...|            Comme l'indique Joe Bob Briggs, ce film s'appuie|\n",
      "|Translate English to French: Leonard Rossiter and Frances...| Leonard Rossiter et Frances de la Tour mettent en oeuvre ce|\n",
      "|Translate English to French: Finally got to see this movi...|       Enfin, il a fini par voir ce film le week-end dernier|\n",
      "|Translate English to French: I was so offended by this fi...|        J'ai été tellement malencontreuse par ce film que j'|\n",
      "|Translate English to French: Cultural Vandalism Is the ne...|Vandalisme culturel La nouvelle production Hallmark de Gu...|\n",
      "|Translate English to French: Yet again, I appear to be th...|Encore une fois, je semble être la seule personne sur la ...|\n",
      "|Translate English to French: This lame Harold Lloyd sound...|                Ce film d'un son à lame Harold Lloyd a ni un|\n",
      "|Translate English to French: Having been pleasantly surpr...|Ayant été agréablement surpris par Sandra Bullock's perfo...|\n",
      "|Translate English to French: I had stifled high hopes for...|J'avais éprouvé de grands espoirs pour ce film David Lync...|\n",
      "+------------------------------------------------------------+------------------------------------------------------------+\n",
      "only showing top 20 rows\n",
      "\n"
     ]
    },
    {
     "name": "stderr",
     "output_type": "stream",
     "text": [
      "                                                                                \r"
     ]
    }
   ],
   "source": [
    "predictions.show(truncate=60)"
   ]
  },
  {
   "cell_type": "code",
   "execution_count": 43,
   "id": "6be9ba57-8180-4487-a478-312faaa95c0f",
   "metadata": {},
   "outputs": [
    {
     "name": "stderr",
     "output_type": "stream",
     "text": [
      "[Stage 39:>                                                         (0 + 1) / 1]\r"
     ]
    },
    {
     "name": "stdout",
     "output_type": "stream",
     "text": [
      "CPU times: user 10.4 ms, sys: 3.55 ms, total: 13.9 ms\n",
      "Wall time: 7.07 s\n"
     ]
    },
    {
     "name": "stderr",
     "output_type": "stream",
     "text": [
      "                                                                                \r"
     ]
    }
   ],
   "source": [
    "%%time\n",
    "preds = predictions.collect()"
   ]
  },
  {
   "cell_type": "markdown",
   "id": "4a050bf2-8808-4b9e-b122-7ddaa6ace3f2",
   "metadata": {},
   "source": [
    "## Inference using Spark DL UDF (TensorFlow)\n",
    "Note: you can restart the kernel and run from this point to simulate running in a different node or environment."
   ]
  },
  {
   "cell_type": "code",
   "execution_count": 44,
   "id": "f68033d8-f949-4348-9c01-2b7ee9c525f9",
   "metadata": {},
   "outputs": [],
   "source": [
    "import pandas as pd\n",
    "from pyspark.sql.functions import col, pandas_udf\n",
    "from sparkext.huggingface import model_udf"
   ]
  },
  {
   "cell_type": "code",
   "execution_count": 45,
   "id": "8f4d1352-5648-4e0e-8084-85328ac15056",
   "metadata": {},
   "outputs": [],
   "source": [
    "from transformers import T5Tokenizer, TFT5ForConditionalGeneration"
   ]
  },
  {
   "cell_type": "code",
   "execution_count": 46,
   "id": "d28d7fc1-00fb-4b8b-ad55-6f82c032ea2e",
   "metadata": {},
   "outputs": [
    {
     "name": "stdout",
     "output_type": "stream",
     "text": [
      "+------------------------------------------------------------------------------------------------------------------------+\n",
      "|                                                                                                                   lines|\n",
      "+------------------------------------------------------------------------------------------------------------------------+\n",
      "|i came across this film on the net by fluke and i was horrified by its content of vivid abuse violence and torture sc...|\n",
      "|He who fights with monsters might take care lest he thereby become a monster. And if you gaze for long into an abyss,...|\n",
      "|We thought this was one of the worst movies ever. I had to volunteer to watch the end. The romance was not believable...|\n",
      "|This movie, despite its list of B, C, and D list celebs, is a complete waste of 90 minutes. The plot, with its few pe...|\n",
      "|i have one word: focus.<br /><br />well.<br /><br />IMDb wants me to use at least ten lines of text. okay. let's disc...|\n",
      "|This movie would have been alright, indeed probably excellent, if the directors would have left the interviews and th...|\n",
      "|Disappointing heist movie indeed, I was actually expecting a pretty cool cat and mouse stuff going on through out the...|\n",
      "|THE BOX (2009) * Cameron Diaz, James Marsden, Frank Langella, James Rebhorn, Holmes Osborne, Sam Oz Stone, Celia West...|\n",
      "|Just watched on UbuWeb this early experimental short film directed by William Vance and Orson Welles. Yes, you read t...|\n",
      "|I was at Wrestlemania VI in Toronto as a 10 year old, and the event I saw then was pretty different from what I saw o...|\n",
      "|First of all, the genre of this movie isn't comedy, it's more of a drama.<br /><br />I had low expectations on the mo...|\n",
      "|Shaky hand held cameras (this piece was shot for television mind you, not film) not only keep you utterly conscious o...|\n",
      "|This show should be titled, \"When Bad Writing Happens To Good Actors\" considering most of the players have demonstrat...|\n",
      "|I have to admit that I am disappointed after seeing this movie. I had expected so much more from the trailers. The mo...|\n",
      "|I'm not sure why the producers needed to trade on the name of a somewhat successful movie franchise because the title...|\n",
      "|I did not quite get Barnens O  it is one of the weirdest ones I have watched. The soundtrack was quite unusual as we...|\n",
      "|I struggle to see the point of this movie. It is supposed to be a comedy but I didn't laugh once. The storyline is on...|\n",
      "|There were so many classic movies that were made where the leading people were out-and- out liars and yet they are ma...|\n",
      "|Inane, awful farce basically about a young man who refuses to conform or better uses non-conformity to attain his obj...|\n",
      "|I must say that I wasn't impressed at all, probably because I was expecting much more from this movie. Maybe an accen...|\n",
      "+------------------------------------------------------------------------------------------------------------------------+\n",
      "only showing top 20 rows\n",
      "\n"
     ]
    }
   ],
   "source": [
    "# only use first N examples, since this is slow\n",
    "df = spark.read.parquet(\"imdb_test\").limit(100)\n",
    "df.show(truncate=120)"
   ]
  },
  {
   "cell_type": "code",
   "execution_count": 47,
   "id": "9fc5cbf0-ccbf-4400-99b1-da3bda9872be",
   "metadata": {},
   "outputs": [],
   "source": [
    "# only use first sentence and add prefix for conditional generation\n",
    "def preprocess(text: pd.Series, prefix: str = \"\") -> pd.Series:\n",
    "    @pandas_udf(\"string\")\n",
    "    def _preprocess(text: pd.Series) -> pd.Series:\n",
    "        return pd.Series([prefix + s.split(\".\")[0] for s in text])\n",
    "    return _preprocess(text)"
   ]
  },
  {
   "cell_type": "code",
   "execution_count": 48,
   "id": "efad1ce9-e47b-4f43-9bf9-c1740a21299e",
   "metadata": {},
   "outputs": [],
   "source": [
    "# only use first 100 rows, since generation takes a while\n",
    "df1 = df.withColumn(\"input\", preprocess(col(\"lines\"), \"Translate English to German: \")).select(\"input\").limit(100)"
   ]
  },
  {
   "cell_type": "code",
   "execution_count": 49,
   "id": "a30ada7d-c086-44bf-b143-dd8e53d968fe",
   "metadata": {},
   "outputs": [
    {
     "name": "stdout",
     "output_type": "stream",
     "text": [
      "+------------------------------------------------------------------------------------------------------------------------+\n",
      "|                                                                                                                   input|\n",
      "+------------------------------------------------------------------------------------------------------------------------+\n",
      "|        Translate English to German: Cyber zone, as this DVD was sold in Oz, is about the worst B-Grade junk I have seen|\n",
      "|Translate English to German: I watched this movie to see the direction one of the most promising young talents in mov...|\n",
      "|                Translate English to German: I tried to be patient and open-minded but found myself in a coma-like state|\n",
      "|                                                   Translate English to German: While the dog was cute, the film was not|\n",
      "|                   Translate English to German: The opening scene makes you feel like you're watching a high school play|\n",
      "|Translate English to German: This movie starts off promisingly enough, but it gets a little to convoluted and caught ...|\n",
      "|                                                  Translate English to German: I was out-of-town, visiting an old friend|\n",
      "|Translate English to German: Well, where to start describing this celluloid debacle? You already know the big fat NAD...|\n",
      "|Translate English to German: An ear-splitting movie, a quasi-old-fashioned screwball romp designed to showcase singin...|\n",
      "|                                                                                 Translate English to German: The horror|\n",
      "|                                                              Translate English to German: This is clearly a French film|\n",
      "|Translate English to German: As Joe Bob Briggs would say, this movie relies a lot on the actresses' talents rather th...|\n",
      "|Translate English to German: Leonard Rossiter and Frances de la Tour carry this film, not without a struggle, as the ...|\n",
      "|                                                 Translate English to German: Finally got to see this movie last weekend|\n",
      "| Translate English to German: I was so offended by this film that I had to write SOMETHING about it, so please humour me|\n",
      "|Translate English to German: Cultural Vandalism Is the new Hallmark production of Gulliver's Travels an act of cultur...|\n",
      "|Translate English to German: Yet again, I appear to be the only person on planet Earth who is capable of criticizing ...|\n",
      "|Translate English to German: This lame Harold Lloyd sound film has nary a laugh in it, and makes one wonder if this L...|\n",
      "|Translate English to German: Having been pleasantly surprised by Sandra Bullock's performance in Miss Congeniality, I...|\n",
      "|Translate English to German: I had stifled high hopes for this David Lynch, whom I really like, film, but the very po...|\n",
      "+------------------------------------------------------------------------------------------------------------------------+\n",
      "only showing top 20 rows\n",
      "\n"
     ]
    }
   ],
   "source": [
    "df1.show(truncate=120)"
   ]
  },
  {
   "cell_type": "code",
   "execution_count": 50,
   "id": "335859b5-70ad-49ec-b640-ea0f1f39c4a0",
   "metadata": {},
   "outputs": [],
   "source": [
    "# Need to use a model_loader since spark doesn't serialize this model correctly\n",
    "def model_loader(model_id):\n",
    "    from transformers import TFT5ForConditionalGeneration, T5Tokenizer\n",
    "    model = TFT5ForConditionalGeneration.from_pretrained(model_id)\n",
    "    tokenizer = T5Tokenizer.from_pretrained(model_id)\n",
    "    return model, tokenizer"
   ]
  },
  {
   "cell_type": "code",
   "execution_count": 51,
   "id": "be3ae13d-4648-43df-9484-467df763497a",
   "metadata": {},
   "outputs": [
    {
     "name": "stdout",
     "output_type": "stream",
     "text": [
      "Deferring model loading to executors.\n"
     ]
    },
    {
     "name": "stderr",
     "output_type": "stream",
     "text": [
      "All model checkpoint layers were used when initializing TFT5ForConditionalGeneration.\n",
      "\n",
      "All the layers of TFT5ForConditionalGeneration were initialized from the model checkpoint at t5-small.\n",
      "If your task is similar to the task the model of the checkpoint was trained on, you can already use TFT5ForConditionalGeneration for predictions without further training.\n"
     ]
    }
   ],
   "source": [
    "# note: default return_type for model_udf is 'string'\n",
    "generate = model_udf(\"t5-small\", tokenizer=tokenizer, model_loader=model_loader,\n",
    "                     max_length=128, padding=\"longest\", return_tensors=\"tf\", truncation=True, skip_special_tokens=True)"
   ]
  },
  {
   "cell_type": "code",
   "execution_count": 52,
   "id": "fbd3e433-021e-4ed0-a5e5-e654897a6b0f",
   "metadata": {},
   "outputs": [],
   "source": [
    "predictions = df1.withColumn(\"preds\", generate(col(\"input\")))"
   ]
  },
  {
   "cell_type": "code",
   "execution_count": 53,
   "id": "f6915deb-11c8-4ac4-9bb6-4212b77bd0fe",
   "metadata": {},
   "outputs": [
    {
     "name": "stderr",
     "output_type": "stream",
     "text": [
      "[Stage 47:>                                                         (0 + 1) / 1]\r"
     ]
    },
    {
     "name": "stdout",
     "output_type": "stream",
     "text": [
      "+------------------------------------------------------------+------------------------------------------------------------+\n",
      "|                                                       input|                                                       preds|\n",
      "+------------------------------------------------------------+------------------------------------------------------------+\n",
      "|Translate English to German: Cyber zone, as this DVD was ...|Cyberzone, da diese DVD in Oz verkauft wurde, ist über di...|\n",
      "|Translate English to German: I watched this movie to see ...|Ich habe diesen Film gesehen, um zu sehen, in welche Rich...|\n",
      "|Translate English to German: I tried to be patient and op...|Ich habe versucht, geduldig und offen zu sein, aber ich h...|\n",
      "|Translate English to German: While the dog was cute, the ...|          Während der Hund süß war, war der Film nicht engl.|\n",
      "|Translate English to German: The opening scene makes you ...|Die Eröffnungsszene macht Sie fühlen sich wie ein High Sc...|\n",
      "|Translate English to German: This movie starts off promis...|Dieser Film beginnt vielversprechend genug, aber er wird ...|\n",
      "|Translate English to German: I was out-of-town, visiting ...|    Ich war außerhalb der Stadt, besuchte einen alten Freund|\n",
      "|Translate English to German: Well, where to start describ...|          Wie kann man dieses Celluloid-Debakel beschreiben?|\n",
      "|Translate English to German: An ear-splitting movie, a qu...|       Ein ear-splitting-Film, ein quasi-old-fashioned screw|\n",
      "|                     Translate English to German: The horror|                                               Das Schrecken|\n",
      "|  Translate English to German: This is clearly a French film|                      Dieser Film ist eindeutig französisch.|\n",
      "|Translate English to German: As Joe Bob Briggs would say,...|Wie Joe Bob Briggs sagen würde, stützt sich dieser Film v...|\n",
      "|Translate English to German: Leonard Rossiter and Frances...|Leonard Rossiter und Frances de la Tour tragen diesen Fil...|\n",
      "|Translate English to German: Finally got to see this movi...|Letztes Wochenende hat es endlich geschafft, diesen Film ...|\n",
      "|Translate English to German: I was so offended by this fi...|Ich war so beleidigt, dass ich SOMETHING darüber schreibe...|\n",
      "|Translate English to German: Cultural Vandalism Is the ne...|Kultural Vandalismus Ist die neue Hallmark-Produktion von...|\n",
      "|Translate English to German: Yet again, I appear to be th...|Ich scheine wieder einmal der einzige Mensch auf der Erde...|\n",
      "|Translate English to German: This lame Harold Lloyd sound...|Dieser lame Harold Lloyd Sound Film hat nirgends einen La...|\n",
      "|Translate English to German: Having been pleasantly surpr...|Ich war angenehm überrascht von Sandra Bullocks Leistung ...|\n",
      "|Translate English to German: I had stifled high hopes for...|Ich hatte große Hoffnungen auf diesen David Lynch erstick...|\n",
      "+------------------------------------------------------------+------------------------------------------------------------+\n",
      "only showing top 20 rows\n",
      "\n"
     ]
    },
    {
     "name": "stderr",
     "output_type": "stream",
     "text": [
      "                                                                                \r"
     ]
    }
   ],
   "source": [
    "predictions.show(truncate=60)"
   ]
  },
  {
   "cell_type": "code",
   "execution_count": 54,
   "id": "63e36340-0208-4c38-a598-546bf4e0ba9a",
   "metadata": {},
   "outputs": [
    {
     "name": "stderr",
     "output_type": "stream",
     "text": [
      "[Stage 50:>                                                         (0 + 1) / 1]\r"
     ]
    },
    {
     "name": "stdout",
     "output_type": "stream",
     "text": [
      "CPU times: user 14 ms, sys: 480 µs, total: 14.5 ms\n",
      "Wall time: 15.3 s\n"
     ]
    },
    {
     "name": "stderr",
     "output_type": "stream",
     "text": [
      "                                                                                \r"
     ]
    }
   ],
   "source": [
    "%%time\n",
    "preds = predictions.collect()"
   ]
  },
  {
   "cell_type": "code",
   "execution_count": 55,
   "id": "47e94ac3-db63-4574-a6fc-40af81ac8016",
   "metadata": {},
   "outputs": [],
   "source": [
    "# only use first 100 rows, since generation takes a while\n",
    "df2 = df.withColumn(\"input\", preprocess(col(\"lines\"), \"Translate English to French: \")).select(\"input\").limit(100)"
   ]
  },
  {
   "cell_type": "code",
   "execution_count": 56,
   "id": "db2bcdbc-ab77-40df-8216-c011128a189d",
   "metadata": {},
   "outputs": [
    {
     "name": "stdout",
     "output_type": "stream",
     "text": [
      "+------------------------------------------------------------------------------------------------------------------------+\n",
      "|                                                                                                                   input|\n",
      "+------------------------------------------------------------------------------------------------------------------------+\n",
      "|Translate English to French: i came across this film on the net by fluke and i was horrified by its content of vivid ...|\n",
      "|               Translate English to French: He who fights with monsters might take care lest he thereby become a monster|\n",
      "|                                           Translate English to French: We thought this was one of the worst movies ever|\n",
      "| Translate English to French: This movie, despite its list of B, C, and D list celebs, is a complete waste of 90 minutes|\n",
      "|                                                                     Translate English to French: i have one word: focus|\n",
      "|Translate English to French: This movie would have been alright, indeed probably excellent, if the directors would ha...|\n",
      "|Translate English to French: Disappointing heist movie indeed, I was actually expecting a pretty cool cat and mouse s...|\n",
      "|Translate English to French: THE BOX (2009) * Cameron Diaz, James Marsden, Frank Langella, James Rebhorn, Holmes Osbo...|\n",
      "|Translate English to French: Just watched on UbuWeb this early experimental short film directed by William Vance and ...|\n",
      "|Translate English to French: I was at Wrestlemania VI in Toronto as a 10 year old, and the event I saw then was prett...|\n",
      "|                   Translate English to French: First of all, the genre of this movie isn't comedy, it's more of a drama|\n",
      "|Translate English to French: Shaky hand held cameras (this piece was shot for television mind you, not film) not only...|\n",
      "|Translate English to French: This show should be titled, \"When Bad Writing Happens To Good Actors\" considering most o...|\n",
      "|                             Translate English to French: I have to admit that I am disappointed after seeing this movie|\n",
      "|Translate English to French: I'm not sure why the producers needed to trade on the name of a somewhat successful movi...|\n",
      "|              Translate English to French: I did not quite get Barnens O  it is one of the weirdest ones I have watched|\n",
      "|                                                  Translate English to French: I struggle to see the point of this movie|\n",
      "|Translate English to French: There were so many classic movies that were made where the leading people were out-and- ...|\n",
      "|Translate English to French: Inane, awful farce basically about a young man who refuses to conform or better uses non...|\n",
      "|Translate English to French: I must say that I wasn't impressed at all, probably because I was expecting much more fr...|\n",
      "+------------------------------------------------------------------------------------------------------------------------+\n",
      "only showing top 20 rows\n",
      "\n"
     ]
    }
   ],
   "source": [
    "df2.show(truncate=120)"
   ]
  },
  {
   "cell_type": "code",
   "execution_count": 57,
   "id": "a7a8a10e-9a76-4414-a26c-f4abc9325f24",
   "metadata": {},
   "outputs": [],
   "source": [
    "predictions = df2.withColumn(\"preds\", generate(col(\"input\")))"
   ]
  },
  {
   "cell_type": "code",
   "execution_count": 58,
   "id": "67538959-9c89-4984-b469-4735955e4054",
   "metadata": {},
   "outputs": [
    {
     "name": "stderr",
     "output_type": "stream",
     "text": [
      "[Stage 56:>                                                         (0 + 1) / 1]\r"
     ]
    },
    {
     "name": "stdout",
     "output_type": "stream",
     "text": [
      "+------------------------------------------------------------+------------------------------------------------------------+\n",
      "|                                                       input|                                                       preds|\n",
      "+------------------------------------------------------------+------------------------------------------------------------+\n",
      "|Translate English to French: Cyber zone, as this DVD was ...|  La cyberzone, étant donné que ce DVD a été vendu à Oz, est|\n",
      "|Translate English to French: I watched this movie to see ...|J’ai regardé ce film pour voir la direction d’un des jeun...|\n",
      "|Translate English to French: I tried to be patient and op...|                J'ai essayé d'être patient et ouvert mais j'|\n",
      "|Translate English to French: While the dog was cute, the ...|         Le chien était sain, mais le film n’était pas assez|\n",
      "|Translate English to French: The opening scene makes you ...|La scène d'ouverture vous fait sentir que vous regardez u...|\n",
      "|Translate English to French: This movie starts off promis...|   Ce film commence assez prometteur, mais il est un peu à l|\n",
      "|Translate English to French: I was out-of-town, visiting ...|                    J'étais hors-ville, en visite à un vieux|\n",
      "|Translate English to French: Well, where to start describ...|Vous savez déjà que la grande graisse NADA passe comme un...|\n",
      "|Translate English to French: An ear-splitting movie, a qu...|                  Un film à oreilles s'adressant à l'oreille|\n",
      "|                     Translate English to French: The horror|                                                   L'horreur|\n",
      "|  Translate English to French: This is clearly a French film|                     Il s'agit clairement d'un film français|\n",
      "|Translate English to French: As Joe Bob Briggs would say,...|            Comme l'indique Joe Bob Briggs, ce film s'appuie|\n",
      "|Translate English to French: Leonard Rossiter and Frances...| Leonard Rossiter et Frances de la Tour mettent en oeuvre ce|\n",
      "|Translate English to French: Finally got to see this movi...|       Enfin, il a fini par voir ce film le week-end dernier|\n",
      "|Translate English to French: I was so offended by this fi...|        J'ai été tellement malencontreuse par ce film que j'|\n",
      "|Translate English to French: Cultural Vandalism Is the ne...|Vandalisme culturel La nouvelle production Hallmark de Gu...|\n",
      "|Translate English to French: Yet again, I appear to be th...|Encore une fois, je semble être la seule personne sur la ...|\n",
      "|Translate English to French: This lame Harold Lloyd sound...|                Ce film d'un son à lame Harold Lloyd a ni un|\n",
      "|Translate English to French: Having been pleasantly surpr...|Ayant été agréablement surpris par Sandra Bullock's perfo...|\n",
      "|Translate English to French: I had stifled high hopes for...|J'avais éprouvé de grands espoirs pour ce film David Lync...|\n",
      "+------------------------------------------------------------+------------------------------------------------------------+\n",
      "only showing top 20 rows\n",
      "\n"
     ]
    },
    {
     "name": "stderr",
     "output_type": "stream",
     "text": [
      "                                                                                \r"
     ]
    }
   ],
   "source": [
    "predictions.show(truncate=60)"
   ]
  },
  {
   "cell_type": "code",
   "execution_count": 59,
   "id": "01d1f1d1-b7d8-4521-91b0-143464933a65",
   "metadata": {},
   "outputs": [
    {
     "name": "stderr",
     "output_type": "stream",
     "text": [
      "[Stage 59:>                                                         (0 + 1) / 1]\r"
     ]
    },
    {
     "name": "stdout",
     "output_type": "stream",
     "text": [
      "CPU times: user 7.08 ms, sys: 5.95 ms, total: 13 ms\n",
      "Wall time: 14.7 s\n"
     ]
    },
    {
     "name": "stderr",
     "output_type": "stream",
     "text": [
      "                                                                                \r"
     ]
    }
   ],
   "source": [
    "%%time\n",
    "preds = predictions.collect()"
   ]
  },
  {
   "cell_type": "code",
   "execution_count": null,
   "id": "46a35761-f08a-4b10-8de7-7b73b4699829",
   "metadata": {},
   "outputs": [],
   "source": []
  }
 ],
 "metadata": {
  "kernelspec": {
   "display_name": "Python 3 (ipykernel)",
   "language": "python",
   "name": "python3"
  },
  "language_info": {
   "codemirror_mode": {
    "name": "ipython",
    "version": 3
   },
   "file_extension": ".py",
   "mimetype": "text/x-python",
   "name": "python",
   "nbconvert_exporter": "python",
   "pygments_lexer": "ipython3",
   "version": "3.9.10"
  }
 },
 "nbformat": 4,
 "nbformat_minor": 5
}
