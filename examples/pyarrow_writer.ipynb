{
 "cells": [
  {
   "cell_type": "markdown",
   "id": "7258d774-05ba-4ce3-bbb7-a32bca765493",
   "metadata": {},
   "source": [
    "# PyArrow Writer"
   ]
  },
  {
   "cell_type": "code",
   "execution_count": null,
   "id": "b86dbf28-2e89-4879-a821-3569d8818ab8",
   "metadata": {},
   "outputs": [],
   "source": [
    "import numpy as np\n",
    "import pandas as pd\n",
    "import pyarrow as pa"
   ]
  },
  {
   "cell_type": "code",
   "execution_count": null,
   "id": "87911bfc-9c2b-4ae6-a51c-16defc9d881a",
   "metadata": {},
   "outputs": [],
   "source": [
    "pdf1 = pd.DataFrame(np.random.rand(1000, 3))\n",
    "pdf2 = pd.DataFrame(np.random.rand(1000, 3))"
   ]
  },
  {
   "cell_type": "code",
   "execution_count": null,
   "id": "e945bf16-70b5-4091-ba87-65a967e5c334",
   "metadata": {},
   "outputs": [],
   "source": [
    "pdf1"
   ]
  },
  {
   "cell_type": "code",
   "execution_count": null,
   "id": "62ce2476-2866-45a5-9599-a3569c2a838b",
   "metadata": {},
   "outputs": [],
   "source": [
    "pdf2"
   ]
  },
  {
   "cell_type": "code",
   "execution_count": null,
   "id": "02325145-37c9-4ce5-972f-e94a81b20ee4",
   "metadata": {},
   "outputs": [],
   "source": [
    "table1 = pa.Table.from_pandas(pdf1)"
   ]
  },
  {
   "cell_type": "code",
   "execution_count": null,
   "id": "ab756e77-9260-4fd8-9130-5bd80c503723",
   "metadata": {},
   "outputs": [],
   "source": [
    "table2 = pa.Table.from_pandas(pdf2)"
   ]
  },
  {
   "cell_type": "markdown",
   "id": "b636b892-6400-439c-9611-725d12827a84",
   "metadata": {},
   "source": [
    "### File"
   ]
  },
  {
   "cell_type": "code",
   "execution_count": null,
   "id": "312d58b3-946b-419c-b4d8-4a1c9065d9e0",
   "metadata": {},
   "outputs": [],
   "source": [
    "with pa.OSFile('data.arrow', 'wb') as sink:\n",
    "    with pa.ipc.RecordBatchStreamWriter(sink, table.schema) as writer:\n",
    "        writer.write_table(table1)"
   ]
  },
  {
   "cell_type": "markdown",
   "id": "7445d49b-4038-459f-b2cd-ac592a036391",
   "metadata": {},
   "source": [
    "### Memory Mapped Stream"
   ]
  },
  {
   "cell_type": "code",
   "execution_count": null,
   "id": "17df6e0e-3c5d-46df-89b9-eac83b356843",
   "metadata": {},
   "outputs": [],
   "source": [
    "with pa.MemoryMappedFile.create('mmap', 1024 * 1024) as sink:\n",
    "    with pa.ipc.new_stream(sink, table.schema) as writer:\n",
    "        writer.write_table(table1)"
   ]
  },
  {
   "cell_type": "markdown",
   "id": "14d2c73a-7376-452f-89d7-ac38cef76099",
   "metadata": {},
   "source": [
    "### Memory Mapped Stream (continuous)"
   ]
  },
  {
   "cell_type": "code",
   "execution_count": 1,
   "id": "169c2518-75b5-4cdd-a863-a8991b6cf072",
   "metadata": {},
   "outputs": [],
   "source": [
    "import numpy as np\n",
    "import pandas as pd\n",
    "import pyarrow as pa"
   ]
  },
  {
   "cell_type": "code",
   "execution_count": 2,
   "id": "1b1b0809-698e-4e0d-8bb4-19bc8dc9f170",
   "metadata": {},
   "outputs": [],
   "source": [
    "def make_table():\n",
    "    df = pd.DataFrame(np.random.rand(100, 3))\n",
    "    return pa.Table.from_pandas(df)"
   ]
  },
  {
   "cell_type": "code",
   "execution_count": 3,
   "id": "2e582043-3195-4f3d-af87-9a4ab0db7866",
   "metadata": {},
   "outputs": [],
   "source": [
    "table = make_table()"
   ]
  },
  {
   "cell_type": "code",
   "execution_count": 4,
   "id": "93bc9ef6-f885-4702-910a-2863ee6b2ec1",
   "metadata": {},
   "outputs": [],
   "source": [
    "sink = pa.MemoryMappedFile.create('mmap', 1024 * 100)\n",
    "writer = pa.ipc.RecordBatchStreamWriter(sink, table.schema)"
   ]
  },
  {
   "cell_type": "code",
   "execution_count": 5,
   "id": "fa1c7358-3f25-40fd-83a1-60c4517de958",
   "metadata": {},
   "outputs": [],
   "source": [
    "for i in range(10):\n",
    "    writer.write_table(make_table())"
   ]
  },
  {
   "cell_type": "code",
   "execution_count": 6,
   "id": "9ef5f00f-d217-414f-b691-ddfc4f8b91bf",
   "metadata": {},
   "outputs": [],
   "source": [
    "writer.close()\n",
    "sink.close()"
   ]
  },
  {
   "cell_type": "code",
   "execution_count": null,
   "id": "44045081-5918-4c7e-ab8f-014c9d94cb43",
   "metadata": {},
   "outputs": [],
   "source": []
  }
 ],
 "metadata": {
  "kernelspec": {
   "display_name": "Python 3 (ipykernel)",
   "language": "python",
   "name": "python3"
  },
  "language_info": {
   "codemirror_mode": {
    "name": "ipython",
    "version": 3
   },
   "file_extension": ".py",
   "mimetype": "text/x-python",
   "name": "python",
   "nbconvert_exporter": "python",
   "pygments_lexer": "ipython3",
   "version": "3.9.10"
  }
 },
 "nbformat": 4,
 "nbformat_minor": 5
}
