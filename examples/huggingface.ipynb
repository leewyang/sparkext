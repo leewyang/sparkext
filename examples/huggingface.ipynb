{
 "cells": [
  {
   "cell_type": "markdown",
   "id": "777fc40d",
   "metadata": {},
   "source": [
    "# PySpark Huggingface Inferencing\n",
    "From: https://huggingface.co/docs/transformers/model_doc/t5"
   ]
  },
  {
   "cell_type": "code",
   "execution_count": null,
   "id": "f7095cdf-a2a8-4488-a6af-e48085512bf0",
   "metadata": {},
   "outputs": [],
   "source": [
    "from transformers import T5Tokenizer, T5ForConditionalGeneration\n",
    "\n",
    "tokenizer = T5Tokenizer.from_pretrained(\"t5-small\")\n",
    "model = T5ForConditionalGeneration.from_pretrained(\"t5-small\")\n",
    "\n",
    "max_source_length = 512\n",
    "max_target_length = 128\n",
    "\n",
    "task_prefix = \"translate English to German: \"\n",
    "\n",
    "lines = [\n",
    "    \"The house is wonderful\",\n",
    "    \"Welcome to NYC\",\n",
    "    \"HuggingFace is a company\"\n",
    "]\n",
    "\n",
    "input_sequences = [task_prefix + l for l in lines]"
   ]
  },
  {
   "cell_type": "code",
   "execution_count": null,
   "id": "45abfa26-02da-4d4a-a925-85b387de0ada",
   "metadata": {},
   "outputs": [],
   "source": [
    "input_ids = tokenizer(input_sequences, \n",
    "                      padding=\"longest\", \n",
    "                      max_length=max_source_length,\n",
    "                      return_tensors=\"pt\").input_ids\n",
    "outputs = model.generate(input_ids)"
   ]
  },
  {
   "cell_type": "code",
   "execution_count": null,
   "id": "72972ade-3a97-4bb3-9efa-31039a1a9442",
   "metadata": {},
   "outputs": [],
   "source": [
    "[tokenizer.decode(o, skip_special_tokens=True) for o in outputs]"
   ]
  },
  {
   "cell_type": "markdown",
   "id": "546eabe0",
   "metadata": {},
   "source": [
    "## PySpark"
   ]
  },
  {
   "cell_type": "code",
   "execution_count": null,
   "id": "2f6db1f0-7d68-4af7-8bd6-c9fa45906c61",
   "metadata": {},
   "outputs": [],
   "source": [
    "import os\n",
    "from pathlib import Path\n",
    "from torchtext.datasets import IMDB"
   ]
  },
  {
   "cell_type": "code",
   "execution_count": null,
   "id": "b8453111-d068-49bb-ab91-8ae3d8bcdb7a",
   "metadata": {},
   "outputs": [],
   "source": [
    "# load IMDB reviews (test) dataset\n",
    "data = IMDB(split='test')\n",
    "len(data)"
   ]
  },
  {
   "cell_type": "code",
   "execution_count": null,
   "id": "6d5bb49d-9a5b-4d1c-949e-24d01a7cd9a5",
   "metadata": {},
   "outputs": [],
   "source": [
    "# convert to nested array of string for pyspark\n",
    "lines = []\n",
    "for label, text in data:\n",
    "    # only take first sentence of IMDB review\n",
    "    lines.append([text.split('.')[0]])"
   ]
  },
  {
   "cell_type": "markdown",
   "id": "b2ed888b-b4ff-4728-8679-ea9a038d48c2",
   "metadata": {},
   "source": [
    "### Test inference on this data"
   ]
  },
  {
   "cell_type": "code",
   "execution_count": null,
   "id": "ea1a0362-7d7c-4959-aa64-17683fe436ab",
   "metadata": {},
   "outputs": [],
   "source": [
    "text = lines[0]\n",
    "text"
   ]
  },
  {
   "cell_type": "code",
   "execution_count": null,
   "id": "7b7c9c98-1c63-4ae4-9c9d-66e3528f4659",
   "metadata": {},
   "outputs": [],
   "source": [
    "input_ids = tokenizer(\"translate English to German: \" + text[0], return_tensors=\"pt\").input_ids\n",
    "input_ids"
   ]
  },
  {
   "cell_type": "code",
   "execution_count": null,
   "id": "752a5fae-a0e8-4958-9aa4-f8ef91dc47e6",
   "metadata": {},
   "outputs": [],
   "source": [
    "output_ids = model.generate(input_ids)\n",
    "output_ids"
   ]
  },
  {
   "cell_type": "code",
   "execution_count": null,
   "id": "47b0b09e-7c48-4425-981c-3c4116088622",
   "metadata": {},
   "outputs": [],
   "source": [
    "print(tokenizer.decode(outputs[0], skip_special_tokens=True))"
   ]
  },
  {
   "cell_type": "markdown",
   "id": "6fd5b472-47e8-4804-9907-772793fedb2b",
   "metadata": {},
   "source": [
    "### Create PySpark DataFrame"
   ]
  },
  {
   "cell_type": "code",
   "execution_count": null,
   "id": "68121304-f1df-466e-9347-c9d2b36a9b3a",
   "metadata": {},
   "outputs": [],
   "source": [
    "from pyspark.sql.types import *"
   ]
  },
  {
   "cell_type": "code",
   "execution_count": null,
   "id": "d24d9404-0269-476e-a9dd-1842667c915a",
   "metadata": {},
   "outputs": [],
   "source": [
    "df = spark.createDataFrame(lines, ['lines'])\n",
    "df.schema"
   ]
  },
  {
   "cell_type": "code",
   "execution_count": null,
   "id": "4384c762-1f79-4f60-876c-94b1f552e8fb",
   "metadata": {},
   "outputs": [],
   "source": [
    "df.take(1)"
   ]
  },
  {
   "cell_type": "markdown",
   "id": "42ba3513-82dd-47e7-8193-eb4389458757",
   "metadata": {},
   "source": [
    "### Save the test dataset as parquet files"
   ]
  },
  {
   "cell_type": "code",
   "execution_count": null,
   "id": "e7eec8ec-4126-4890-b957-025809fad67d",
   "metadata": {},
   "outputs": [],
   "source": [
    "df.write.mode(\"overwrite\").parquet(\"imdb_test\")"
   ]
  },
  {
   "cell_type": "markdown",
   "id": "304e1fc8-42a3-47dd-b3c0-47efd5be1040",
   "metadata": {},
   "source": [
    "### Check arrow memory configuration"
   ]
  },
  {
   "cell_type": "code",
   "execution_count": null,
   "id": "20554ea5-01be-4a30-8607-db5d87786fec",
   "metadata": {},
   "outputs": [],
   "source": [
    "spark.conf.set(\"spark.sql.execution.arrow.maxRecordsPerBatch\", \"512\")\n",
    "# This line will fail if the vectorized reader runs out of memory\n",
    "assert len(df.head()) > 0, \"`df` should not be empty\""
   ]
  },
  {
   "cell_type": "markdown",
   "id": "257a1dac-83e4-4c01-9a57-63ca8f5b0a41",
   "metadata": {},
   "source": [
    "## Inference using Spark ML Model\n"
   ]
  },
  {
   "cell_type": "code",
   "execution_count": 1,
   "id": "0fb461ee-b4ea-43cb-b8c1-67aa6c0c6196",
   "metadata": {},
   "outputs": [],
   "source": [
    "import sparkext"
   ]
  },
  {
   "cell_type": "code",
   "execution_count": 2,
   "id": "2aa1bbc4-4f56-4002-b1e8-c38c97da0113",
   "metadata": {},
   "outputs": [],
   "source": [
    "from transformers import T5Tokenizer, T5ForConditionalGeneration\n",
    "\n",
    "tokenizer = T5Tokenizer.from_pretrained(\"t5-small\")\n",
    "model = T5ForConditionalGeneration.from_pretrained(\"t5-small\")"
   ]
  },
  {
   "cell_type": "code",
   "execution_count": 3,
   "id": "07a7da12-544a-46ad-906e-69d180200a8d",
   "metadata": {},
   "outputs": [
    {
     "name": "stderr",
     "output_type": "stream",
     "text": [
      "                                                                                \r"
     ]
    }
   ],
   "source": [
    "# only use first N examples, since this is very slow on CPUs\n",
    "df = spark.read.parquet(\"imdb_test\").limit(100)"
   ]
  },
  {
   "cell_type": "code",
   "execution_count": 4,
   "id": "eed06084-cc50-4c74-a556-ac0c2fdd0437",
   "metadata": {},
   "outputs": [],
   "source": [
    "my_model = sparkext.huggingface.Model(model, tokenizer)"
   ]
  },
  {
   "cell_type": "code",
   "execution_count": 5,
   "id": "8f1d060f-fd31-4286-8a17-5f3dc38bd5d2",
   "metadata": {},
   "outputs": [
    {
     "name": "stderr",
     "output_type": "stream",
     "text": [
      "/home/leey/devpub/spark/python/pyspark/sql/pandas/functions.py:389: UserWarning: In Python 3.6+ and Spark 3.0+, it is preferred to specify type hints for pandas UDF instead of specifying pandas UDF type which will be deprecated in the future releases. See SPARK-28264 for more details.\n",
      "  warnings.warn(\n"
     ]
    }
   ],
   "source": [
    "predictions = my_model.transform(df)"
   ]
  },
  {
   "cell_type": "code",
   "execution_count": 6,
   "id": "750828cb-cd24-4ef0-9a66-04bf1948c2d4",
   "metadata": {},
   "outputs": [
    {
     "name": "stderr",
     "output_type": "stream",
     "text": [
      "                                                                                \r"
     ]
    },
    {
     "data": {
      "text/plain": [
       "[Row(prediction='Dieser Film hat in vielen Bereichen ermangelte in vielen'),\n",
       " Row(prediction='movie begins with a man who appears to be a sports driver.'),\n",
       " Row(prediction='Eigentlich nicht all so viel zu diesem Film'),\n",
       " Row(prediction=\"Ah, another movie with motorcycles, hell's angels posse and Steve\"),\n",
       " Row(prediction='n'),\n",
       " Row(prediction='Recap: A lone swordsman, living in the desert and acting as an'),\n",
       " Row(prediction='a project that was audacious, but ended up being a pretentious'),\n",
       " Row(prediction=\"Wong Kar-wai's 1994 movie Ashes of Time\"),\n",
       " Row(prediction=': During my ventures into foreign cinema, I have taken a liking to'),\n",
       " Row(prediction='Die Regie von Wong ist vielleicht die schlimmste in der Filmgeschichte, die ich'),\n",
       " Row(prediction='Votre capacité à jouir des Ashes of Time peut dépendre de'),\n",
       " Row(prediction='a major Hollywood movie with major stars, stellar budgets, and MPAA t'),\n",
       " Row(prediction='is one of those movies where the acting, set location, direction, and effects were so'),\n",
       " Row(prediction=\"'s reviews of this movie, and although it certainly isn't the best movie\"),\n",
       " Row(prediction=\"movies I can't imagine sitting down and saying, I want to spend X amount\"),\n",
       " Row(prediction='Dire beyond belief'),\n",
       " Row(prediction=\"ss it's strange what fate does to some people.\"),\n",
       " Row(prediction='Imagine the most cliche ridden b-movie horror plot you can'),\n",
       " Row(prediction='lands in \"Boston\" (really somewhere in the Isle of Man),'),\n",
       " Row(prediction='Es war pathetic'),\n",
       " Row(prediction=\"(who are actually in their late 20's) on campus in Boston (which looks\"),\n",
       " Row(prediction='let me know, this is probably the WORST movie I have ever seen, and'),\n",
       " Row(prediction='ich er shocked a 18 pages of good reviews.'),\n",
       " Row(prediction='Grosse Pointe Blank war wirklich ein unterdurchschnittlicher Film.'),\n",
       " Row(prediction='is a hit man who has so many issues from his past and his profession that'),\n",
       " Row(prediction='Der Titel hat für mich keinen Sinn.'),\n",
       " Row(prediction='it disconcerting that in an era when satisfying and fulfilling spirituality is unknown'),\n",
       " Row(prediction='Oh, Yawn'),\n",
       " Row(prediction=\"the book of this adaptation, will not bother me. I haven't read the\"),\n",
       " Row(prediction=\"'horror' film was supposed to be a joke, right? Please\"),\n",
       " Row(prediction='.'),\n",
       " Row(prediction='(Jeff Morrow) sees a UFO while test flying a'),\n",
       " Row(prediction='Dieser is fast Ed Wood territory.'),\n",
       " Row(prediction='The Giant Claw, 1957, boasts perhaps the ultimate flying monster in movie history'),\n",
       " Row(prediction=',,  the concept of'),\n",
       " Row(prediction='Persönlich habe ich kein Problem mit dem acting, weder mit dem script.'),\n",
       " Row(prediction='the 50s features a hugely forgettable monster film -- the \"claw\"'),\n",
       " Row(prediction='a movie, but it is a terrible movie!! Some people told me that it'),\n",
       " Row(prediction='Ich hätte es mir gewünscht, ich hätte es zehn stimmen können'),\n",
       " Row(prediction='Ich habe diesen Film gesehen, wenn ich was 12 Jahre alt war, als'),\n",
       " Row(prediction=\"The Giant Claw is in fierce competition with films like 'Robot Monster'\"),\n",
       " Row(prediction='Bevor wir start, apologie, ich möchte Ihnen sagen, dass Sie schon'),\n",
       " Row(prediction='film from 1957.'),\n",
       " Row(prediction='is fun on many levels - the moost obvious is the lame, fake'),\n",
       " Row(prediction=\"This is one of the most laughably bad films I've ever seen ever.\"),\n",
       " Row(prediction='Ohne a shadow of doubt ist und wird es immer der schlimmste Film,'),\n",
       " Row(prediction='San Franpyscho: 1 out of 10: So you want to make a'),\n",
       " Row(prediction='The movie was pretty bad'),\n",
       " Row(prediction=',, and you got yourself a film!!!!'),\n",
       " Row(prediction='Ich hoffe, dass dies nicht ein Portent of things to come.'),\n",
       " Row(prediction='With David Arquette starring you would immediately think this is a stupid movie.'),\n",
       " Row(prediction='Ich hatte hohen Erwartungen nach der Trailer.'),\n",
       " Row(prediction='the story of the movie, as some people do, say the story of the movie.'),\n",
       " Row(prediction='Freaks is a modern monster movie, like a remake of any of the'),\n",
       " Row(prediction='I really thought that I was going to enjoy this film because I love pictures with mountain climbing and'),\n",
       " Row(prediction='Die grenzten Aussicht auf die Landschaft waren die einzige resser es'),\n",
       " Row(prediction='So ich erfreut mich a eu a e'),\n",
       " Row(prediction='this film -- under the title of \"What Lies Above\" -- on Lifetime movie'),\n",
       " Row(prediction='Ich sas es a sa ich sa'),\n",
       " Row(prediction='ALERT'),\n",
       " Row(prediction='/>br />First, ironically, one needs to add'),\n",
       " Row(prediction='responds to open auditions at Lodestone Studios.'),\n",
       " Row(prediction='is a mockumentary collection of sketches, each focused on a female personal'),\n",
       " Row(prediction='Rabbit Fever is one of those film oddities'),\n",
       " Row(prediction='this in a preview screening and have to say that this documentary style movie is the biggest'),\n",
       " Row(prediction='Nicht ein ausgew'),\n",
       " Row(prediction='All the pro comments about this movie claim that the movie is balanced'),\n",
       " Row(prediction='a documentary of the same journalistic quality as Frontline or \"Fog of'),\n",
       " Row(prediction='Un friend and I went to see this movie.'),\n",
       " Row(prediction='Un friend and I went to see this movie.'),\n",
       " Row(prediction='Luna Luna ist ein wahres Vergnügen, zu beobachten.'),\n",
       " Row(prediction='starts out a bit interested with the son interested in a teenage girl his own age'),\n",
       " Row(prediction='11 years after the release of this film this film was released only 5 people have reviewed it here'),\n",
       " Row(prediction='Das ist der schlimmste Film, den ich in meiner ganz life gesehen habe.'),\n",
       " Row(prediction=\"Ritchie and actor Robert Redford's second documentary-style drama, 'The\"),\n",
       " Row(prediction='and Steve McQueen with their racing car movies this has all the appearance of'),\n",
       " Row(prediction=\"is the film's realisty, you really get the feeling screenwriter James\"),\n",
       " Row(prediction='Racer is, essentially, a movie to see only for the fantastic skiing sequence'),\n",
       " Row(prediction='let down, the novel is such a brilliant stomach churning journey into'),\n",
       " Row(prediction='Wir sehen, wer die guten guys sind.'),\n",
       " Row(prediction='movie had the potential to be a decent thriller, but it was hampered by'),\n",
       " Row(prediction='the film I saw was entirely different from the one that the others saw, but as the'),\n",
       " Row(prediction='Der schlimmst movie I ever seen'),\n",
       " Row(prediction='\"Love Life\" explores a very culturally relevant scenario of a marriage of convenience'),\n",
       " Row(prediction='this movie?'),\n",
       " Row(prediction='comparison between The Cat in the Hat and The Grinch Who Stole Christmas, so let'),\n",
       " Row(prediction=', I assumed this movie would be stupid, I honestly did, I gave it an extremely'),\n",
       " Row(prediction='Ich entschuldige mich für die Kritik an Filmkritiken der Welt.'),\n",
       " Row(prediction=\"Audrey, Audrey, I know you truly cherish your husband Ted's memory but PLEASE do his\"),\n",
       " Row(prediction=\"this unfunny dreck is that I didn't have to\"),\n",
       " Row(prediction='Si vous aimaime the Grinch movie'),\n",
       " Row(prediction='Dieser Film war schmerzhaft zu sit through, vielleicht weil ich (wie viele Menschen'),\n",
       " Row(prediction='Dieser Film ist völlig ill conceived and the money would have been better spent on'),\n",
       " Row(prediction=\"Well the previews looked funny and the previews looked funny and I usually don't go\"),\n",
       " Row(prediction=\", and to the classic children's tale to the classic children's tale\"),\n",
       " Row(prediction='Inappropri'),\n",
       " Row(prediction='Hat is just a slap in the face film.'),\n",
       " Row(prediction='Cat in the hat'),\n",
       " Row(prediction='Bad'),\n",
       " Row(prediction='Es gibt bereits vielen Kommentare, die ich ex ex ex exhipt')]"
      ]
     },
     "execution_count": 6,
     "metadata": {},
     "output_type": "execute_result"
    }
   ],
   "source": [
    "predictions.collect()"
   ]
  },
  {
   "cell_type": "code",
   "execution_count": null,
   "id": "b9d4605f-597e-4901-a5ac-4b1918151fdb",
   "metadata": {},
   "outputs": [],
   "source": []
  }
 ],
 "metadata": {
  "kernelspec": {
   "display_name": "Python 3 (ipykernel)",
   "language": "python",
   "name": "python3"
  },
  "language_info": {
   "codemirror_mode": {
    "name": "ipython",
    "version": 3
   },
   "file_extension": ".py",
   "mimetype": "text/x-python",
   "name": "python",
   "nbconvert_exporter": "python",
   "pygments_lexer": "ipython3",
   "version": "3.9.10"
  }
 },
 "nbformat": 4,
 "nbformat_minor": 5
}
