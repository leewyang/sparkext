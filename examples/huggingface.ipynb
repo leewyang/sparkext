{
 "cells": [
  {
   "cell_type": "markdown",
   "id": "777fc40d",
   "metadata": {},
   "source": [
    "# PySpark Huggingface Inferencing\n",
    "From: https://huggingface.co/docs/transformers/model_doc/t5"
   ]
  },
  {
   "cell_type": "code",
   "execution_count": 1,
   "id": "731faab7-a700-46f8-bba5-1c8764e5eacb",
   "metadata": {},
   "outputs": [],
   "source": [
    "from transformers import T5Tokenizer, T5ForConditionalGeneration\n",
    "\n",
    "tokenizer = T5Tokenizer.from_pretrained(\"t5-small\")\n",
    "model = T5ForConditionalGeneration.from_pretrained(\"t5-small\")\n",
    "\n",
    "max_source_length = 512\n",
    "max_target_length = 128\n",
    "\n",
    "task_prefix = \"translate English to German: \"\n",
    "\n",
    "lines = [\n",
    "    \"The house is wonderful\",\n",
    "    \"Welcome to NYC\",\n",
    "    \"HuggingFace is a company\"\n",
    "]\n",
    "\n",
    "input_sequences = [task_prefix + l for l in lines]"
   ]
  },
  {
   "cell_type": "code",
   "execution_count": 2,
   "id": "45abfa26-02da-4d4a-a925-85b387de0ada",
   "metadata": {},
   "outputs": [],
   "source": [
    "input_ids = tokenizer(input_sequences, \n",
    "                      padding=\"longest\", \n",
    "                      max_length=max_source_length,\n",
    "                      return_tensors=\"pt\").input_ids\n",
    "outputs = model.generate(input_ids)"
   ]
  },
  {
   "cell_type": "code",
   "execution_count": 3,
   "id": "72972ade-3a97-4bb3-9efa-31039a1a9442",
   "metadata": {},
   "outputs": [
    {
     "data": {
      "text/plain": [
       "['Das Haus ist wunderbar',\n",
       " 'Willkommen in NYC',\n",
       " 'HuggingFace ist ein Unternehmen']"
      ]
     },
     "execution_count": 3,
     "metadata": {},
     "output_type": "execute_result"
    }
   ],
   "source": [
    "[tokenizer.decode(o, skip_special_tokens=True) for o in outputs]"
   ]
  },
  {
   "cell_type": "markdown",
   "id": "546eabe0",
   "metadata": {},
   "source": [
    "## PySpark"
   ]
  },
  {
   "cell_type": "code",
   "execution_count": 4,
   "id": "2f6db1f0-7d68-4af7-8bd6-c9fa45906c61",
   "metadata": {},
   "outputs": [],
   "source": [
    "import os\n",
    "from pathlib import Path\n",
    "from torchtext.datasets import IMDB"
   ]
  },
  {
   "cell_type": "code",
   "execution_count": 5,
   "id": "b8453111-d068-49bb-ab91-8ae3d8bcdb7a",
   "metadata": {},
   "outputs": [
    {
     "data": {
      "text/plain": [
       "25000"
      ]
     },
     "execution_count": 5,
     "metadata": {},
     "output_type": "execute_result"
    }
   ],
   "source": [
    "# load IMDB reviews (test) dataset\n",
    "data = IMDB(split='test')\n",
    "len(data)"
   ]
  },
  {
   "cell_type": "code",
   "execution_count": 6,
   "id": "6d5bb49d-9a5b-4d1c-949e-24d01a7cd9a5",
   "metadata": {},
   "outputs": [],
   "source": [
    "# convert to nested array of string for pyspark\n",
    "lines = []\n",
    "for label, text in data:\n",
    "    # only take first sentence of IMDB review\n",
    "    lines.append([text])"
   ]
  },
  {
   "cell_type": "markdown",
   "id": "6fd5b472-47e8-4804-9907-772793fedb2b",
   "metadata": {},
   "source": [
    "### Create PySpark DataFrame"
   ]
  },
  {
   "cell_type": "code",
   "execution_count": 7,
   "id": "68121304-f1df-466e-9347-c9d2b36a9b3a",
   "metadata": {},
   "outputs": [],
   "source": [
    "from pyspark.sql.types import *"
   ]
  },
  {
   "cell_type": "code",
   "execution_count": 8,
   "id": "d24d9404-0269-476e-a9dd-1842667c915a",
   "metadata": {},
   "outputs": [
    {
     "data": {
      "text/plain": [
       "StructType(List(StructField(lines,StringType,true)))"
      ]
     },
     "execution_count": 8,
     "metadata": {},
     "output_type": "execute_result"
    }
   ],
   "source": [
    "df = spark.createDataFrame(lines, ['lines'])\n",
    "df.schema"
   ]
  },
  {
   "cell_type": "code",
   "execution_count": 9,
   "id": "4384c762-1f79-4f60-876c-94b1f552e8fb",
   "metadata": {},
   "outputs": [
    {
     "name": "stderr",
     "output_type": "stream",
     "text": [
      "22/02/22 17:29:50 WARN TaskSetManager: Stage 0 contains a task of very large size (1302 KiB). The maximum recommended task size is 1000 KiB.\n",
      "                                                                                \r"
     ]
    },
    {
     "data": {
      "text/plain": [
       "[Row(lines='I love sci-fi and am willing to put up with a lot. Sci-fi movies/TV are usually underfunded, under-appreciated and misunderstood. I tried to like this, I really did, but it is to good TV sci-fi as Babylon 5 is to Star Trek (the original). Silly prosthetics, cheap cardboard sets, stilted dialogues, CG that doesn\\'t match the background, and painfully one-dimensional characters cannot be overcome with a \\'sci-fi\\' setting. (I\\'m sure there are those of you out there who think Babylon 5 is good sci-fi TV. It\\'s not. It\\'s clichéd and uninspiring.) While US viewers might like emotion and character development, sci-fi is a genre that does not take itself seriously (cf. Star Trek). It may treat important issues, yet not as a serious philosophy. It\\'s really difficult to care about the characters here as they are not simply foolish, just missing a spark of life. Their actions and reactions are wooden and predictable, often painful to watch. The makers of Earth KNOW it\\'s rubbish as they have to always say \"Gene Roddenberry\\'s Earth...\" otherwise people would not continue watching. Roddenberry\\'s ashes must be turning in their orbit as this dull, cheap, poorly edited (watching it without advert breaks really brings this home) trudging Trabant of a show lumbers into space. Spoiler. So, kill off a main character. And then bring him back as another actor. Jeeez! Dallas all over again.')]"
      ]
     },
     "execution_count": 9,
     "metadata": {},
     "output_type": "execute_result"
    }
   ],
   "source": [
    "df.take(1)"
   ]
  },
  {
   "cell_type": "markdown",
   "id": "42ba3513-82dd-47e7-8193-eb4389458757",
   "metadata": {},
   "source": [
    "### Save the test dataset as parquet files"
   ]
  },
  {
   "cell_type": "code",
   "execution_count": 10,
   "id": "e7eec8ec-4126-4890-b957-025809fad67d",
   "metadata": {},
   "outputs": [
    {
     "name": "stderr",
     "output_type": "stream",
     "text": [
      "22/02/22 17:29:52 WARN TaskSetManager: Stage 1 contains a task of very large size (1302 KiB). The maximum recommended task size is 1000 KiB.\n",
      "                                                                                \r"
     ]
    }
   ],
   "source": [
    "df.write.mode(\"overwrite\").parquet(\"imdb_test\")"
   ]
  },
  {
   "cell_type": "markdown",
   "id": "304e1fc8-42a3-47dd-b3c0-47efd5be1040",
   "metadata": {},
   "source": [
    "### Check arrow memory configuration"
   ]
  },
  {
   "cell_type": "code",
   "execution_count": 11,
   "id": "20554ea5-01be-4a30-8607-db5d87786fec",
   "metadata": {},
   "outputs": [
    {
     "name": "stderr",
     "output_type": "stream",
     "text": [
      "22/02/22 17:29:55 WARN TaskSetManager: Stage 2 contains a task of very large size (1302 KiB). The maximum recommended task size is 1000 KiB.\n"
     ]
    }
   ],
   "source": [
    "spark.conf.set(\"spark.sql.execution.arrow.maxRecordsPerBatch\", \"512\")\n",
    "# This line will fail if the vectorized reader runs out of memory\n",
    "assert len(df.head()) > 0, \"`df` should not be empty\""
   ]
  },
  {
   "cell_type": "markdown",
   "id": "257a1dac-83e4-4c01-9a57-63ca8f5b0a41",
   "metadata": {},
   "source": [
    "## Inference using Spark ML Model\n"
   ]
  },
  {
   "cell_type": "code",
   "execution_count": 12,
   "id": "0fb461ee-b4ea-43cb-b8c1-67aa6c0c6196",
   "metadata": {},
   "outputs": [],
   "source": [
    "import sparkext"
   ]
  },
  {
   "cell_type": "code",
   "execution_count": 13,
   "id": "2aa1bbc4-4f56-4002-b1e8-c38c97da0113",
   "metadata": {},
   "outputs": [],
   "source": [
    "from transformers import T5Tokenizer, T5ForConditionalGeneration\n",
    "\n",
    "tokenizer = T5Tokenizer.from_pretrained(\"t5-small\")\n",
    "model = T5ForConditionalGeneration.from_pretrained(\"t5-small\")"
   ]
  },
  {
   "cell_type": "code",
   "execution_count": 14,
   "id": "07a7da12-544a-46ad-906e-69d180200a8d",
   "metadata": {},
   "outputs": [],
   "source": [
    "# only use first N examples, since this is very slow on CPUs\n",
    "df = spark.read.parquet(\"imdb_test\").limit(100)"
   ]
  },
  {
   "cell_type": "code",
   "execution_count": 15,
   "id": "eed06084-cc50-4c74-a556-ac0c2fdd0437",
   "metadata": {},
   "outputs": [],
   "source": [
    "my_model = sparkext.huggingface.Model(model, tokenizer, prefix=\"Translate English to German: \")"
   ]
  },
  {
   "cell_type": "code",
   "execution_count": 16,
   "id": "8f1d060f-fd31-4286-8a17-5f3dc38bd5d2",
   "metadata": {},
   "outputs": [
    {
     "name": "stderr",
     "output_type": "stream",
     "text": [
      "/home/leey/devpub/spark/python/pyspark/sql/pandas/functions.py:389: UserWarning: In Python 3.6+ and Spark 3.0+, it is preferred to specify type hints for pandas UDF instead of specifying pandas UDF type which will be deprecated in the future releases. See SPARK-28264 for more details.\n",
      "  warnings.warn(\n"
     ]
    }
   ],
   "source": [
    "predictions = my_model.transform(df)"
   ]
  },
  {
   "cell_type": "code",
   "execution_count": 17,
   "id": "750828cb-cd24-4ef0-9a66-04bf1948c2d4",
   "metadata": {},
   "outputs": [
    {
     "name": "stderr",
     "output_type": "stream",
     "text": [
      "                                                                                \r"
     ]
    },
    {
     "data": {
      "text/plain": [
       "[Row(prediction='Wenn Sie Atlantis 1 gesehen haben, dann wissen Sie, dass dieser Film wirklich'),\n",
       " Row(prediction='Ich werde nicht viel über diesen Film sagen, weil es nicht viel zu sagen gibt'),\n",
       " Row(prediction='Weil Disney häufiger die Animationsqualität und die Notwendigkeit eines guten'),\n",
       " Row(prediction='Ich hatte es mir gewünscht, dass dieser Film einige der Stärken des ersten'),\n",
       " Row(prediction='Was ist das schief mit Disney in den letzten Jahren?'),\n",
       " Row(prediction='i wish i could find some good things to say about this animated sequel(abut'),\n",
       " Row(prediction='Dieser Film war schrecklich, und er verdient nicht einmal, als Film'),\n",
       " Row(prediction='Ich stimme allen zu, dass es sehr schlecht war, dass einige Charakter'),\n",
       " Row(prediction='Ich finde, dass ich immer weniger begeistert über die Disney-Forderungen zu den'),\n",
       " Row(prediction='Ich habe den ersten Teil gesehen, als er herausgekommen ist, und ich'),\n",
       " Row(prediction='Ich sage das leider, aber ich habe diesen Film nicht genossen,'),\n",
       " Row(prediction='Der einzige Grund, warum diese Show nicht 0 erhielt, ist, dass sie nicht'),\n",
       " Row(prediction='HANA-BI hat viele ruhige Momente und ziemlich langsames Tempo,'),\n",
       " Row(prediction='In der Top-rated comment on this flick, jemand says \"Nishi is an'),\n",
       " Row(prediction='Ich sage nicht, wie jemand diesen Film genießen könnte, ich glaube nicht'),\n",
       " Row(prediction='br />br />After a promising -'),\n",
       " Row(prediction='Dieser Film wurde mir von einigen Leuten empfohlen, und nachdem ich alle positive'),\n",
       " Row(prediction='Tagline: die glücklichen Menschen starben...vor diesem Film.br'),\n",
       " Row(prediction='Die Hügel haben Augen ist kein großer Film von irgendeiner Art der Ph'),\n",
       " Row(prediction='Ich habe mich noch nie wirklich für cannibale Filme interessiert und bis vor ein'),\n",
       " Row(prediction='Während der letzten Zeit hat er die ersten großen nderungen an'),\n",
       " Row(prediction='Es gibt eine spezielle Art von sexueller Revolutionsfilm aus den 60er Jahren, der'),\n",
       " Row(prediction='Ich habe mich entschieden, diesen ultra-low budget Film aus dem \"Poverty'),\n",
       " Row(prediction='Dieser Film ist eher wie einer dieser schrecklichen 80s-'),\n",
       " Row(prediction='Was für eine dumme Idee. Ewoks sollten versklavt und ge'),\n",
       " Row(prediction='Ich habe offiziell in meinem Mund gespalten, dank dieses Films.'),\n",
       " Row(prediction='Dieser Film ist schrecklich, ich dachte zunächst, er'),\n",
       " Row(prediction='Das war meine erste Reaktion auf diesen Film (es war übrigens meine erste Reaktion,'),\n",
       " Row(prediction='Die ffentlichkeit hat es sich erfreut, die'),\n",
       " Row(prediction='Was kann ich über das PLEASURE PLANET sagen, das ich nicht über'),\n",
       " Row(prediction='Dieser Film ist eine Erklärung des künstlerischen Konkurses.'),\n",
       " Row(prediction='Ich war nie ein großer Fan von Almodovar, aber im Allgemeinen habe'),\n",
       " Row(prediction='Roy Rogers (as Roy) und Raymond Hatton (as Rust'),\n",
       " Row(prediction='Die großen betrügerischen Mantis werden aus ihrem Schlaf in der art'),\n",
       " Row(prediction='Ein eskimo-Dorf ist zerstört, ein'),\n",
       " Row(prediction='Dieser Film beginnt mit einer Karte und dann mit einer Erklärung des Radars und'),\n",
       " Row(prediction='Andere Kommentatoren haben diesen Film als \"klassischen SciFi der 1950er Jahre\"'),\n",
       " Row(prediction='DER DEADLY MANTIS wird sicherlich niemanden schüren, aber'),\n",
       " Row(prediction='Ich habe eine Rabattkopie gesehen, die ich vor einigen Jahren gesehen'),\n",
       " Row(prediction='br />br />Anybody who is a'),\n",
       " Row(prediction='Der Film hat seinen eigenen Charakter, er ist ein großer Film, der'),\n",
       " Row(prediction='Die atomaren Zeiten ergaben einen Aufschub von riesigen Kre'),\n",
       " Row(prediction='Es ist wirklich ein wirklich düsterer und außerordentlich langweilig'),\n",
       " Row(prediction='Ich glaube nicht, dass die Zahl der Fehler militärisch und strategisch in'),\n",
       " Row(prediction='Obwohl meine Exposition zu den Kulturen der Welt begrenzt ist, versuche'),\n",
       " Row(prediction='Wenn ich einen Film mag, dann muß ich mich um die Hauptfiguren'),\n",
       " Row(prediction='Ich habe diesen Film bei Blockbuster für $3.00 gekauft, weil er interessant'),\n",
       " Row(prediction='Dieser strafrechtliche Anwalt ist ein übereifriger Staatsanwal'),\n",
       " Row(prediction='Die Cheyenne trifft die Cheyenne mit dem schwarzen, schwarzen'),\n",
       " Row(prediction='Ich habe diesen Film heute Morgen auf TCM gesehen, ich habe es'),\n",
       " Row(prediction='br />br />I should go back to block'),\n",
       " Row(prediction='Ich stimme Ihnen völlig zu, und ich füge Ihnen diese hinzu'),\n",
       " Row(prediction='br />br />A misfire of a'),\n",
       " Row(prediction='Der Salena-Incident ist in Arizona angesiedelt, wo sechs To'),\n",
       " Row(prediction='Wenn ich noch 5 war, könnte es schrecklich erscheinen. Es'),\n",
       " Row(prediction='Der Salena Incident ist mit Abstand der beste Film von Dustin Riker'),\n",
       " Row(prediction='Im Sommer ist die Karte für diese Attraktion sehr lang, da es sich'),\n",
       " Row(prediction='br />br />A pretty clean plot and'),\n",
       " Row(prediction='br />br />The plot Dead bodies are being'),\n",
       " Row(prediction='br />br />Pff... OK.'),\n",
       " Row(prediction='Das große Problem damit ist, dass es nicht überzeugend ist, nicht nur seine Kre'),\n",
       " Row(prediction='Während ich Octopus II schaue, erinnere ich an'),\n",
       " Row(prediction='Ich habe diesen Film auf DVD für £4, aber er war eine Verschwendung, der'),\n",
       " Row(prediction='Ein fleischeating octopus, wo er fährt, wo'),\n",
       " Row(prediction='Ich wollte etwas, was ich sah, was ich wollte, und'),\n",
       " Row(prediction='Dieser Film ist so schlecht wie der erste, wenn nicht sogar schlechter.'),\n",
       " Row(prediction='Als ob die Welt nicht schon genug billige Jaws-Imitationen hätte'),\n",
       " Row(prediction='Da ich mindestens 10 Zeilen schreiben muss und dieser Müll nicht nur'),\n",
       " Row(prediction='Daphne Du Maurier hat REBECCA in den 1950er Jahren San Francisco'),\n",
       " Row(prediction='Sehr gute Musik und Performances; Kid Creole and the Coconuts, James White'),\n",
       " Row(prediction='Nichts als das Unklar, ein angenehmes für diejenigen, die die acht'),\n",
       " Row(prediction='Die einzige erlösende Qualität dieses Films ist, dass er Bands'),\n",
       " Row(prediction='Richard Donner zeigt seine liberalen Fähigkeiten mit diesem lächerlich überkochten,'),\n",
       " Row(prediction='Die Geschichte ist schrecklich, südafrikanische Diploma'),\n",
       " Row(prediction='Spoilers!!br />br />I hate this'),\n",
       " Row(prediction='Dieser Fernsehsender ist eine idiotische Zeitverschwendung, wenn Sie lernenb'),\n",
       " Row(prediction='Ich möchte zunächst sagen, dass man weiß, dass ein Film schlecht geführt wird, wenn'),\n",
       " Row(prediction='Der ursprüngliche Road House war ein klassischer cheesy 80er-Fil'),\n",
       " Row(prediction='Wenn ich nie den ersten Road House gesehen hätte, dann nehme ich'),\n",
       " Row(prediction='Das Original Road House ist kein preisgekrönter Film, aber es'),\n",
       " Row(prediction='Ich sah gestern Abend eine Promo für diesen Film auf Spike Channel,'),\n",
       " Row(prediction='Man stop making sequels to great movies.The original was a great movie that was over'),\n",
       " Row(prediction='Dieser Film ist ein Haufen von Müll, und um ihn zu gründe'),\n",
       " Row(prediction='Nun, es ist keine einfache Aufgabe, einen Kultklassiker wie'),\n",
       " Row(prediction='\"Direct-to-video\" ist ein Begriff, der für den Verbraucher niemals vielversprechen'),\n",
       " Row(prediction='Dieser in-name-only Nachfolger des klassischen ROADHOUSE hat'),\n",
       " Row(prediction='SPOILERS: The original Road House is one of those movies that I know is cliché'),\n",
       " Row(prediction='Dark Harvest 3: Scarecrow: 1 von 10: In Einsteins Theorie der'),\n",
       " Row(prediction='Es war früher, dass Videovertriebe wie Sub Rosa und Brain Damage Films preis'),\n",
       " Row(prediction='br />br />If you will look at the'),\n",
       " Row(prediction='Ich konnte dieses Stück nicht verwöhnen, wenn ich wollte. Nach dem ersten'),\n",
       " Row(prediction='Wie Sie sich erinnern, habe ich alle drei der Trilogie der Müll und der erste'),\n",
       " Row(prediction='Ich miete diesen Film unter dem Eindruck, dass er \"Scarec'),\n",
       " Row(prediction='Das ist nur das WORST-Muster, das ich jemals gesehen'),\n",
       " Row(prediction='Wenn es möglich wäre, hätte ich diese leidige Entschuldigung für einen'),\n",
       " Row(prediction='Ich habe diesen Film völlig verhasst, als ich 9 war,'),\n",
       " Row(prediction='Der Titel wurde später überflüssig hinzugefügt, da es einen ähnlichen'),\n",
       " Row(prediction='Es ist einer der Filme, die den \"spaghetti\" westlich t'),\n",
       " Row(prediction='Savage Guns (Videotitel) ist ein schmutz billiger, unter dem Fas'),\n",
       " Row(prediction='Im Kern ist dies eine ziemlich typische Rache Western, schwer auf die Spagh')]"
      ]
     },
     "execution_count": 17,
     "metadata": {},
     "output_type": "execute_result"
    }
   ],
   "source": [
    "predictions.collect()"
   ]
  },
  {
   "cell_type": "code",
   "execution_count": null,
   "id": "b9d4605f-597e-4901-a5ac-4b1918151fdb",
   "metadata": {},
   "outputs": [],
   "source": []
  }
 ],
 "metadata": {
  "kernelspec": {
   "display_name": "Python 3 (ipykernel)",
   "language": "python",
   "name": "python3"
  },
  "language_info": {
   "codemirror_mode": {
    "name": "ipython",
    "version": 3
   },
   "file_extension": ".py",
   "mimetype": "text/x-python",
   "name": "python",
   "nbconvert_exporter": "python",
   "pygments_lexer": "ipython3",
   "version": "3.9.10"
  }
 },
 "nbformat": 4,
 "nbformat_minor": 5
}
