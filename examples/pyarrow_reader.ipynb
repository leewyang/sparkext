{
 "cells": [
  {
   "cell_type": "markdown",
   "id": "57743963-fb61-48b0-b661-f73c3b6280d3",
   "metadata": {},
   "source": [
    "# PyArrow Reader"
   ]
  },
  {
   "cell_type": "code",
   "execution_count": null,
   "id": "f34734a1-c983-474d-8e78-68088df0a458",
   "metadata": {},
   "outputs": [],
   "source": [
    "import pyarrow as pa"
   ]
  },
  {
   "cell_type": "markdown",
   "id": "f57c6462-b1c9-465a-a8a4-7c3766723f40",
   "metadata": {},
   "source": [
    "### Read from file"
   ]
  },
  {
   "cell_type": "code",
   "execution_count": null,
   "id": "d2a3652e-6c5a-41b9-aa18-492f2cc16f40",
   "metadata": {},
   "outputs": [],
   "source": [
    "with pa.OSFile('data.arrow', 'rb') as sink:\n",
    "    with pa.ipc.RecordBatchFileReader(sink) as reader:\n",
    "        pdf = reader.read_pandas()"
   ]
  },
  {
   "cell_type": "code",
   "execution_count": null,
   "id": "55d545bd-e964-4f1f-9dc7-aa65d9c18d1a",
   "metadata": {},
   "outputs": [],
   "source": [
    "pdf"
   ]
  },
  {
   "cell_type": "markdown",
   "id": "09f26ed4-2b52-4a3f-b01e-ce0015c33afa",
   "metadata": {},
   "source": [
    "### Read from memory mapped stream"
   ]
  },
  {
   "cell_type": "code",
   "execution_count": null,
   "id": "067d0791-9797-4907-92f3-ef3dc48d3502",
   "metadata": {},
   "outputs": [],
   "source": [
    "with pa.memory_map('mmap') as sink:\n",
    "    with pa.ipc.open_stream(sink) as reader:\n",
    "        pdf = reader.read_pandas()"
   ]
  },
  {
   "cell_type": "code",
   "execution_count": null,
   "id": "3c34dee3-ce3a-48d6-b865-10f4829614e2",
   "metadata": {},
   "outputs": [],
   "source": [
    "pdf"
   ]
  },
  {
   "cell_type": "markdown",
   "id": "29f4efea-34ed-49b6-aac3-976dec951d0a",
   "metadata": {},
   "source": [
    "### Read from memory mapped stream (continuous)"
   ]
  },
  {
   "cell_type": "code",
   "execution_count": 1,
   "id": "34ab05f0-7463-4ef9-bf9a-37ddd2bdb1c0",
   "metadata": {},
   "outputs": [],
   "source": [
    "import pyarrow as pa"
   ]
  },
  {
   "cell_type": "code",
   "execution_count": 2,
   "id": "08e7d03b-54b3-4cba-b1f0-0ad61b0ddb8a",
   "metadata": {},
   "outputs": [],
   "source": [
    "sink = pa.memory_map('mmap')\n",
    "reader = pa.ipc.RecordBatchStreamReader(sink)"
   ]
  },
  {
   "cell_type": "code",
   "execution_count": 3,
   "id": "b009d273-28ba-46ba-8937-370a4678ce66",
   "metadata": {},
   "outputs": [
    {
     "name": "stdout",
     "output_type": "stream",
     "text": [
      "count: 1\n",
      "count: 2\n",
      "count: 3\n",
      "count: 4\n",
      "count: 5\n",
      "count: 6\n",
      "count: 7\n",
      "count: 8\n",
      "count: 9\n",
      "count: 10\n"
     ]
    },
    {
     "ename": "StopIteration",
     "evalue": "",
     "output_type": "error",
     "traceback": [
      "\u001b[0;31m---------------------------------------------------------------------------\u001b[0m",
      "\u001b[0;31mStopIteration\u001b[0m                             Traceback (most recent call last)",
      "Input \u001b[0;32mIn [3]\u001b[0m, in \u001b[0;36m<cell line: 3>\u001b[0;34m()\u001b[0m\n\u001b[1;32m      1\u001b[0m count \u001b[38;5;241m=\u001b[39m \u001b[38;5;241m0\u001b[39m\n\u001b[1;32m      2\u001b[0m \u001b[38;5;28;01mwhile\u001b[39;00m \u001b[38;5;28;01mTrue\u001b[39;00m:\n\u001b[0;32m----> 3\u001b[0m     \u001b[43mreader\u001b[49m\u001b[38;5;241;43m.\u001b[39;49m\u001b[43mread_next_batch\u001b[49m\u001b[43m(\u001b[49m\u001b[43m)\u001b[49m\u001b[38;5;241m.\u001b[39mto_pandas()\n\u001b[1;32m      4\u001b[0m     count \u001b[38;5;241m+\u001b[39m\u001b[38;5;241m=\u001b[39m \u001b[38;5;241m1\u001b[39m\n\u001b[1;32m      5\u001b[0m     \u001b[38;5;28mprint\u001b[39m(\u001b[38;5;124mf\u001b[39m\u001b[38;5;124m\"\u001b[39m\u001b[38;5;124mcount: \u001b[39m\u001b[38;5;132;01m{\u001b[39;00mcount\u001b[38;5;132;01m}\u001b[39;00m\u001b[38;5;124m\"\u001b[39m)\n",
      "File \u001b[0;32m~/.pyenv/versions/3.9.10/envs/spark_dev/lib/python3.9/site-packages/pyarrow/ipc.pxi:685\u001b[0m, in \u001b[0;36mpyarrow.lib.RecordBatchReader.read_next_batch\u001b[0;34m()\u001b[0m\n",
      "\u001b[0;31mStopIteration\u001b[0m: "
     ]
    }
   ],
   "source": [
    "count = 0\n",
    "while True:\n",
    "    reader.read_next_batch().to_pandas()\n",
    "    count += 1\n",
    "    print(f\"count: {count}\")"
   ]
  },
  {
   "cell_type": "code",
   "execution_count": 4,
   "id": "b962edc2-9d12-4950-9150-c8b53e040774",
   "metadata": {},
   "outputs": [],
   "source": [
    "sink.close()"
   ]
  }
 ],
 "metadata": {
  "kernelspec": {
   "display_name": "Python 3 (ipykernel)",
   "language": "python",
   "name": "python3"
  },
  "language_info": {
   "codemirror_mode": {
    "name": "ipython",
    "version": 3
   },
   "file_extension": ".py",
   "mimetype": "text/x-python",
   "name": "python",
   "nbconvert_exporter": "python",
   "pygments_lexer": "ipython3",
   "version": "3.9.10"
  }
 },
 "nbformat": 4,
 "nbformat_minor": 5
}
