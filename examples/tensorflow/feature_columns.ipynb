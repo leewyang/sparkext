{
 "cells": [
  {
   "cell_type": "markdown",
   "id": "66834048-5285-44a9-a031-e2e6e3347442",
   "metadata": {},
   "source": [
    "From: https://www.tensorflow.org/tutorials/structured_data/preprocessing_layers"
   ]
  },
  {
   "cell_type": "code",
   "execution_count": 1,
   "id": "01162f42-0637-4dfe-8d7d-b577e4ffd017",
   "metadata": {},
   "outputs": [],
   "source": [
    "import numpy as np\n",
    "import pandas as pd\n",
    "import tensorflow as tf\n",
    "\n",
    "from tensorflow.keras import layers"
   ]
  },
  {
   "cell_type": "code",
   "execution_count": 2,
   "id": "9fa3e1b7-58cd-45f9-9fee-85f25a31c3c6",
   "metadata": {},
   "outputs": [
    {
     "data": {
      "text/plain": [
       "'2.8.0'"
      ]
     },
     "execution_count": 2,
     "metadata": {},
     "output_type": "execute_result"
    }
   ],
   "source": [
    "tf.__version__"
   ]
  },
  {
   "cell_type": "code",
   "execution_count": 3,
   "id": "9326b072-a53c-40c4-a6cb-bd4d3d644d03",
   "metadata": {},
   "outputs": [],
   "source": [
    "dataset_url = 'http://storage.googleapis.com/download.tensorflow.org/data/petfinder-mini.zip'\n",
    "csv_file = 'datasets/petfinder-mini/petfinder-mini.csv'\n",
    "\n",
    "tf.keras.utils.get_file('petfinder_mini.zip', dataset_url,\n",
    "                        extract=True, cache_dir='.')\n",
    "dataframe = pd.read_csv(csv_file)"
   ]
  },
  {
   "cell_type": "code",
   "execution_count": 4,
   "id": "e98480ef-d13d-44c0-a227-e9a22f9bf2b0",
   "metadata": {},
   "outputs": [
    {
     "data": {
      "text/html": [
       "<div>\n",
       "<style scoped>\n",
       "    .dataframe tbody tr th:only-of-type {\n",
       "        vertical-align: middle;\n",
       "    }\n",
       "\n",
       "    .dataframe tbody tr th {\n",
       "        vertical-align: top;\n",
       "    }\n",
       "\n",
       "    .dataframe thead th {\n",
       "        text-align: right;\n",
       "    }\n",
       "</style>\n",
       "<table border=\"1\" class=\"dataframe\">\n",
       "  <thead>\n",
       "    <tr style=\"text-align: right;\">\n",
       "      <th></th>\n",
       "      <th>Type</th>\n",
       "      <th>Age</th>\n",
       "      <th>Breed1</th>\n",
       "      <th>Gender</th>\n",
       "      <th>Color1</th>\n",
       "      <th>Color2</th>\n",
       "      <th>MaturitySize</th>\n",
       "      <th>FurLength</th>\n",
       "      <th>Vaccinated</th>\n",
       "      <th>Sterilized</th>\n",
       "      <th>Health</th>\n",
       "      <th>Fee</th>\n",
       "      <th>Description</th>\n",
       "      <th>PhotoAmt</th>\n",
       "      <th>AdoptionSpeed</th>\n",
       "    </tr>\n",
       "  </thead>\n",
       "  <tbody>\n",
       "    <tr>\n",
       "      <th>0</th>\n",
       "      <td>Cat</td>\n",
       "      <td>3</td>\n",
       "      <td>Tabby</td>\n",
       "      <td>Male</td>\n",
       "      <td>Black</td>\n",
       "      <td>White</td>\n",
       "      <td>Small</td>\n",
       "      <td>Short</td>\n",
       "      <td>No</td>\n",
       "      <td>No</td>\n",
       "      <td>Healthy</td>\n",
       "      <td>100</td>\n",
       "      <td>Nibble is a 3+ month old ball of cuteness. He ...</td>\n",
       "      <td>1</td>\n",
       "      <td>2</td>\n",
       "    </tr>\n",
       "    <tr>\n",
       "      <th>1</th>\n",
       "      <td>Cat</td>\n",
       "      <td>1</td>\n",
       "      <td>Domestic Medium Hair</td>\n",
       "      <td>Male</td>\n",
       "      <td>Black</td>\n",
       "      <td>Brown</td>\n",
       "      <td>Medium</td>\n",
       "      <td>Medium</td>\n",
       "      <td>Not Sure</td>\n",
       "      <td>Not Sure</td>\n",
       "      <td>Healthy</td>\n",
       "      <td>0</td>\n",
       "      <td>I just found it alone yesterday near my apartm...</td>\n",
       "      <td>2</td>\n",
       "      <td>0</td>\n",
       "    </tr>\n",
       "    <tr>\n",
       "      <th>2</th>\n",
       "      <td>Dog</td>\n",
       "      <td>1</td>\n",
       "      <td>Mixed Breed</td>\n",
       "      <td>Male</td>\n",
       "      <td>Brown</td>\n",
       "      <td>White</td>\n",
       "      <td>Medium</td>\n",
       "      <td>Medium</td>\n",
       "      <td>Yes</td>\n",
       "      <td>No</td>\n",
       "      <td>Healthy</td>\n",
       "      <td>0</td>\n",
       "      <td>Their pregnant mother was dumped by her irresp...</td>\n",
       "      <td>7</td>\n",
       "      <td>3</td>\n",
       "    </tr>\n",
       "    <tr>\n",
       "      <th>3</th>\n",
       "      <td>Dog</td>\n",
       "      <td>4</td>\n",
       "      <td>Mixed Breed</td>\n",
       "      <td>Female</td>\n",
       "      <td>Black</td>\n",
       "      <td>Brown</td>\n",
       "      <td>Medium</td>\n",
       "      <td>Short</td>\n",
       "      <td>Yes</td>\n",
       "      <td>No</td>\n",
       "      <td>Healthy</td>\n",
       "      <td>150</td>\n",
       "      <td>Good guard dog, very alert, active, obedience ...</td>\n",
       "      <td>8</td>\n",
       "      <td>2</td>\n",
       "    </tr>\n",
       "    <tr>\n",
       "      <th>4</th>\n",
       "      <td>Dog</td>\n",
       "      <td>1</td>\n",
       "      <td>Mixed Breed</td>\n",
       "      <td>Male</td>\n",
       "      <td>Black</td>\n",
       "      <td>No Color</td>\n",
       "      <td>Medium</td>\n",
       "      <td>Short</td>\n",
       "      <td>No</td>\n",
       "      <td>No</td>\n",
       "      <td>Healthy</td>\n",
       "      <td>0</td>\n",
       "      <td>This handsome yet cute boy is up for adoption....</td>\n",
       "      <td>3</td>\n",
       "      <td>2</td>\n",
       "    </tr>\n",
       "  </tbody>\n",
       "</table>\n",
       "</div>"
      ],
      "text/plain": [
       "  Type  Age                Breed1  Gender Color1    Color2 MaturitySize  \\\n",
       "0  Cat    3                 Tabby    Male  Black     White        Small   \n",
       "1  Cat    1  Domestic Medium Hair    Male  Black     Brown       Medium   \n",
       "2  Dog    1           Mixed Breed    Male  Brown     White       Medium   \n",
       "3  Dog    4           Mixed Breed  Female  Black     Brown       Medium   \n",
       "4  Dog    1           Mixed Breed    Male  Black  No Color       Medium   \n",
       "\n",
       "  FurLength Vaccinated Sterilized   Health  Fee  \\\n",
       "0     Short         No         No  Healthy  100   \n",
       "1    Medium   Not Sure   Not Sure  Healthy    0   \n",
       "2    Medium        Yes         No  Healthy    0   \n",
       "3     Short        Yes         No  Healthy  150   \n",
       "4     Short         No         No  Healthy    0   \n",
       "\n",
       "                                         Description  PhotoAmt  AdoptionSpeed  \n",
       "0  Nibble is a 3+ month old ball of cuteness. He ...         1              2  \n",
       "1  I just found it alone yesterday near my apartm...         2              0  \n",
       "2  Their pregnant mother was dumped by her irresp...         7              3  \n",
       "3  Good guard dog, very alert, active, obedience ...         8              2  \n",
       "4  This handsome yet cute boy is up for adoption....         3              2  "
      ]
     },
     "execution_count": 4,
     "metadata": {},
     "output_type": "execute_result"
    }
   ],
   "source": [
    "dataframe.head()"
   ]
  },
  {
   "cell_type": "code",
   "execution_count": 5,
   "id": "e8efce25-a835-4cbd-b8a2-1418ba2c1d31",
   "metadata": {},
   "outputs": [],
   "source": [
    "# In the original dataset, `'AdoptionSpeed'` of `4` indicates\n",
    "# a pet was not adopted.\n",
    "dataframe['target'] = np.where(dataframe['AdoptionSpeed']==4, 0, 1)\n",
    "\n",
    "# Drop unused features.\n",
    "dataframe = dataframe.drop(columns=['AdoptionSpeed', 'Description'])"
   ]
  },
  {
   "cell_type": "code",
   "execution_count": 6,
   "id": "00d403cf-9ae7-4780-9fac-13d920d8b395",
   "metadata": {},
   "outputs": [],
   "source": [
    "train, val, test = np.split(dataframe.sample(frac=1), [int(0.8*len(dataframe)), int(0.9*len(dataframe))])\n"
   ]
  },
  {
   "cell_type": "code",
   "execution_count": 7,
   "id": "4206a56e-5403-42a9-805e-e037044e7995",
   "metadata": {},
   "outputs": [
    {
     "name": "stdout",
     "output_type": "stream",
     "text": [
      "9229 training examples\n",
      "1154 validation examples\n",
      "1154 test examples\n"
     ]
    }
   ],
   "source": [
    "print(len(train), 'training examples')\n",
    "print(len(val), 'validation examples')\n",
    "print(len(test), 'test examples')"
   ]
  },
  {
   "cell_type": "code",
   "execution_count": 8,
   "id": "499ade5f-ac8a-47ca-a021-071239dfe97d",
   "metadata": {},
   "outputs": [],
   "source": [
    "def df_to_dataset(dataframe, shuffle=True, batch_size=32):\n",
    "    df = dataframe.copy()\n",
    "    labels = df.pop('target')\n",
    "    df = {key: value[:, tf.newaxis] for key, value in dataframe.items()}\n",
    "    ds = tf.data.Dataset.from_tensor_slices((dict(df), labels))\n",
    "    if shuffle:\n",
    "        ds = ds.shuffle(buffer_size=len(dataframe))\n",
    "    ds = ds.batch(batch_size)\n",
    "    ds = ds.prefetch(batch_size)\n",
    "    return ds"
   ]
  },
  {
   "cell_type": "code",
   "execution_count": 9,
   "id": "b9ec57c9-080e-4626-9e03-acf309cf3736",
   "metadata": {},
   "outputs": [
    {
     "name": "stderr",
     "output_type": "stream",
     "text": [
      "/tmp/ipykernel_195100/1371686142.py:4: FutureWarning: Support for multi-dimensional indexing (e.g. `obj[:, None]`) is deprecated and will be removed in a future version.  Convert to a numpy array before indexing instead.\n",
      "  df = {key: value[:, tf.newaxis] for key, value in dataframe.items()}\n",
      "2022-08-16 10:09:52.746270: I tensorflow/core/platform/cpu_feature_guard.cc:151] This TensorFlow binary is optimized with oneAPI Deep Neural Network Library (oneDNN) to use the following CPU instructions in performance-critical operations:  AVX2 AVX512F FMA\n",
      "To enable them in other operations, rebuild TensorFlow with the appropriate compiler flags.\n"
     ]
    }
   ],
   "source": [
    "batch_size = 5\n",
    "train_ds = df_to_dataset(train, batch_size=batch_size)"
   ]
  },
  {
   "cell_type": "code",
   "execution_count": 10,
   "id": "dfcbf268-4508-4eb8-abe1-acf1dbb97bd5",
   "metadata": {},
   "outputs": [
    {
     "name": "stdout",
     "output_type": "stream",
     "text": [
      "Every feature: ['Type', 'Age', 'Breed1', 'Gender', 'Color1', 'Color2', 'MaturitySize', 'FurLength', 'Vaccinated', 'Sterilized', 'Health', 'Fee', 'PhotoAmt', 'target']\n",
      "A batch of ages: tf.Tensor(\n",
      "[[12]\n",
      " [36]\n",
      " [17]\n",
      " [60]\n",
      " [ 5]], shape=(5, 1), dtype=int64)\n",
      "A batch of targets: tf.Tensor([1 1 0 1 1], shape=(5,), dtype=int64)\n"
     ]
    }
   ],
   "source": [
    "[(train_features, label_batch)] = train_ds.take(1)\n",
    "print('Every feature:', list(train_features.keys()))\n",
    "print('A batch of ages:', train_features['Age'])\n",
    "print('A batch of targets:', label_batch )"
   ]
  },
  {
   "cell_type": "code",
   "execution_count": 11,
   "id": "6c09dc4b-3a2a-44f5-b41c-821ec30b87b1",
   "metadata": {},
   "outputs": [],
   "source": [
    "def get_normalization_layer(name, dataset):\n",
    "    # Create a Normalization layer for the feature.\n",
    "    normalizer = layers.Normalization(axis=None)\n",
    "\n",
    "    # Prepare a Dataset that only yields the feature.\n",
    "    feature_ds = dataset.map(lambda x, y: x[name])\n",
    "\n",
    "    # Learn the statistics of the data.\n",
    "    normalizer.adapt(feature_ds)\n",
    "\n",
    "    return normalizer"
   ]
  },
  {
   "cell_type": "code",
   "execution_count": 12,
   "id": "59bb91dc-360a-4a89-a9ea-bebc1ddbf1b7",
   "metadata": {},
   "outputs": [
    {
     "data": {
      "text/plain": [
       "<tf.Tensor: shape=(5, 1), dtype=float32, numpy=\n",
       "array([[-0.1925312],\n",
       "       [-0.5121148],\n",
       "       [ 0.446636 ],\n",
       "       [ 0.446636 ],\n",
       "       [-0.1925312]], dtype=float32)>"
      ]
     },
     "execution_count": 12,
     "metadata": {},
     "output_type": "execute_result"
    }
   ],
   "source": [
    "photo_count_col = train_features['PhotoAmt']\n",
    "layer = get_normalization_layer('PhotoAmt', train_ds)\n",
    "layer(photo_count_col)"
   ]
  },
  {
   "cell_type": "code",
   "execution_count": 13,
   "id": "4623b612-e924-472b-9ef4-c7f14f9f53c5",
   "metadata": {},
   "outputs": [],
   "source": [
    "def get_category_encoding_layer(name, dataset, dtype, max_tokens=None):\n",
    "    # Create a layer that turns strings into integer indices.\n",
    "    if dtype == 'string':\n",
    "        index = layers.StringLookup(max_tokens=max_tokens)\n",
    "    # Otherwise, create a layer that turns integer values into integer indices.\n",
    "    else:\n",
    "        index = layers.IntegerLookup(max_tokens=max_tokens)\n",
    "\n",
    "    # Prepare a `tf.data.Dataset` that only yields the feature.\n",
    "    feature_ds = dataset.map(lambda x, y: x[name])\n",
    "\n",
    "    # Learn the set of possible values and assign them a fixed integer index.\n",
    "    index.adapt(feature_ds)\n",
    "\n",
    "    # Encode the integer indices.\n",
    "    encoder = layers.CategoryEncoding(num_tokens=index.vocabulary_size())\n",
    "\n",
    "    # Apply multi-hot encoding to the indices. The lambda function captures the\n",
    "    # layer, so you can use them, or include them in the Keras Functional model later.\n",
    "    return lambda feature: encoder(index(feature))"
   ]
  },
  {
   "cell_type": "code",
   "execution_count": 14,
   "id": "0a40e9ee-20a5-4a42-8543-c267f99af55e",
   "metadata": {},
   "outputs": [
    {
     "data": {
      "text/plain": [
       "<tf.Tensor: shape=(5, 3), dtype=float32, numpy=\n",
       "array([[0., 0., 1.],\n",
       "       [0., 0., 1.],\n",
       "       [0., 0., 1.],\n",
       "       [0., 1., 0.],\n",
       "       [0., 1., 0.]], dtype=float32)>"
      ]
     },
     "execution_count": 14,
     "metadata": {},
     "output_type": "execute_result"
    }
   ],
   "source": [
    "test_type_col = train_features['Type']\n",
    "test_type_layer = get_category_encoding_layer(name='Type',\n",
    "                                              dataset=train_ds,\n",
    "                                              dtype='string')\n",
    "test_type_layer(test_type_col)"
   ]
  },
  {
   "cell_type": "code",
   "execution_count": 15,
   "id": "ff63a5cc-71f4-428e-9299-a8018edc7648",
   "metadata": {},
   "outputs": [
    {
     "data": {
      "text/plain": [
       "<tf.Tensor: shape=(5, 5), dtype=float32, numpy=\n",
       "array([[1., 0., 0., 0., 0.],\n",
       "       [1., 0., 0., 0., 0.],\n",
       "       [1., 0., 0., 0., 0.],\n",
       "       [1., 0., 0., 0., 0.],\n",
       "       [1., 0., 0., 0., 0.]], dtype=float32)>"
      ]
     },
     "execution_count": 15,
     "metadata": {},
     "output_type": "execute_result"
    }
   ],
   "source": [
    "test_age_col = train_features['Age']\n",
    "test_age_layer = get_category_encoding_layer(name='Age',\n",
    "                                             dataset=train_ds,\n",
    "                                             dtype='int64',\n",
    "                                             max_tokens=5)\n",
    "test_age_layer(test_age_col)"
   ]
  },
  {
   "cell_type": "code",
   "execution_count": 16,
   "id": "2b040b0e-d8ca-4cf0-917c-dd9a272e1f0a",
   "metadata": {},
   "outputs": [
    {
     "name": "stderr",
     "output_type": "stream",
     "text": [
      "/tmp/ipykernel_195100/1371686142.py:4: FutureWarning: Support for multi-dimensional indexing (e.g. `obj[:, None]`) is deprecated and will be removed in a future version.  Convert to a numpy array before indexing instead.\n",
      "  df = {key: value[:, tf.newaxis] for key, value in dataframe.items()}\n",
      "/tmp/ipykernel_195100/1371686142.py:4: FutureWarning: Support for multi-dimensional indexing (e.g. `obj[:, None]`) is deprecated and will be removed in a future version.  Convert to a numpy array before indexing instead.\n",
      "  df = {key: value[:, tf.newaxis] for key, value in dataframe.items()}\n",
      "/tmp/ipykernel_195100/1371686142.py:4: FutureWarning: Support for multi-dimensional indexing (e.g. `obj[:, None]`) is deprecated and will be removed in a future version.  Convert to a numpy array before indexing instead.\n",
      "  df = {key: value[:, tf.newaxis] for key, value in dataframe.items()}\n"
     ]
    }
   ],
   "source": [
    "batch_size = 256\n",
    "train_ds = df_to_dataset(train, batch_size=batch_size)\n",
    "val_ds = df_to_dataset(val, shuffle=False, batch_size=batch_size)\n",
    "test_ds = df_to_dataset(test, shuffle=False, batch_size=batch_size)"
   ]
  },
  {
   "cell_type": "code",
   "execution_count": 17,
   "id": "19df498e-4dd1-467a-8741-e1f5e15932a5",
   "metadata": {},
   "outputs": [],
   "source": [
    "all_inputs = []\n",
    "encoded_features = []\n",
    "\n",
    "# Numerical features.\n",
    "for header in ['PhotoAmt', 'Fee']:\n",
    "    numeric_col = tf.keras.Input(shape=(1,), name=header)\n",
    "    normalization_layer = get_normalization_layer(header, train_ds)\n",
    "    encoded_numeric_col = normalization_layer(numeric_col)\n",
    "    all_inputs.append(numeric_col)\n",
    "    encoded_features.append(encoded_numeric_col)"
   ]
  },
  {
   "cell_type": "code",
   "execution_count": 18,
   "id": "1d12579f-34fb-40b0-a16a-3e13cfea8178",
   "metadata": {},
   "outputs": [],
   "source": [
    "age_col = tf.keras.Input(shape=(1,), name='Age', dtype='int64')\n",
    "\n",
    "encoding_layer = get_category_encoding_layer(name='Age',\n",
    "                                             dataset=train_ds,\n",
    "                                             dtype='int64',\n",
    "                                             max_tokens=5)\n",
    "encoded_age_col = encoding_layer(age_col)\n",
    "all_inputs.append(age_col)\n",
    "encoded_features.append(encoded_age_col)"
   ]
  },
  {
   "cell_type": "code",
   "execution_count": 19,
   "id": "bff286eb-7ad7-4d3a-8fa4-c729692d1425",
   "metadata": {},
   "outputs": [],
   "source": [
    "categorical_cols = ['Type', 'Color1', 'Color2', 'Gender', 'MaturitySize',\n",
    "                    'FurLength', 'Vaccinated', 'Sterilized', 'Health', 'Breed1']\n",
    "\n",
    "for header in categorical_cols:\n",
    "    categorical_col = tf.keras.Input(shape=(1,), name=header, dtype='string')\n",
    "    encoding_layer = get_category_encoding_layer(name=header,\n",
    "                                                 dataset=train_ds,\n",
    "                                                 dtype='string',\n",
    "                                                 max_tokens=5)\n",
    "    encoded_categorical_col = encoding_layer(categorical_col)\n",
    "    all_inputs.append(categorical_col)\n",
    "    encoded_features.append(encoded_categorical_col)"
   ]
  },
  {
   "cell_type": "code",
   "execution_count": 20,
   "id": "79247436-32d8-4738-a656-3f288c77001c",
   "metadata": {},
   "outputs": [],
   "source": [
    "all_features = tf.keras.layers.concatenate(encoded_features)\n",
    "x = tf.keras.layers.Dense(32, activation=\"relu\")(all_features)\n",
    "x = tf.keras.layers.Dropout(0.5)(x)\n",
    "output = tf.keras.layers.Dense(1)(x)\n",
    "\n",
    "model = tf.keras.Model(all_inputs, output)"
   ]
  },
  {
   "cell_type": "code",
   "execution_count": 21,
   "id": "dbc85d3e-6d1e-4167-9516-b1182e880542",
   "metadata": {},
   "outputs": [],
   "source": [
    "model.compile(optimizer='adam',\n",
    "              loss=tf.keras.losses.BinaryCrossentropy(from_logits=True),\n",
    "              metrics=[\"accuracy\"])"
   ]
  },
  {
   "cell_type": "code",
   "execution_count": 22,
   "id": "03b54d91-26f3-4232-ac33-895599bd6126",
   "metadata": {},
   "outputs": [
    {
     "name": "stdout",
     "output_type": "stream",
     "text": [
      "You must install pydot (`pip install pydot`) and install graphviz (see instructions at https://graphviz.gitlab.io/download/) for plot_model/model_to_dot to work.\n"
     ]
    }
   ],
   "source": [
    "# Use `rankdir='LR'` to make the graph horizontal.\n",
    "tf.keras.utils.plot_model(model, show_shapes=True, rankdir=\"LR\")"
   ]
  },
  {
   "cell_type": "code",
   "execution_count": 23,
   "id": "bc9836c8-3c1a-41ad-8833-a946bafcfb00",
   "metadata": {},
   "outputs": [
    {
     "name": "stdout",
     "output_type": "stream",
     "text": [
      "Epoch 1/10\n"
     ]
    },
    {
     "name": "stderr",
     "output_type": "stream",
     "text": [
      "/home/leey/.pyenv/versions/3.9.10/envs/sparkext/lib/python3.9/site-packages/keras/engine/functional.py:559: UserWarning: Input dict contained keys ['target'] which did not match any model input. They will be ignored by the model.\n",
      "  inputs = self._flatten_to_reference_inputs(inputs)\n"
     ]
    },
    {
     "name": "stdout",
     "output_type": "stream",
     "text": [
      "37/37 [==============================] - 1s 13ms/step - loss: 0.6029 - accuracy: 0.6339 - val_loss: 0.5706 - val_accuracy: 0.7097\n",
      "Epoch 2/10\n",
      "37/37 [==============================] - 0s 6ms/step - loss: 0.5667 - accuracy: 0.6820 - val_loss: 0.5600 - val_accuracy: 0.7123\n",
      "Epoch 3/10\n",
      "37/37 [==============================] - 0s 6ms/step - loss: 0.5533 - accuracy: 0.7014 - val_loss: 0.5539 - val_accuracy: 0.7071\n",
      "Epoch 4/10\n",
      "37/37 [==============================] - 0s 6ms/step - loss: 0.5439 - accuracy: 0.7055 - val_loss: 0.5505 - val_accuracy: 0.7166\n",
      "Epoch 5/10\n",
      "37/37 [==============================] - 0s 5ms/step - loss: 0.5375 - accuracy: 0.7117 - val_loss: 0.5477 - val_accuracy: 0.7132\n",
      "Epoch 6/10\n",
      "37/37 [==============================] - 0s 6ms/step - loss: 0.5303 - accuracy: 0.7219 - val_loss: 0.5457 - val_accuracy: 0.7114\n",
      "Epoch 7/10\n",
      "37/37 [==============================] - 0s 6ms/step - loss: 0.5258 - accuracy: 0.7291 - val_loss: 0.5444 - val_accuracy: 0.7184\n",
      "Epoch 8/10\n",
      "37/37 [==============================] - 0s 6ms/step - loss: 0.5212 - accuracy: 0.7293 - val_loss: 0.5436 - val_accuracy: 0.7175\n",
      "Epoch 9/10\n",
      "37/37 [==============================] - 0s 6ms/step - loss: 0.5209 - accuracy: 0.7308 - val_loss: 0.5419 - val_accuracy: 0.7218\n",
      "Epoch 10/10\n",
      "37/37 [==============================] - 0s 6ms/step - loss: 0.5169 - accuracy: 0.7293 - val_loss: 0.5409 - val_accuracy: 0.7227\n"
     ]
    },
    {
     "data": {
      "text/plain": [
       "<keras.callbacks.History at 0x7fd2a85fbb80>"
      ]
     },
     "execution_count": 23,
     "metadata": {},
     "output_type": "execute_result"
    }
   ],
   "source": [
    "model.fit(train_ds, epochs=10, validation_data=val_ds)"
   ]
  },
  {
   "cell_type": "code",
   "execution_count": 24,
   "id": "fbccebaa-fc24-4a58-a032-222cef8fdf08",
   "metadata": {},
   "outputs": [
    {
     "name": "stdout",
     "output_type": "stream",
     "text": [
      "5/5 [==============================] - 0s 4ms/step - loss: 0.4988 - accuracy: 0.7400\n",
      "Accuracy 0.7400346398353577\n"
     ]
    }
   ],
   "source": [
    "loss, accuracy = model.evaluate(test_ds)\n",
    "print(\"Accuracy\", accuracy)"
   ]
  },
  {
   "cell_type": "code",
   "execution_count": 25,
   "id": "d1724a4e-fdaa-4169-8740-05bf18cb3153",
   "metadata": {},
   "outputs": [
    {
     "name": "stderr",
     "output_type": "stream",
     "text": [
      "2022-08-16 10:10:06.792649: W tensorflow/python/util/util.cc:368] Sets are not currently considered sequences, but this may change in the future, so consider avoiding using them.\n",
      "WARNING:absl:Function `_wrapped_model` contains input name(s) PhotoAmt, Fee, Age, Type, Color1, Color2, Gender, MaturitySize, FurLength, Vaccinated, Sterilized, Health, Breed1 with unsupported characters which will be renamed to photoamt, fee, age, type, color1, color2, gender, maturitysize, furlength, vaccinated, sterilized, health, breed1 in the SavedModel.\n"
     ]
    },
    {
     "name": "stdout",
     "output_type": "stream",
     "text": [
      "INFO:tensorflow:Assets written to: my_pet_classifier/assets\n"
     ]
    },
    {
     "name": "stderr",
     "output_type": "stream",
     "text": [
      "INFO:tensorflow:Assets written to: my_pet_classifier/assets\n"
     ]
    }
   ],
   "source": [
    "model.save('my_pet_classifier')"
   ]
  },
  {
   "cell_type": "code",
   "execution_count": 26,
   "id": "d604ca70-e0af-4cdb-8046-53e37f4b6afe",
   "metadata": {},
   "outputs": [],
   "source": [
    "reloaded_model = tf.keras.models.load_model('my_pet_classifier')"
   ]
  },
  {
   "cell_type": "code",
   "execution_count": 27,
   "id": "7b8be0a1-e16b-4509-8cbc-357def8bb282",
   "metadata": {},
   "outputs": [
    {
     "data": {
      "text/plain": [
       "[<KerasTensor: shape=(None, 1) dtype=float32 (created by layer 'PhotoAmt')>,\n",
       " <KerasTensor: shape=(None, 1) dtype=float32 (created by layer 'Fee')>,\n",
       " <KerasTensor: shape=(None, 1) dtype=int64 (created by layer 'Age')>,\n",
       " <KerasTensor: shape=(None, 1) dtype=string (created by layer 'Type')>,\n",
       " <KerasTensor: shape=(None, 1) dtype=string (created by layer 'Color1')>,\n",
       " <KerasTensor: shape=(None, 1) dtype=string (created by layer 'Color2')>,\n",
       " <KerasTensor: shape=(None, 1) dtype=string (created by layer 'Gender')>,\n",
       " <KerasTensor: shape=(None, 1) dtype=string (created by layer 'MaturitySize')>,\n",
       " <KerasTensor: shape=(None, 1) dtype=string (created by layer 'FurLength')>,\n",
       " <KerasTensor: shape=(None, 1) dtype=string (created by layer 'Vaccinated')>,\n",
       " <KerasTensor: shape=(None, 1) dtype=string (created by layer 'Sterilized')>,\n",
       " <KerasTensor: shape=(None, 1) dtype=string (created by layer 'Health')>,\n",
       " <KerasTensor: shape=(None, 1) dtype=string (created by layer 'Breed1')>]"
      ]
     },
     "execution_count": 27,
     "metadata": {},
     "output_type": "execute_result"
    }
   ],
   "source": [
    "reloaded_model.inputs"
   ]
  },
  {
   "cell_type": "code",
   "execution_count": 28,
   "id": "f3d2a2d5-fd4d-4320-bacc-fd4571cec709",
   "metadata": {},
   "outputs": [
    {
     "name": "stdout",
     "output_type": "stream",
     "text": [
      "This particular pet had a 82.9 percent probability of getting adopted.\n"
     ]
    }
   ],
   "source": [
    "sample = {\n",
    "    'Type': 'Cat',\n",
    "    'Age': 3,\n",
    "    'Breed1': 'Tabby',\n",
    "    'Gender': 'Male',\n",
    "    'Color1': 'Black',\n",
    "    'Color2': 'White',\n",
    "    'MaturitySize': 'Small',\n",
    "    'FurLength': 'Short',\n",
    "    'Vaccinated': 'No',\n",
    "    'Sterilized': 'No',\n",
    "    'Health': 'Healthy',\n",
    "    'Fee': 100,\n",
    "    'PhotoAmt': 2,\n",
    "}\n",
    "\n",
    "input_dict = {name: tf.convert_to_tensor([value]) for name, value in sample.items()}\n",
    "predictions = reloaded_model.predict(input_dict)\n",
    "prob = tf.nn.sigmoid(predictions[0])\n",
    "\n",
    "print(\n",
    "    \"This particular pet had a %.1f percent probability \"\n",
    "    \"of getting adopted.\" % (100 * prob)\n",
    ")"
   ]
  },
  {
   "cell_type": "markdown",
   "id": "f7bbfe69-93ed-4452-8985-c6685e0726c3",
   "metadata": {},
   "source": [
    "## PySpark"
   ]
  },
  {
   "cell_type": "code",
   "execution_count": 29,
   "id": "3c64fd7b-3d1e-40f8-ab64-b5c13f8bbe77",
   "metadata": {},
   "outputs": [],
   "source": [
    "df = spark.createDataFrame(dataframe)"
   ]
  },
  {
   "cell_type": "code",
   "execution_count": 30,
   "id": "1be8215b-5068-41b4-849c-1c3ea7bb108a",
   "metadata": {},
   "outputs": [
    {
     "name": "stderr",
     "output_type": "stream",
     "text": [
      "22/08/16 10:10:28 WARN TaskSchedulerImpl: Initial job has not accepted any resources; check your cluster UI to ensure that workers are registered and have sufficient resources\n",
      "22/08/16 10:10:43 WARN TaskSchedulerImpl: Initial job has not accepted any resources; check your cluster UI to ensure that workers are registered and have sufficient resources\n",
      "                                                                                \r"
     ]
    }
   ],
   "source": [
    "df.write.mode(\"overwrite\").parquet(\"datasets/petfinder-mini\")"
   ]
  },
  {
   "cell_type": "code",
   "execution_count": 31,
   "id": "d4dbde99-cf65-4c15-a163-754a0201a48d",
   "metadata": {},
   "outputs": [
    {
     "name": "stdout",
     "output_type": "stream",
     "text": [
      "+----+---+--------------------+------+------+--------+------------+---------+----------+----------+-------+---+--------+------+\n",
      "|Type|Age|              Breed1|Gender|Color1|  Color2|MaturitySize|FurLength|Vaccinated|Sterilized| Health|Fee|PhotoAmt|target|\n",
      "+----+---+--------------------+------+------+--------+------------+---------+----------+----------+-------+---+--------+------+\n",
      "| Cat|  3|               Tabby|  Male| Black|   White|       Small|    Short|        No|        No|Healthy|100|       1|     1|\n",
      "| Cat|  1|Domestic Medium Hair|  Male| Black|   Brown|      Medium|   Medium|  Not Sure|  Not Sure|Healthy|  0|       2|     1|\n",
      "| Dog|  1|         Mixed Breed|  Male| Brown|   White|      Medium|   Medium|       Yes|        No|Healthy|  0|       7|     1|\n",
      "| Dog|  4|         Mixed Breed|Female| Black|   Brown|      Medium|    Short|       Yes|        No|Healthy|150|       8|     1|\n",
      "| Dog|  1|         Mixed Breed|  Male| Black|No Color|      Medium|    Short|        No|        No|Healthy|  0|       3|     1|\n",
      "| Cat|  3| Domestic Short Hair|Female| Cream|    Gray|      Medium|    Short|        No|        No|Healthy|  0|       2|     1|\n",
      "| Cat| 12|  Domestic Long Hair|  Male| Black|No Color|      Medium|     Long|        No|  Not Sure|Healthy|300|       3|     1|\n",
      "| Cat|  2|Domestic Medium Hair|Female|  Gray|No Color|      Medium|   Medium|        No|        No|Healthy|  0|       6|     1|\n",
      "| Cat| 12|Domestic Medium Hair|Female| Black|   White|      Medium|   Medium|  Not Sure|  Not Sure|Healthy|  0|       2|     0|\n",
      "| Dog|  2|         Mixed Breed|  Male| Black|   Brown|      Medium|    Short|        No|        No|Healthy|  0|       7|     1|\n",
      "| Cat|  3|  Domestic Long Hair|Female| Black|   Brown|       Large|     Long|       Yes|        No|Healthy| 50|       2|     1|\n",
      "| Dog|  2|         Mixed Breed|  Male| Brown|   Cream|      Medium|     Long|       Yes|        No|Healthy|  0|       1|     1|\n",
      "| Dog|  3|         Mixed Breed|Female| Brown|   Cream|      Medium|   Medium|  Not Sure|  Not Sure|Healthy|  0|       2|     1|\n",
      "| Dog| 78|             Terrier|  Male| Black|   White|      Medium|   Medium|  Not Sure|  Not Sure|Healthy|  0|       2|     0|\n",
      "| Cat|  6| Domestic Short Hair|Female| Brown|No Color|       Small|    Short|       Yes|       Yes|Healthy|  0|       1|     1|\n",
      "| Dog|  8|         Mixed Breed|Female| Brown|No Color|      Medium|    Short|        No|       Yes|Healthy| 10|       2|     0|\n",
      "| Dog|  2|         Mixed Breed|Female| Black|No Color|      Medium|    Short|        No|        No|Healthy|  0|       8|     1|\n",
      "| Dog| 12|         Mixed Breed|Female| Brown|   White|      Medium|   Medium|        No|       Yes|Healthy|  0|       7|     1|\n",
      "| Dog| 10|         Mixed Breed|Female| Black|   Brown|      Medium|   Medium|       Yes|       Yes|Healthy|  0|       0|     0|\n",
      "| Cat|  3| Domestic Short Hair|  Male| Brown|   White|       Small|    Short|        No|        No|Healthy|  0|      19|     1|\n",
      "+----+---+--------------------+------+------+--------+------------+---------+----------+----------+-------+---+--------+------+\n",
      "only showing top 20 rows\n",
      "\n"
     ]
    }
   ],
   "source": [
    "df.show()"
   ]
  },
  {
   "cell_type": "markdown",
   "id": "f80f9a2b-e5a2-44d1-aeaf-7cba33f5d692",
   "metadata": {},
   "source": [
    "## Inference using Spark ML Model"
   ]
  },
  {
   "cell_type": "code",
   "execution_count": 32,
   "id": "fa00ef7e-2a88-487c-bd14-e6e9a25695d8",
   "metadata": {},
   "outputs": [],
   "source": [
    "import sparkext"
   ]
  },
  {
   "cell_type": "code",
   "execution_count": 33,
   "id": "37df7267-7c32-47f9-9639-63a4f85b4b3e",
   "metadata": {},
   "outputs": [],
   "source": [
    "df = spark.read.parquet(\"datasets/petfinder-mini\")"
   ]
  },
  {
   "cell_type": "code",
   "execution_count": 34,
   "id": "fd96214d-f07f-455f-b67b-919b43e53a04",
   "metadata": {},
   "outputs": [
    {
     "name": "stdout",
     "output_type": "stream",
     "text": [
      "+----+---+--------------------+------+------+--------+------------+---------+----------+----------+-------+---+--------+------+\n",
      "|Type|Age|              Breed1|Gender|Color1|  Color2|MaturitySize|FurLength|Vaccinated|Sterilized| Health|Fee|PhotoAmt|target|\n",
      "+----+---+--------------------+------+------+--------+------------+---------+----------+----------+-------+---+--------+------+\n",
      "| Cat|  3|               Tabby|  Male| Black|   White|       Small|    Short|        No|        No|Healthy|100|       1|     1|\n",
      "| Cat|  1|Domestic Medium Hair|  Male| Black|   Brown|      Medium|   Medium|  Not Sure|  Not Sure|Healthy|  0|       2|     1|\n",
      "| Dog|  1|         Mixed Breed|  Male| Brown|   White|      Medium|   Medium|       Yes|        No|Healthy|  0|       7|     1|\n",
      "| Dog|  4|         Mixed Breed|Female| Black|   Brown|      Medium|    Short|       Yes|        No|Healthy|150|       8|     1|\n",
      "| Dog|  1|         Mixed Breed|  Male| Black|No Color|      Medium|    Short|        No|        No|Healthy|  0|       3|     1|\n",
      "| Cat|  3| Domestic Short Hair|Female| Cream|    Gray|      Medium|    Short|        No|        No|Healthy|  0|       2|     1|\n",
      "| Cat| 12|  Domestic Long Hair|  Male| Black|No Color|      Medium|     Long|        No|  Not Sure|Healthy|300|       3|     1|\n",
      "| Cat|  2|Domestic Medium Hair|Female|  Gray|No Color|      Medium|   Medium|        No|        No|Healthy|  0|       6|     1|\n",
      "| Cat| 12|Domestic Medium Hair|Female| Black|   White|      Medium|   Medium|  Not Sure|  Not Sure|Healthy|  0|       2|     0|\n",
      "| Dog|  2|         Mixed Breed|  Male| Black|   Brown|      Medium|    Short|        No|        No|Healthy|  0|       7|     1|\n",
      "| Cat|  3|  Domestic Long Hair|Female| Black|   Brown|       Large|     Long|       Yes|        No|Healthy| 50|       2|     1|\n",
      "| Dog|  2|         Mixed Breed|  Male| Brown|   Cream|      Medium|     Long|       Yes|        No|Healthy|  0|       1|     1|\n",
      "| Dog|  3|         Mixed Breed|Female| Brown|   Cream|      Medium|   Medium|  Not Sure|  Not Sure|Healthy|  0|       2|     1|\n",
      "| Dog| 78|             Terrier|  Male| Black|   White|      Medium|   Medium|  Not Sure|  Not Sure|Healthy|  0|       2|     0|\n",
      "| Cat|  6| Domestic Short Hair|Female| Brown|No Color|       Small|    Short|       Yes|       Yes|Healthy|  0|       1|     1|\n",
      "| Dog|  8|         Mixed Breed|Female| Brown|No Color|      Medium|    Short|        No|       Yes|Healthy| 10|       2|     0|\n",
      "| Dog|  2|         Mixed Breed|Female| Black|No Color|      Medium|    Short|        No|        No|Healthy|  0|       8|     1|\n",
      "| Dog| 12|         Mixed Breed|Female| Brown|   White|      Medium|   Medium|        No|       Yes|Healthy|  0|       7|     1|\n",
      "| Dog| 10|         Mixed Breed|Female| Black|   Brown|      Medium|   Medium|       Yes|       Yes|Healthy|  0|       0|     0|\n",
      "| Cat|  3| Domestic Short Hair|  Male| Brown|   White|       Small|    Short|        No|        No|Healthy|  0|      19|     1|\n",
      "+----+---+--------------------+------+------+--------+------------+---------+----------+----------+-------+---+--------+------+\n",
      "only showing top 20 rows\n",
      "\n"
     ]
    }
   ],
   "source": [
    "df.show()"
   ]
  },
  {
   "cell_type": "code",
   "execution_count": 35,
   "id": "aa1284dc-d618-4033-8be1-56517bdbb7cf",
   "metadata": {},
   "outputs": [
    {
     "name": "stdout",
     "output_type": "stream",
     "text": [
      "['Type', 'Age', 'Breed1', 'Gender', 'Color1', 'Color2', 'MaturitySize', 'FurLength', 'Vaccinated', 'Sterilized', 'Health', 'Fee', 'PhotoAmt', 'target']\n"
     ]
    }
   ],
   "source": [
    "columns = df.columns\n",
    "print(columns)"
   ]
  },
  {
   "cell_type": "code",
   "execution_count": 36,
   "id": "ae550e74-5a28-4523-85a1-5e7ad4793dc8",
   "metadata": {
    "tags": []
   },
   "outputs": [
    {
     "name": "stdout",
     "output_type": "stream",
     "text": [
      "['Type', 'Age', 'Breed1', 'Gender', 'Color1', 'Color2', 'MaturitySize', 'FurLength', 'Vaccinated', 'Sterilized', 'Health', 'Fee', 'PhotoAmt']\n"
     ]
    }
   ],
   "source": [
    "# remove label column\n",
    "columns.remove(\"target\")\n",
    "print(columns)"
   ]
  },
  {
   "cell_type": "code",
   "execution_count": 37,
   "id": "2c5acb76-c238-45d2-add7-f5e16e40f1b7",
   "metadata": {},
   "outputs": [],
   "source": [
    "import sparkext.tensorflow\n",
    "my_model = sparkext.tensorflow.Model(\"my_pet_classifier\") \\\n",
    "                .setInputCols(columns) \\\n",
    "                .setOutputCol(\"pred\")"
   ]
  },
  {
   "cell_type": "code",
   "execution_count": 38,
   "id": "55d0c290-6ca1-4815-a6e2-b7f903c0b12e",
   "metadata": {},
   "outputs": [
    {
     "name": "stdout",
     "output_type": "stream",
     "text": [
      "Loading model on driver from my_pet_classifier\n",
      "Model: \"model\"\n",
      "__________________________________________________________________________________________________\n",
      " Layer (type)                   Output Shape         Param #     Connected to                     \n",
      "==================================================================================================\n",
      " Age (InputLayer)               [(None, 1)]          0           []                               \n",
      "                                                                                                  \n",
      " Type (InputLayer)              [(None, 1)]          0           []                               \n",
      "                                                                                                  \n",
      " Color1 (InputLayer)            [(None, 1)]          0           []                               \n",
      "                                                                                                  \n",
      " Color2 (InputLayer)            [(None, 1)]          0           []                               \n",
      "                                                                                                  \n",
      " Gender (InputLayer)            [(None, 1)]          0           []                               \n",
      "                                                                                                  \n",
      " MaturitySize (InputLayer)      [(None, 1)]          0           []                               \n",
      "                                                                                                  \n",
      " FurLength (InputLayer)         [(None, 1)]          0           []                               \n",
      "                                                                                                  \n",
      " Vaccinated (InputLayer)        [(None, 1)]          0           []                               \n",
      "                                                                                                  \n",
      " Sterilized (InputLayer)        [(None, 1)]          0           []                               \n",
      "                                                                                                  \n",
      " Health (InputLayer)            [(None, 1)]          0           []                               \n",
      "                                                                                                  \n",
      " Breed1 (InputLayer)            [(None, 1)]          0           []                               \n",
      "                                                                                                  \n",
      " PhotoAmt (InputLayer)          [(None, 1)]          0           []                               \n",
      "                                                                                                  \n",
      " Fee (InputLayer)               [(None, 1)]          0           []                               \n",
      "                                                                                                  \n",
      " integer_lookup_1 (IntegerLooku  (None, 1)           0           ['Age[0][0]']                    \n",
      " p)                                                                                               \n",
      "                                                                                                  \n",
      " string_lookup_1 (StringLookup)  (None, 1)           0           ['Type[0][0]']                   \n",
      "                                                                                                  \n",
      " string_lookup_2 (StringLookup)  (None, 1)           0           ['Color1[0][0]']                 \n",
      "                                                                                                  \n",
      " string_lookup_3 (StringLookup)  (None, 1)           0           ['Color2[0][0]']                 \n",
      "                                                                                                  \n",
      " string_lookup_4 (StringLookup)  (None, 1)           0           ['Gender[0][0]']                 \n",
      "                                                                                                  \n",
      " string_lookup_5 (StringLookup)  (None, 1)           0           ['MaturitySize[0][0]']           \n",
      "                                                                                                  \n",
      " string_lookup_6 (StringLookup)  (None, 1)           0           ['FurLength[0][0]']              \n",
      "                                                                                                  \n",
      " string_lookup_7 (StringLookup)  (None, 1)           0           ['Vaccinated[0][0]']             \n",
      "                                                                                                  \n",
      " string_lookup_8 (StringLookup)  (None, 1)           0           ['Sterilized[0][0]']             \n",
      "                                                                                                  \n",
      " string_lookup_9 (StringLookup)  (None, 1)           0           ['Health[0][0]']                 \n",
      "                                                                                                  \n",
      " string_lookup_10 (StringLookup  (None, 1)           0           ['Breed1[0][0]']                 \n",
      " )                                                                                                \n",
      "                                                                                                  \n",
      " normalization_1 (Normalization  (None, 1)           3           ['PhotoAmt[0][0]']               \n",
      " )                                                                                                \n",
      "                                                                                                  \n",
      " normalization_2 (Normalization  (None, 1)           3           ['Fee[0][0]']                    \n",
      " )                                                                                                \n",
      "                                                                                                  \n",
      " category_encoding_2 (CategoryE  (None, 5)           0           ['integer_lookup_1[0][0]']       \n",
      " ncoding)                                                                                         \n",
      "                                                                                                  \n",
      " category_encoding_3 (CategoryE  (None, 3)           0           ['string_lookup_1[0][0]']        \n",
      " ncoding)                                                                                         \n",
      "                                                                                                  \n",
      " category_encoding_4 (CategoryE  (None, 5)           0           ['string_lookup_2[0][0]']        \n",
      " ncoding)                                                                                         \n",
      "                                                                                                  \n",
      " category_encoding_5 (CategoryE  (None, 5)           0           ['string_lookup_3[0][0]']        \n",
      " ncoding)                                                                                         \n",
      "                                                                                                  \n",
      " category_encoding_6 (CategoryE  (None, 3)           0           ['string_lookup_4[0][0]']        \n",
      " ncoding)                                                                                         \n",
      "                                                                                                  \n",
      " category_encoding_7 (CategoryE  (None, 4)           0           ['string_lookup_5[0][0]']        \n",
      " ncoding)                                                                                         \n",
      "                                                                                                  \n",
      " category_encoding_8 (CategoryE  (None, 4)           0           ['string_lookup_6[0][0]']        \n",
      " ncoding)                                                                                         \n",
      "                                                                                                  \n",
      " category_encoding_9 (CategoryE  (None, 4)           0           ['string_lookup_7[0][0]']        \n",
      " ncoding)                                                                                         \n",
      "                                                                                                  \n",
      " category_encoding_10 (Category  (None, 4)           0           ['string_lookup_8[0][0]']        \n",
      " Encoding)                                                                                        \n",
      "                                                                                                  \n",
      " category_encoding_11 (Category  (None, 4)           0           ['string_lookup_9[0][0]']        \n",
      " Encoding)                                                                                        \n",
      "                                                                                                  \n",
      " category_encoding_12 (Category  (None, 5)           0           ['string_lookup_10[0][0]']       \n",
      " Encoding)                                                                                        \n",
      "                                                                                                  \n",
      " concatenate (Concatenate)      (None, 48)           0           ['normalization_1[0][0]',        \n",
      "                                                                  'normalization_2[0][0]',        \n",
      "                                                                  'category_encoding_2[0][0]',    \n",
      "                                                                  'category_encoding_3[0][0]',    \n",
      "                                                                  'category_encoding_4[0][0]',    \n",
      "                                                                  'category_encoding_5[0][0]',    \n",
      "                                                                  'category_encoding_6[0][0]',    \n",
      "                                                                  'category_encoding_7[0][0]',    \n",
      "                                                                  'category_encoding_8[0][0]',    \n",
      "                                                                  'category_encoding_9[0][0]',    \n",
      "                                                                  'category_encoding_10[0][0]',   \n",
      "                                                                  'category_encoding_11[0][0]',   \n",
      "                                                                  'category_encoding_12[0][0]']   \n",
      "                                                                                                  \n",
      " dense (Dense)                  (None, 32)           1568        ['concatenate[0][0]']            \n",
      "                                                                                                  \n",
      " dropout (Dropout)              (None, 32)           0           ['dense[0][0]']                  \n",
      "                                                                                                  \n",
      " dense_1 (Dense)                (None, 1)            33          ['dropout[0][0]']                \n",
      "                                                                                                  \n",
      "==================================================================================================\n",
      "Total params: 1,607\n",
      "Trainable params: 1,601\n",
      "Non-trainable params: 6\n",
      "__________________________________________________________________________________________________\n",
      "ModelSummary(num_params=1607, inputs=[TensorSummary(dtype=dtype('float32'), shape=[-1, 1], name='PhotoAmt'), TensorSummary(dtype=dtype('float32'), shape=[-1, 1], name='Fee'), TensorSummary(dtype=dtype('int64'), shape=[-1, 1], name='Age'), TensorSummary(dtype=dtype('<U'), shape=[-1, 1], name='Type'), TensorSummary(dtype=dtype('<U'), shape=[-1, 1], name='Color1'), TensorSummary(dtype=dtype('<U'), shape=[-1, 1], name='Color2'), TensorSummary(dtype=dtype('<U'), shape=[-1, 1], name='Gender'), TensorSummary(dtype=dtype('<U'), shape=[-1, 1], name='MaturitySize'), TensorSummary(dtype=dtype('<U'), shape=[-1, 1], name='FurLength'), TensorSummary(dtype=dtype('<U'), shape=[-1, 1], name='Vaccinated'), TensorSummary(dtype=dtype('<U'), shape=[-1, 1], name='Sterilized'), TensorSummary(dtype=dtype('<U'), shape=[-1, 1], name='Health'), TensorSummary(dtype=dtype('<U'), shape=[-1, 1], name='Breed1')], outputs=[TensorSummary(dtype=dtype('float32'), shape=[-1, 1], name='dense_1/BiasAdd:0')]) -> array<float>\n"
     ]
    },
    {
     "name": "stderr",
     "output_type": "stream",
     "text": [
      "WARNING:absl:Function `_wrapped_model` contains input name(s) PhotoAmt, Fee, Age, Type, Color1, Color2, Gender, MaturitySize, FurLength, Vaccinated, Sterilized, Health, Breed1 with unsupported characters which will be renamed to photoamt, fee, age, type, color1, color2, gender, maturitysize, furlength, vaccinated, sterilized, health, breed1 in the SavedModel.\n"
     ]
    },
    {
     "name": "stdout",
     "output_type": "stream",
     "text": [
      "INFO:tensorflow:Assets written to: ram://6a259b38-a773-4c88-ae86-88e34d4bf373/assets\n"
     ]
    },
    {
     "name": "stderr",
     "output_type": "stream",
     "text": [
      "INFO:tensorflow:Assets written to: ram://6a259b38-a773-4c88-ae86-88e34d4bf373/assets\n",
      "22/08/16 10:10:54 WARN package: Truncated the string representation of a plan since it was too large. This behavior can be adjusted by setting 'spark.sql.debug.maxToStringFields'.\n",
      "[Stage 4:=============================>                             (1 + 1) / 2]\r"
     ]
    },
    {
     "name": "stdout",
     "output_type": "stream",
     "text": [
      "CPU times: user 4.1 s, sys: 0 ns, total: 4.1 s\n",
      "Wall time: 10.3 s\n"
     ]
    },
    {
     "name": "stderr",
     "output_type": "stream",
     "text": [
      "                                                                                \r"
     ]
    }
   ],
   "source": [
    "%%time\n",
    "predictions = my_model.transform(df)\n",
    "results = predictions.collect()"
   ]
  },
  {
   "cell_type": "code",
   "execution_count": 39,
   "id": "1848bea4-0852-4452-aba8-321029a709fc",
   "metadata": {},
   "outputs": [
    {
     "name": "stderr",
     "output_type": "stream",
     "text": [
      "[Stage 5:>                                                          (0 + 1) / 1]\r"
     ]
    },
    {
     "name": "stdout",
     "output_type": "stream",
     "text": [
      "+----+---+--------------------+------+------+--------+------------+---------+----------+----------+-------+---+--------+------+--------------+\n",
      "|Type|Age|              Breed1|Gender|Color1|  Color2|MaturitySize|FurLength|Vaccinated|Sterilized| Health|Fee|PhotoAmt|target|          pred|\n",
      "+----+---+--------------------+------+------+--------+------------+---------+----------+----------+-------+---+--------+------+--------------+\n",
      "| Cat|  3|               Tabby|  Male| Black|   White|       Small|    Short|        No|        No|Healthy|100|       1|     1|   [1.4765713]|\n",
      "| Cat|  1|Domestic Medium Hair|  Male| Black|   Brown|      Medium|   Medium|  Not Sure|  Not Sure|Healthy|  0|       2|     1|   [1.2110845]|\n",
      "| Dog|  1|         Mixed Breed|  Male| Brown|   White|      Medium|   Medium|       Yes|        No|Healthy|  0|       7|     1|   [2.2120945]|\n",
      "| Dog|  4|         Mixed Breed|Female| Black|   Brown|      Medium|    Short|       Yes|        No|Healthy|150|       8|     1|   [0.5492994]|\n",
      "| Dog|  1|         Mixed Breed|  Male| Black|No Color|      Medium|    Short|        No|        No|Healthy|  0|       3|     1|   [1.6435665]|\n",
      "| Cat|  3| Domestic Short Hair|Female| Cream|    Gray|      Medium|    Short|        No|        No|Healthy|  0|       2|     1|   [1.5799563]|\n",
      "| Cat| 12|  Domestic Long Hair|  Male| Black|No Color|      Medium|     Long|        No|  Not Sure|Healthy|300|       3|     1|   [1.1496274]|\n",
      "| Cat|  2|Domestic Medium Hair|Female|  Gray|No Color|      Medium|   Medium|        No|        No|Healthy|  0|       6|     1|    [2.420511]|\n",
      "| Cat| 12|Domestic Medium Hair|Female| Black|   White|      Medium|   Medium|  Not Sure|  Not Sure|Healthy|  0|       2|     0|[-0.083913274]|\n",
      "| Dog|  2|         Mixed Breed|  Male| Black|   Brown|      Medium|    Short|        No|        No|Healthy|  0|       7|     1|    [2.086654]|\n",
      "| Cat|  3|  Domestic Long Hair|Female| Black|   Brown|       Large|     Long|       Yes|        No|Healthy| 50|       2|     1|   [1.8891008]|\n",
      "| Dog|  2|         Mixed Breed|  Male| Brown|   Cream|      Medium|     Long|       Yes|        No|Healthy|  0|       1|     1|   [1.7332487]|\n",
      "| Dog|  3|         Mixed Breed|Female| Brown|   Cream|      Medium|   Medium|  Not Sure|  Not Sure|Healthy|  0|       2|     1|  [0.45149392]|\n",
      "| Dog| 78|             Terrier|  Male| Black|   White|      Medium|   Medium|  Not Sure|  Not Sure|Healthy|  0|       2|     0|   [0.8297243]|\n",
      "| Cat|  6| Domestic Short Hair|Female| Brown|No Color|       Small|    Short|       Yes|       Yes|Healthy|  0|       1|     1|  [0.13204241]|\n",
      "| Dog|  8|         Mixed Breed|Female| Brown|No Color|      Medium|    Short|        No|       Yes|Healthy| 10|       2|     0|  [-0.2933131]|\n",
      "| Dog|  2|         Mixed Breed|Female| Black|No Color|      Medium|    Short|        No|        No|Healthy|  0|       8|     1|    [1.889106]|\n",
      "| Dog| 12|         Mixed Breed|Female| Brown|   White|      Medium|   Medium|        No|       Yes|Healthy|  0|       7|     1|   [0.2566943]|\n",
      "| Dog| 10|         Mixed Breed|Female| Black|   Brown|      Medium|   Medium|       Yes|       Yes|Healthy|  0|       0|     0|  [-0.2786432]|\n",
      "| Cat|  3| Domestic Short Hair|  Male| Brown|   White|       Small|    Short|        No|        No|Healthy|  0|      19|     1|   [3.6836221]|\n",
      "+----+---+--------------------+------+------+--------+------------+---------+----------+----------+-------+---+--------+------+--------------+\n",
      "only showing top 20 rows\n",
      "\n"
     ]
    },
    {
     "name": "stderr",
     "output_type": "stream",
     "text": [
      "                                                                                \r"
     ]
    }
   ],
   "source": [
    "predictions.show()"
   ]
  },
  {
   "cell_type": "markdown",
   "id": "ad0e6455-1182-4994-8319-e660c0c32314",
   "metadata": {},
   "source": [
    "## Inference using Spark DL UDF"
   ]
  },
  {
   "cell_type": "markdown",
   "id": "f519774f-36b9-439c-9aa7-edbe9ef9dac7",
   "metadata": {},
   "source": [
    "### Spark DataFrame column names match model input names"
   ]
  },
  {
   "cell_type": "code",
   "execution_count": 40,
   "id": "cdf55047-2297-49c4-a3cd-c3036635ec36",
   "metadata": {},
   "outputs": [],
   "source": [
    "from pyspark.sql.functions import struct\n",
    "from sparkext.tensorflow import model_udf"
   ]
  },
  {
   "cell_type": "code",
   "execution_count": 41,
   "id": "83010d31-8e49-4452-b074-4d013a51506e",
   "metadata": {},
   "outputs": [],
   "source": [
    "df = spark.read.parquet(\"datasets/petfinder-mini\")"
   ]
  },
  {
   "cell_type": "code",
   "execution_count": 42,
   "id": "b7f2d73b-a4f3-4e61-a1c6-bba48370926a",
   "metadata": {},
   "outputs": [],
   "source": [
    "# df.show()"
   ]
  },
  {
   "cell_type": "code",
   "execution_count": 43,
   "id": "ef1a0318-25e1-430f-9896-91262459c602",
   "metadata": {},
   "outputs": [
    {
     "name": "stdout",
     "output_type": "stream",
     "text": [
      "['Type', 'Age', 'Breed1', 'Gender', 'Color1', 'Color2', 'MaturitySize', 'FurLength', 'Vaccinated', 'Sterilized', 'Health', 'Fee', 'PhotoAmt', 'target']\n"
     ]
    }
   ],
   "source": [
    "columns = df.columns\n",
    "print(columns)"
   ]
  },
  {
   "cell_type": "code",
   "execution_count": 44,
   "id": "54d6ac27-3e6a-4d3a-807c-82c4368f106b",
   "metadata": {
    "tags": []
   },
   "outputs": [
    {
     "name": "stdout",
     "output_type": "stream",
     "text": [
      "['Type', 'Age', 'Breed1', 'Gender', 'Color1', 'Color2', 'MaturitySize', 'FurLength', 'Vaccinated', 'Sterilized', 'Health', 'Fee', 'PhotoAmt']\n"
     ]
    }
   ],
   "source": [
    "# remove label column\n",
    "columns.remove(\"target\")\n",
    "print(columns)"
   ]
  },
  {
   "cell_type": "code",
   "execution_count": 45,
   "id": "8cdfc6e9-0f50-4a21-9f79-cc6f99bdfc4e",
   "metadata": {},
   "outputs": [
    {
     "name": "stdout",
     "output_type": "stream",
     "text": [
      "Loading model on driver from my_pet_classifier\n",
      "Model: \"model\"\n",
      "__________________________________________________________________________________________________\n",
      " Layer (type)                   Output Shape         Param #     Connected to                     \n",
      "==================================================================================================\n",
      " Age (InputLayer)               [(None, 1)]          0           []                               \n",
      "                                                                                                  \n",
      " Type (InputLayer)              [(None, 1)]          0           []                               \n",
      "                                                                                                  \n",
      " Color1 (InputLayer)            [(None, 1)]          0           []                               \n",
      "                                                                                                  \n",
      " Color2 (InputLayer)            [(None, 1)]          0           []                               \n",
      "                                                                                                  \n",
      " Gender (InputLayer)            [(None, 1)]          0           []                               \n",
      "                                                                                                  \n",
      " MaturitySize (InputLayer)      [(None, 1)]          0           []                               \n",
      "                                                                                                  \n",
      " FurLength (InputLayer)         [(None, 1)]          0           []                               \n",
      "                                                                                                  \n",
      " Vaccinated (InputLayer)        [(None, 1)]          0           []                               \n",
      "                                                                                                  \n",
      " Sterilized (InputLayer)        [(None, 1)]          0           []                               \n",
      "                                                                                                  \n",
      " Health (InputLayer)            [(None, 1)]          0           []                               \n",
      "                                                                                                  \n",
      " Breed1 (InputLayer)            [(None, 1)]          0           []                               \n",
      "                                                                                                  \n",
      " PhotoAmt (InputLayer)          [(None, 1)]          0           []                               \n",
      "                                                                                                  \n",
      " Fee (InputLayer)               [(None, 1)]          0           []                               \n",
      "                                                                                                  \n",
      " integer_lookup_1 (IntegerLooku  (None, 1)           0           ['Age[0][0]']                    \n",
      " p)                                                                                               \n",
      "                                                                                                  \n",
      " string_lookup_1 (StringLookup)  (None, 1)           0           ['Type[0][0]']                   \n",
      "                                                                                                  \n",
      " string_lookup_2 (StringLookup)  (None, 1)           0           ['Color1[0][0]']                 \n",
      "                                                                                                  \n",
      " string_lookup_3 (StringLookup)  (None, 1)           0           ['Color2[0][0]']                 \n",
      "                                                                                                  \n",
      " string_lookup_4 (StringLookup)  (None, 1)           0           ['Gender[0][0]']                 \n",
      "                                                                                                  \n",
      " string_lookup_5 (StringLookup)  (None, 1)           0           ['MaturitySize[0][0]']           \n",
      "                                                                                                  \n",
      " string_lookup_6 (StringLookup)  (None, 1)           0           ['FurLength[0][0]']              \n",
      "                                                                                                  \n",
      " string_lookup_7 (StringLookup)  (None, 1)           0           ['Vaccinated[0][0]']             \n",
      "                                                                                                  \n",
      " string_lookup_8 (StringLookup)  (None, 1)           0           ['Sterilized[0][0]']             \n",
      "                                                                                                  \n",
      " string_lookup_9 (StringLookup)  (None, 1)           0           ['Health[0][0]']                 \n",
      "                                                                                                  \n",
      " string_lookup_10 (StringLookup  (None, 1)           0           ['Breed1[0][0]']                 \n",
      " )                                                                                                \n",
      "                                                                                                  \n",
      " normalization_1 (Normalization  (None, 1)           3           ['PhotoAmt[0][0]']               \n",
      " )                                                                                                \n",
      "                                                                                                  \n",
      " normalization_2 (Normalization  (None, 1)           3           ['Fee[0][0]']                    \n",
      " )                                                                                                \n",
      "                                                                                                  \n",
      " category_encoding_2 (CategoryE  (None, 5)           0           ['integer_lookup_1[0][0]']       \n",
      " ncoding)                                                                                         \n",
      "                                                                                                  \n",
      " category_encoding_3 (CategoryE  (None, 3)           0           ['string_lookup_1[0][0]']        \n",
      " ncoding)                                                                                         \n",
      "                                                                                                  \n",
      " category_encoding_4 (CategoryE  (None, 5)           0           ['string_lookup_2[0][0]']        \n",
      " ncoding)                                                                                         \n",
      "                                                                                                  \n",
      " category_encoding_5 (CategoryE  (None, 5)           0           ['string_lookup_3[0][0]']        \n",
      " ncoding)                                                                                         \n",
      "                                                                                                  \n",
      " category_encoding_6 (CategoryE  (None, 3)           0           ['string_lookup_4[0][0]']        \n",
      " ncoding)                                                                                         \n",
      "                                                                                                  \n",
      " category_encoding_7 (CategoryE  (None, 4)           0           ['string_lookup_5[0][0]']        \n",
      " ncoding)                                                                                         \n",
      "                                                                                                  \n",
      " category_encoding_8 (CategoryE  (None, 4)           0           ['string_lookup_6[0][0]']        \n",
      " ncoding)                                                                                         \n",
      "                                                                                                  \n",
      " category_encoding_9 (CategoryE  (None, 4)           0           ['string_lookup_7[0][0]']        \n",
      " ncoding)                                                                                         \n",
      "                                                                                                  \n",
      " category_encoding_10 (Category  (None, 4)           0           ['string_lookup_8[0][0]']        \n",
      " Encoding)                                                                                        \n",
      "                                                                                                  \n",
      " category_encoding_11 (Category  (None, 4)           0           ['string_lookup_9[0][0]']        \n",
      " Encoding)                                                                                        \n",
      "                                                                                                  \n",
      " category_encoding_12 (Category  (None, 5)           0           ['string_lookup_10[0][0]']       \n",
      " Encoding)                                                                                        \n",
      "                                                                                                  \n",
      " concatenate (Concatenate)      (None, 48)           0           ['normalization_1[0][0]',        \n",
      "                                                                  'normalization_2[0][0]',        \n",
      "                                                                  'category_encoding_2[0][0]',    \n",
      "                                                                  'category_encoding_3[0][0]',    \n",
      "                                                                  'category_encoding_4[0][0]',    \n",
      "                                                                  'category_encoding_5[0][0]',    \n",
      "                                                                  'category_encoding_6[0][0]',    \n",
      "                                                                  'category_encoding_7[0][0]',    \n",
      "                                                                  'category_encoding_8[0][0]',    \n",
      "                                                                  'category_encoding_9[0][0]',    \n",
      "                                                                  'category_encoding_10[0][0]',   \n",
      "                                                                  'category_encoding_11[0][0]',   \n",
      "                                                                  'category_encoding_12[0][0]']   \n",
      "                                                                                                  \n",
      " dense (Dense)                  (None, 32)           1568        ['concatenate[0][0]']            \n",
      "                                                                                                  \n",
      " dropout (Dropout)              (None, 32)           0           ['dense[0][0]']                  \n",
      "                                                                                                  \n",
      " dense_1 (Dense)                (None, 1)            33          ['dropout[0][0]']                \n",
      "                                                                                                  \n",
      "==================================================================================================\n",
      "Total params: 1,607\n",
      "Trainable params: 1,601\n",
      "Non-trainable params: 6\n",
      "__________________________________________________________________________________________________\n",
      "ModelSummary(num_params=1607, inputs=[TensorSummary(dtype=dtype('float32'), shape=[-1, 1], name='PhotoAmt'), TensorSummary(dtype=dtype('float32'), shape=[-1, 1], name='Fee'), TensorSummary(dtype=dtype('int64'), shape=[-1, 1], name='Age'), TensorSummary(dtype=dtype('<U'), shape=[-1, 1], name='Type'), TensorSummary(dtype=dtype('<U'), shape=[-1, 1], name='Color1'), TensorSummary(dtype=dtype('<U'), shape=[-1, 1], name='Color2'), TensorSummary(dtype=dtype('<U'), shape=[-1, 1], name='Gender'), TensorSummary(dtype=dtype('<U'), shape=[-1, 1], name='MaturitySize'), TensorSummary(dtype=dtype('<U'), shape=[-1, 1], name='FurLength'), TensorSummary(dtype=dtype('<U'), shape=[-1, 1], name='Vaccinated'), TensorSummary(dtype=dtype('<U'), shape=[-1, 1], name='Sterilized'), TensorSummary(dtype=dtype('<U'), shape=[-1, 1], name='Health'), TensorSummary(dtype=dtype('<U'), shape=[-1, 1], name='Breed1')], outputs=[TensorSummary(dtype=dtype('float32'), shape=[-1, 1], name='dense_1/BiasAdd:0')]) -> array<float>\n"
     ]
    }
   ],
   "source": [
    "# need to pass the list of columns into the model_udf\n",
    "classify = model_udf(\"my_pet_classifier\", input_columns=columns, batch_size=-1)"
   ]
  },
  {
   "cell_type": "code",
   "execution_count": 46,
   "id": "ebff2ec9-bdd9-4e3c-a01b-98e07db7d154",
   "metadata": {},
   "outputs": [
    {
     "name": "stderr",
     "output_type": "stream",
     "text": [
      "WARNING:absl:Function `_wrapped_model` contains input name(s) PhotoAmt, Fee, Age, Type, Color1, Color2, Gender, MaturitySize, FurLength, Vaccinated, Sterilized, Health, Breed1 with unsupported characters which will be renamed to photoamt, fee, age, type, color1, color2, gender, maturitysize, furlength, vaccinated, sterilized, health, breed1 in the SavedModel.\n"
     ]
    },
    {
     "name": "stdout",
     "output_type": "stream",
     "text": [
      "INFO:tensorflow:Assets written to: ram://002740fd-d4ff-44e5-bccd-75ac2ef5faf9/assets\n"
     ]
    },
    {
     "name": "stderr",
     "output_type": "stream",
     "text": [
      "INFO:tensorflow:Assets written to: ram://002740fd-d4ff-44e5-bccd-75ac2ef5faf9/assets\n",
      "[Stage 7:>                                                          (0 + 1) / 1]\r"
     ]
    },
    {
     "name": "stdout",
     "output_type": "stream",
     "text": [
      "+----+---+----------+------+------+--------+------------+---------+----------+----------+-------+---+--------+------+----------+\n",
      "|Type|Age|    Breed1|Gender|Color1|  Color2|MaturitySize|FurLength|Vaccinated|Sterilized| Health|Fee|PhotoAmt|target|     preds|\n",
      "+----+---+----------+------+------+--------+------------+---------+----------+----------+-------+---+--------+------+----------+\n",
      "| Cat|  3|     Tabby|  Male| Black|   White|       Small|    Short|        No|        No|Healthy|100|       1|     1|[1.4765...|\n",
      "| Cat|  1|Domesti...|  Male| Black|   Brown|      Medium|   Medium|  Not Sure|  Not Sure|Healthy|  0|       2|     1|[1.2110...|\n",
      "| Dog|  1|Mixed B...|  Male| Brown|   White|      Medium|   Medium|       Yes|        No|Healthy|  0|       7|     1|[2.2120...|\n",
      "| Dog|  4|Mixed B...|Female| Black|   Brown|      Medium|    Short|       Yes|        No|Healthy|150|       8|     1|[0.5492...|\n",
      "| Dog|  1|Mixed B...|  Male| Black|No Color|      Medium|    Short|        No|        No|Healthy|  0|       3|     1|[1.6435...|\n",
      "| Cat|  3|Domesti...|Female| Cream|    Gray|      Medium|    Short|        No|        No|Healthy|  0|       2|     1|[1.5799...|\n",
      "| Cat| 12|Domesti...|  Male| Black|No Color|      Medium|     Long|        No|  Not Sure|Healthy|300|       3|     1|[1.1496...|\n",
      "| Cat|  2|Domesti...|Female|  Gray|No Color|      Medium|   Medium|        No|        No|Healthy|  0|       6|     1|[2.420511]|\n",
      "| Cat| 12|Domesti...|Female| Black|   White|      Medium|   Medium|  Not Sure|  Not Sure|Healthy|  0|       2|     0|[-0.083...|\n",
      "| Dog|  2|Mixed B...|  Male| Black|   Brown|      Medium|    Short|        No|        No|Healthy|  0|       7|     1|[2.086654]|\n",
      "| Cat|  3|Domesti...|Female| Black|   Brown|       Large|     Long|       Yes|        No|Healthy| 50|       2|     1|[1.8891...|\n",
      "| Dog|  2|Mixed B...|  Male| Brown|   Cream|      Medium|     Long|       Yes|        No|Healthy|  0|       1|     1|[1.7332...|\n",
      "| Dog|  3|Mixed B...|Female| Brown|   Cream|      Medium|   Medium|  Not Sure|  Not Sure|Healthy|  0|       2|     1|[0.4514...|\n",
      "| Dog| 78|   Terrier|  Male| Black|   White|      Medium|   Medium|  Not Sure|  Not Sure|Healthy|  0|       2|     0|[0.8297...|\n",
      "| Cat|  6|Domesti...|Female| Brown|No Color|       Small|    Short|       Yes|       Yes|Healthy|  0|       1|     1|[0.1320...|\n",
      "| Dog|  8|Mixed B...|Female| Brown|No Color|      Medium|    Short|        No|       Yes|Healthy| 10|       2|     0|[-0.293...|\n",
      "| Dog|  2|Mixed B...|Female| Black|No Color|      Medium|    Short|        No|        No|Healthy|  0|       8|     1|[1.889106]|\n",
      "| Dog| 12|Mixed B...|Female| Brown|   White|      Medium|   Medium|        No|       Yes|Healthy|  0|       7|     1|[0.2566...|\n",
      "| Dog| 10|Mixed B...|Female| Black|   Brown|      Medium|   Medium|       Yes|       Yes|Healthy|  0|       0|     0|[-0.278...|\n",
      "| Cat|  3|Domesti...|  Male| Brown|   White|       Small|    Short|        No|        No|Healthy|  0|      19|     1|[3.6836...|\n",
      "+----+---+----------+------+------+--------+------------+---------+----------+----------+-------+---+--------+------+----------+\n",
      "only showing top 20 rows\n",
      "\n"
     ]
    },
    {
     "name": "stderr",
     "output_type": "stream",
     "text": [
      "                                                                                \r"
     ]
    }
   ],
   "source": [
    "df.withColumn(\"preds\", classify(struct(*columns))).show(truncate=10)"
   ]
  },
  {
   "cell_type": "code",
   "execution_count": 47,
   "id": "f49897b0-f62a-475b-986e-85e80a237bdc",
   "metadata": {},
   "outputs": [
    {
     "name": "stderr",
     "output_type": "stream",
     "text": [
      "[Stage 8:>                                                          (0 + 2) / 2]\r"
     ]
    },
    {
     "name": "stdout",
     "output_type": "stream",
     "text": [
      "CPU times: user 98.4 ms, sys: 0 ns, total: 98.4 ms\n",
      "Wall time: 4.39 s\n"
     ]
    },
    {
     "name": "stderr",
     "output_type": "stream",
     "text": [
      "                                                                                \r"
     ]
    }
   ],
   "source": [
    "%%time\n",
    "results = df.withColumn(\"preds\", classify(struct(*columns))).collect()"
   ]
  },
  {
   "cell_type": "markdown",
   "id": "5a234497-a8e7-405d-8fc1-5192eb1eac39",
   "metadata": {
    "tags": []
   },
   "source": [
    "### Simulate Spark DataFrame column names not matching model input names"
   ]
  },
  {
   "cell_type": "code",
   "execution_count": 48,
   "id": "fd8a18c1-fcf8-4605-acc6-d39dd7263886",
   "metadata": {},
   "outputs": [],
   "source": [
    "from pyspark.sql.functions import struct\n",
    "from sparkext.tensorflow import model_udf"
   ]
  },
  {
   "cell_type": "code",
   "execution_count": 49,
   "id": "f1da016b-ff72-4930-b0d8-c24c4f3773cb",
   "metadata": {},
   "outputs": [],
   "source": [
    "df = spark.read.parquet(\"datasets/petfinder-mini\")"
   ]
  },
  {
   "cell_type": "code",
   "execution_count": 50,
   "id": "d3922595-15d1-4d85-ae04-9e225671abf4",
   "metadata": {},
   "outputs": [
    {
     "name": "stdout",
     "output_type": "stream",
     "text": [
      "+-------+-----+----------+------+----------+---------------+---------+----------+---------+--------+-------+----+------+-------+\n",
      "|species|years|     breed|   sex|main_color|secondary_color|full_size|fur_length|immunized|  spayed| health|cost|photos|adopted|\n",
      "+-------+-----+----------+------+----------+---------------+---------+----------+---------+--------+-------+----+------+-------+\n",
      "|    Cat|    3|     Tabby|  Male|     Black|          White|    Small|     Short|       No|      No|Healthy| 100|     1|      1|\n",
      "|    Cat|    1|Domesti...|  Male|     Black|          Brown|   Medium|    Medium| Not Sure|Not Sure|Healthy|   0|     2|      1|\n",
      "|    Dog|    1|Mixed B...|  Male|     Brown|          White|   Medium|    Medium|      Yes|      No|Healthy|   0|     7|      1|\n",
      "|    Dog|    4|Mixed B...|Female|     Black|          Brown|   Medium|     Short|      Yes|      No|Healthy| 150|     8|      1|\n",
      "|    Dog|    1|Mixed B...|  Male|     Black|       No Color|   Medium|     Short|       No|      No|Healthy|   0|     3|      1|\n",
      "|    Cat|    3|Domesti...|Female|     Cream|           Gray|   Medium|     Short|       No|      No|Healthy|   0|     2|      1|\n",
      "|    Cat|   12|Domesti...|  Male|     Black|       No Color|   Medium|      Long|       No|Not Sure|Healthy| 300|     3|      1|\n",
      "|    Cat|    2|Domesti...|Female|      Gray|       No Color|   Medium|    Medium|       No|      No|Healthy|   0|     6|      1|\n",
      "|    Cat|   12|Domesti...|Female|     Black|          White|   Medium|    Medium| Not Sure|Not Sure|Healthy|   0|     2|      0|\n",
      "|    Dog|    2|Mixed B...|  Male|     Black|          Brown|   Medium|     Short|       No|      No|Healthy|   0|     7|      1|\n",
      "|    Cat|    3|Domesti...|Female|     Black|          Brown|    Large|      Long|      Yes|      No|Healthy|  50|     2|      1|\n",
      "|    Dog|    2|Mixed B...|  Male|     Brown|          Cream|   Medium|      Long|      Yes|      No|Healthy|   0|     1|      1|\n",
      "|    Dog|    3|Mixed B...|Female|     Brown|          Cream|   Medium|    Medium| Not Sure|Not Sure|Healthy|   0|     2|      1|\n",
      "|    Dog|   78|   Terrier|  Male|     Black|          White|   Medium|    Medium| Not Sure|Not Sure|Healthy|   0|     2|      0|\n",
      "|    Cat|    6|Domesti...|Female|     Brown|       No Color|    Small|     Short|      Yes|     Yes|Healthy|   0|     1|      1|\n",
      "|    Dog|    8|Mixed B...|Female|     Brown|       No Color|   Medium|     Short|       No|     Yes|Healthy|  10|     2|      0|\n",
      "|    Dog|    2|Mixed B...|Female|     Black|       No Color|   Medium|     Short|       No|      No|Healthy|   0|     8|      1|\n",
      "|    Dog|   12|Mixed B...|Female|     Brown|          White|   Medium|    Medium|       No|     Yes|Healthy|   0|     7|      1|\n",
      "|    Dog|   10|Mixed B...|Female|     Black|          Brown|   Medium|    Medium|      Yes|     Yes|Healthy|   0|     0|      0|\n",
      "|    Cat|    3|Domesti...|  Male|     Brown|          White|    Small|     Short|       No|      No|Healthy|   0|    19|      1|\n",
      "+-------+-----+----------+------+----------+---------------+---------+----------+---------+--------+-------+----+------+-------+\n",
      "only showing top 20 rows\n",
      "\n"
     ]
    }
   ],
   "source": [
    "df2 = df.withColumnRenamed(\"Type\", \"species\") \\\n",
    "        .withColumnRenamed(\"Age\", \"years\") \\\n",
    "        .withColumnRenamed(\"Breed1\", \"breed\") \\\n",
    "        .withColumnRenamed(\"Gender\", \"sex\") \\\n",
    "        .withColumnRenamed(\"Color1\", \"main_color\") \\\n",
    "        .withColumnRenamed(\"Color2\", \"secondary_color\") \\\n",
    "        .withColumnRenamed(\"MaturitySize\", \"full_size\") \\\n",
    "        .withColumnRenamed(\"FurLength\", \"fur_length\") \\\n",
    "        .withColumnRenamed(\"Vaccinated\", \"immunized\") \\\n",
    "        .withColumnRenamed(\"Sterilized\", \"spayed\") \\\n",
    "        .withColumnRenamed(\"Health\", \"health\") \\\n",
    "        .withColumnRenamed(\"Fee\", \"cost\") \\\n",
    "        .withColumnRenamed(\"PhotoAmt\",\"photos\") \\\n",
    "        .withColumnRenamed(\"target\", \"adopted\")\n",
    "df2.show(truncate=10)"
   ]
  },
  {
   "cell_type": "code",
   "execution_count": 51,
   "id": "3f55866e-8285-46b3-b2a2-763047efa924",
   "metadata": {},
   "outputs": [
    {
     "data": {
      "text/plain": [
       "['species',\n",
       " 'years',\n",
       " 'breed',\n",
       " 'sex',\n",
       " 'main_color',\n",
       " 'secondary_color',\n",
       " 'full_size',\n",
       " 'fur_length',\n",
       " 'immunized',\n",
       " 'spayed',\n",
       " 'health',\n",
       " 'cost',\n",
       " 'photos']"
      ]
     },
     "execution_count": 51,
     "metadata": {},
     "output_type": "execute_result"
    }
   ],
   "source": [
    "spark_columns = df2.columns\n",
    "spark_columns.remove('adopted')\n",
    "spark_columns"
   ]
  },
  {
   "cell_type": "code",
   "execution_count": 52,
   "id": "6e5db958-d8a5-4049-9dde-0f7c4cc283c7",
   "metadata": {},
   "outputs": [
    {
     "data": {
      "text/plain": [
       "['Type',\n",
       " 'Age',\n",
       " 'Breed1',\n",
       " 'Gender',\n",
       " 'Color1',\n",
       " 'Color2',\n",
       " 'MaturitySize',\n",
       " 'FurLength',\n",
       " 'Vaccinated',\n",
       " 'Sterilized',\n",
       " 'Health',\n",
       " 'Fee',\n",
       " 'PhotoAmt']"
      ]
     },
     "execution_count": 52,
     "metadata": {},
     "output_type": "execute_result"
    }
   ],
   "source": [
    "# User must provide ordered list of equivalent model input names \n",
    "model_columns = ['Type', 'Age', 'Breed1', 'Gender', 'Color1', 'Color2', 'MaturitySize', 'FurLength', 'Vaccinated', 'Sterilized', 'Health', 'Fee', 'PhotoAmt']\n",
    "model_columns"
   ]
  },
  {
   "cell_type": "code",
   "execution_count": 53,
   "id": "8a1c0d69-44b2-4d3d-8c56-182348fc6fdb",
   "metadata": {},
   "outputs": [
    {
     "name": "stdout",
     "output_type": "stream",
     "text": [
      "Loading model on driver from my_pet_classifier\n",
      "Model: \"model\"\n",
      "__________________________________________________________________________________________________\n",
      " Layer (type)                   Output Shape         Param #     Connected to                     \n",
      "==================================================================================================\n",
      " Age (InputLayer)               [(None, 1)]          0           []                               \n",
      "                                                                                                  \n",
      " Type (InputLayer)              [(None, 1)]          0           []                               \n",
      "                                                                                                  \n",
      " Color1 (InputLayer)            [(None, 1)]          0           []                               \n",
      "                                                                                                  \n",
      " Color2 (InputLayer)            [(None, 1)]          0           []                               \n",
      "                                                                                                  \n",
      " Gender (InputLayer)            [(None, 1)]          0           []                               \n",
      "                                                                                                  \n",
      " MaturitySize (InputLayer)      [(None, 1)]          0           []                               \n",
      "                                                                                                  \n",
      " FurLength (InputLayer)         [(None, 1)]          0           []                               \n",
      "                                                                                                  \n",
      " Vaccinated (InputLayer)        [(None, 1)]          0           []                               \n",
      "                                                                                                  \n",
      " Sterilized (InputLayer)        [(None, 1)]          0           []                               \n",
      "                                                                                                  \n",
      " Health (InputLayer)            [(None, 1)]          0           []                               \n",
      "                                                                                                  \n",
      " Breed1 (InputLayer)            [(None, 1)]          0           []                               \n",
      "                                                                                                  \n",
      " PhotoAmt (InputLayer)          [(None, 1)]          0           []                               \n",
      "                                                                                                  \n",
      " Fee (InputLayer)               [(None, 1)]          0           []                               \n",
      "                                                                                                  \n",
      " integer_lookup_1 (IntegerLooku  (None, 1)           0           ['Age[0][0]']                    \n",
      " p)                                                                                               \n",
      "                                                                                                  \n",
      " string_lookup_1 (StringLookup)  (None, 1)           0           ['Type[0][0]']                   \n",
      "                                                                                                  \n",
      " string_lookup_2 (StringLookup)  (None, 1)           0           ['Color1[0][0]']                 \n",
      "                                                                                                  \n",
      " string_lookup_3 (StringLookup)  (None, 1)           0           ['Color2[0][0]']                 \n",
      "                                                                                                  \n",
      " string_lookup_4 (StringLookup)  (None, 1)           0           ['Gender[0][0]']                 \n",
      "                                                                                                  \n",
      " string_lookup_5 (StringLookup)  (None, 1)           0           ['MaturitySize[0][0]']           \n",
      "                                                                                                  \n",
      " string_lookup_6 (StringLookup)  (None, 1)           0           ['FurLength[0][0]']              \n",
      "                                                                                                  \n",
      " string_lookup_7 (StringLookup)  (None, 1)           0           ['Vaccinated[0][0]']             \n",
      "                                                                                                  \n",
      " string_lookup_8 (StringLookup)  (None, 1)           0           ['Sterilized[0][0]']             \n",
      "                                                                                                  \n",
      " string_lookup_9 (StringLookup)  (None, 1)           0           ['Health[0][0]']                 \n",
      "                                                                                                  \n",
      " string_lookup_10 (StringLookup  (None, 1)           0           ['Breed1[0][0]']                 \n",
      " )                                                                                                \n",
      "                                                                                                  \n",
      " normalization_1 (Normalization  (None, 1)           3           ['PhotoAmt[0][0]']               \n",
      " )                                                                                                \n",
      "                                                                                                  \n",
      " normalization_2 (Normalization  (None, 1)           3           ['Fee[0][0]']                    \n",
      " )                                                                                                \n",
      "                                                                                                  \n",
      " category_encoding_2 (CategoryE  (None, 5)           0           ['integer_lookup_1[0][0]']       \n",
      " ncoding)                                                                                         \n",
      "                                                                                                  \n",
      " category_encoding_3 (CategoryE  (None, 3)           0           ['string_lookup_1[0][0]']        \n",
      " ncoding)                                                                                         \n",
      "                                                                                                  \n",
      " category_encoding_4 (CategoryE  (None, 5)           0           ['string_lookup_2[0][0]']        \n",
      " ncoding)                                                                                         \n",
      "                                                                                                  \n",
      " category_encoding_5 (CategoryE  (None, 5)           0           ['string_lookup_3[0][0]']        \n",
      " ncoding)                                                                                         \n",
      "                                                                                                  \n",
      " category_encoding_6 (CategoryE  (None, 3)           0           ['string_lookup_4[0][0]']        \n",
      " ncoding)                                                                                         \n",
      "                                                                                                  \n",
      " category_encoding_7 (CategoryE  (None, 4)           0           ['string_lookup_5[0][0]']        \n",
      " ncoding)                                                                                         \n",
      "                                                                                                  \n",
      " category_encoding_8 (CategoryE  (None, 4)           0           ['string_lookup_6[0][0]']        \n",
      " ncoding)                                                                                         \n",
      "                                                                                                  \n",
      " category_encoding_9 (CategoryE  (None, 4)           0           ['string_lookup_7[0][0]']        \n",
      " ncoding)                                                                                         \n",
      "                                                                                                  \n",
      " category_encoding_10 (Category  (None, 4)           0           ['string_lookup_8[0][0]']        \n",
      " Encoding)                                                                                        \n",
      "                                                                                                  \n",
      " category_encoding_11 (Category  (None, 4)           0           ['string_lookup_9[0][0]']        \n",
      " Encoding)                                                                                        \n",
      "                                                                                                  \n",
      " category_encoding_12 (Category  (None, 5)           0           ['string_lookup_10[0][0]']       \n",
      " Encoding)                                                                                        \n",
      "                                                                                                  \n",
      " concatenate (Concatenate)      (None, 48)           0           ['normalization_1[0][0]',        \n",
      "                                                                  'normalization_2[0][0]',        \n",
      "                                                                  'category_encoding_2[0][0]',    \n",
      "                                                                  'category_encoding_3[0][0]',    \n",
      "                                                                  'category_encoding_4[0][0]',    \n",
      "                                                                  'category_encoding_5[0][0]',    \n",
      "                                                                  'category_encoding_6[0][0]',    \n",
      "                                                                  'category_encoding_7[0][0]',    \n",
      "                                                                  'category_encoding_8[0][0]',    \n",
      "                                                                  'category_encoding_9[0][0]',    \n",
      "                                                                  'category_encoding_10[0][0]',   \n",
      "                                                                  'category_encoding_11[0][0]',   \n",
      "                                                                  'category_encoding_12[0][0]']   \n",
      "                                                                                                  \n",
      " dense (Dense)                  (None, 32)           1568        ['concatenate[0][0]']            \n",
      "                                                                                                  \n",
      " dropout (Dropout)              (None, 32)           0           ['dense[0][0]']                  \n",
      "                                                                                                  \n",
      " dense_1 (Dense)                (None, 1)            33          ['dropout[0][0]']                \n",
      "                                                                                                  \n",
      "==================================================================================================\n",
      "Total params: 1,607\n",
      "Trainable params: 1,601\n",
      "Non-trainable params: 6\n",
      "__________________________________________________________________________________________________\n",
      "ModelSummary(num_params=1607, inputs=[TensorSummary(dtype=dtype('float32'), shape=[-1, 1], name='PhotoAmt'), TensorSummary(dtype=dtype('float32'), shape=[-1, 1], name='Fee'), TensorSummary(dtype=dtype('int64'), shape=[-1, 1], name='Age'), TensorSummary(dtype=dtype('<U'), shape=[-1, 1], name='Type'), TensorSummary(dtype=dtype('<U'), shape=[-1, 1], name='Color1'), TensorSummary(dtype=dtype('<U'), shape=[-1, 1], name='Color2'), TensorSummary(dtype=dtype('<U'), shape=[-1, 1], name='Gender'), TensorSummary(dtype=dtype('<U'), shape=[-1, 1], name='MaturitySize'), TensorSummary(dtype=dtype('<U'), shape=[-1, 1], name='FurLength'), TensorSummary(dtype=dtype('<U'), shape=[-1, 1], name='Vaccinated'), TensorSummary(dtype=dtype('<U'), shape=[-1, 1], name='Sterilized'), TensorSummary(dtype=dtype('<U'), shape=[-1, 1], name='Health'), TensorSummary(dtype=dtype('<U'), shape=[-1, 1], name='Breed1')], outputs=[TensorSummary(dtype=dtype('float32'), shape=[-1, 1], name='dense_1/BiasAdd:0')]) -> array<float>\n"
     ]
    }
   ],
   "source": [
    "# pass the list of model input names into the `model_udf` helper\n",
    "classify = model_udf(\"my_pet_classifier\", input_columns=model_columns)"
   ]
  },
  {
   "cell_type": "code",
   "execution_count": 54,
   "id": "ebdd4c68-be7d-4996-808a-569f44a61b46",
   "metadata": {},
   "outputs": [
    {
     "name": "stderr",
     "output_type": "stream",
     "text": [
      "WARNING:absl:Function `_wrapped_model` contains input name(s) PhotoAmt, Fee, Age, Type, Color1, Color2, Gender, MaturitySize, FurLength, Vaccinated, Sterilized, Health, Breed1 with unsupported characters which will be renamed to photoamt, fee, age, type, color1, color2, gender, maturitysize, furlength, vaccinated, sterilized, health, breed1 in the SavedModel.\n"
     ]
    },
    {
     "name": "stdout",
     "output_type": "stream",
     "text": [
      "INFO:tensorflow:Assets written to: ram://ef6ed5ee-b21b-4ca7-82c8-e4ae31cedeb3/assets\n"
     ]
    },
    {
     "name": "stderr",
     "output_type": "stream",
     "text": [
      "INFO:tensorflow:Assets written to: ram://ef6ed5ee-b21b-4ca7-82c8-e4ae31cedeb3/assets\n",
      "[Stage 11:>                                                         (0 + 1) / 1]\r"
     ]
    },
    {
     "name": "stdout",
     "output_type": "stream",
     "text": [
      "+-------+-----+----------+------+----------+---------------+---------+----------+---------+--------+-------+----+------+-------+----------+\n",
      "|species|years|     breed|   sex|main_color|secondary_color|full_size|fur_length|immunized|  spayed| health|cost|photos|adopted|     preds|\n",
      "+-------+-----+----------+------+----------+---------------+---------+----------+---------+--------+-------+----+------+-------+----------+\n",
      "|    Cat|    3|     Tabby|  Male|     Black|          White|    Small|     Short|       No|      No|Healthy| 100|     1|      1|[1.4765...|\n",
      "|    Cat|    1|Domesti...|  Male|     Black|          Brown|   Medium|    Medium| Not Sure|Not Sure|Healthy|   0|     2|      1|[1.2110...|\n",
      "|    Dog|    1|Mixed B...|  Male|     Brown|          White|   Medium|    Medium|      Yes|      No|Healthy|   0|     7|      1|[2.2120...|\n",
      "|    Dog|    4|Mixed B...|Female|     Black|          Brown|   Medium|     Short|      Yes|      No|Healthy| 150|     8|      1|[0.5492...|\n",
      "|    Dog|    1|Mixed B...|  Male|     Black|       No Color|   Medium|     Short|       No|      No|Healthy|   0|     3|      1|[1.6435...|\n",
      "|    Cat|    3|Domesti...|Female|     Cream|           Gray|   Medium|     Short|       No|      No|Healthy|   0|     2|      1|[1.5799...|\n",
      "|    Cat|   12|Domesti...|  Male|     Black|       No Color|   Medium|      Long|       No|Not Sure|Healthy| 300|     3|      1|[1.1496...|\n",
      "|    Cat|    2|Domesti...|Female|      Gray|       No Color|   Medium|    Medium|       No|      No|Healthy|   0|     6|      1|[2.420511]|\n",
      "|    Cat|   12|Domesti...|Female|     Black|          White|   Medium|    Medium| Not Sure|Not Sure|Healthy|   0|     2|      0|[-0.083...|\n",
      "|    Dog|    2|Mixed B...|  Male|     Black|          Brown|   Medium|     Short|       No|      No|Healthy|   0|     7|      1|[2.086654]|\n",
      "|    Cat|    3|Domesti...|Female|     Black|          Brown|    Large|      Long|      Yes|      No|Healthy|  50|     2|      1|[1.8891...|\n",
      "|    Dog|    2|Mixed B...|  Male|     Brown|          Cream|   Medium|      Long|      Yes|      No|Healthy|   0|     1|      1|[1.7332...|\n",
      "|    Dog|    3|Mixed B...|Female|     Brown|          Cream|   Medium|    Medium| Not Sure|Not Sure|Healthy|   0|     2|      1|[0.4514...|\n",
      "|    Dog|   78|   Terrier|  Male|     Black|          White|   Medium|    Medium| Not Sure|Not Sure|Healthy|   0|     2|      0|[0.8297...|\n",
      "|    Cat|    6|Domesti...|Female|     Brown|       No Color|    Small|     Short|      Yes|     Yes|Healthy|   0|     1|      1|[0.1320...|\n",
      "|    Dog|    8|Mixed B...|Female|     Brown|       No Color|   Medium|     Short|       No|     Yes|Healthy|  10|     2|      0|[-0.293...|\n",
      "|    Dog|    2|Mixed B...|Female|     Black|       No Color|   Medium|     Short|       No|      No|Healthy|   0|     8|      1|[1.889106]|\n",
      "|    Dog|   12|Mixed B...|Female|     Brown|          White|   Medium|    Medium|       No|     Yes|Healthy|   0|     7|      1|[0.2566...|\n",
      "|    Dog|   10|Mixed B...|Female|     Black|          Brown|   Medium|    Medium|      Yes|     Yes|Healthy|   0|     0|      0|[-0.278...|\n",
      "|    Cat|    3|Domesti...|  Male|     Brown|          White|    Small|     Short|       No|      No|Healthy|   0|    19|      1|[3.6836...|\n",
      "+-------+-----+----------+------+----------+---------------+---------+----------+---------+--------+-------+----+------+-------+----------+\n",
      "only showing top 20 rows\n",
      "\n"
     ]
    },
    {
     "name": "stderr",
     "output_type": "stream",
     "text": [
      "                                                                                \r"
     ]
    }
   ],
   "source": [
    "# pass the list of Spark columns as the Spark SQL selectors\n",
    "df2.withColumn(\"preds\", classify(struct(*spark_columns))).show(truncate=10)"
   ]
  },
  {
   "cell_type": "code",
   "execution_count": null,
   "id": "722edb2c-1d72-4157-9626-d630b2750ff3",
   "metadata": {},
   "outputs": [],
   "source": []
  }
 ],
 "metadata": {
  "kernelspec": {
   "display_name": "Python 3 (ipykernel)",
   "language": "python",
   "name": "python3"
  },
  "language_info": {
   "codemirror_mode": {
    "name": "ipython",
    "version": 3
   },
   "file_extension": ".py",
   "mimetype": "text/x-python",
   "name": "python",
   "nbconvert_exporter": "python",
   "pygments_lexer": "ipython3",
   "version": "3.9.10"
  }
 },
 "nbformat": 4,
 "nbformat_minor": 5
}
