{
 "cells": [
  {
   "cell_type": "markdown",
   "id": "8e6810cc-5982-4293-bfbd-c91ef0aca204",
   "metadata": {},
   "source": [
    "# Distributed model inference using TensorFlow Keras\n",
    "From: https://docs.databricks.com/_static/notebooks/deep-learning/keras-metadata.html"
   ]
  },
  {
   "cell_type": "code",
   "execution_count": null,
   "id": "cf329ac8-0763-44bc-b0f6-b634b7dc480e",
   "metadata": {},
   "outputs": [],
   "source": [
    "import os\n",
    "import shutil\n",
    "import time\n",
    "import pandas as pd\n",
    "from PIL import Image\n",
    "import numpy as np\n",
    "import uuid\n",
    " \n",
    "import tensorflow as tf\n",
    "from tensorflow.keras.applications.resnet50 import ResNet50\n",
    " \n",
    "from pyspark.sql.functions import col, pandas_udf, PandasUDFType"
   ]
  },
  {
   "cell_type": "code",
   "execution_count": null,
   "id": "950b0470-a21e-4778-a80e-b8f6ef792dff",
   "metadata": {},
   "outputs": [],
   "source": [
    "file_name = \"image_data.parquet\"\n",
    "output_file_path = \"predictions\""
   ]
  },
  {
   "cell_type": "markdown",
   "id": "968d08a7-66b9-444f-b362-d8df692aef1c",
   "metadata": {},
   "source": [
    "### Prepare trained model and data for inference"
   ]
  },
  {
   "cell_type": "markdown",
   "id": "da083168-137f-492c-8769-d8f1e2111756",
   "metadata": {},
   "source": [
    "Load the ResNet-50 Model and broadcast the weights."
   ]
  },
  {
   "cell_type": "code",
   "execution_count": null,
   "id": "2ddc715a-cdbc-4c49-93e9-58c9d88511da",
   "metadata": {},
   "outputs": [],
   "source": [
    "model = ResNet50()\n",
    "bc_model_weights = sc.broadcast(model.get_weights())"
   ]
  },
  {
   "cell_type": "markdown",
   "id": "77dddfa3-e8df-4e8e-8251-64457f1ebf80",
   "metadata": {},
   "source": [
    "Load the data and save the datasets to one Parquet file."
   ]
  },
  {
   "cell_type": "code",
   "execution_count": null,
   "id": "c0738bec-97d4-4946-8c49-5e6d07ff1afc",
   "metadata": {},
   "outputs": [],
   "source": [
    "import pathlib\n",
    "dataset_url = \"https://storage.googleapis.com/download.tensorflow.org/example_images/flower_photos.tgz\"\n",
    "data_dir = tf.keras.utils.get_file(origin=dataset_url,\n",
    "                                   fname='flower_photos',\n",
    "                                   untar=True)\n",
    "data_dir = pathlib.Path(data_dir)"
   ]
  },
  {
   "cell_type": "code",
   "execution_count": null,
   "id": "014644f4-2a45-4474-8afb-0daf90043253",
   "metadata": {},
   "outputs": [],
   "source": [
    "image_count = len(list(data_dir.glob('*/*.jpg')))\n",
    "print(image_count)"
   ]
  },
  {
   "cell_type": "code",
   "execution_count": null,
   "id": "d54f470a-d308-4426-8ed0-33f95155bb4f",
   "metadata": {},
   "outputs": [],
   "source": [
    "import os\n",
    "files = [os.path.join(dp, f) for dp, dn, filenames in os.walk(data_dir) for f in filenames if os.path.splitext(f)[1] == '.jpg']\n",
    "files = files[:2048]\n",
    "len(files)"
   ]
  },
  {
   "cell_type": "code",
   "execution_count": null,
   "id": "fd883dc0-4846-4411-a4d6-4f5f252ac707",
   "metadata": {},
   "outputs": [],
   "source": [
    "print(data_dir)"
   ]
  },
  {
   "cell_type": "code",
   "execution_count": null,
   "id": "64f94ee0-f1ea-47f6-a77e-be8da5d1b87a",
   "metadata": {},
   "outputs": [],
   "source": [
    "image_data = []\n",
    "for file in files:\n",
    "    img = Image.open(file)\n",
    "    img = img.resize([224, 224])\n",
    "    data = np.asarray(img, dtype=\"float32\").reshape([224*224*3])\n",
    "\n",
    "    image_data.append({\"data\": data})\n",
    "\n",
    "pandas_df = pd.DataFrame(image_data, columns=['data'])\n",
    "pandas_df.to_parquet(file_name)\n",
    "# os.makedirs(dbfs_file_path)\n",
    "# shutil.copyfile(file_name, dbfs_file_path+file_name)"
   ]
  },
  {
   "cell_type": "markdown",
   "id": "b827ad56-1af0-41b7-be68-94bd203a2a70",
   "metadata": {},
   "source": [
    "### Load the data into Spark DataFrames"
   ]
  },
  {
   "cell_type": "code",
   "execution_count": null,
   "id": "8ddc22d0-b88a-4906-bd47-bf247e34feeb",
   "metadata": {},
   "outputs": [],
   "source": [
    "from pyspark.sql.types import *\n",
    "df = spark.read.parquet(file_name)\n",
    "print(df.count())"
   ]
  },
  {
   "cell_type": "code",
   "execution_count": null,
   "id": "c7adf1d9-1fa7-4456-ae32-cf7d1d43bfd3",
   "metadata": {},
   "outputs": [],
   "source": [
    "# spark.conf.set(\"spark.sql.execution.arrow.maxRecordsPerBatch\", \"1024\")\n",
    "spark.conf.set(\"spark.sql.parquet.columnarReaderBatchSize\", \"1024\")"
   ]
  },
  {
   "cell_type": "code",
   "execution_count": null,
   "id": "97173c07-a96e-4262-b60f-82865b997e99",
   "metadata": {},
   "outputs": [],
   "source": [
    "assert len(df.head()) > 0, \"`df` should not be empty\" # This line will fail if the vectorized reader runs out of memory"
   ]
  },
  {
   "cell_type": "markdown",
   "id": "c78183b4-f003-43f7-9b5d-cbc5c8c0accb",
   "metadata": {},
   "source": [
    "### Run model inference via pandas UDF"
   ]
  },
  {
   "cell_type": "code",
   "execution_count": null,
   "id": "9069a524-637f-4d80-b58d-0f8114b1a619",
   "metadata": {},
   "outputs": [],
   "source": [
    "def parse_image(image_data):\n",
    "    image = tf.image.convert_image_dtype(\n",
    "        image_data, dtype=tf.float32) * (2. / 255) - 1\n",
    "    image = tf.reshape(image, [224, 224, 3])\n",
    "    return image"
   ]
  },
  {
   "cell_type": "code",
   "execution_count": null,
   "id": "89661b65-f74b-44ad-8fae-ba782ece4cf4",
   "metadata": {},
   "outputs": [],
   "source": [
    "@pandas_udf(ArrayType(FloatType()), PandasUDFType.SCALAR_ITER)\n",
    "def predict_batch_udf(image_batch_iter):\n",
    "    batch_size = 64\n",
    "    model = ResNet50(weights=None)\n",
    "    model.set_weights(bc_model_weights.value)\n",
    "    for image_batch in image_batch_iter:\n",
    "        images = np.vstack(image_batch)\n",
    "        dataset = tf.data.Dataset.from_tensor_slices(images)\n",
    "        dataset = dataset.map(parse_image, num_parallel_calls=8).prefetch(\n",
    "            5000).batch(batch_size)\n",
    "        preds = model.predict(dataset)\n",
    "        yield pd.Series(list(preds))"
   ]
  },
  {
   "cell_type": "code",
   "execution_count": null,
   "id": "969800b6-b226-4a65-b322-1542232645e5",
   "metadata": {},
   "outputs": [],
   "source": [
    "%%time\n",
    "predictions_df = df.select(predict_batch_udf(col(\"data\")).alias(\"prediction\"))\n",
    "predictions_df.write.mode(\"overwrite\").parquet(output_file_path)"
   ]
  },
  {
   "cell_type": "code",
   "execution_count": null,
   "id": "5710fedd-8934-4bfa-ab98-e4dfbba093d5",
   "metadata": {},
   "outputs": [],
   "source": [
    "result_df = spark.read.parquet(output_file_path)\n",
    "result_df.show(truncate=120)"
   ]
  },
  {
   "cell_type": "markdown",
   "id": "7d21bbd0-94eb-4245-a14d-faf51735065c",
   "metadata": {},
   "source": [
    "### Model inference using sparkext"
   ]
  },
  {
   "cell_type": "code",
   "execution_count": null,
   "id": "f0d11e0c-018c-4c9a-b908-6518aa0cc0d7",
   "metadata": {},
   "outputs": [],
   "source": [
    "from pyspark.sql.functions import struct\n",
    "from sparkext.tensorflow import model_udf"
   ]
  },
  {
   "cell_type": "code",
   "execution_count": null,
   "id": "d575cb34-d175-4a18-a011-f65edefe6f96",
   "metadata": {},
   "outputs": [],
   "source": [
    "model = ResNet50()"
   ]
  },
  {
   "cell_type": "code",
   "execution_count": null,
   "id": "42f928cc-f4b9-42ea-82d8-87a11adb5d3f",
   "metadata": {},
   "outputs": [],
   "source": [
    "predict_batch_udf = model_udf(model, batch_size=64)"
   ]
  },
  {
   "cell_type": "code",
   "execution_count": null,
   "id": "5f262e7f-bb50-403a-8a2c-d44681a71a56",
   "metadata": {
    "tags": []
   },
   "outputs": [],
   "source": [
    "%%time\n",
    "predictions_df = df.select(predict_batch_udf(struct(\"data\")).alias(\"prediction\"))\n",
    "predictions_df.write.mode(\"overwrite\").parquet(output_file_path + \"_sparkext\")"
   ]
  },
  {
   "cell_type": "code",
   "execution_count": null,
   "id": "9ac023dd-901e-4759-b780-18608bd7d4f7",
   "metadata": {},
   "outputs": [],
   "source": [
    "result_df = spark.read.parquet(output_file_path)\n",
    "result_df.show(truncate=120)"
   ]
  },
  {
   "cell_type": "markdown",
   "id": "437ed80e-b4d9-4ce0-b136-31479251bbca",
   "metadata": {},
   "source": [
    "### Model inference using MLFlow"
   ]
  },
  {
   "cell_type": "code",
   "execution_count": null,
   "id": "9abe8271-39f7-4811-890c-833191b0664d",
   "metadata": {},
   "outputs": [],
   "source": [
    "import mlflow\n",
    "from mlflow.models.signature import infer_signature  #, ModelSignature\n",
    "# from mlflow.types.schema import Schema, TensorSpec"
   ]
  },
  {
   "cell_type": "code",
   "execution_count": null,
   "id": "8f7e8e13-b08c-4b10-8e67-244b9d89d578",
   "metadata": {},
   "outputs": [],
   "source": [
    "train_images = np.vstack(pandas_df['data'].head(10).to_numpy()).reshape(-1,224,224,3)\n",
    "predictions = model.predict(train_images)"
   ]
  },
  {
   "cell_type": "code",
   "execution_count": null,
   "id": "f714612c-18cb-40f9-a674-609c0c1a1577",
   "metadata": {},
   "outputs": [],
   "source": [
    "signature = infer_signature(train_images, model.predict(train_images))\n",
    "signature"
   ]
  },
  {
   "cell_type": "code",
   "execution_count": null,
   "id": "88401c26-c307-44c3-b651-5dbf9e3ee9c0",
   "metadata": {},
   "outputs": [],
   "source": [
    "tf.keras.models.save_model(model, \"resnet50_model\")"
   ]
  },
  {
   "cell_type": "code",
   "execution_count": null,
   "id": "6aec7652-24c6-4ce8-ad5a-423eb21c248a",
   "metadata": {},
   "outputs": [],
   "source": [
    "mlflow.tensorflow.save_model(tf_saved_model_dir=\"resnet50_model\", \n",
    "                             tf_meta_graph_tags=[\"serve\"], \n",
    "                             tf_signature_def_key=\"serving_default\",\n",
    "                             signature=signature,\n",
    "                             path=\"resnet50_mlflow\")"
   ]
  },
  {
   "cell_type": "code",
   "execution_count": null,
   "id": "a26a74c2-e982-43d4-9575-9d9fee990b15",
   "metadata": {},
   "outputs": [],
   "source": [
    "predict_batch_udf = mlflow.pyfunc.spark_udf(spark, model_uri=\"resnet50_mlflow\", result_type=\"array<float>\")"
   ]
  },
  {
   "cell_type": "code",
   "execution_count": null,
   "id": "165d42dd-71cc-4dab-9b68-122f45b2a693",
   "metadata": {},
   "outputs": [],
   "source": [
    "%%time\n",
    "predictions_df = df.select(predict_batch_udf(struct(\"data\")).alias(\"prediction\"))\n",
    "predictions_df.write.mode(\"overwrite\").parquet(output_file_path + \"_mlflow\")"
   ]
  },
  {
   "cell_type": "markdown",
   "id": "97561f2c-bd92-49dd-a7de-1fb3d87b327a",
   "metadata": {},
   "source": [
    "### Model inference using Triton UDF"
   ]
  },
  {
   "cell_type": "code",
   "execution_count": null,
   "id": "e2d7ffdd-4452-4b3b-8188-f79d3ed3cc3d",
   "metadata": {},
   "outputs": [],
   "source": [
    "from sparkext.triton import model_udf"
   ]
  },
  {
   "cell_type": "code",
   "execution_count": null,
   "id": "870e4e40-c370-42dd-a57f-5b2762f747f9",
   "metadata": {},
   "outputs": [],
   "source": [
    "model = ResNet50()"
   ]
  },
  {
   "cell_type": "code",
   "execution_count": null,
   "id": "a110aa86-4299-4357-9fa9-13c91fa6b89c",
   "metadata": {},
   "outputs": [],
   "source": [
    "predict_batch_udf = model_udf(model, batch_size=64)"
   ]
  },
  {
   "cell_type": "code",
   "execution_count": null,
   "id": "ad9eef42-3020-4106-a3a5-b38d084de6d4",
   "metadata": {
    "tags": []
   },
   "outputs": [],
   "source": [
    "%%time\n",
    "predictions_df = df.select(predict_batch_udf(col(\"data\")).alias(\"prediction\"))\n",
    "predictions_df.write.mode(\"overwrite\").parquet(output_file_path + \"_sparkext\")"
   ]
  },
  {
   "cell_type": "code",
   "execution_count": null,
   "id": "71662daf-ddee-439a-b76e-cca3e02f5302",
   "metadata": {},
   "outputs": [],
   "source": [
    "result_df = spark.read.parquet(output_file_path)\n",
    "result_df.show(truncate=120)"
   ]
  },
  {
   "cell_type": "markdown",
   "id": "febe0a8e-485c-471f-83af-91fd58a223a6",
   "metadata": {},
   "source": [
    "### Model inference using Spark DL API"
   ]
  },
  {
   "cell_type": "code",
   "execution_count": 1,
   "id": "e6af27b2-ddc0-42ee-94cc-9ba5ffee6868",
   "metadata": {},
   "outputs": [],
   "source": [
    "from pyspark.ml.functions import predict_batch_udf\n",
    "from pyspark.sql.functions import struct, col\n",
    "from pyspark.sql.types import ArrayType, FloatType"
   ]
  },
  {
   "cell_type": "code",
   "execution_count": 2,
   "id": "dda88b46-6300-4bf7-bc10-7403f4fbbf92",
   "metadata": {},
   "outputs": [],
   "source": [
    "def predict_batch_fn():\n",
    "    import tensorflow as tf\n",
    "    from tensorflow.keras.applications.resnet50 import ResNet50\n",
    "    model = ResNet50()\n",
    "    def predict(inputs):\n",
    "        return model.predict(inputs)\n",
    "    return predict"
   ]
  },
  {
   "cell_type": "code",
   "execution_count": 3,
   "id": "cff0e851-563d-40b6-9d05-509c22b3b7f9",
   "metadata": {},
   "outputs": [],
   "source": [
    "classify = predict_batch_udf(predict_batch_fn,\n",
    "                             input_tensor_shapes=[[-1, 224, 224, 3]],\n",
    "                             return_type=ArrayType(FloatType()),\n",
    "                             batch_size=50)"
   ]
  },
  {
   "cell_type": "code",
   "execution_count": 4,
   "id": "f733c38b-867d-48c1-b9a6-74a931561896",
   "metadata": {},
   "outputs": [],
   "source": [
    "# spark.conf.set(\"spark.sql.execution.arrow.maxRecordsPerBatch\", \"1024\")\n",
    "spark.conf.set(\"spark.sql.parquet.columnarReaderBatchSize\", \"1024\")"
   ]
  },
  {
   "cell_type": "code",
   "execution_count": 5,
   "id": "aa7c156f-e2b3-4837-9427-ccf3a5720412",
   "metadata": {},
   "outputs": [
    {
     "name": "stderr",
     "output_type": "stream",
     "text": [
      "                                                                                \r"
     ]
    }
   ],
   "source": [
    "df = spark.read.parquet(\"image_data.parquet\")"
   ]
  },
  {
   "cell_type": "code",
   "execution_count": 6,
   "id": "80bc50ad-eaf5-4fce-a354-5e17d65e2da5",
   "metadata": {
    "tags": []
   },
   "outputs": [
    {
     "name": "stderr",
     "output_type": "stream",
     "text": [
      "[Stage 2:============================================>              (3 + 1) / 4]\r"
     ]
    },
    {
     "name": "stdout",
     "output_type": "stream",
     "text": [
      "+------------------------------------------------------------------------------------------------------------------------+\n",
      "|                                                                                                              prediction|\n",
      "+------------------------------------------------------------------------------------------------------------------------+\n",
      "|[6.488724E-9, 1.7913548E-8, 7.2971756E-10, 1.1237896E-10, 4.7827964E-9, 2.2745319E-8, 3.216263E-10, 1.1400089E-7, 1.2...|\n",
      "|[4.2708026E-10, 1.0472206E-9, 3.107669E-11, 1.3734391E-11, 9.385019E-11, 1.0300396E-9, 6.273543E-12, 3.2836707E-9, 2....|\n",
      "|[7.155985E-5, 8.0857964E-5, 0.15193807, 8.1340194E-4, 8.8886736E-4, 1.0982669E-4, 9.939958E-5, 1.1467786E-4, 3.261136...|\n",
      "|[7.68348E-6, 1.746309E-4, 1.1737511E-4, 1.8590888E-4, 4.1039658E-4, 3.497688E-4, 1.041894E-4, 1.866713E-5, 6.1084206E...|\n",
      "|[1.9188435E-6, 3.667913E-5, 4.2507003E-5, 1.1425929E-5, 1.6956085E-4, 7.1258924E-5, 2.9277767E-4, 6.85369E-6, 2.14411...|\n",
      "|[9.342216E-6, 1.8636223E-4, 1.9069273E-6, 3.621517E-5, 1.3180122E-4, 1.9732219E-5, 8.6648964E-5, 5.365584E-5, 1.41409...|\n",
      "|[2.310436E-9, 1.8734106E-7, 3.8005513E-8, 4.3615085E-9, 2.4206479E-8, 3.0622978E-8, 2.2920057E-9, 5.513038E-7, 7.3261...|\n",
      "|[3.5517087E-7, 2.3258184E-4, 2.8905662E-5, 1.4948577E-4, 1.8638495E-5, 1.3078985E-5, 8.6762575E-6, 1.4903517E-5, 1.85...|\n",
      "|[3.677644E-9, 1.0055563E-8, 6.4200507E-9, 8.635725E-10, 6.791072E-9, 9.347981E-9, 1.8132051E-9, 1.2426884E-7, 3.56074...|\n",
      "|[1.8745676E-7, 1.1644273E-5, 1.7765008E-6, 4.8721586E-7, 2.2028596E-6, 2.9787213E-6, 1.7775702E-6, 1.0062758E-5, 1.36...|\n",
      "|[3.196711E-8, 1.468794E-7, 6.785455E-8, 1.5231521E-8, 9.21841E-8, 5.4251398E-8, 3.0846476E-7, 3.5492363E-7, 6.152028E...|\n",
      "|[4.216645E-11, 2.2740025E-7, 9.606178E-10, 5.574984E-10, 2.2669804E-9, 2.514734E-8, 1.3461722E-10, 1.4165048E-8, 1.21...|\n",
      "|[2.6141322E-7, 1.3726772E-6, 5.8927294E-9, 5.6070637E-9, 1.5758514E-8, 1.3925575E-7, 2.1155055E-9, 4.425226E-7, 2.047...|\n",
      "|[2.1615483E-8, 2.1334258E-6, 9.429247E-7, 8.1043105E-8, 3.3183719E-7, 1.2267115E-7, 2.412848E-7, 3.3302083E-6, 9.5944...|\n",
      "|[2.8650783E-7, 3.5781163E-6, 9.735075E-9, 1.9440704E-7, 2.0896611E-7, 3.91201E-7, 5.0855142E-8, 4.3363286E-7, 3.03364...|\n",
      "|[2.5535502E-7, 1.5035797E-6, 3.102263E-8, 8.675551E-9, 1.4701556E-7, 6.1393E-8, 4.7093657E-8, 4.9178215E-7, 7.675554E...|\n",
      "|[1.1911144E-7, 6.0371895E-6, 2.3371716E-9, 5.97499E-8, 2.6837233E-7, 5.94724E-7, 1.4751411E-7, 9.515226E-7, 5.5992473...|\n",
      "|[2.2270827E-8, 7.996267E-8, 5.7808397E-10, 3.9455905E-10, 4.575859E-9, 8.77232E-8, 3.24405E-10, 1.1983367E-7, 9.28444...|\n",
      "|[4.7317964E-5, 3.9329374E-5, 1.709051E-5, 1.6096948E-5, 6.680435E-5, 1.45488575E-5, 9.625309E-6, 1.0027923E-5, 7.0859...|\n",
      "|[2.745089E-7, 6.896814E-6, 3.0086002E-7, 2.3948596E-7, 4.8736906E-6, 1.3914991E-5, 1.6984235E-7, 1.7631024E-5, 7.2700...|\n",
      "+------------------------------------------------------------------------------------------------------------------------+\n",
      "only showing top 20 rows\n",
      "\n",
      "CPU times: user 27.9 ms, sys: 7.07 ms, total: 35 ms\n",
      "Wall time: 26.4 s\n"
     ]
    },
    {
     "name": "stderr",
     "output_type": "stream",
     "text": [
      "                                                                                \r"
     ]
    }
   ],
   "source": [
    "%%time\n",
    "# first pass caches model/fn\n",
    "predictions = df.select(classify(struct(\"data\")).alias(\"prediction\"))\n",
    "predictions.show(truncate=120)"
   ]
  },
  {
   "cell_type": "code",
   "execution_count": 7,
   "id": "41cace80-7a4b-4929-8e63-9c83f9745e02",
   "metadata": {},
   "outputs": [
    {
     "name": "stderr",
     "output_type": "stream",
     "text": [
      "[Stage 4:============================================>              (3 + 1) / 4]\r"
     ]
    },
    {
     "name": "stdout",
     "output_type": "stream",
     "text": [
      "+------------------------------------------------------------------------------------------------------------------------+\n",
      "|                                                                                                              prediction|\n",
      "+------------------------------------------------------------------------------------------------------------------------+\n",
      "|[6.505195E-9, 1.7941492E-8, 7.3108597E-10, 1.1247699E-10, 4.79342E-9, 2.2737908E-8, 3.2167613E-10, 1.1435722E-7, 1.27...|\n",
      "|[4.2848686E-10, 1.0501189E-9, 3.1230168E-11, 1.3761372E-11, 9.432232E-11, 1.0338126E-9, 6.3103607E-12, 3.308882E-9, 2...|\n",
      "|[7.1572096E-5, 8.101059E-5, 0.15235129, 8.115527E-4, 8.894753E-4, 1.09934204E-4, 9.9597084E-5, 1.14571274E-4, 3.26097...|\n",
      "|[7.686035E-6, 1.7426746E-4, 1.1772954E-4, 1.8596395E-4, 4.1134286E-4, 3.491203E-4, 1.0433701E-4, 1.8696323E-5, 6.0910...|\n",
      "|[1.9279746E-6, 3.6829217E-5, 4.2873737E-5, 1.1499453E-5, 1.7075143E-4, 7.1724586E-5, 2.947515E-4, 6.888676E-6, 2.1497...|\n",
      "|[9.317662E-6, 1.8610353E-4, 1.9132615E-6, 3.620203E-5, 1.3170729E-4, 1.9679925E-5, 8.671315E-5, 5.3577216E-5, 1.41209...|\n",
      "|[2.2904973E-9, 1.8563807E-7, 3.7782524E-8, 4.328655E-9, 2.4010673E-8, 3.031993E-8, 2.278328E-9, 5.471615E-7, 7.267979...|\n",
      "|[3.544495E-7, 2.3263521E-4, 2.9004717E-5, 1.4927215E-4, 1.8691399E-5, 1.308223E-5, 8.648211E-6, 1.4843575E-5, 1.85133...|\n",
      "|[3.6625543E-9, 1.0032581E-8, 6.429945E-9, 8.6145246E-10, 6.7753447E-9, 9.321761E-9, 1.8069093E-9, 1.2397666E-7, 3.547...|\n",
      "|[1.8757625E-7, 1.1658498E-5, 1.7828437E-6, 4.8823176E-7, 2.2108682E-6, 2.9799523E-6, 1.7844171E-6, 1.0092177E-5, 1.36...|\n",
      "|[3.1841147E-8, 1.4635783E-7, 6.790505E-8, 1.516204E-8, 9.188516E-8, 5.413924E-8, 3.0768328E-7, 3.540285E-7, 6.123218E...|\n",
      "|[4.2521663E-11, 2.2978304E-7, 9.685862E-10, 5.6210586E-10, 2.2864917E-9, 2.5362421E-8, 1.3557684E-10, 1.4310226E-8, 1...|\n",
      "|[2.6082546E-7, 1.3709212E-6, 5.8756457E-9, 5.5940292E-9, 1.5725604E-8, 1.3879378E-7, 2.1134239E-9, 4.4232672E-7, 2.04...|\n",
      "|[2.1746857E-8, 2.1431665E-6, 9.495906E-7, 8.145857E-8, 3.3457945E-7, 1.236013E-7, 2.422968E-7, 3.3534245E-6, 9.642162...|\n",
      "|[2.8634574E-7, 3.5815226E-6, 9.739259E-9, 1.9423852E-7, 2.0946365E-7, 3.9129495E-7, 5.0949062E-8, 4.342498E-7, 3.0297...|\n",
      "|[2.5571075E-7, 1.5090554E-6, 3.114841E-8, 8.7083E-9, 1.4752985E-7, 6.156743E-8, 4.721016E-8, 4.920814E-7, 7.676438E-8...|\n",
      "|[1.1907656E-7, 6.032677E-6, 2.338942E-9, 5.9698074E-8, 2.684504E-7, 5.941803E-7, 1.4735029E-7, 9.52672E-7, 5.591621E-...|\n",
      "|[2.2316216E-8, 8.005018E-8, 5.7965116E-10, 3.9534961E-10, 4.5881063E-9, 8.777951E-8, 3.2541542E-10, 1.2000612E-7, 9.3...|\n",
      "|[4.749759E-5, 3.952463E-5, 1.7216142E-5, 1.6187156E-5, 6.731411E-5, 1.4615358E-5, 9.6852345E-6, 1.0029117E-5, 7.08672...|\n",
      "|[2.757706E-7, 6.930172E-6, 3.0299177E-7, 2.407556E-7, 4.901006E-6, 1.39901495E-5, 1.7053627E-7, 1.7758472E-5, 7.31301...|\n",
      "+------------------------------------------------------------------------------------------------------------------------+\n",
      "only showing top 20 rows\n",
      "\n",
      "CPU times: user 9.23 ms, sys: 14.2 ms, total: 23.5 ms\n",
      "Wall time: 17.3 s\n"
     ]
    },
    {
     "name": "stderr",
     "output_type": "stream",
     "text": [
      "                                                                                \r"
     ]
    }
   ],
   "source": [
    "%%time\n",
    "predictions = df.select(classify(\"data\").alias(\"prediction\"))\n",
    "predictions.show(truncate=120)"
   ]
  },
  {
   "cell_type": "code",
   "execution_count": 8,
   "id": "56a2ec8a-de09-4d7c-9666-1b3c76f10657",
   "metadata": {},
   "outputs": [
    {
     "name": "stderr",
     "output_type": "stream",
     "text": [
      "[Stage 6:============================================>              (3 + 1) / 4]\r"
     ]
    },
    {
     "name": "stdout",
     "output_type": "stream",
     "text": [
      "+------------------------------------------------------------------------------------------------------------------------+\n",
      "|                                                                                                              prediction|\n",
      "+------------------------------------------------------------------------------------------------------------------------+\n",
      "|[6.5036354E-9, 1.7929596E-8, 7.3072104E-10, 1.1244316E-10, 4.7892366E-9, 2.2796195E-8, 3.2190953E-10, 1.141436E-7, 1....|\n",
      "|[4.261267E-10, 1.0438408E-9, 3.0994297E-11, 1.3699702E-11, 9.364369E-11, 1.0269502E-9, 6.2634177E-12, 3.2827323E-9, 2...|\n",
      "|[7.145832E-5, 8.100282E-5, 0.15209591, 8.1339135E-4, 8.8891806E-4, 1.0980401E-4, 9.949767E-5, 1.14709175E-4, 3.263263...|\n",
      "|[7.696923E-6, 1.7480766E-4, 1.1749638E-4, 1.8601773E-4, 4.1114705E-4, 3.5053093E-4, 1.0441329E-4, 1.868631E-5, 6.1134...|\n",
      "|[1.9177812E-6, 3.6666268E-5, 4.2393985E-5, 1.14176E-5, 1.6930157E-4, 7.108267E-5, 2.9254623E-4, 6.8469967E-6, 2.14224...|\n",
      "|[9.324331E-6, 1.8613745E-4, 1.9041426E-6, 3.6150424E-5, 1.314567E-4, 1.9682293E-5, 8.6531174E-5, 5.3612086E-5, 1.4149...|\n",
      "|[2.2956685E-9, 1.8639231E-7, 3.7813983E-8, 4.3336974E-9, 2.4054145E-8, 3.0456743E-8, 2.2784596E-9, 5.489897E-7, 7.288...|\n",
      "|[3.5612575E-7, 2.3270914E-4, 2.9157256E-5, 1.4986479E-4, 1.8737039E-5, 1.308313E-5, 8.678916E-6, 1.4875845E-5, 1.8541...|\n",
      "|[3.6990138E-9, 1.0105238E-8, 6.453798E-9, 8.683453E-10, 6.8374293E-9, 9.391473E-9, 1.8214433E-9, 1.2479548E-7, 3.5771...|\n",
      "|[1.8756513E-7, 1.165623E-5, 1.779197E-6, 4.878897E-7, 2.2026795E-6, 2.9797393E-6, 1.7794956E-6, 1.0073898E-5, 1.36869...|\n",
      "|[3.209453E-8, 1.475117E-7, 6.819964E-8, 1.5287478E-8, 9.2456624E-8, 5.444406E-8, 3.0929496E-7, 3.5613687E-7, 6.172722...|\n",
      "|[4.2374403E-11, 2.2891261E-7, 9.672131E-10, 5.606124E-10, 2.275915E-9, 2.5327527E-8, 1.3525608E-10, 1.4273157E-8, 1.2...|\n",
      "|[2.6136345E-7, 1.3720218E-6, 5.885373E-9, 5.606177E-9, 1.5755996E-8, 1.3916245E-7, 2.114324E-9, 4.421456E-7, 2.047587...|\n",
      "|[2.1639321E-8, 2.1352369E-6, 9.4344534E-7, 8.110556E-8, 3.3231623E-7, 1.2279777E-7, 2.4177237E-7, 3.3324598E-6, 9.603...|\n",
      "|[2.8654586E-7, 3.5798373E-6, 9.734928E-9, 1.9453654E-7, 2.0915316E-7, 3.9160088E-7, 5.0905616E-8, 4.335288E-7, 3.0332...|\n",
      "|[2.5603268E-7, 1.5057924E-6, 3.111421E-8, 8.701378E-9, 1.4747262E-7, 6.153809E-8, 4.7243134E-8, 4.927286E-7, 7.689979...|\n",
      "|[1.1885405E-7, 6.0209613E-6, 2.3307336E-9, 5.954067E-8, 2.674889E-7, 5.931508E-7, 1.4704548E-7, 9.498294E-7, 5.59042E...|\n",
      "|[2.2313747E-8, 7.999065E-8, 5.789363E-10, 3.9535866E-10, 4.584319E-9, 8.7780016E-8, 3.2504077E-10, 1.1978818E-7, 9.29...|\n",
      "|[4.7450758E-5, 3.9376453E-5, 1.7155951E-5, 1.615492E-5, 6.704564E-5, 1.4593235E-5, 9.660453E-6, 1.0044007E-5, 7.09625...|\n",
      "|[2.7447115E-7, 6.897207E-6, 3.008981E-7, 2.3968948E-7, 4.8702937E-6, 1.3922608E-5, 1.6970404E-7, 1.767137E-5, 7.28705...|\n",
      "+------------------------------------------------------------------------------------------------------------------------+\n",
      "only showing top 20 rows\n",
      "\n",
      "CPU times: user 20.7 ms, sys: 4.64 ms, total: 25.3 ms\n",
      "Wall time: 17.7 s\n"
     ]
    },
    {
     "name": "stderr",
     "output_type": "stream",
     "text": [
      "                                                                                \r"
     ]
    }
   ],
   "source": [
    "%%time\n",
    "predictions = df.select(classify(col(\"data\")).alias(\"prediction\"))\n",
    "predictions.show(truncate=120)"
   ]
  },
  {
   "cell_type": "markdown",
   "id": "3c89b02d-abb4-4dba-95af-b9c4077bcdb8",
   "metadata": {},
   "source": [
    "### Using Triton Server"
   ]
  },
  {
   "cell_type": "markdown",
   "id": "3108ea9c-bebe-4309-b789-56626af057e7",
   "metadata": {
    "tags": []
   },
   "source": [
    "#### Start Triton Server on each executor"
   ]
  },
  {
   "cell_type": "code",
   "execution_count": 9,
   "id": "8c8c0744-0558-4dac-bbfe-8bdde4b2af2d",
   "metadata": {},
   "outputs": [
    {
     "name": "stderr",
     "output_type": "stream",
     "text": [
      "                                                                                \r"
     ]
    },
    {
     "data": {
      "text/plain": [
       "[True]"
      ]
     },
     "execution_count": 9,
     "metadata": {},
     "output_type": "execute_result"
    }
   ],
   "source": [
    "num_executors = 1\n",
    "\n",
    "nodeRDD = sc.parallelize(list(range(num_executors)), num_executors)\n",
    "\n",
    "def start_triton(it):\n",
    "    import docker\n",
    "    import time\n",
    "    import tritonclient.grpc as grpcclient\n",
    "    \n",
    "    client=docker.from_env()\n",
    "    containers=client.containers.list(filters={\"name\": \"spark-triton\"})\n",
    "    if containers:\n",
    "        print(\">>>> containers: {}\".format([c.short_id for c in containers]))\n",
    "    else:\n",
    "        container=client.containers.run(\n",
    "            \"nvcr.io/nvidia/tritonserver:22.07-py3\", \"tritonserver --model-repository=/models\",\n",
    "            detach=True,\n",
    "            device_requests=[docker.types.DeviceRequest(device_ids=[\"0\"], capabilities=[['gpu']])],\n",
    "            environment=[\n",
    "                \"TRANSFORMERS_CACHE=/cache\"\n",
    "            ],\n",
    "            name=\"spark-triton\",\n",
    "            network_mode=\"host\",\n",
    "            remove=True,\n",
    "            shm_size=\"512M\",\n",
    "            volumes={\n",
    "                \"/home/leey/devpub/leewyang/sparkext/examples/models\": {\"bind\": \"/models\", \"mode\": \"ro\"},\n",
    "                \"/home/leey/huggingface/cache\": {\"bind\": \"/cache\", \"mode\": \"rw\"}\n",
    "            }\n",
    "        )\n",
    "        print(\">>>> starting triton: {}\".format(container.short_id))\n",
    "\n",
    "        # wait for triton to be running\n",
    "        time.sleep(15)\n",
    "        client = grpcclient.InferenceServerClient(\"localhost:8001\")\n",
    "        ready = False\n",
    "        while not ready:\n",
    "            try:\n",
    "                ready = client.is_server_ready()\n",
    "            except Exception as e:\n",
    "                time.sleep(5)\n",
    "\n",
    "    return [True]\n",
    "\n",
    "nodeRDD.mapPartitions(start_triton).collect()"
   ]
  },
  {
   "cell_type": "markdown",
   "id": "8c07365c-0a14-49b3-9bd8-cfb35f48b089",
   "metadata": {},
   "source": [
    "#### Run inference"
   ]
  },
  {
   "cell_type": "code",
   "execution_count": 10,
   "id": "b7c17b6e-5481-44e3-abde-9b35bfc67ca2",
   "metadata": {},
   "outputs": [],
   "source": [
    "from functools import partial\n",
    "from pyspark.ml.functions import predict_batch_udf\n",
    "from pyspark.sql.functions import struct, col\n",
    "from pyspark.sql.types import ArrayType, FloatType"
   ]
  },
  {
   "cell_type": "code",
   "execution_count": 11,
   "id": "bcd46360-6851-4a9d-8590-c086e001242a",
   "metadata": {},
   "outputs": [],
   "source": [
    "def triton_fn(triton_uri, model_name):\n",
    "    import numpy as np\n",
    "    import tritonclient.grpc as grpcclient\n",
    "    \n",
    "    np_types = {\n",
    "      \"BOOL\": np.dtype(np.bool8),\n",
    "      \"INT8\": np.dtype(np.int8),\n",
    "      \"INT16\": np.dtype(np.int16),\n",
    "      \"INT32\": np.dtype(np.int32),\n",
    "      \"INT64\": np.dtype(np.int64),\n",
    "      \"FP16\": np.dtype(np.float16),\n",
    "      \"FP32\": np.dtype(np.float32),\n",
    "      \"FP64\": np.dtype(np.float64),\n",
    "      \"FP64\": np.dtype(np.double),\n",
    "      \"BYTES\": np.dtype(object)\n",
    "    }\n",
    "\n",
    "    client = grpcclient.InferenceServerClient(triton_uri)\n",
    "    model_meta = client.get_model_metadata(model_name)\n",
    "    \n",
    "    def predict(inputs):\n",
    "        if isinstance(inputs, np.ndarray):\n",
    "            # single ndarray input\n",
    "            request = [grpcclient.InferInput(model_meta.inputs[0].name, inputs.shape, model_meta.inputs[0].datatype)]\n",
    "            request[0].set_data_from_numpy(inputs.astype(np_types[model_meta.inputs[0].datatype]))\n",
    "        else:\n",
    "            # dict of multiple ndarray inputs\n",
    "            request = [grpcclient.InferInput(i.name, inputs[i.name].shape, i.datatype) for i in model_meta.inputs]\n",
    "            for i in request:\n",
    "                i.set_data_from_numpy(inputs[i.name()].astype(np_types[i.datatype()]))\n",
    "        \n",
    "        response = client.infer(model_name, inputs=request)\n",
    "        \n",
    "        if len(model_meta.outputs) > 1:\n",
    "            # return dictionary of numpy arrays\n",
    "            return {o.name: response.as_numpy(o.name) for o in model_meta.outputs}\n",
    "        else:\n",
    "            # return single numpy array\n",
    "            return response.as_numpy(model_meta.outputs[0].name)\n",
    "        \n",
    "    return predict"
   ]
  },
  {
   "cell_type": "code",
   "execution_count": 12,
   "id": "9fabcaeb-5a44-42bb-8097-5dbc2d0cee3e",
   "metadata": {},
   "outputs": [],
   "source": [
    "classify = predict_batch_udf(partial(triton_fn, triton_uri=\"localhost:8001\", model_name=\"resnet_50\"),\n",
    "                             input_tensor_shapes=[[-1, 224, 224, 3]],\n",
    "                             return_type=ArrayType(FloatType()),\n",
    "                             batch_size=50)"
   ]
  },
  {
   "cell_type": "code",
   "execution_count": 13,
   "id": "b17f33c8-a0f0-4bce-91f8-5838ba9b12a7",
   "metadata": {},
   "outputs": [],
   "source": [
    "# spark.conf.set(\"spark.sql.execution.arrow.maxRecordsPerBatch\", \"1024\")\n",
    "spark.conf.set(\"spark.sql.parquet.columnarReaderBatchSize\", \"1024\")"
   ]
  },
  {
   "cell_type": "code",
   "execution_count": 14,
   "id": "8e5b9e99-a1cf-43d3-a795-c7271a917057",
   "metadata": {},
   "outputs": [],
   "source": [
    "df = spark.read.parquet(\"image_data.parquet\")"
   ]
  },
  {
   "cell_type": "code",
   "execution_count": 15,
   "id": "e595473d-1a5d-46a6-a6ba-89d2ea903de9",
   "metadata": {
    "tags": []
   },
   "outputs": [
    {
     "name": "stderr",
     "output_type": "stream",
     "text": [
      "[Stage 10:===========================================>              (3 + 1) / 4]\r"
     ]
    },
    {
     "name": "stdout",
     "output_type": "stream",
     "text": [
      "+------------------------------------------------------------------------------------------------------------------------+\n",
      "|                                                                                                              prediction|\n",
      "+------------------------------------------------------------------------------------------------------------------------+\n",
      "|[6.48448E-9, 1.7901765E-8, 7.292153E-10, 1.12199486E-10, 4.777208E-9, 2.2673978E-8, 3.2052277E-10, 1.14186946E-7, 1.2...|\n",
      "|[4.269598E-10, 1.0459215E-9, 3.111044E-11, 1.3701531E-11, 9.395498E-11, 1.0285282E-9, 6.287033E-12, 3.2970264E-9, 2.3...|\n",
      "|[7.161779E-5, 8.108744E-5, 0.152223, 8.1107474E-4, 8.9016673E-4, 1.09777706E-4, 9.957649E-5, 1.143249E-4, 3.253785E-5...|\n",
      "|[7.673029E-6, 1.7408536E-4, 1.1746543E-4, 1.8530856E-4, 4.1016986E-4, 3.481342E-4, 1.0408627E-4, 1.8670506E-5, 6.0872...|\n",
      "|[1.9282145E-6, 3.6851965E-5, 4.2964173E-5, 1.1509585E-5, 1.7106625E-4, 7.176436E-5, 2.949282E-4, 6.891794E-6, 2.14995...|\n",
      "|[9.315015E-6, 1.8614109E-4, 1.9116987E-6, 3.6163383E-5, 1.3161231E-4, 1.9690757E-5, 8.661505E-5, 5.3497213E-5, 1.4091...|\n",
      "|[2.2829787E-9, 1.8489308E-7, 3.7633445E-8, 4.3101283E-9, 2.3912925E-8, 3.02324E-8, 2.267893E-9, 5.456615E-7, 7.249279...|\n",
      "|[3.5451774E-7, 2.3268E-4, 2.9056871E-5, 1.49386E-4, 1.8703255E-5, 1.3074807E-5, 8.654646E-6, 1.4841916E-5, 1.8499695E...|\n",
      "|[3.6689412E-9, 1.0040726E-8, 6.432416E-9, 8.62313E-10, 6.7823454E-9, 9.332193E-9, 1.8089488E-9, 1.2406666E-7, 3.55355...|\n",
      "|[1.8749513E-7, 1.1665723E-5, 1.7849491E-6, 4.8863734E-7, 2.213287E-6, 2.9859677E-6, 1.7849422E-6, 1.0097575E-5, 1.368...|\n",
      "|[3.187984E-8, 1.4663496E-7, 6.798407E-8, 1.5187707E-8, 9.207511E-8, 5.4303655E-8, 3.0846167E-7, 3.5410562E-7, 6.12362...|\n",
      "|[4.2469413E-11, 2.2958825E-7, 9.688438E-10, 5.610319E-10, 2.2830464E-9, 2.5311698E-8, 1.3554642E-10, 1.4296842E-8, 1....|\n",
      "|[2.609092E-7, 1.3703311E-6, 5.876013E-9, 5.5957767E-9, 1.5732828E-8, 1.3891422E-7, 2.1135436E-9, 4.4238305E-7, 2.0439...|\n",
      "|[2.1731903E-8, 2.1414764E-6, 9.506796E-7, 8.141716E-8, 3.343631E-7, 1.2364772E-7, 2.425057E-7, 3.3522822E-6, 9.639319...|\n",
      "|[2.8696255E-7, 3.585532E-6, 9.756256E-9, 1.9450496E-7, 2.0992066E-7, 3.9193253E-7, 5.105579E-8, 4.3490016E-7, 3.03531...|\n",
      "|[2.554891E-7, 1.5070128E-6, 3.116899E-8, 8.711462E-9, 1.47582E-7, 6.1535765E-8, 4.724081E-8, 4.9208495E-7, 7.679899E-...|\n",
      "|[1.1920478E-7, 6.0396155E-6, 2.340353E-9, 5.969331E-8, 2.6870615E-7, 5.949681E-7, 1.474773E-7, 9.533585E-7, 5.597412E...|\n",
      "|[2.2335659E-8, 8.011242E-8, 5.801916E-10, 3.9566914E-10, 4.592603E-9, 8.788145E-8, 3.2570516E-10, 1.2002283E-7, 9.309...|\n",
      "|[4.7532823E-5, 3.952846E-5, 1.7221522E-5, 1.6192662E-5, 6.7219145E-5, 1.4618126E-5, 9.68402E-6, 1.0041938E-5, 7.09391...|\n",
      "|[2.7601607E-7, 6.935348E-6, 3.0331495E-7, 2.4106922E-7, 4.9052564E-6, 1.39965405E-5, 1.7049595E-7, 1.7787353E-5, 7.32...|\n",
      "+------------------------------------------------------------------------------------------------------------------------+\n",
      "only showing top 20 rows\n",
      "\n",
      "CPU times: user 23.4 ms, sys: 9.86 ms, total: 33.3 ms\n",
      "Wall time: 21.4 s\n"
     ]
    },
    {
     "name": "stderr",
     "output_type": "stream",
     "text": [
      "                                                                                \r"
     ]
    }
   ],
   "source": [
    "%%time\n",
    "# first pass caches model/fn\n",
    "predictions = df.select(classify(struct(\"data\")).alias(\"prediction\"))\n",
    "predictions.show(truncate=120)"
   ]
  },
  {
   "cell_type": "code",
   "execution_count": 16,
   "id": "5f66d468-e0b1-4589-8606-b3848063a823",
   "metadata": {},
   "outputs": [
    {
     "name": "stderr",
     "output_type": "stream",
     "text": [
      "[Stage 12:===========================================>              (3 + 1) / 4]\r"
     ]
    },
    {
     "name": "stdout",
     "output_type": "stream",
     "text": [
      "+------------------------------------------------------------------------------------------------------------------------+\n",
      "|                                                                                                              prediction|\n",
      "+------------------------------------------------------------------------------------------------------------------------+\n",
      "|[6.4777983E-9, 1.787217E-8, 7.27957E-10, 1.1195098E-10, 4.7718585E-9, 2.2652472E-8, 3.2040448E-10, 1.13977954E-7, 1.2...|\n",
      "|[4.2566944E-10, 1.0429931E-9, 3.1048858E-11, 1.3663224E-11, 9.3627994E-11, 1.0263492E-9, 6.2724812E-12, 3.2900733E-9,...|\n",
      "|[7.1691495E-5, 8.1117876E-5, 0.15237713, 8.1237726E-4, 8.899618E-4, 1.0989283E-4, 9.963506E-5, 1.1444715E-4, 3.256448...|\n",
      "|[7.679645E-6, 1.7415865E-4, 1.174867E-4, 1.8534028E-4, 4.1030458E-4, 3.4822477E-4, 1.0406363E-4, 1.8675773E-5, 6.0876...|\n",
      "|[1.9293384E-6, 3.6838614E-5, 4.2906802E-5, 1.1497222E-5, 1.7081112E-4, 7.178052E-5, 2.9466406E-4, 6.8933114E-6, 2.149...|\n",
      "|[9.316723E-6, 1.8623994E-4, 1.9128354E-6, 3.619831E-5, 1.316567E-4, 1.9704681E-5, 8.672293E-5, 5.3612705E-5, 1.410548...|\n",
      "|[2.2794824E-9, 1.8482801E-7, 3.7545863E-8, 4.3008686E-9, 2.3869019E-8, 3.0181035E-8, 2.2633055E-9, 5.447946E-7, 7.236...|\n",
      "|[3.5448207E-7, 2.3264937E-4, 2.8996319E-5, 1.4926857E-4, 1.8702229E-5, 1.3068979E-5, 8.659529E-6, 1.4822984E-5, 1.850...|\n",
      "|[3.6665113E-9, 1.0032851E-8, 6.4283645E-9, 8.6201973E-10, 6.7768458E-9, 9.330195E-9, 1.8093929E-9, 1.2396286E-7, 3.54...|\n",
      "|[1.8723904E-7, 1.16426145E-5, 1.7812246E-6, 4.87681E-7, 2.2091785E-6, 2.9794076E-6, 1.7807271E-6, 1.0089409E-5, 1.368...|\n",
      "|[3.1757075E-8, 1.4626112E-7, 6.7777314E-8, 1.5150041E-8, 9.1832575E-8, 5.4123326E-8, 3.074049E-7, 3.5308128E-7, 6.109...|\n",
      "|[4.254585E-11, 2.2998701E-7, 9.688305E-10, 5.6247174E-10, 2.284352E-9, 2.5361269E-8, 1.3580125E-10, 1.4311267E-8, 1.2...|\n",
      "|[2.6117033E-7, 1.3720073E-6, 5.8747913E-9, 5.6004428E-9, 1.5738227E-8, 1.3891315E-7, 2.1143216E-9, 4.4255432E-7, 2.04...|\n",
      "|[2.1750274E-8, 2.140719E-6, 9.507077E-7, 8.147884E-8, 3.3439213E-7, 1.2364961E-7, 2.4269545E-7, 3.3490198E-6, 9.63832...|\n",
      "|[2.859796E-7, 3.5791338E-6, 9.717563E-9, 1.9395742E-7, 2.0927105E-7, 3.9107795E-7, 5.09027E-8, 4.3392663E-7, 3.027641...|\n",
      "|[2.565466E-7, 1.5113596E-6, 3.1280667E-8, 8.756375E-9, 1.4811812E-7, 6.175577E-8, 4.7475133E-8, 4.9363433E-7, 7.70978...|\n",
      "|[1.193599E-7, 6.05499E-6, 2.346545E-9, 5.9906306E-8, 2.6939372E-7, 5.9696464E-7, 1.4790362E-7, 9.545136E-7, 5.603211E...|\n",
      "|[2.2295431E-8, 7.995441E-8, 5.7895444E-10, 3.9482018E-10, 4.582216E-9, 8.769608E-8, 3.249313E-10, 1.1986769E-7, 9.292...|\n",
      "|[4.7445872E-5, 3.945272E-5, 1.7172468E-5, 1.6146047E-5, 6.713004E-5, 1.4584582E-5, 9.669652E-6, 1.0017471E-5, 7.07379...|\n",
      "|[2.754274E-7, 6.915418E-6, 3.025088E-7, 2.402394E-7, 4.8939123E-6, 1.3958621E-5, 1.7010102E-7, 1.7730588E-5, 7.307404...|\n",
      "+------------------------------------------------------------------------------------------------------------------------+\n",
      "only showing top 20 rows\n",
      "\n",
      "CPU times: user 19 ms, sys: 0 ns, total: 19 ms\n",
      "Wall time: 14.5 s\n"
     ]
    },
    {
     "name": "stderr",
     "output_type": "stream",
     "text": [
      "                                                                                \r"
     ]
    }
   ],
   "source": [
    "%%time\n",
    "predictions = df.select(classify(\"data\").alias(\"prediction\"))\n",
    "predictions.show(truncate=120)"
   ]
  },
  {
   "cell_type": "code",
   "execution_count": 17,
   "id": "632c4c3a-fa52-4c3d-b71e-7526286e353a",
   "metadata": {},
   "outputs": [
    {
     "name": "stderr",
     "output_type": "stream",
     "text": [
      "[Stage 14:===========================================>              (3 + 1) / 4]\r"
     ]
    },
    {
     "name": "stdout",
     "output_type": "stream",
     "text": [
      "+------------------------------------------------------------------------------------------------------------------------+\n",
      "|                                                                                                              prediction|\n",
      "+------------------------------------------------------------------------------------------------------------------------+\n",
      "|[6.4777983E-9, 1.787217E-8, 7.27957E-10, 1.1195098E-10, 4.7718585E-9, 2.2652472E-8, 3.2040448E-10, 1.13977954E-7, 1.2...|\n",
      "|[4.2566944E-10, 1.0429931E-9, 3.1048858E-11, 1.3663224E-11, 9.3627994E-11, 1.0263492E-9, 6.2724812E-12, 3.2900733E-9,...|\n",
      "|[7.1691495E-5, 8.1117876E-5, 0.15237713, 8.1237726E-4, 8.899618E-4, 1.0989283E-4, 9.963506E-5, 1.1444715E-4, 3.256448...|\n",
      "|[7.679645E-6, 1.7415865E-4, 1.174867E-4, 1.8534028E-4, 4.1030458E-4, 3.4822477E-4, 1.0406363E-4, 1.8675773E-5, 6.0876...|\n",
      "|[1.9293384E-6, 3.6838614E-5, 4.2906802E-5, 1.1497222E-5, 1.7081112E-4, 7.178052E-5, 2.9466406E-4, 6.8933114E-6, 2.149...|\n",
      "|[9.316723E-6, 1.8623994E-4, 1.9128354E-6, 3.619831E-5, 1.316567E-4, 1.9704681E-5, 8.672293E-5, 5.3612705E-5, 1.410548...|\n",
      "|[2.2794824E-9, 1.8482801E-7, 3.7545863E-8, 4.3008686E-9, 2.3869019E-8, 3.0181035E-8, 2.2633055E-9, 5.447946E-7, 7.236...|\n",
      "|[3.5448207E-7, 2.3264937E-4, 2.8996319E-5, 1.4926857E-4, 1.8702229E-5, 1.3068979E-5, 8.659529E-6, 1.4822984E-5, 1.850...|\n",
      "|[3.6665113E-9, 1.0032851E-8, 6.4283645E-9, 8.6201973E-10, 6.7768458E-9, 9.330195E-9, 1.8093929E-9, 1.2396286E-7, 3.54...|\n",
      "|[1.8723904E-7, 1.16426145E-5, 1.7812246E-6, 4.87681E-7, 2.2091785E-6, 2.9794076E-6, 1.7807271E-6, 1.0089409E-5, 1.368...|\n",
      "|[3.1757075E-8, 1.4626112E-7, 6.7777314E-8, 1.5150041E-8, 9.1832575E-8, 5.4123326E-8, 3.074049E-7, 3.5308128E-7, 6.109...|\n",
      "|[4.254585E-11, 2.2998701E-7, 9.688305E-10, 5.6247174E-10, 2.284352E-9, 2.5361269E-8, 1.3580125E-10, 1.4311267E-8, 1.2...|\n",
      "|[2.6117033E-7, 1.3720073E-6, 5.8747913E-9, 5.6004428E-9, 1.5738227E-8, 1.3891315E-7, 2.1143216E-9, 4.4255432E-7, 2.04...|\n",
      "|[2.1750274E-8, 2.140719E-6, 9.507077E-7, 8.147884E-8, 3.3439213E-7, 1.2364961E-7, 2.4269545E-7, 3.3490198E-6, 9.63832...|\n",
      "|[2.859796E-7, 3.5791338E-6, 9.717563E-9, 1.9395742E-7, 2.0927105E-7, 3.9107795E-7, 5.09027E-8, 4.3392663E-7, 3.027641...|\n",
      "|[2.565466E-7, 1.5113596E-6, 3.1280667E-8, 8.756375E-9, 1.4811812E-7, 6.175577E-8, 4.7475133E-8, 4.9363433E-7, 7.70978...|\n",
      "|[1.193599E-7, 6.05499E-6, 2.346545E-9, 5.9906306E-8, 2.6939372E-7, 5.9696464E-7, 1.4790362E-7, 9.545136E-7, 5.603211E...|\n",
      "|[2.2295431E-8, 7.995441E-8, 5.7895444E-10, 3.9482018E-10, 4.582216E-9, 8.769608E-8, 3.249313E-10, 1.1986769E-7, 9.292...|\n",
      "|[4.7445872E-5, 3.945272E-5, 1.7172468E-5, 1.6146047E-5, 6.713004E-5, 1.4584582E-5, 9.669652E-6, 1.0017471E-5, 7.07379...|\n",
      "|[2.754274E-7, 6.915418E-6, 3.025088E-7, 2.402394E-7, 4.8939123E-6, 1.3958621E-5, 1.7010102E-7, 1.7730588E-5, 7.307404...|\n",
      "+------------------------------------------------------------------------------------------------------------------------+\n",
      "only showing top 20 rows\n",
      "\n",
      "CPU times: user 17.1 ms, sys: 3.09 ms, total: 20.2 ms\n",
      "Wall time: 14.5 s\n"
     ]
    },
    {
     "name": "stderr",
     "output_type": "stream",
     "text": [
      "                                                                                \r"
     ]
    }
   ],
   "source": [
    "%%time\n",
    "# first pass caches model/fn\n",
    "predictions = df.select(classify(col(\"data\")).alias(\"prediction\"))\n",
    "predictions.show(truncate=120)"
   ]
  },
  {
   "cell_type": "markdown",
   "id": "4dc06b7e-f750-40b5-9208-a035db11d937",
   "metadata": {
    "tags": []
   },
   "source": [
    "#### Stop Triton Server on each executor"
   ]
  },
  {
   "cell_type": "code",
   "execution_count": 18,
   "id": "bbfcaa51-3b9f-43ff-a4a8-4b46766115b8",
   "metadata": {},
   "outputs": [
    {
     "name": "stderr",
     "output_type": "stream",
     "text": [
      "                                                                                \r"
     ]
    },
    {
     "data": {
      "text/plain": [
       "[True]"
      ]
     },
     "execution_count": 18,
     "metadata": {},
     "output_type": "execute_result"
    }
   ],
   "source": [
    "def stop_triton(it):\n",
    "    import docker\n",
    "    import time\n",
    "    \n",
    "    client=docker.from_env()\n",
    "    containers=client.containers.list(filters={\"name\": \"spark-triton\"})\n",
    "    print(\">>>> stopping containers: {}\".format([c.short_id for c in containers]))\n",
    "    if containers:\n",
    "        container=containers[0]\n",
    "        container.stop(timeout=120)\n",
    "\n",
    "    return [True]\n",
    "\n",
    "nodeRDD.mapPartitions(stop_triton).collect()"
   ]
  },
  {
   "cell_type": "code",
   "execution_count": 19,
   "id": "0d88639b-d934-4eb4-ae2f-cc13b9b10456",
   "metadata": {},
   "outputs": [],
   "source": [
    "spark.stop()"
   ]
  },
  {
   "cell_type": "code",
   "execution_count": null,
   "id": "df8cc28a-34d7-479c-be7e-9a380d39e25e",
   "metadata": {},
   "outputs": [],
   "source": []
  }
 ],
 "metadata": {
  "kernelspec": {
   "display_name": "Python 3 (ipykernel)",
   "language": "python",
   "name": "python3"
  },
  "language_info": {
   "codemirror_mode": {
    "name": "ipython",
    "version": 3
   },
   "file_extension": ".py",
   "mimetype": "text/x-python",
   "name": "python",
   "nbconvert_exporter": "python",
   "pygments_lexer": "ipython3",
   "version": "3.9.10"
  }
 },
 "nbformat": 4,
 "nbformat_minor": 5
}
