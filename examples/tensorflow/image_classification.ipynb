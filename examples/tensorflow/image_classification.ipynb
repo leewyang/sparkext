{
 "cells": [
  {
   "cell_type": "markdown",
   "id": "52d55e3f",
   "metadata": {},
   "source": [
    "# Pyspark TensorFlow Inference\n",
    "\n",
    "## Image classification\n",
    "Based on: https://www.tensorflow.org/tutorials/keras/save_and_load"
   ]
  },
  {
   "cell_type": "code",
   "execution_count": null,
   "id": "c8b28f02",
   "metadata": {},
   "outputs": [],
   "source": [
    "import matplotlib.pyplot as plt\n",
    "import numpy as np\n",
    "import subprocess\n",
    "import tensorflow as tf\n",
    "\n",
    "from tensorflow import keras\n",
    "\n",
    "print(tf.version.VERSION)"
   ]
  },
  {
   "cell_type": "markdown",
   "id": "7e0c7ad6",
   "metadata": {},
   "source": [
    "### Load and preprocess dataset"
   ]
  },
  {
   "cell_type": "code",
   "execution_count": null,
   "id": "5b007f7c",
   "metadata": {},
   "outputs": [],
   "source": [
    "# load dataset as numpy arrays\n",
    "(train_images, train_labels), (test_images, test_labels) = tf.keras.datasets.mnist.load_data()\n",
    "train_images.shape, test_images.shape"
   ]
  },
  {
   "cell_type": "code",
   "execution_count": null,
   "id": "7b7cedd1",
   "metadata": {},
   "outputs": [],
   "source": [
    "# flatten and normalize\n",
    "train_images = train_images.reshape(-1, 784) / 255.0\n",
    "test_images = test_images.reshape(-1, 784) / 255.0"
   ]
  },
  {
   "cell_type": "code",
   "execution_count": null,
   "id": "e77bfbd7",
   "metadata": {},
   "outputs": [],
   "source": [
    "train_images.shape, test_images.shape"
   ]
  },
  {
   "cell_type": "markdown",
   "id": "867a4403",
   "metadata": {},
   "source": [
    "### Define a model"
   ]
  },
  {
   "cell_type": "code",
   "execution_count": null,
   "id": "746d94db",
   "metadata": {},
   "outputs": [],
   "source": [
    "# Define a simple sequential model\n",
    "def create_model():\n",
    "    model = tf.keras.models.Sequential([\n",
    "        keras.layers.Dense(512, activation='relu', input_shape=(784,)),\n",
    "        keras.layers.Dropout(0.2),\n",
    "        keras.layers.Dense(10)\n",
    "    ])\n",
    "\n",
    "    model.compile(optimizer='adam',\n",
    "                    loss=tf.losses.SparseCategoricalCrossentropy(from_logits=True),\n",
    "                    metrics=[tf.metrics.SparseCategoricalAccuracy()])\n",
    "\n",
    "    return model\n",
    "\n",
    "# Create a basic model instance\n",
    "model = create_model()\n",
    "\n",
    "# Display the model's architecture\n",
    "model.summary()"
   ]
  },
  {
   "cell_type": "markdown",
   "id": "605d082a",
   "metadata": {},
   "source": [
    "### Train model"
   ]
  },
  {
   "cell_type": "code",
   "execution_count": null,
   "id": "244746be",
   "metadata": {},
   "outputs": [],
   "source": [
    "model.fit(train_images, \n",
    "          train_labels,  \n",
    "          epochs=5,\n",
    "          validation_data=(test_images, test_labels))"
   ]
  },
  {
   "cell_type": "code",
   "execution_count": null,
   "id": "6d3bba9e",
   "metadata": {},
   "outputs": [],
   "source": [
    "test_img = test_images[:1]\n",
    "model.predict(test_img)"
   ]
  },
  {
   "cell_type": "code",
   "execution_count": null,
   "id": "e700b66a",
   "metadata": {},
   "outputs": [],
   "source": [
    "plt.figure()\n",
    "plt.imshow(test_img.reshape(28,28))\n",
    "plt.show()"
   ]
  },
  {
   "cell_type": "markdown",
   "id": "135b42b0",
   "metadata": {},
   "source": [
    "### Save Model"
   ]
  },
  {
   "cell_type": "code",
   "execution_count": null,
   "id": "33f11a35",
   "metadata": {},
   "outputs": [],
   "source": [
    "subprocess.call(\"rm -rf mnist_model\".split())"
   ]
  },
  {
   "cell_type": "code",
   "execution_count": null,
   "id": "86f9376d",
   "metadata": {},
   "outputs": [],
   "source": [
    "model.save('mnist_model')"
   ]
  },
  {
   "cell_type": "markdown",
   "id": "43a417c6",
   "metadata": {},
   "source": [
    "### Inspect saved model"
   ]
  },
  {
   "cell_type": "code",
   "execution_count": null,
   "id": "53a8ba4a",
   "metadata": {},
   "outputs": [],
   "source": [
    "subprocess.call(\"tree mnist_model\".split())"
   ]
  },
  {
   "cell_type": "code",
   "execution_count": null,
   "id": "677e377a",
   "metadata": {},
   "outputs": [],
   "source": [
    "subprocess.call(\"saved_model_cli show --dir mnist_model --tag_set serve --signature_def serving_default\".split())"
   ]
  },
  {
   "cell_type": "markdown",
   "id": "6f013a4b",
   "metadata": {},
   "source": [
    "### Load model"
   ]
  },
  {
   "cell_type": "code",
   "execution_count": null,
   "id": "c41008f2",
   "metadata": {},
   "outputs": [],
   "source": [
    "new_model = tf.keras.models.load_model('mnist_model')\n",
    "new_model.summary()"
   ]
  },
  {
   "cell_type": "code",
   "execution_count": null,
   "id": "256662e8-30f1-437f-88b7-4534a7e76907",
   "metadata": {},
   "outputs": [],
   "source": [
    "new_model.inputs"
   ]
  },
  {
   "cell_type": "markdown",
   "id": "351c7b84",
   "metadata": {},
   "source": [
    "### Predict"
   ]
  },
  {
   "cell_type": "code",
   "execution_count": null,
   "id": "5dbeeb98",
   "metadata": {},
   "outputs": [],
   "source": [
    "new_model.predict(test_images[:1])"
   ]
  },
  {
   "cell_type": "markdown",
   "id": "a86f4700",
   "metadata": {},
   "source": [
    "## PySpark"
   ]
  },
  {
   "cell_type": "code",
   "execution_count": null,
   "id": "7fcf07bb",
   "metadata": {},
   "outputs": [],
   "source": [
    "import pandas as pd\n",
    "\n",
    "# from pyspark.sql.functions import col, pandas_udf, PandasUDFType\n",
    "# from pyspark.sql.types import *"
   ]
  },
  {
   "cell_type": "markdown",
   "id": "c81d0b1b",
   "metadata": {},
   "source": [
    "### Convert numpy array to Spark DataFrame (via Pandas DataFrame)"
   ]
  },
  {
   "cell_type": "code",
   "execution_count": null,
   "id": "49ff5203",
   "metadata": {},
   "outputs": [],
   "source": [
    "# numpy array to pandas DataFrame\n",
    "test_pdf = pd.DataFrame(test_images)\n",
    "test_pdf.shape"
   ]
  },
  {
   "cell_type": "code",
   "execution_count": null,
   "id": "182ee0c7",
   "metadata": {},
   "outputs": [],
   "source": [
    "%%time\n",
    "# 784 columns of float\n",
    "df = spark.createDataFrame(test_pdf)"
   ]
  },
  {
   "cell_type": "code",
   "execution_count": null,
   "id": "302c73ec",
   "metadata": {},
   "outputs": [],
   "source": [
    "%%time\n",
    "# 1 column of array<float>\n",
    "test_pdf['data'] = test_pdf.values.tolist()\n",
    "pdf = test_pdf[['data']]\n",
    "pdf.shape"
   ]
  },
  {
   "cell_type": "code",
   "execution_count": null,
   "id": "5495901b",
   "metadata": {},
   "outputs": [],
   "source": [
    "%%time\n",
    "df = spark.createDataFrame(pdf).repartition(10)"
   ]
  },
  {
   "cell_type": "markdown",
   "id": "72b1c901",
   "metadata": {},
   "source": [
    "### Save the test dataset as parquet files"
   ]
  },
  {
   "cell_type": "code",
   "execution_count": null,
   "id": "57c0ced6",
   "metadata": {},
   "outputs": [],
   "source": [
    "df.write.mode(\"overwrite\").parquet(\"mnist_test\")"
   ]
  },
  {
   "cell_type": "markdown",
   "id": "c87b444e",
   "metadata": {},
   "source": [
    "### Check arrow memory configuration"
   ]
  },
  {
   "cell_type": "code",
   "execution_count": null,
   "id": "3d4ca414",
   "metadata": {},
   "outputs": [],
   "source": [
    "spark.conf.set(\"spark.sql.execution.arrow.maxRecordsPerBatch\", \"128\")\n",
    "# This line will fail if the vectorized reader runs out of memory\n",
    "assert len(df.head()) > 0, \"`df` should not be empty\" "
   ]
  },
  {
   "cell_type": "markdown",
   "id": "f7f6569d",
   "metadata": {},
   "source": [
    "## Inference using Spark ML Model\n",
    "Note: you can restart the kernel and run from this point to simulate running in a different node or environment."
   ]
  },
  {
   "cell_type": "code",
   "execution_count": null,
   "id": "fcc8e1d0",
   "metadata": {},
   "outputs": [],
   "source": [
    "import sparkext"
   ]
  },
  {
   "cell_type": "code",
   "execution_count": null,
   "id": "a2556886",
   "metadata": {},
   "outputs": [],
   "source": [
    "df = spark.read.parquet(\"mnist_test\")"
   ]
  },
  {
   "cell_type": "code",
   "execution_count": null,
   "id": "87d28256",
   "metadata": {},
   "outputs": [],
   "source": [
    "model = sparkext.tensorflow.Model(\"mnist_model\") \\\n",
    "            .setInputCol(\"data\") \\\n",
    "            .setOutputCol(\"preds\")"
   ]
  },
  {
   "cell_type": "code",
   "execution_count": null,
   "id": "d8e7805f",
   "metadata": {},
   "outputs": [],
   "source": [
    "predictions = model.transform(df)"
   ]
  },
  {
   "cell_type": "code",
   "execution_count": null,
   "id": "83dcb64f",
   "metadata": {},
   "outputs": [],
   "source": [
    "predictions.write.mode(\"overwrite\").parquet(\"mnist_predictions\")"
   ]
  },
  {
   "cell_type": "markdown",
   "id": "a12653e5",
   "metadata": {},
   "source": [
    "### Check predictions"
   ]
  },
  {
   "cell_type": "code",
   "execution_count": null,
   "id": "413c4de6-f2b3-486c-85e1-6a1f7543a39a",
   "metadata": {},
   "outputs": [],
   "source": [
    "import matplotlib.pyplot as plt\n",
    "import numpy as np"
   ]
  },
  {
   "cell_type": "code",
   "execution_count": null,
   "id": "4be4d975",
   "metadata": {},
   "outputs": [],
   "source": [
    "%%time\n",
    "preds = predictions.collect()"
   ]
  },
  {
   "cell_type": "code",
   "execution_count": null,
   "id": "8c3a8538-7759-4cfe-9454-dbcd14a14552",
   "metadata": {},
   "outputs": [],
   "source": [
    "preds[0].preds"
   ]
  },
  {
   "cell_type": "code",
   "execution_count": null,
   "id": "01d6c4cd",
   "metadata": {},
   "outputs": [],
   "source": [
    "img = preds[0].data\n",
    "img = np.array(img).reshape(28,28)"
   ]
  },
  {
   "cell_type": "code",
   "execution_count": null,
   "id": "2a47ce14",
   "metadata": {},
   "outputs": [],
   "source": [
    "plt.figure()\n",
    "plt.imshow(img)\n",
    "plt.show()"
   ]
  },
  {
   "cell_type": "markdown",
   "id": "8eb875a3-f790-42e1-97d4-3d5b49387bd6",
   "metadata": {},
   "source": [
    "## Inference using Spark DL UDF\n",
    "Note: you can restart the kernel and run from this point to simulate running in a different node or environment."
   ]
  },
  {
   "cell_type": "code",
   "execution_count": null,
   "id": "2058354e-13ae-4899-8e2d-fe75d7e6bf3f",
   "metadata": {},
   "outputs": [],
   "source": [
    "from pyspark.sql.functions import col"
   ]
  },
  {
   "cell_type": "code",
   "execution_count": null,
   "id": "b9d3bb89-cd12-4b51-9b45-2ef96602a110",
   "metadata": {},
   "outputs": [],
   "source": [
    "df = spark.read.parquet(\"mnist_test\")"
   ]
  },
  {
   "cell_type": "code",
   "execution_count": null,
   "id": "b9ec612c-0664-4fa7-ae85-e4c39cd348b2",
   "metadata": {},
   "outputs": [],
   "source": [
    "df.schema"
   ]
  },
  {
   "cell_type": "code",
   "execution_count": null,
   "id": "b04bfeec-2de5-4813-a7be-6ed51ba44dbd",
   "metadata": {},
   "outputs": [],
   "source": [
    "from sparkext.tensorflow import model_udf"
   ]
  },
  {
   "cell_type": "code",
   "execution_count": null,
   "id": "168de22f-3033-4db7-ba51-8b9199735034",
   "metadata": {},
   "outputs": [],
   "source": [
    "mnist = model_udf(\"mnist_model\", batch_size=500)"
   ]
  },
  {
   "cell_type": "code",
   "execution_count": null,
   "id": "23e14e8f-396a-42ba-8866-00f64002d180",
   "metadata": {},
   "outputs": [],
   "source": [
    "%%time\n",
    "preds = df.withColumn(\"preds\", mnist(col(\"data\"))).collect()"
   ]
  },
  {
   "cell_type": "markdown",
   "id": "8cf962b0-1677-439c-9daf-f7da91902468",
   "metadata": {},
   "source": [
    "## Inference using Triton UDF\n",
    "Note: you can restart the kernel and run from this point to simulate running in a different node or environment."
   ]
  },
  {
   "cell_type": "code",
   "execution_count": null,
   "id": "9816c4d3-e14b-4212-b732-957d16737b8b",
   "metadata": {},
   "outputs": [],
   "source": [
    "from pyspark.sql.functions import col"
   ]
  },
  {
   "cell_type": "code",
   "execution_count": null,
   "id": "cad350db-e779-4a26-8774-c2fdb56d9f9d",
   "metadata": {},
   "outputs": [],
   "source": [
    "df = spark.read.parquet(\"mnist_test\")"
   ]
  },
  {
   "cell_type": "code",
   "execution_count": null,
   "id": "2f1de0d8-1033-4b7d-97fa-282a65cb4e0b",
   "metadata": {},
   "outputs": [],
   "source": [
    "df.schema"
   ]
  },
  {
   "cell_type": "code",
   "execution_count": null,
   "id": "3ac1b4e0-bd2c-4c88-bbfe-32edfbe36893",
   "metadata": {},
   "outputs": [],
   "source": [
    "from sparkext.triton.udf import model_udf"
   ]
  },
  {
   "cell_type": "code",
   "execution_count": null,
   "id": "260f5da2-e444-4fca-a8bc-5e05cae510eb",
   "metadata": {},
   "outputs": [],
   "source": [
    "mnist = model_udf(\"localhost:8001\", \"mnist_model\", batch_size=4)"
   ]
  },
  {
   "cell_type": "code",
   "execution_count": null,
   "id": "91002ad3-66eb-4127-8409-04fb8c328a04",
   "metadata": {},
   "outputs": [],
   "source": [
    "%%time\n",
    "preds = df.withColumn(\"preds\", mnist(col(\"data\"))).collect()"
   ]
  },
  {
   "cell_type": "markdown",
   "id": "f5b4b24c-c188-4b6d-adf5-44182be6f181",
   "metadata": {
    "tags": []
   },
   "source": [
    "### Check predictions"
   ]
  },
  {
   "cell_type": "code",
   "execution_count": null,
   "id": "94edf3b7-7598-40b4-92a3-410d5c0ee0ce",
   "metadata": {},
   "outputs": [],
   "source": [
    "preds[0].preds"
   ]
  },
  {
   "cell_type": "code",
   "execution_count": null,
   "id": "2bbc483c-8fcd-40d2-9c04-85b74301615e",
   "metadata": {},
   "outputs": [],
   "source": [
    "import matplotlib.pyplot as plt\n",
    "import numpy as np"
   ]
  },
  {
   "cell_type": "code",
   "execution_count": null,
   "id": "87bfc410-d79d-4b30-bd60-90a9d68570c3",
   "metadata": {},
   "outputs": [],
   "source": [
    "img = preds[0].data\n",
    "img = np.array(img).reshape(28,28)"
   ]
  },
  {
   "cell_type": "code",
   "execution_count": null,
   "id": "643c9b37-972b-4629-85f9-604f2dc3ce8e",
   "metadata": {},
   "outputs": [],
   "source": [
    "plt.figure()\n",
    "plt.imshow(img)\n",
    "plt.show()"
   ]
  },
  {
   "cell_type": "markdown",
   "id": "7efb60c6-3437-4996-bf39-449e489b1067",
   "metadata": {},
   "source": [
    "## Inference using MLFlow Spark UDF"
   ]
  },
  {
   "cell_type": "markdown",
   "id": "b48fa283-e542-424c-81ae-eca904a75c28",
   "metadata": {},
   "source": [
    "### Save as MLFlow Model\n",
    "Manual signature (with input names).  This is currently the only working solution, since inferred signatures do not work."
   ]
  },
  {
   "cell_type": "code",
   "execution_count": null,
   "id": "9d7bf816-b5ab-426a-8f12-df4300bd0049",
   "metadata": {},
   "outputs": [],
   "source": [
    "import mlflow\n",
    "import numpy as np\n",
    "import subprocess\n",
    "import tensorflow as tf"
   ]
  },
  {
   "cell_type": "code",
   "execution_count": null,
   "id": "8fe32094-86d2-40c5-a592-8deb29415ae5",
   "metadata": {},
   "outputs": [],
   "source": [
    "from mlflow.models.signature import infer_signature, ModelSignature\n",
    "from mlflow.types.schema import Schema, TensorSpec"
   ]
  },
  {
   "cell_type": "code",
   "execution_count": null,
   "id": "25830d1e-096e-4ea1-99eb-f113902a1519",
   "metadata": {},
   "outputs": [],
   "source": [
    "model = tf.keras.models.load_model(\"mnist_model\")"
   ]
  },
  {
   "cell_type": "code",
   "execution_count": null,
   "id": "690ad0ec-8546-4b34-92fb-921190b99866",
   "metadata": {},
   "outputs": [],
   "source": [
    "input_schema = Schema([TensorSpec(np.dtype(np.float32), (-1, 784), \"dense_input\")])\n",
    "output_schema = Schema([TensorSpec(np.dtype(np.float32), (-1, 10), \"dense_1\")])\n",
    "signature = ModelSignature(inputs=input_schema, outputs=output_schema)\n",
    "signature"
   ]
  },
  {
   "cell_type": "code",
   "execution_count": null,
   "id": "74a43ac3-7670-4120-a7cd-66b0e4a8c69e",
   "metadata": {},
   "outputs": [],
   "source": [
    "subprocess.call(\"rm -rf mnist_mlflow_manual\".split())\n",
    "mlflow.tensorflow.save_model(tf_saved_model_dir=\"mnist_model\", \n",
    "                             tf_meta_graph_tags=[\"serve\"], \n",
    "                             tf_signature_def_key=\"serving_default\",\n",
    "                             signature=signature,\n",
    "                             conda_env=\"conda.yml\",\n",
    "                             path=\"mnist_mlflow_manual\")"
   ]
  },
  {
   "cell_type": "markdown",
   "id": "4d6469a1-7058-4258-8be8-6ad9611ea5b4",
   "metadata": {},
   "source": [
    "### Using (modified) mlflow.pyfunc.spark_udf"
   ]
  },
  {
   "cell_type": "code",
   "execution_count": null,
   "id": "201c8209-4f4b-453c-b6d3-ced91ef59335",
   "metadata": {},
   "outputs": [],
   "source": [
    "import mlflow\n",
    "from pyspark.sql.functions import struct, col\n",
    "from pyspark.sql.types import *"
   ]
  },
  {
   "cell_type": "code",
   "execution_count": null,
   "id": "3fc96ac0-fd2a-4eea-a237-09398635f6fc",
   "metadata": {},
   "outputs": [],
   "source": [
    "df = spark.read.parquet(\"mnist_test\")\n",
    "df = df.withColumn('dense_input',df['data'].cast(\"array<float>\"))"
   ]
  },
  {
   "cell_type": "code",
   "execution_count": null,
   "id": "2af787ec-658b-434a-9599-3da964bd7b9b",
   "metadata": {},
   "outputs": [],
   "source": [
    "df.schema"
   ]
  },
  {
   "cell_type": "code",
   "execution_count": null,
   "id": "a4018150-4b0b-4f93-9558-4f7c6b806743",
   "metadata": {},
   "outputs": [],
   "source": [
    "# mnist = mlflow.pyfunc.spark_udf(spark, model_uri=\"mnist_mlflow_manual\", result_type=\"array<float>\")\n",
    "mnist = mlflow.pyfunc.spark_udf(spark, model_uri=\"mnist_mlflow_manual\", result_type=\"array<float>\", env_manager=\"conda\")"
   ]
  },
  {
   "cell_type": "code",
   "execution_count": null,
   "id": "31c5e6c2-1ee3-497e-9e9f-02e3f5b90774",
   "metadata": {},
   "outputs": [],
   "source": [
    "mnist.metadata.signature"
   ]
  },
  {
   "cell_type": "code",
   "execution_count": null,
   "id": "9d8331d5-1fbc-4a51-a01d-a9113a551f5c",
   "metadata": {},
   "outputs": [],
   "source": [
    "%%time\n",
    "preds = df.withColumn(\"preds\", mnist(col(\"dense_input\"))).collect()"
   ]
  },
  {
   "cell_type": "code",
   "execution_count": null,
   "id": "660ecf2e-f41b-4b67-891c-73bcf00986cf",
   "metadata": {},
   "outputs": [],
   "source": [
    "import time\n",
    "\n",
    "t = time.localtime()\n",
    "current_time = time.strftime(\"%H:%M:%S\", t)\n",
    "print(current_time)"
   ]
  },
  {
   "cell_type": "code",
   "execution_count": null,
   "id": "7eaad56b-699c-42bf-8a37-88d985f53474",
   "metadata": {},
   "outputs": [],
   "source": [
    "%%time\n",
    "preds = df.withColumn(\"preds\", mnist(col(\"dense_input\"))).collect()"
   ]
  },
  {
   "cell_type": "code",
   "execution_count": null,
   "id": "e989a169-8422-4737-a078-734522b92dad",
   "metadata": {},
   "outputs": [],
   "source": [
    "%%time\n",
    "preds = df.withColumn(\"preds\", mnist(col(\"dense_input\"))).collect()"
   ]
  },
  {
   "cell_type": "code",
   "execution_count": null,
   "id": "9fdd47d9-c550-4cad-bef2-d78e020259c3",
   "metadata": {},
   "outputs": [],
   "source": [
    "%%time\n",
    "preds = df.withColumn(\"preds\", mnist(col(\"dense_input\"))).collect()"
   ]
  },
  {
   "cell_type": "markdown",
   "id": "9b6dde30-98a9-45db-ab3a-d4546f9bed99",
   "metadata": {},
   "source": [
    "## Inference using Spark DL API"
   ]
  },
  {
   "cell_type": "markdown",
   "id": "4238fb28-d002-4b4d-9aa1-8af1fbd5d569",
   "metadata": {},
   "source": [
    "### 1 column of 784 float"
   ]
  },
  {
   "cell_type": "code",
   "execution_count": null,
   "id": "db30fba6-24d0-4c00-8502-04f9b10e7e16",
   "metadata": {},
   "outputs": [],
   "source": [
    "import numpy as np\n",
    "\n",
    "from pyspark.ml.functions import predict_batch_udf\n",
    "from pyspark.sql.functions import struct\n",
    "from pyspark.sql.types import ArrayType, FloatType, Union, Dict"
   ]
  },
  {
   "cell_type": "code",
   "execution_count": null,
   "id": "60a70150-26b1-4145-9e7d-6e17389216b7",
   "metadata": {},
   "outputs": [],
   "source": [
    "df = spark.read.parquet(\"mnist_test\")\n",
    "len(df.columns)"
   ]
  },
  {
   "cell_type": "code",
   "execution_count": null,
   "id": "b81fa297-d9d0-4600-880d-dbdcdf8bccc6",
   "metadata": {},
   "outputs": [],
   "source": [
    "def predict_batch_fn():\n",
    "    import tensorflow as tf\n",
    "    model = tf.keras.models.load_model('/home/leey/devpub/leewyang/sparkext/examples/tensorflow/mnist_model')\n",
    "    def predict(inputs: Union[np.array, Dict[str, np.array]]) -> Union[np.array, Dict[str, np.array]]:\n",
    "        return model.predict(inputs)\n",
    "        \n",
    "    return predict"
   ]
  },
  {
   "cell_type": "code",
   "execution_count": null,
   "id": "72a689bd-dd82-492e-8740-1738a215325f",
   "metadata": {},
   "outputs": [],
   "source": [
    "mnist = predict_batch_udf(predict_batch_fn,\n",
    "                          return_type=ArrayType(FloatType()),\n",
    "                          batch_size=8192,\n",
    "                          input_tensor_shapes=[[-1, 784]])"
   ]
  },
  {
   "cell_type": "code",
   "execution_count": null,
   "id": "f0c3fb2e-469e-47bc-b948-8f6b0d7f6513",
   "metadata": {},
   "outputs": [],
   "source": [
    "%%time\n",
    "preds = df.withColumn(\"preds\", mnist(struct(df.columns))).collect()"
   ]
  },
  {
   "cell_type": "code",
   "execution_count": null,
   "id": "093a2a5e-91b5-47f6-adb8-100f579c86ec",
   "metadata": {},
   "outputs": [],
   "source": [
    "%%time\n",
    "preds = df.withColumn(\"preds\", mnist(struct(df.columns))).collect()"
   ]
  },
  {
   "cell_type": "code",
   "execution_count": null,
   "id": "cce49fda-7767-41a5-bb4c-95be7ef4da66",
   "metadata": {},
   "outputs": [],
   "source": [
    "%%time\n",
    "preds = df.withColumn(\"preds\", mnist(struct(df.columns))).collect()"
   ]
  },
  {
   "cell_type": "code",
   "execution_count": null,
   "id": "cdfa229a-f4a9-4c11-a410-de4a21c02c82",
   "metadata": {},
   "outputs": [],
   "source": [
    "%%time\n",
    "preds = df.withColumn(\"preds\", mnist(struct(df.columns))).collect()"
   ]
  },
  {
   "cell_type": "markdown",
   "id": "004f1599-3c62-499e-9fd8-ed5cb0c90de4",
   "metadata": {
    "tags": []
   },
   "source": [
    "#### Check predictions"
   ]
  },
  {
   "cell_type": "code",
   "execution_count": null,
   "id": "4f947dc0-6b18-4605-810b-e83250a161db",
   "metadata": {},
   "outputs": [],
   "source": [
    "preds = df.withColumn(\"preds\", mnist(struct(df.columns))).limit(10).toPandas()\n",
    "preds"
   ]
  },
  {
   "cell_type": "code",
   "execution_count": null,
   "id": "31a038c2-c715-4c7b-9d5f-ad530e7a4a22",
   "metadata": {},
   "outputs": [],
   "source": [
    "sample = preds.iloc[0]\n",
    "predictions = sample.preds\n",
    "img = sample.data"
   ]
  },
  {
   "cell_type": "code",
   "execution_count": null,
   "id": "44e9a874-e301-4b72-8df7-bf1c5133c287",
   "metadata": {},
   "outputs": [],
   "source": [
    "import matplotlib.pyplot as plt\n",
    "import numpy as np"
   ]
  },
  {
   "cell_type": "code",
   "execution_count": null,
   "id": "c60e5af4-fc1e-4575-a717-f304664235be",
   "metadata": {},
   "outputs": [],
   "source": [
    "img = np.array(img).reshape(28,28)"
   ]
  },
  {
   "cell_type": "code",
   "execution_count": null,
   "id": "eb45ecc9-d376-40c4-ad7b-2bd08ca5aaf6",
   "metadata": {},
   "outputs": [],
   "source": [
    "plt.figure()\n",
    "plt.imshow(img)\n",
    "plt.show()"
   ]
  },
  {
   "cell_type": "code",
   "execution_count": null,
   "id": "6a76cac6-7959-4256-bffd-e4b9517fa2e8",
   "metadata": {},
   "outputs": [],
   "source": [
    "predictions"
   ]
  },
  {
   "cell_type": "markdown",
   "id": "39167347-0b99-4972-998c-e1230bf1d4d5",
   "metadata": {},
   "source": [
    "### 784 columns of float"
   ]
  },
  {
   "cell_type": "code",
   "execution_count": null,
   "id": "f767d00c-d0d5-44dd-bf1e-1d1bcc2f2d16",
   "metadata": {},
   "outputs": [],
   "source": [
    "from pyspark.sql.functions import array"
   ]
  },
  {
   "cell_type": "code",
   "execution_count": null,
   "id": "a40fe207-6246-4b0e-abde-823979878d97",
   "metadata": {},
   "outputs": [],
   "source": [
    "df = spark.read.parquet(\"mnist_784\")\n",
    "len(df.columns)"
   ]
  },
  {
   "cell_type": "code",
   "execution_count": null,
   "id": "e33717b1-4ae3-42ff-b93c-c45e1c67ccad",
   "metadata": {},
   "outputs": [],
   "source": [
    "from pyspark.sql.functions import array\n",
    "\n",
    "# preds = df.withColumn(\"preds\", mnist(array(*df.columns))).collect()"
   ]
  },
  {
   "cell_type": "code",
   "execution_count": null,
   "id": "ce35deaf-7d49-4f34-9bf9-b4e6fc5761f4",
   "metadata": {},
   "outputs": [],
   "source": [
    "%%time\n",
    "preds = df.withColumn(\"preds\", mnist(struct(*df.columns))).collect()"
   ]
  },
  {
   "cell_type": "code",
   "execution_count": null,
   "id": "671128df-f0f4-4f54-b35c-d63a78c7f89a",
   "metadata": {},
   "outputs": [],
   "source": [
    "%%time\n",
    "preds = df.withColumn(\"preds\", mnist(struct(*df.columns))).collect()"
   ]
  },
  {
   "cell_type": "code",
   "execution_count": null,
   "id": "d65f8a48-b588-436a-b771-9eb8b1fbcddf",
   "metadata": {},
   "outputs": [],
   "source": [
    "%%time\n",
    "preds = df.withColumn(\"preds\", mnist(struct(*df.columns))).collect()"
   ]
  },
  {
   "cell_type": "code",
   "execution_count": null,
   "id": "9796a18e-cfd9-4796-9a7c-cecd505e17ad",
   "metadata": {},
   "outputs": [],
   "source": [
    "%%time\n",
    "preds = df.withColumn(\"preds\", mnist(struct(*df.columns))).collect()"
   ]
  },
  {
   "cell_type": "markdown",
   "id": "01709833-484b-451f-9aa8-37be5b7baf14",
   "metadata": {},
   "source": [
    "### Check prediction"
   ]
  },
  {
   "cell_type": "code",
   "execution_count": null,
   "id": "f9119632-b284-45d7-a262-c262e034c15c",
   "metadata": {},
   "outputs": [],
   "source": [
    "preds = df.withColumn(\"preds\", mnist(struct(df.columns))).limit(10).toPandas()\n",
    "preds"
   ]
  },
  {
   "cell_type": "code",
   "execution_count": null,
   "id": "7c067c62-03a6-461e-a1ff-4653276fbea1",
   "metadata": {},
   "outputs": [],
   "source": [
    "import matplotlib.pyplot as plt\n",
    "import numpy as np"
   ]
  },
  {
   "cell_type": "code",
   "execution_count": null,
   "id": "36330da4-5d80-483f-94a3-09971dfe87e1",
   "metadata": {},
   "outputs": [],
   "source": [
    "sample = preds.iloc[0]\n",
    "predictions = sample.preds\n",
    "img = sample.drop('preds').to_numpy(dtype=float)"
   ]
  },
  {
   "cell_type": "code",
   "execution_count": null,
   "id": "3aa3840e-7a3a-4c8d-b3cc-44710235e055",
   "metadata": {},
   "outputs": [],
   "source": [
    "img = np.array(img).reshape(28,28)"
   ]
  },
  {
   "cell_type": "code",
   "execution_count": null,
   "id": "297811e1-aecb-4afd-9a6a-30c49e8881cc",
   "metadata": {},
   "outputs": [],
   "source": [
    "plt.figure()\n",
    "plt.imshow(img)\n",
    "plt.show()"
   ]
  },
  {
   "cell_type": "code",
   "execution_count": null,
   "id": "37076b2a-ea21-49ef-80ec-bab293ea6333",
   "metadata": {},
   "outputs": [],
   "source": [
    "predictions"
   ]
  },
  {
   "cell_type": "markdown",
   "id": "e412a79b-6d52-43e6-9dfd-4a0c95bfcdc5",
   "metadata": {},
   "source": [
    "### Using Triton Server\n",
    "Note: you can restart the kernel and run from this point to simulate running in a different node or environment."
   ]
  },
  {
   "cell_type": "code",
   "execution_count": null,
   "id": "a64d19b1-ba4a-4dc7-b3a9-368dc47d0fd8",
   "metadata": {},
   "outputs": [],
   "source": [
    "from pyspark.ml.functions import predict_batch_udf\n",
    "from pyspark.sql.functions import col, struct\n",
    "from pyspark.sql.types import ArrayType, FloatType"
   ]
  },
  {
   "cell_type": "markdown",
   "id": "f1673e0e-5c75-44e1-88c6-5f5cf1275e4b",
   "metadata": {},
   "source": [
    "#### Start Triton Server on each executor"
   ]
  },
  {
   "cell_type": "code",
   "execution_count": 10,
   "id": "0f7ecb25-be16-40c4-bdbb-441e2f537000",
   "metadata": {},
   "outputs": [
    {
     "name": "stderr",
     "output_type": "stream",
     "text": [
      "                                                                                \r"
     ]
    },
    {
     "data": {
      "text/plain": [
       "[True]"
      ]
     },
     "execution_count": 10,
     "metadata": {},
     "output_type": "execute_result"
    }
   ],
   "source": [
    "num_executors = 1\n",
    "\n",
    "nodeRDD = sc.parallelize(list(range(num_executors)), num_executors)\n",
    "\n",
    "def start_triton(it):\n",
    "    import docker\n",
    "    import time\n",
    "    import tritonclient.grpc as grpcclient\n",
    "    \n",
    "    client=docker.from_env()\n",
    "    containers=client.containers.list(filters={\"name\": \"spark-triton\"})\n",
    "    if containers:\n",
    "        print(\">>>> containers: {}\".format([c.short_id for c in containers]))\n",
    "    else:\n",
    "        container=client.containers.run(\n",
    "            \"nvcr.io/nvidia/tritonserver:22.07-py3\", \"tritonserver --model-repository=/models\",\n",
    "            detach=True,\n",
    "            device_requests=[docker.types.DeviceRequest(device_ids=[\"0\"], capabilities=[['gpu']])],\n",
    "            name=\"spark-triton\",\n",
    "            network_mode=\"host\",\n",
    "            remove=True,\n",
    "            shm_size=\"64M\",\n",
    "            volumes={\"/home/leey/devpub/leewyang/sparkext/examples/models\": {\"bind\": \"/models\", \"mode\": \"ro\"}}\n",
    "        )\n",
    "        print(\">>>> starting triton: {}\".format(container.short_id))\n",
    "\n",
    "        # wait for triton to be running\n",
    "        time.sleep(15)\n",
    "        client = grpcclient.InferenceServerClient(\"localhost:8001\")\n",
    "        ready = False\n",
    "        while not ready:\n",
    "            try:\n",
    "                ready = client.is_server_ready()\n",
    "            except Exception as e:\n",
    "                time.sleep(5)\n",
    "            \n",
    "    return [True]\n",
    "\n",
    "nodeRDD.mapPartitions(start_triton).collect()"
   ]
  },
  {
   "cell_type": "code",
   "execution_count": 11,
   "id": "43b93753-1d52-4060-9986-f24c30a67528",
   "metadata": {},
   "outputs": [],
   "source": [
    "df = spark.read.parquet(\"mnist_test\")"
   ]
  },
  {
   "cell_type": "code",
   "execution_count": 12,
   "id": "5fe87e89-408a-49da-8767-c007ab3813de",
   "metadata": {},
   "outputs": [
    {
     "data": {
      "text/plain": [
       "StructType([StructField('data', ArrayType(DoubleType(), True), True)])"
      ]
     },
     "execution_count": 12,
     "metadata": {},
     "output_type": "execute_result"
    }
   ],
   "source": [
    "df.schema"
   ]
  },
  {
   "cell_type": "code",
   "execution_count": 13,
   "id": "f5d4c2c6-d65a-4969-8ffd-8457b6dd35fb",
   "metadata": {},
   "outputs": [],
   "source": [
    "def predict_batch_fn():\n",
    "    import numpy as np\n",
    "    import tritonclient.grpc as grpcclient\n",
    "    client = grpcclient.InferenceServerClient(\"localhost:8001\")\n",
    "    def predict(inputs):\n",
    "        request = [grpcclient.InferInput(\"dense_input\", inputs.shape, \"FP32\")]\n",
    "        request[0].set_data_from_numpy(inputs.astype(np.float32))\n",
    "        response = client.infer(\"mnist_model\", inputs=request)\n",
    "        return response.as_numpy(\"dense_1\")\n",
    "    return predict"
   ]
  },
  {
   "cell_type": "code",
   "execution_count": 14,
   "id": "a158490c-eaf6-4c0a-9f2f-af20df45d126",
   "metadata": {},
   "outputs": [],
   "source": [
    "mnist = predict_batch_udf(predict_batch_fn,\n",
    "                        input_tensor_shapes=[[-1, 784]],\n",
    "                        return_type=ArrayType(FloatType()),\n",
    "                        batch_size=8192)"
   ]
  },
  {
   "cell_type": "code",
   "execution_count": 15,
   "id": "b7bd2504-1ed2-4dfe-a63a-7ed660dd1c80",
   "metadata": {},
   "outputs": [
    {
     "name": "stderr",
     "output_type": "stream",
     "text": [
      "                                                                                \r"
     ]
    },
    {
     "name": "stdout",
     "output_type": "stream",
     "text": [
      "CPU times: user 513 ms, sys: 130 ms, total: 643 ms\n",
      "Wall time: 2.92 s\n"
     ]
    }
   ],
   "source": [
    "%%time\n",
    "preds = df.withColumn(\"preds\", mnist(struct(\"data\"))).collect()"
   ]
  },
  {
   "cell_type": "code",
   "execution_count": 16,
   "id": "4b26e237-3690-4350-a5b8-a354e668e9b7",
   "metadata": {},
   "outputs": [
    {
     "name": "stdout",
     "output_type": "stream",
     "text": [
      "CPU times: user 695 ms, sys: 121 ms, total: 816 ms\n",
      "Wall time: 1.61 s\n"
     ]
    }
   ],
   "source": [
    "%%time\n",
    "preds = df.withColumn(\"preds\", mnist(struct(\"data\"))).collect()"
   ]
  },
  {
   "cell_type": "code",
   "execution_count": 17,
   "id": "2ac03203-ce75-4692-a5c9-984fb8fb2c7d",
   "metadata": {},
   "outputs": [
    {
     "name": "stdout",
     "output_type": "stream",
     "text": [
      "CPU times: user 483 ms, sys: 88 ms, total: 571 ms\n",
      "Wall time: 1.38 s\n"
     ]
    }
   ],
   "source": [
    "%%time\n",
    "preds = df.withColumn(\"preds\", mnist(struct(\"data\"))).collect()"
   ]
  },
  {
   "cell_type": "code",
   "execution_count": 18,
   "id": "d6c19561-16a9-4ce4-b7df-dca9820d6173",
   "metadata": {},
   "outputs": [
    {
     "name": "stdout",
     "output_type": "stream",
     "text": [
      "CPU times: user 525 ms, sys: 107 ms, total: 632 ms\n",
      "Wall time: 1.41 s\n"
     ]
    }
   ],
   "source": [
    "%%time\n",
    "preds = df.withColumn(\"preds\", mnist(struct(\"data\"))).collect()"
   ]
  },
  {
   "cell_type": "markdown",
   "id": "50b58a82-78de-4749-a7b9-d6f38352fc69",
   "metadata": {
    "tags": []
   },
   "source": [
    "#### Check predictions"
   ]
  },
  {
   "cell_type": "code",
   "execution_count": 19,
   "id": "bcf123ea-c0f4-4ec7-b52f-c1e9581b83e7",
   "metadata": {},
   "outputs": [
    {
     "data": {
      "text/html": [
       "<div>\n",
       "<style scoped>\n",
       "    .dataframe tbody tr th:only-of-type {\n",
       "        vertical-align: middle;\n",
       "    }\n",
       "\n",
       "    .dataframe tbody tr th {\n",
       "        vertical-align: top;\n",
       "    }\n",
       "\n",
       "    .dataframe thead th {\n",
       "        text-align: right;\n",
       "    }\n",
       "</style>\n",
       "<table border=\"1\" class=\"dataframe\">\n",
       "  <thead>\n",
       "    <tr style=\"text-align: right;\">\n",
       "      <th></th>\n",
       "      <th>data</th>\n",
       "      <th>preds</th>\n",
       "    </tr>\n",
       "  </thead>\n",
       "  <tbody>\n",
       "    <tr>\n",
       "      <th>0</th>\n",
       "      <td>[0.0, 0.0, 0.0, 0.0, 0.0, 0.0, 0.0, 0.0, 0.0, ...</td>\n",
       "      <td>[-15.634783744812012, 7.199462413787842, -3.78...</td>\n",
       "    </tr>\n",
       "    <tr>\n",
       "      <th>1</th>\n",
       "      <td>[0.0, 0.0, 0.0, 0.0, 0.0, 0.0, 0.0, 0.0, 0.0, ...</td>\n",
       "      <td>[-5.653353691101074, -4.47070837020874, -0.989...</td>\n",
       "    </tr>\n",
       "    <tr>\n",
       "      <th>2</th>\n",
       "      <td>[0.0, 0.0, 0.0, 0.0, 0.0, 0.0, 0.0, 0.0, 0.0, ...</td>\n",
       "      <td>[-6.980148792266846, -13.740118026733398, -6.2...</td>\n",
       "    </tr>\n",
       "    <tr>\n",
       "      <th>3</th>\n",
       "      <td>[0.0, 0.0, 0.0, 0.0, 0.0, 0.0, 0.0, 0.0, 0.0, ...</td>\n",
       "      <td>[-21.266935348510742, -23.427534103393555, -9....</td>\n",
       "    </tr>\n",
       "    <tr>\n",
       "      <th>4</th>\n",
       "      <td>[0.0, 0.0, 0.0, 0.0, 0.0, 0.0, 0.0, 0.0, 0.0, ...</td>\n",
       "      <td>[-6.042927265167236, -5.73275089263916, 13.566...</td>\n",
       "    </tr>\n",
       "    <tr>\n",
       "      <th>5</th>\n",
       "      <td>[0.0, 0.0, 0.0, 0.0, 0.0, 0.0, 0.0, 0.0, 0.0, ...</td>\n",
       "      <td>[-9.103192329406738, -5.535467147827148, -11.7...</td>\n",
       "    </tr>\n",
       "    <tr>\n",
       "      <th>6</th>\n",
       "      <td>[0.0, 0.0, 0.0, 0.0, 0.0, 0.0, 0.0, 0.0, 0.0, ...</td>\n",
       "      <td>[-17.69834327697754, -3.888951539993286, 2.432...</td>\n",
       "    </tr>\n",
       "    <tr>\n",
       "      <th>7</th>\n",
       "      <td>[0.0, 0.0, 0.0, 0.0, 0.0, 0.0, 0.0, 0.0, 0.0, ...</td>\n",
       "      <td>[-1.1577810049057007, -18.7540225982666, -6.03...</td>\n",
       "    </tr>\n",
       "    <tr>\n",
       "      <th>8</th>\n",
       "      <td>[0.0, 0.0, 0.0, 0.0, 0.0, 0.0, 0.0, 0.0, 0.0, ...</td>\n",
       "      <td>[-5.5018510818481445, -18.89392852783203, -6.1...</td>\n",
       "    </tr>\n",
       "    <tr>\n",
       "      <th>9</th>\n",
       "      <td>[0.0, 0.0, 0.0, 0.0, 0.0, 0.0, 0.0, 0.0, 0.0, ...</td>\n",
       "      <td>[-9.909956932067871, -14.437578201293945, -1.5...</td>\n",
       "    </tr>\n",
       "  </tbody>\n",
       "</table>\n",
       "</div>"
      ],
      "text/plain": [
       "                                                data  \\\n",
       "0  [0.0, 0.0, 0.0, 0.0, 0.0, 0.0, 0.0, 0.0, 0.0, ...   \n",
       "1  [0.0, 0.0, 0.0, 0.0, 0.0, 0.0, 0.0, 0.0, 0.0, ...   \n",
       "2  [0.0, 0.0, 0.0, 0.0, 0.0, 0.0, 0.0, 0.0, 0.0, ...   \n",
       "3  [0.0, 0.0, 0.0, 0.0, 0.0, 0.0, 0.0, 0.0, 0.0, ...   \n",
       "4  [0.0, 0.0, 0.0, 0.0, 0.0, 0.0, 0.0, 0.0, 0.0, ...   \n",
       "5  [0.0, 0.0, 0.0, 0.0, 0.0, 0.0, 0.0, 0.0, 0.0, ...   \n",
       "6  [0.0, 0.0, 0.0, 0.0, 0.0, 0.0, 0.0, 0.0, 0.0, ...   \n",
       "7  [0.0, 0.0, 0.0, 0.0, 0.0, 0.0, 0.0, 0.0, 0.0, ...   \n",
       "8  [0.0, 0.0, 0.0, 0.0, 0.0, 0.0, 0.0, 0.0, 0.0, ...   \n",
       "9  [0.0, 0.0, 0.0, 0.0, 0.0, 0.0, 0.0, 0.0, 0.0, ...   \n",
       "\n",
       "                                               preds  \n",
       "0  [-15.634783744812012, 7.199462413787842, -3.78...  \n",
       "1  [-5.653353691101074, -4.47070837020874, -0.989...  \n",
       "2  [-6.980148792266846, -13.740118026733398, -6.2...  \n",
       "3  [-21.266935348510742, -23.427534103393555, -9....  \n",
       "4  [-6.042927265167236, -5.73275089263916, 13.566...  \n",
       "5  [-9.103192329406738, -5.535467147827148, -11.7...  \n",
       "6  [-17.69834327697754, -3.888951539993286, 2.432...  \n",
       "7  [-1.1577810049057007, -18.7540225982666, -6.03...  \n",
       "8  [-5.5018510818481445, -18.89392852783203, -6.1...  \n",
       "9  [-9.909956932067871, -14.437578201293945, -1.5...  "
      ]
     },
     "execution_count": 19,
     "metadata": {},
     "output_type": "execute_result"
    }
   ],
   "source": [
    "preds = df.withColumn(\"preds\", mnist(struct(df.columns))).limit(10).toPandas()\n",
    "preds"
   ]
  },
  {
   "cell_type": "code",
   "execution_count": 20,
   "id": "525f0157-6dac-4b62-a88c-4294a9b5e7f5",
   "metadata": {},
   "outputs": [],
   "source": [
    "import matplotlib.pyplot as plt\n",
    "import numpy as np"
   ]
  },
  {
   "cell_type": "code",
   "execution_count": 21,
   "id": "8c319312-9238-4fc1-8847-6a54e1ce9164",
   "metadata": {},
   "outputs": [],
   "source": [
    "sample = preds.iloc[0]\n",
    "predictions = sample.preds\n",
    "img = sample.data"
   ]
  },
  {
   "cell_type": "code",
   "execution_count": 22,
   "id": "1f06b9f3-4bf9-4c1f-80d2-36756a8d9d49",
   "metadata": {},
   "outputs": [],
   "source": [
    "img = np.array(img).reshape(28,28)"
   ]
  },
  {
   "cell_type": "code",
   "execution_count": 23,
   "id": "60dd6b57-85a0-4357-b46c-75bce626ecce",
   "metadata": {},
   "outputs": [
    {
     "data": {
      "image/png": "[encoded data removed]",
      "text/plain": [
       "<Figure size 432x288 with 1 Axes>"
      ]
     },
     "metadata": {
      "needs_background": "light"
     },
     "output_type": "display_data"
    }
   ],
   "source": [
    "plt.figure()\n",
    "plt.imshow(img)\n",
    "plt.show()"
   ]
  },
  {
   "cell_type": "code",
   "execution_count": 24,
   "id": "af221c80-59dd-4e6c-9044-a91e921e2c37",
   "metadata": {},
   "outputs": [
    {
     "data": {
      "text/plain": [
       "[-15.634783744812012,\n",
       " 7.199462413787842,\n",
       " -3.7822794914245605,\n",
       " -0.8188831210136414,\n",
       " -2.81819748878479,\n",
       " -6.400604248046875,\n",
       " -8.396441459655762,\n",
       " -3.6724092960357666,\n",
       " -1.2260267734527588,\n",
       " -6.031836986541748]"
      ]
     },
     "execution_count": 24,
     "metadata": {},
     "output_type": "execute_result"
    }
   ],
   "source": [
    "predictions"
   ]
  },
  {
   "cell_type": "markdown",
   "id": "036680eb-babd-4b07-8b2c-ce6e724f4e85",
   "metadata": {},
   "source": [
    "### Generic Triton function"
   ]
  },
  {
   "cell_type": "code",
   "execution_count": 25,
   "id": "c4435e7a-32ef-4cfb-97aa-f4192681e4e5",
   "metadata": {},
   "outputs": [],
   "source": [
    "from pyspark.ml.functions import predict_batch_udf\n",
    "from pyspark.sql.functions import col, struct\n",
    "from pyspark.sql.types import ArrayType, FloatType"
   ]
  },
  {
   "cell_type": "code",
   "execution_count": 26,
   "id": "36ca37fd-3433-4da2-b373-1ec625480b68",
   "metadata": {},
   "outputs": [],
   "source": [
    "df = spark.read.parquet(\"mnist_test\")"
   ]
  },
  {
   "cell_type": "code",
   "execution_count": 27,
   "id": "070e63f2-afcd-4450-a1ee-cd1c9558f97e",
   "metadata": {},
   "outputs": [],
   "source": [
    "def triton_fn(triton_uri, model_name):\n",
    "    import numpy as np\n",
    "    import tritonclient.grpc as grpcclient\n",
    "    \n",
    "    np_types = {\n",
    "      \"BOOL\": np.dtype(np.bool8),\n",
    "      \"INT8\": np.dtype(np.int8),\n",
    "      \"INT16\": np.dtype(np.int16),\n",
    "      \"INT32\": np.dtype(np.int32),\n",
    "      \"INT64\": np.dtype(np.int64),\n",
    "      \"FP16\": np.dtype(np.float16),\n",
    "      \"FP32\": np.dtype(np.float32),\n",
    "      \"FP64\": np.dtype(np.float64),\n",
    "      \"FP64\": np.dtype(np.double),\n",
    "      \"BYTES\": np.dtype(object)\n",
    "    }\n",
    "\n",
    "    client = grpcclient.InferenceServerClient(triton_uri)\n",
    "    model_meta = client.get_model_metadata(model_name)\n",
    "    \n",
    "    def predict(inputs):\n",
    "        if isinstance(inputs, np.ndarray):\n",
    "            # single ndarray input\n",
    "            request = [grpcclient.InferInput(model_meta.inputs[0].name, inputs.shape, model_meta.inputs[0].datatype)]\n",
    "            request[0].set_data_from_numpy(inputs.astype(np_types[model_meta.inputs[0].datatype]))\n",
    "        else:\n",
    "            # dict of multiple ndarray inputs\n",
    "            request = [grpcclient.InferInput(i.name, inputs[i.name].shape, i.datatype) for i in model_meta.inputs]\n",
    "            for i in request:\n",
    "                i.set_data_from_numpy(inputs[i.name].astype(np_types[i.datatype]))\n",
    "        \n",
    "        response = client.infer(model_name, inputs=request)\n",
    "        return response.as_numpy(model_meta.outputs[0].name)     # TODO: multiple outputs\n",
    "        \n",
    "    return predict"
   ]
  },
  {
   "cell_type": "code",
   "execution_count": 28,
   "id": "6658d2a1-ef7b-4ca1-9fb6-f2ac9050f3e5",
   "metadata": {},
   "outputs": [],
   "source": [
    "predict = predict_batch_udf(triton_fn,\n",
    "                          input_tensor_shapes=[[-1, 784]],\n",
    "                          return_type=ArrayType(FloatType()),\n",
    "                          batch_size=8192,\n",
    "                          triton_uri=\"localhost:8001\",\n",
    "                          model_name=\"mnist_model\")"
   ]
  },
  {
   "cell_type": "code",
   "execution_count": 29,
   "id": "8397aa14-82fd-4351-a477-dc8e8b321fa2",
   "metadata": {},
   "outputs": [
    {
     "name": "stderr",
     "output_type": "stream",
     "text": [
      "                                                                                \r"
     ]
    },
    {
     "name": "stdout",
     "output_type": "stream",
     "text": [
      "CPU times: user 434 ms, sys: 74.3 ms, total: 509 ms\n",
      "Wall time: 1.8 s\n"
     ]
    }
   ],
   "source": [
    "%%time\n",
    "preds = df.withColumn(\"preds\", predict(struct(\"data\"))).collect()"
   ]
  },
  {
   "cell_type": "code",
   "execution_count": 30,
   "id": "10630b79-3241-4a51-b19a-45b146adcad4",
   "metadata": {},
   "outputs": [
    {
     "name": "stdout",
     "output_type": "stream",
     "text": [
      "CPU times: user 644 ms, sys: 67.1 ms, total: 711 ms\n",
      "Wall time: 1.38 s\n"
     ]
    }
   ],
   "source": [
    "%%time\n",
    "preds = df.withColumn(\"preds\", predict(struct(\"data\"))).collect()"
   ]
  },
  {
   "cell_type": "code",
   "execution_count": 31,
   "id": "82698bd9-377a-4415-8971-835487f876cc",
   "metadata": {},
   "outputs": [
    {
     "name": "stdout",
     "output_type": "stream",
     "text": [
      "CPU times: user 488 ms, sys: 101 ms, total: 589 ms\n",
      "Wall time: 1.3 s\n"
     ]
    }
   ],
   "source": [
    "%%time\n",
    "preds = df.withColumn(\"preds\", predict(struct(\"data\"))).collect()"
   ]
  },
  {
   "cell_type": "code",
   "execution_count": 32,
   "id": "419ad7bd-fa28-49d3-b98d-db9fba5aeaef",
   "metadata": {},
   "outputs": [
    {
     "name": "stdout",
     "output_type": "stream",
     "text": [
      "CPU times: user 704 ms, sys: 63.8 ms, total: 768 ms\n",
      "Wall time: 1.42 s\n"
     ]
    }
   ],
   "source": [
    "%%time\n",
    "preds = df.withColumn(\"preds\", predict(struct(\"data\"))).collect()"
   ]
  },
  {
   "cell_type": "markdown",
   "id": "6377f41a-5654-410b-8bad-d392e9dce7b8",
   "metadata": {
    "tags": []
   },
   "source": [
    "#### Stop Triton Server on each executor"
   ]
  },
  {
   "cell_type": "code",
   "execution_count": 33,
   "id": "9c9fd967-5cd9-4265-add9-db5c1ccf9893",
   "metadata": {},
   "outputs": [
    {
     "name": "stderr",
     "output_type": "stream",
     "text": [
      "                                                                                \r"
     ]
    },
    {
     "data": {
      "text/plain": [
       "[True]"
      ]
     },
     "execution_count": 33,
     "metadata": {},
     "output_type": "execute_result"
    }
   ],
   "source": [
    "def stop_triton(it):\n",
    "    import docker\n",
    "    import time\n",
    "    \n",
    "    client=docker.from_env()\n",
    "    containers=client.containers.list(filters={\"name\": \"spark-triton\"})\n",
    "    print(\">>>> stopping containers: {}\".format([c.short_id for c in containers]))\n",
    "    if containers:\n",
    "        container=containers[0]\n",
    "        container.stop(timeout=120)\n",
    "\n",
    "    return [True]\n",
    "\n",
    "nodeRDD.mapPartitions(stop_triton).collect()"
   ]
  },
  {
   "cell_type": "code",
   "execution_count": 34,
   "id": "f612dc0b-538f-4ecf-81f7-ef6b58c493ab",
   "metadata": {},
   "outputs": [
    {
     "name": "stderr",
     "output_type": "stream",
     "text": [
      "Traceback (most recent call last):\n",
      "  File \"/home/leey/.pyenv/versions/3.9.10/lib/python3.9/runpy.py\", line 197, in _run_module_as_main\n",
      "    return _run_code(code, main_globals, None,\n",
      "  File \"/home/leey/.pyenv/versions/3.9.10/lib/python3.9/runpy.py\", line 87, in _run_code\n",
      "    exec(code, run_globals)\n",
      "  File \"/home/leey/.pyenv/versions/3.9.10/envs/spark_dev/lib/python3.9/site-packages/ipykernel_launcher.py\", line 17, in <module>\n",
      "    app.launch_new_instance()\n",
      "  File \"/home/leey/.pyenv/versions/3.9.10/envs/spark_dev/lib/python3.9/site-packages/traitlets/config/application.py\", line 976, in launch_instance\n",
      "    app.start()\n",
      "  File \"/home/leey/.pyenv/versions/3.9.10/envs/spark_dev/lib/python3.9/site-packages/ipykernel/kernelapp.py\", line 712, in start\n",
      "    self.io_loop.start()\n",
      "  File \"/home/leey/.pyenv/versions/3.9.10/envs/spark_dev/lib/python3.9/site-packages/tornado/platform/asyncio.py\", line 215, in start\n",
      "    self.asyncio_loop.run_forever()\n",
      "  File \"/home/leey/.pyenv/versions/3.9.10/lib/python3.9/asyncio/base_events.py\", line 596, in run_forever\n",
      "    self._run_once()\n",
      "  File \"/home/leey/.pyenv/versions/3.9.10/lib/python3.9/asyncio/base_events.py\", line 1854, in _run_once\n",
      "    event_list = self._selector.select(timeout)\n",
      "  File \"/home/leey/.pyenv/versions/3.9.10/lib/python3.9/selectors.py\", line 469, in select\n",
      "    fd_event_list = self._selector.poll(timeout, max_ev)\n",
      "  File \"/home/leey/devpub/leewyang/spark/python/pyspark/context.py\", line 365, in signal_handler\n",
      "    self.cancelAllJobs()\n",
      "  File \"/home/leey/devpub/leewyang/spark/python/pyspark/context.py\", line 2243, in cancelAllJobs\n",
      "    self._jsc.sc().cancelAllJobs()\n",
      "AttributeError: 'NoneType' object has no attribute 'sc'\n"
     ]
    }
   ],
   "source": [
    "spark.stop()"
   ]
  },
  {
   "cell_type": "code",
   "execution_count": null,
   "id": "88b8d8bf-1c76-4b2e-bc37-84b76dcf9dde",
   "metadata": {},
   "outputs": [],
   "source": []
  }
 ],
 "metadata": {
  "kernelspec": {
   "display_name": "Python 3 (ipykernel)",
   "language": "python",
   "name": "python3"
  },
  "language_info": {
   "codemirror_mode": {
    "name": "ipython",
    "version": 3
   },
   "file_extension": ".py",
   "mimetype": "text/x-python",
   "name": "python",
   "nbconvert_exporter": "python",
   "pygments_lexer": "ipython3",
   "version": "3.9.10"
  }
 },
 "nbformat": 4,
 "nbformat_minor": 5
}
